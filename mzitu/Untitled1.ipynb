{
 "cells": [
  {
   "cell_type": "code",
   "execution_count": 1,
   "metadata": {
    "collapsed": false
   },
   "outputs": [],
   "source": [
    "import threading\n",
    "import time\n",
    "import _thread"
   ]
  },
  {
   "cell_type": "code",
   "execution_count": 3,
   "metadata": {
    "collapsed": false
   },
   "outputs": [
    {
     "name": "stdout",
     "output_type": "stream",
     "text": [
      "Main Finished\n",
      "Thread-1: Sat Aug 19 22:43:25 2017\n",
      "Thread-2: Sat Aug 19 22:43:27 2017\n",
      "Thread-1: Sat Aug 19 22:43:27 2017\n",
      "Thread-1: Sat Aug 19 22:43:29 2017\n",
      "Thread-2: Sat Aug 19 22:43:31 2017\n",
      "Thread-1: Sat Aug 19 22:43:31 2017\n",
      "Thread-1: Sat Aug 19 22:43:33 2017\n",
      "Thread-2: Sat Aug 19 22:43:35 2017\n",
      "Thread-2: Sat Aug 19 22:43:39 2017\n",
      "Thread-2: Sat Aug 19 22:43:43 2017\n"
     ]
    }
   ],
   "source": [
    "def print_time(threadName, delay):\n",
    "    count = 0\n",
    "    while count < 5:\n",
    "        time.sleep(delay)\n",
    "        count += 1\n",
    "        print(\"%s: %s\" % (threadName, time.ctime(time.time())))\n",
    " \n",
    " \n",
    "# 创建两个线程\n",
    "try:\n",
    "    _thread.start_new_thread(print_time, (\"Thread-1\", 2,))\n",
    "    _thread.start_new_thread(print_time, (\"Thread-2\", 4,))\n",
    "except:\n",
    "    print(\"Error: unable to start thread\")\n",
    " \n",
    "\n",
    " \n",
    "print(\"Main Finished\")"
   ]
  },
  {
   "cell_type": "code",
   "execution_count": null,
   "metadata": {
    "collapsed": false
   },
   "outputs": [],
   "source": []
  }
 ],
 "metadata": {
  "anaconda-cloud": {},
  "kernelspec": {
   "display_name": "Python [conda root]",
   "language": "python",
   "name": "conda-root-py"
  },
  "language_info": {
   "codemirror_mode": {
    "name": "ipython",
    "version": 3
   },
   "file_extension": ".py",
   "mimetype": "text/x-python",
   "name": "python",
   "nbconvert_exporter": "python",
   "pygments_lexer": "ipython3",
   "version": "3.5.2"
  }
 },
 "nbformat": 4,
 "nbformat_minor": 1
}
