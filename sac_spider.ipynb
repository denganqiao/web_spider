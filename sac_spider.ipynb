{
 "cells": [
  {
   "cell_type": "code",
   "execution_count": 43,
   "metadata": {
    "collapsed": false
   },
   "outputs": [],
   "source": [
    "# -*- coding: utf8 -*-\n",
    "import urllib\n",
    "from urllib.request import urlopen\n",
    "import requests\n",
    "import json\n",
    "from bs4 import BeautifulSoup\n",
    "import demjson\n",
    "from pprint import pprint"
   ]
  },
  {
   "cell_type": "code",
   "execution_count": 108,
   "metadata": {
    "collapsed": false
   },
   "outputs": [],
   "source": [
    "url = 'http://www.foods12331.cn/food/detail/findFoodByPage.json'\n",
    "headers = {\n",
    "    'Accept':'application/json',\n",
    "    'Accept-Encoding':'gzip, deflate',\n",
    "    'Accept-Language':'zh-CN,zh;q=0.8',\n",
    "#     'Connection':'keep-alive',\n",
    "    'Cookie':'CA0AE10AB2A6BFCF4D518AB76F3F0DBD',\n",
    "    'Content-Type':'application/x-www-form-urlencoded; charset=UTF-8',\n",
    "    'Host':'www.foods12331.cn',\n",
    "    'Origin':'http://www.foods12331.cn',\n",
    "    'proxy-connection': \"keep-alive\",\n",
    "    'cache-control': \"no-cache\",\n",
    "    'Referer':'http://www.foods12331.cn/web/index.jsp?food_type=%E9%A5%AE%E6%96%99',\n",
    "    'User-Agent':'Mozilla/5.0 (X11; Linux x86_64) AppleWebKit/537.36 (KHTML, like Gecko) Chrome/60.0.3112.90 Safari/537.36',\n",
    "    'X-Requested-With':'XMLHttpRequest'\n",
    "}\n",
    "s = requests.session()\n",
    "data = \"filters=%7B%22food_type%22%3A%22%E9%A5%AE%E6%96%99%22%2C%22check_flag%22%3A%22%E5%90%88%E6%A0%BC%22%2C%22order_by%22%3A%221%22%2C%22pageNo%22%3A100%2C%22pageSize%22%3A20%2C%22bar_code%22%3A%22%22%2C%22sampling_province%22%3A%22%22%2C%22name_first_letter%22%3Anull%2C%22food_name%22%3Anull%7D\"\n",
    "response = s.post(url=url, data=data, headers=headers)"
   ]
  },
  {
   "cell_type": "code",
   "execution_count": 85,
   "metadata": {
    "collapsed": false,
    "scrolled": true
   },
   "outputs": [
    {
     "name": "stdout",
     "output_type": "stream",
     "text": [
      "{\"resultCode\":0,\"resultMsg\":\"\",\"resultData\":{\"items\":[{\"id\":\"ef0ff0a2-65cf-4dd0-b0ff-2e9cd75cb3f8\",\"food_name\":\"桃花香米\",\"production_name\":\"金健米业股份有限公司\",\"food_model\":\"5kg/袋\",\"sampling_province\":\"江西\",\"food_type\":\"粮食加工品\",\"check_num\":5,\"qualified_num\":5,\"unqualified_num\":0,\"qualified_rate\":null,\"name_first_letter\":\"T\",\"bar_code\":null},{\"id\":\"2b41ddc0-5df4-42a5-a5a9-bcfa8f97db69\",\"food_name\":\"特二粉\",\"production_name\":\"开封市天丰面业有限公司\",\"food_model\":\"10kg\",\"sampling_province\":\"河南\",\"food_type\":\"粮食加工品\",\"check_num\":5,\"qualified_num\":5,\"unqualified_num\":0,\"qualified_rate\":null,\"name_first_letter\":\"T\",\"bar_code\":null},{\"id\":\"3d1b6a3b-bd3a-481e-8823-0501fa5d1647\",\"food_name\":\"特级精粉\",\"production_name\":\"漯河石磨坊面业有限公司\",\"food_model\":\"2.5kg/袋\",\"sampling_province\":\"河南\",\"food_type\":\"粮食加工品\",\"check_num\":5,\"qualified_num\":5,\"unqualified_num\":0,\"qualified_rate\":null,\"name_first_letter\":\"T\",\"bar_code\":null},{\"id\":\"0360d5d1-02ba-423d-8163-96bc9fd5d55d\",\"food_name\":\"特精面粉\",\"production_name\":\"江苏兴源食品科技有限公司\",\"food_model\":\"2.5kg/袋\",\"sampling_province\":\"江苏\",\"food_type\":\"粮食加工品\",\"check_num\":5,\"qualified_num\":5,\"unqualified_num\":0,\"qualified_rate\":null,\"name_first_letter\":\"T\",\"bar_code\":null},{\"id\":\"0fbe7ae1-2f46-439e-b94a-bb0979249883\",\"food_name\":\"特一粉\",\"production_name\":\"潍坊风筝面粉有限责任公司\",\"food_model\":\"1kg/袋\",\"sampling_province\":\"上海\",\"food_type\":\"粮食加工品\",\"check_num\":5,\"qualified_num\":5,\"unqualified_num\":0,\"qualified_rate\":null,\"name_first_letter\":\"T\",\"bar_code\":null},{\"id\":\"1d2d125f-e294-4d3b-821a-45aae99807bc\",\"food_name\":\"特制小麦粉\",\"production_name\":\"陕西老牛面粉有限公司\",\"food_model\":\"5kg/袋\",\"sampling_province\":\"陕西\",\"food_type\":\"粮食加工品\",\"check_num\":5,\"qualified_num\":5,\"unqualified_num\":0,\"qualified_rate\":null,\"name_first_letter\":\"T\",\"bar_code\":null},{\"id\":\"b05bceab-d58c-401b-a0fb-ef37da36c6ca\",\"food_name\":\"特制一等粉\",\"production_name\":\"上海福新面粉有限公司\",\"food_model\":\"1kg/袋\",\"sampling_province\":\"江苏\",\"food_type\":\"粮食加工品\",\"check_num\":5,\"qualified_num\":5,\"unqualified_num\":0,\"qualified_rate\":null,\"name_first_letter\":\"T\",\"bar_code\":null},{\"id\":\"51617389-b07e-46c4-b37e-8063c5cabbce\",\"food_name\":\"特制一等粉\",\"production_name\":\"平凉市麦香制粉有限责任公司\",\"food_model\":\"25kg/袋\",\"sampling_province\":\"甘肃\",\"food_type\":\"粮食加工品\",\"check_num\":5,\"qualified_num\":5,\"unqualified_num\":0,\"qualified_rate\":null,\"name_first_letter\":\"T\",\"bar_code\":null},{\"id\":\"ce405fed-41f0-46ca-84df-9303cbb77bf2\",\"food_name\":\"天天过年饺子用小麦粉\",\"production_name\":\"临沂市天成面粉有限公司\",\"food_model\":\"1kg/袋\",\"sampling_province\":\"安徽\",\"food_type\":\"粮食加工品\",\"check_num\":5,\"qualified_num\":5,\"unqualified_num\":0,\"qualified_rate\":null,\"name_first_letter\":\"T\",\"bar_code\":null},{\"id\":\"3de49280-1898-40e4-8c14-3251fb23a735\",\"food_name\":\"万年贡米\",\"production_name\":\"江西万年皇阳贡米实业有限公司\",\"food_model\":\"5kg/袋\",\"sampling_province\":\"江西\",\"food_type\":\"粮食加工品\",\"check_num\":5,\"qualified_num\":5,\"unqualified_num\":0,\"qualified_rate\":null,\"name_first_letter\":\"W\",\"bar_code\":null},{\"id\":\"13ca9eb6-e4de-49f5-96d1-862bbb046763\",\"food_name\":\"五常大米\",\"production_name\":\"五常市福兴精制米有限公司\",\"food_model\":\"10kg/袋\",\"sampling_province\":\"江苏\",\"food_type\":\"粮食加工品\",\"check_num\":5,\"qualified_num\":5,\"unqualified_num\":0,\"qualified_rate\":null,\"name_first_letter\":\"W\",\"bar_code\":null},{\"id\":\"e3a0f3ee-5183-4e43-9afb-575a89efc24e\",\"food_name\":\"五常大米（精贡清香100）\",\"production_name\":\"五常葵花阳光米业有限公司\",\"food_model\":\"2.5kg/袋\",\"sampling_province\":\"黑龙江\",\"food_type\":\"粮食加工品\",\"check_num\":5,\"qualified_num\":5,\"unqualified_num\":0,\"qualified_rate\":null,\"name_first_letter\":\"W\",\"bar_code\":null},{\"id\":\"95a59f23-cdbe-4051-b285-a9fa69bc9b31\",\"food_name\":\"五丰寒地长粒香米\",\"production_name\":\"辽宁华润五丰营销有限公司\",\"food_model\":\"5kg/袋\",\"sampling_province\":\"辽宁\",\"food_type\":\"粮食加工品\",\"check_num\":5,\"qualified_num\":5,\"unqualified_num\":0,\"qualified_rate\":null,\"name_first_letter\":\"W\",\"bar_code\":null},{\"id\":\"fc3f3fc5-91fb-405c-aeae-079aadaecaba\",\"food_name\":\"细粉\",\"production_name\":\"-\",\"food_model\":\"-\",\"sampling_province\":\"贵州\",\"food_type\":\"粮食加工品\",\"check_num\":5,\"qualified_num\":5,\"unqualified_num\":0,\"qualified_rate\":null,\"name_first_letter\":\"X\",\"bar_code\":null},{\"id\":\"f19cf422-ce06-42cc-bfdc-bb3ff32395c6\",\"food_name\":\"献王雪花小麦粉\",\"production_name\":\"河北谷丰源食品有限公司\",\"food_model\":\"25kg/袋\",\"sampling_province\":\"河北\",\"food_type\":\"粮食加工品\",\"check_num\":5,\"qualified_num\":5,\"unqualified_num\":0,\"qualified_rate\":null,\"name_first_letter\":\"X\",\"bar_code\":null},{\"id\":\"1fe0de2c-52fa-490b-9ea9-3c7b54295c2a\",\"food_name\":\"小麦粉\",\"production_name\":\"三河东方中储制粉有限公司\",\"food_model\":\"25kg/袋\",\"sampling_province\":\"河北\",\"food_type\":\"粮食加工品\",\"check_num\":5,\"qualified_num\":5,\"unqualified_num\":0,\"qualified_rate\":null,\"name_first_letter\":\"X\",\"bar_code\":null},{\"id\":\"c1cb4f2c-3f89-4942-bc81-1f831f368a21\",\"food_name\":\"小麦粉\",\"production_name\":\"阳谷县东风面业有限公司\",\"food_model\":\"25kg/袋\",\"sampling_province\":\"山东\",\"food_type\":\"粮食加工品\",\"check_num\":5,\"qualified_num\":5,\"unqualified_num\":0,\"qualified_rate\":null,\"name_first_letter\":\"X\",\"bar_code\":null},{\"id\":\"53ed506c-8adb-4df8-beb5-57a70d2de24f\",\"food_name\":\"小麦粉\",\"production_name\":\"海安县京苏粮油加工厂\",\"food_model\":\"25kg/袋\",\"sampling_province\":\"江苏\",\"food_type\":\"粮食加工品\",\"check_num\":5,\"qualified_num\":5,\"unqualified_num\":0,\"qualified_rate\":null,\"name_first_letter\":\"X\",\"bar_code\":null},{\"id\":\"df854161-03f1-450e-9353-230adbe1dc4e\",\"food_name\":\"小麦粉\",\"production_name\":\"铜山区三毛面粉厂\",\"food_model\":\"25kg/袋\",\"sampling_province\":\"江苏\",\"food_type\":\"粮食加工品\",\"check_num\":5,\"qualified_num\":5,\"unqualified_num\":0,\"qualified_rate\":null,\"name_first_letter\":\"X\",\"bar_code\":null},{\"id\":\"97b7c5dd-e5dc-4442-a06f-2bfac54f2034\",\"food_name\":\"小麦粉\",\"production_name\":\"夏县尉郭乡彩仙面粉厂\",\"food_model\":\"25kg/袋\",\"sampling_province\":\"山西\",\"food_type\":\"粮食加工品\",\"check_num\":5,\"qualified_num\":5,\"unqualified_num\":0,\"qualified_rate\":null,\"name_first_letter\":\"X\",\"bar_code\":null}],\"index\":14,\"start\":260,\"total\":67761}}\n"
     ]
    }
   ],
   "source": [
    "import requests\n",
    "\n",
    "url = \"http://www.foods12331.cn/food/detail/findFoodByPage.json\"\n",
    "\n",
    "payload = \"filters=%7B%22food_type%22%3A%22%E7%B2%AE%E9%A3%9F%E5%8A%A0%E5%B7%A5%E5%93%81%22%2C%22check_flag%22%3A%22%E5%90%88%E6%A0%BC%22%2C%22order_by%22%3A%221%22%2C%22pageNo%22%3A13%2C%22pageSize%22%3A20%2C%22bar_code%22%3A%22%22%2C%22sampling_province%22%3A%22%22%2C%22name_first_letter%22%3Anull%2C%22food_name%22%3Anull%7D\"\n",
    "headers = {\n",
    "    'cookie': \"JSESSIONID=C15130D96D8EEB65E6C45CFD7BAF5E1B\",\n",
    "    'origin': \"http://www.foods12331.cn\",\n",
    "    'accept-encoding': \"gzip, deflate\",\n",
    "    'accept-language': \"zh-CN,zh;q=0.8,en;q=0.6\",\n",
    "    'user-agent': \"Mozilla/5.0 (Macintosh; Intel Mac OS X 10_12_6) AppleWebKit/537.36 (KHTML, like Gecko) Chrome/59.0.3071.109 Safari/537.36\",\n",
    "    'content-type': \"application/x-www-form-urlencoded; charset=UTF-8\",\n",
    "    'accept': \"*/*\",\n",
    "    'referer': \"http://www.foods12331.cn/web/index.jsp\",\n",
    "    'x-requested-with': \"XMLHttpRequest\",\n",
    "    'proxy-connection': \"keep-alive\",\n",
    "    'cache-control': \"no-cache\",\n",
    "    }\n",
    "\n",
    "response = requests.request(\"POST\", url, data=payload, headers=headers)\n",
    "\n",
    "print(response.text)"
   ]
  },
  {
   "cell_type": "code",
   "execution_count": 105,
   "metadata": {
    "collapsed": false
   },
   "outputs": [
    {
     "name": "stdout",
     "output_type": "stream",
     "text": [
      "ef0ff0a2-65cf-4dd0-b0ff-2e9cd75cb3f8\n",
      "2b41ddc0-5df4-42a5-a5a9-bcfa8f97db69\n",
      "3d1b6a3b-bd3a-481e-8823-0501fa5d1647\n",
      "0360d5d1-02ba-423d-8163-96bc9fd5d55d\n",
      "0fbe7ae1-2f46-439e-b94a-bb0979249883\n",
      "1d2d125f-e294-4d3b-821a-45aae99807bc\n",
      "b05bceab-d58c-401b-a0fb-ef37da36c6ca\n",
      "51617389-b07e-46c4-b37e-8063c5cabbce\n",
      "ce405fed-41f0-46ca-84df-9303cbb77bf2\n",
      "3de49280-1898-40e4-8c14-3251fb23a735\n",
      "13ca9eb6-e4de-49f5-96d1-862bbb046763\n",
      "e3a0f3ee-5183-4e43-9afb-575a89efc24e\n",
      "95a59f23-cdbe-4051-b285-a9fa69bc9b31\n",
      "fc3f3fc5-91fb-405c-aeae-079aadaecaba\n",
      "f19cf422-ce06-42cc-bfdc-bb3ff32395c6\n",
      "1fe0de2c-52fa-490b-9ea9-3c7b54295c2a\n",
      "c1cb4f2c-3f89-4942-bc81-1f831f368a21\n",
      "53ed506c-8adb-4df8-beb5-57a70d2de24f\n",
      "df854161-03f1-450e-9353-230adbe1dc4e\n",
      "97b7c5dd-e5dc-4442-a06f-2bfac54f2034\n"
     ]
    }
   ],
   "source": [
    "for i in response.json()['resultData']['items']:\n",
    "    print(i['id'])"
   ]
  },
  {
   "cell_type": "code",
   "execution_count": 109,
   "metadata": {
    "collapsed": false
   },
   "outputs": [
    {
     "name": "stdout",
     "output_type": "stream",
     "text": [
      "75b62200-7bc9-49a2-84e9-b2413e954691\n",
      "713108da-05a4-4d50-810b-c238b7d73868\n",
      "5d842f17-d9d5-4c7a-95ec-a4846d212724\n",
      "a49014ab-fa02-4b0d-992a-08df00a70368\n",
      "4e669154-b553-4c4b-9fe4-1046f5dd6a08\n",
      "2671d4bd-a953-4629-8f69-105c17a18c4c\n",
      "d5f47f7d-d8ff-43df-afa5-2f0f8aa6eb8b\n",
      "a24bccf9-d3c5-4245-9e76-4fd849fdae79\n",
      "ea42c5e9-86f9-4455-bfb1-e1530a93be7a\n",
      "a0ed0413-49aa-4d8e-a04f-d2610ede5390\n",
      "0e77456b-d433-42d9-a0df-fab4557c11fa\n",
      "7943b332-6794-4faa-aa6c-66b0b2ee92c6\n",
      "38700248-494c-4a45-92ca-a2c93424e344\n",
      "57dbb88c-534a-49d7-8836-317ce5e4e6b3\n",
      "2d26f6ba-3e4c-49cc-ae78-d888dfa8c3fc\n",
      "641db086-0219-4dfb-90e1-b43d4d681cbc\n",
      "02cda347-bac3-4115-87f0-56f98e475496\n",
      "84ea0b4c-0160-4b7e-b80e-81d072adde89\n",
      "00220ad6-1692-49b2-b5dc-f34b98888975\n",
      "e70484d6-cc59-40c7-a804-6df4d32f5dfe\n"
     ]
    }
   ],
   "source": [
    "for i in response.json()['resultData']['items']:\n",
    "    print(i['id'])"
   ]
  }
 ],
 "metadata": {
  "kernelspec": {
   "display_name": "Python [conda root]",
   "language": "python",
   "name": "conda-root-py"
  },
  "language_info": {
   "codemirror_mode": {
    "name": "ipython",
    "version": 3
   },
   "file_extension": ".py",
   "mimetype": "text/x-python",
   "name": "python",
   "nbconvert_exporter": "python",
   "pygments_lexer": "ipython3",
   "version": "3.5.2"
  }
 },
 "nbformat": 4,
 "nbformat_minor": 1
}
