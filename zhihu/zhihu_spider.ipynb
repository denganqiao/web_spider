{
 "cells": [
  {
   "cell_type": "code",
   "execution_count": 60,
   "metadata": {
    "collapsed": true
   },
   "outputs": [],
   "source": [
    "import requests\n",
    "from bs4 import BeautifulSoup\n",
    "import os\n",
    "import time\n",
    "import re\n",
    "import http.cookiejar as cookielib\n",
    "from PIL import Image"
   ]
  },
  {
   "cell_type": "code",
   "execution_count": 63,
   "metadata": {
    "collapsed": false
   },
   "outputs": [
    {
     "name": "stdout",
     "output_type": "stream",
     "text": [
      "cookie 文件未能加载\n",
      "获取到的xsrf_token为：  79b474ef2e010a10ab7b43fd997ca820\n",
      "请输入验证码：asdf\n",
      "asdf\n",
      "服务器端返回响应码： 200\n",
      "{'msg': '请填写验证码', 'errcode': 1991829, 'data': {'name': 'ERR_VERIFY_CAPTCHA', 'captcha': '请填写验证码'}, 'r': 1}\n",
      "请输入验证码：PGBU\n",
      "PGBU\n",
      "服务器端返回响应码： 200\n",
      "{'msg': '登录成功', 'r': 0}\n",
      "profile页面响应码： 200\n",
      "<div class=\"settings-item-content rename-section\" id=\"rename-section\">\n",
      "<span class=\"name\">KKK9</span>\n",
      "<a class=\"zu-edit-button rename-button\" href=\"javascript:;\" name=\"edit\"><i class=\"zu-edit-button-icon\"></i>修改</a>\n",
      "<div class=\"rename-tab hidden\">\n",
      "<p>\n",
      "<input class=\"zg-form-text-input\" name=\"fullname\" placeholder=\"姓名\" type=\"text\">\n",
      "</input></p>\n",
      "<div class=\"note gray\">180 天只能修改一次</div>\n",
      "</div>\n",
      "</div>\n"
     ]
    }
   ],
   "source": [
    "# 构造 Request headers\n",
    "agent = 'Mozilla/5.0 (Linux; Android 6.0; Nexus 5 Build/MRA58N) AppleWebKit/537.36 (KHTML, like Gecko) Chrome/56.0.2924.87 Mobile Safari/537.36'\n",
    "headers = {\n",
    "    \"Host\": \"www.zhihu.com\",\n",
    "    \"Referer\": \"https://www.zhihu.com/\",\n",
    "    'User-Agent': agent\n",
    "}\n",
    "\n",
    "######### 构造用于网络请求的session\n",
    "session = requests.Session()\n",
    "session.cookies = cookielib.LWPCookieJar(filename='zhihucookie')\n",
    "try:\n",
    "    session.cookies.load(ignore_discard=True)\n",
    "except:\n",
    "    print('cookie 文件未能加载')\n",
    "\n",
    "############ 获取xsrf_token\n",
    "homeurl = 'https://www.zhihu.com'\n",
    "homeresponse = session.get(url=homeurl, headers=headers)\n",
    "homesoup = BeautifulSoup(homeresponse.text, 'html.parser')\n",
    "xsrfinput = homesoup.find('input', {'name': '_xsrf'})\n",
    "xsrf_token = xsrfinput['value']\n",
    "print(\"获取到的xsrf_token为： \", xsrf_token)\n",
    "\n",
    "########## 获取验证码文件\n",
    "randomtime = str(int(time.time() * 1000))\n",
    "captchaurl = 'https://www.zhihu.com/captcha.gif?r='+\\\n",
    "             randomtime+\"&type=login\"\n",
    "captcharesponse = session.get(url=captchaurl, headers=headers)\n",
    "with open('checkcode.gif', 'wb') as f:\n",
    "    f.write(captcharesponse.content)\n",
    "    f.close()\n",
    "image = Image.open('checkcode.gif')\n",
    "image.show()\n",
    "captcha = input('请输入验证码：')\n",
    "print(captcha)\n",
    "\n",
    "########### 开始登陆\n",
    "headers['X-Xsrftoken'] = xsrf_token\n",
    "headers['X-Requested-With'] = 'XMLHttpRequest'\n",
    "loginurl = 'https://www.zhihu.com/login/phone_num'\n",
    "postdata = {\n",
    "    '_xsrf': xsrf_token,\n",
    "    'phone_num': '电话',\n",
    "    'password': '密码'\n",
    "}\n",
    "loginresponse = session.post(url=loginurl, headers=headers, data=postdata)\n",
    "print('服务器端返回响应码：', loginresponse.status_code)\n",
    "print(loginresponse.json())\n",
    "# 验证码问题输入导致失败: 猜测这个问题是由于session中对于验证码的请求过期导致\n",
    "if loginresponse.json()['r']==1:\n",
    "    # 重新输入验证码，再次运行代码则正常。也就是说可以再第一次不输入验证码，或者输入一个错误的验证码，只有第二次才是有效的\n",
    "    randomtime = str(int(time.time() * 1000))\n",
    "    captchaurl = 'https://www.zhihu.com/captcha.gif?r=' + \\\n",
    "                 randomtime + \"&type=login\"\n",
    "    captcharesponse = session.get(url=captchaurl, headers=headers)\n",
    "    with open('checkcode.gif', 'wb') as f:\n",
    "        f.write(captcharesponse.content)\n",
    "        f.close()\n",
    "    image = Image.open('checkcode.gif')\n",
    "    image.show()\n",
    "    captcha = input('请输入验证码：')\n",
    "    print(captcha)\n",
    "\n",
    "    postdata['captcha'] = captcha\n",
    "    loginresponse = session.post(url=loginurl, headers=headers, data=postdata)\n",
    "    print('服务器端返回响应码：', loginresponse.status_code)\n",
    "    print(loginresponse.json())\n",
    "\n",
    "\n",
    "\n",
    "\n",
    "##########################保存登陆后的cookie信息\n",
    "session.cookies.save()\n",
    "############################判断是否登录成功\n",
    "profileurl = 'https://www.zhihu.com/settings/profile'\n",
    "profileresponse = session.get(url=profileurl, headers=headers)\n",
    "print('profile页面响应码：', profileresponse.status_code)\n",
    "profilesoup = BeautifulSoup(profileresponse.text, 'html.parser')\n",
    "div = profilesoup.find('div', {'id': 'rename-section'})\n",
    "print(div)"
   ]
  },
  {
   "cell_type": "code",
   "execution_count": null,
   "metadata": {
    "collapsed": true
   },
   "outputs": [],
   "source": []
  }
 ],
 "metadata": {
  "kernelspec": {
   "display_name": "Python [conda root]",
   "language": "python",
   "name": "conda-root-py"
  },
  "language_info": {
   "codemirror_mode": {
    "name": "ipython",
    "version": 3
   },
   "file_extension": ".py",
   "mimetype": "text/x-python",
   "name": "python",
   "nbconvert_exporter": "python",
   "pygments_lexer": "ipython3",
   "version": "3.5.2"
  }
 },
 "nbformat": 4,
 "nbformat_minor": 1
}
