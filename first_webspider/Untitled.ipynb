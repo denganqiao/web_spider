{
 "cells": [
  {
   "cell_type": "code",
   "execution_count": 2,
   "metadata": {
    "collapsed": false
   },
   "outputs": [],
   "source": [
    "from urllib import parse\n",
    "from urllib import request\n",
    "import random\n",
    "import time\n",
    "from datetime import datetime, timedelta\n",
    "import socket"
   ]
  },
  {
   "cell_type": "code",
   "execution_count": 4,
   "metadata": {
    "collapsed": false
   },
   "outputs": [],
   "source": [
    "DEFAULT_AGENT = 'wswp'\n",
    "DEFAULT_DELAY = 5\n",
    "DEFAULT_RETRIES = 1\n",
    "DEFAULT_TIMEOUT = 60\n",
    "\n",
    "\n",
    "class Downloader:\n",
    "    def __init__(self, delay=DEFAULT_DELAY, user_agent=DEFAULT_AGENT, proxies=None, num_retries=DEFAULT_RETRIES, timeout=DEFAULT_TIMEOUT, opener=None, cache=None):\n",
    "        socket.setdefaulttimeout(timeout)\n",
    "        self.throttle = Throttle(delay)\n",
    "        self.user_agent = user_agent\n",
    "        self.proxies = proxies\n",
    "        self.num_retries = num_retries\n",
    "        self.opener = opener\n",
    "        self.cache = cache\n",
    "\n",
    "\n",
    "    def __call__(self, url):\n",
    "        result = None\n",
    "        if self.cache:\n",
    "            try:\n",
    "                result = self.cache[url]\n",
    "            except KeyError:\n",
    "                # url is not available in cache \n",
    "                pass\n",
    "            else:\n",
    "                if self.num_retries > 0 and 500 <= result['code'] < 600:\n",
    "                    # server error so ignore result from cache and re-download\n",
    "                    result = None\n",
    "        if result is None:\n",
    "            # result was not loaded from cache so still need to download\n",
    "            self.throttle.wait(url)\n",
    "            proxy = random.choice(self.proxies) if self.proxies else None\n",
    "            headers = {'User-agent': self.user_agent}\n",
    "            result = self.download(url, headers, proxy=proxy, num_retries=self.num_retries)\n",
    "            if self.cache:\n",
    "                # save result to cache\n",
    "                self.cache[url] = result\n",
    "        return result['html']\n",
    "\n",
    "\n",
    "    def download(self, url, headers, proxy, num_retries, data=None):\n",
    "        print('Downloading:', url)\n",
    "        request = request.Request(url, data, headers or {})\n",
    "        opener = self.opener or request.build_opener()\n",
    "        if proxy:\n",
    "            proxy_params = {parse.urlparse(url).scheme: proxy}\n",
    "            opener.add_handler(request.ProxyHandler(proxy_params))\n",
    "        try:\n",
    "            response = opener.open(request)\n",
    "            html = response.read()\n",
    "            code = response.code\n",
    "        except Exception as e:\n",
    "            print('Download error:', str(e))\n",
    "            html = ''\n",
    "            if hasattr(e, 'code'):\n",
    "                code = e.code\n",
    "                if num_retries > 0 and 500 <= code < 600:\n",
    "                    # retry 5XX HTTP errors\n",
    "                    return self._get(url, headers, proxy, num_retries-1, data)\n",
    "            else:\n",
    "                code = None\n",
    "        return {'html': html, 'code': code}\n",
    "\n",
    "\n",
    "class Throttle:\n",
    "    \"\"\"Throttle downloading by sleeping between requests to same domain\n",
    "    \"\"\"\n",
    "    def __init__(self, delay):\n",
    "        # amount of delay between downloads for each domain\n",
    "        self.delay = delay\n",
    "        # timestamp of when a domain was last accessed\n",
    "        self.domains = {}\n",
    "        \n",
    "    def wait(self, url):\n",
    "        \"\"\"Delay if have accessed this domain recently\n",
    "        \"\"\"\n",
    "        domain = parse.urlsplit(url).netloc\n",
    "        last_accessed = self.domains.get(domain)\n",
    "        if self.delay > 0 and last_accessed is not None:\n",
    "            sleep_secs = self.delay - (datetime.now() - last_accessed).seconds\n",
    "            if sleep_secs > 0:\n",
    "                time.sleep(sleep_secs)\n",
    "        self.domains[domain] = datetime.now()"
   ]
  },
  {
   "cell_type": "code",
   "execution_count": null,
   "metadata": {
    "collapsed": true
   },
   "outputs": [],
   "source": []
  }
 ],
 "metadata": {
  "anaconda-cloud": {},
  "kernelspec": {
   "display_name": "Python [conda root]",
   "language": "python",
   "name": "conda-root-py"
  },
  "language_info": {
   "codemirror_mode": {
    "name": "ipython",
    "version": 3
   },
   "file_extension": ".py",
   "mimetype": "text/x-python",
   "name": "python",
   "nbconvert_exporter": "python",
   "pygments_lexer": "ipython3",
   "version": "3.5.2"
  }
 },
 "nbformat": 4,
 "nbformat_minor": 1
}
