{
 "cells": [
  {
   "cell_type": "code",
   "execution_count": 1,
   "metadata": {
    "collapsed": true
   },
   "outputs": [],
   "source": [
    "import requests\n",
    "from bs4 import BeautifulSoup"
   ]
  },
  {
   "cell_type": "code",
   "execution_count": 81,
   "metadata": {
    "collapsed": false
   },
   "outputs": [],
   "source": [
    "url = 'http://www.x23us.com/html/57/57003/'\n",
    "url.encode('gbk','ignore').decode('utf-8')\n",
    "session = requests.session()\n",
    "response = session.get(url)"
   ]
  },
  {
   "cell_type": "code",
   "execution_count": 102,
   "metadata": {
    "collapsed": false
   },
   "outputs": [],
   "source": [
    "result = BeautifulSoup(response.text,'lxml').find('div',id='a_main').find('div',class_='bdsub').find_all('a',limit=6)[5].get_text()"
   ]
  },
  {
   "cell_type": "code",
   "execution_count": null,
   "metadata": {
    "collapsed": false
   },
   "outputs": [],
   "source": []
  },
  {
   "cell_type": "code",
   "execution_count": 82,
   "metadata": {
    "collapsed": false
   },
   "outputs": [],
   "source": [
    "html =str(response.content, 'gbk')"
   ]
  },
  {
   "cell_type": "code",
   "execution_count": null,
   "metadata": {
    "collapsed": true
   },
   "outputs": [],
   "source": []
  },
  {
   "cell_type": "code",
   "execution_count": 83,
   "metadata": {
    "collapsed": true
   },
   "outputs": [],
   "source": [
    "soup = BeautifulSoup(html, 'lxml')"
   ]
  },
  {
   "cell_type": "code",
   "execution_count": 84,
   "metadata": {
    "collapsed": false
   },
   "outputs": [
    {
     "data": {
      "text/plain": [
       "<!DOCTYPE html>\n",
       "<html>\n",
       "<head>\n",
       "<meta content=\"no-siteapp\" http-equiv=\"Cache-Control\"/>\n",
       "<meta content=\"no-transform\" http-equiv=\"Cache-Control\"/>\n",
       "<script src=\"/scripts/m.js\" type=\"text/javascript\"></script>\n",
       "<meta content=\"pc\" name=\"applicable-device\"/>\n",
       "<link href=\"http://m.x23us.com/html/57/57003/\" media=\"only screen and (max-width: 640px)\" rel=\"alternate\"/>\n",
       "<meta content=\"format=xhtml; url=http://m.x23us.com/html/57/57003/\" name=\"mobile-agent\"/>\n",
       "<meta content=\"format=html5; url=http://m.x23us.com/html/57/57003/\" name=\"mobile-agent\"/>\n",
       "<meta content=\"IE=Edge,chrome=1\" http-equiv=\"X-UA-Compatible\"/>\n",
       "<title>超级军工科学家 最新章节 无弹窗广告 - 顶点小说</title>\n",
       "<meta content=\"text/html; charset=utf-8\" http-equiv=\"Content-Type\"/>\n",
       "<meta content=\"超级军工科学家最新章节,超级军工科学家在线阅读,超级军工科学家无弹窗广告\" name=\"keywords\"/>\n",
       "<meta content=\"超级军工科学家最新章节,超级军工科学家全集,作者：梦语天机 顶点小说整理全集无弹窗广告\" name=\"description\"/>\n",
       "<meta content=\"novel\" property=\"og:type\"/>\n",
       "<meta content=\"超级军工科学家\" property=\"og:title\"/>\n",
       "<meta content=\"    重生平行空间成为级军工科学家。\n",
       "\" property=\"og:description\"/>\n",
       "<meta content=\"http://www.x23us.com/files/article/image/57/57003/57003s.jpg\" property=\"og:image\"/>\n",
       "<meta content=\"http://www.x23us.com/html/57/57003/\" property=\"og:url\"/>\n",
       "<meta content=\"都市言情\" name=\"og:novel:category\"/>\n",
       "<meta content=\"梦语天机\" name=\"og:novel:author\"/>\n",
       "<meta content=\"超级军工科学家\" name=\"og:novel:book_name\"/>\n",
       "<meta content=\"http://www.x23us.com/html/57/57003/\" name=\"og:novel:read_url\"/>\n",
       "<meta content=\"完结\" name=\"og:novel:status\"/>\n",
       "<meta content=\"2017-08-01 10:42\" name=\"og:novel:update_time\"/>\n",
       "<meta content=\"第六百四十六章 暂时忍耐一下\" name=\"og:novel:latest_chapter_name\"/>\n",
       "<meta content=\"http://www.x23us.com/html/57/57003/29222050.html\" name=\"og:novel:latest_chapter_url\"/>\n",
       "<link href=\"/themes/xiaoshuo/style.css\" rel=\"stylesheet\" type=\"text/css\"/>\n",
       "<script language=\"javascript\" src=\"/scripts/jquery.min.js\" type=\"text/javascript\"></script>\n",
       "<script language=\"javascript\" src=\"/scripts/xiaoshuo.js\" type=\"text/javascript\"></script>\n",
       "</head>\n",
       "<body>\n",
       "<div id=\"a_head\"><ul><li><a href=\"http://www.x23us.com/\">顶点首页</a></li><li><a href=\"/class/1_1.html\">玄幻魔法</a></li><li><a href=\"/class/2_1.html\">武侠修真</a></li><li><a href=\"/class/3_1.html\">都市言情</a></li><li><a href=\"/class/4_1.html\">历史军事</a></li><li><a href=\"/class/5_1.html\">侦探推理</a></li><li><a href=\"/class/6_1.html\">网游动漫</a></li><li><a href=\"/class/7_1.html\">科幻小说</a></li><li><a href=\"/class/8_1.html\">恐怖灵异</a></li><li><a href=\"/class/9_1.html\">散文诗词</a></li><li><a href=\"/class/10_1.html\">其他类型</a></li><li><a href=\"/quanben/1\">全本小说</a></li><script>show_search();</script></ul></div>\n",
       "<div id=\"a_main\"><div class=\"bdtop\"></div><div class=\"bdsub\"><dl><dt><p class=\"fr\"><a href=\"/modules/article/addbookcase.php?bid=57003\" rel=\"nofollow\" target=\"_blank\">加入书架</a> | <a href=\"/modules/article/uservote.php?id=57003\" rel=\"nofollow\" target=\"_blank\">推荐本书</a> | <a href=\"http://www.x23us.com/book/57003\">返回书页</a> |<a href=\"/modules/article/bookcase.php\" rel=\"nofollow\">我的书架</a></p><a href=\"http://www.x23us.com/\">顶点小说</a>-&gt; <a href=\"/class/3_1.html\">都市言情</a> -&gt;<a href=\"http://www.x23us.com/book/57003\">超级军工科学家简介</a></dt><dd><h1>超级军工科学家 最新章节更新列表</h1></dd>\n",
       "<div class=\"adlist\"><script>show_list();</script></div>\n",
       "<dd><h3>超级军工科学家作者：梦语天机  更新时间：2017-08-01</h3></dd><div class=\"read_share\"><script>show_share();</script></div><dd><table bgcolor=\"#E4E4E4\" cellpadding=\"0\" cellspacing=\"1\" id=\"at\"><tr><td class=\"L\"><a href=\"23407329.html\">感谢</a></td><td class=\"L\"><a href=\"23407330.html\">第一章 神秘的研究基地</a></td><td class=\"L\"><a href=\"23407331.html\">第二章 时空之洞</a></td><td class=\"L\"><a href=\"23407332.html\">第三章 平行地球</a></td></tr><tr><td class=\"L\"><a href=\"23407333.html\">第四章 顽强生活</a></td><td class=\"L\"><a href=\"23407334.html\">第五章 曲玉倩</a></td><td class=\"L\"><a href=\"23407335.html\">第六章 爱因斯坦是音乐家</a></td><td class=\"L\"><a href=\"23407336.html\">第七章 音乐会</a></td></tr><tr><td class=\"L\"><a href=\"23407337.html\">第八章 质能方程</a></td><td class=\"L\"><a href=\"23407338.html\">第九章 震惊主编</a></td><td class=\"L\"><a href=\"23407339.html\">第十章 震惊校长</a></td><td class=\"L\"><a href=\"23407340.html\">第十一章 真情女孩</a></td></tr><tr><td class=\"L\"><a href=\"23407341.html\">第十二章 我能够誉满全球</a></td><td class=\"L\"><a href=\"23407342.html\">第十三章 一套校装</a></td><td class=\"L\"><a href=\"23407343.html\">第十四章 大学教授</a></td><td class=\"L\"><a href=\"23407344.html\">第十五章 衣锦还乡（一）</a></td></tr><tr><td class=\"L\"><a href=\"23407345.html\">第十六章 衣锦还乡（二）</a></td><td class=\"L\"><a href=\"23407346.html\">第十七章 衣锦还乡（三）</a></td><td class=\"L\"><a href=\"23407347.html\">第十八章 衣锦还乡（四）</a></td><td class=\"L\"><a href=\"23407348.html\">第十九章 衣锦还乡（五）</a></td></tr><tr><td class=\"L\"><a href=\"23407349.html\">第二十章 衣锦还乡（六）</a></td><td class=\"L\"><a href=\"23407350.html\">第二十一章 衣锦还乡（七）</a></td><td class=\"L\"><a href=\"23407351.html\">第二十二章 衣锦还乡（八）</a></td><td class=\"L\"><a href=\"23407352.html\">第二十四章 衣锦还乡（十）</a></td></tr><tr><td class=\"L\"><a href=\"23407353.html\">第二十六章 衣锦还乡（十二）</a></td><td class=\"L\"><a href=\"23407354.html\">第二十七章 衣锦还乡（十四）</a></td><td class=\"L\"><a href=\"23407355.html\">第二十八章 衣锦还乡（十五）</a></td><td class=\"L\"><a href=\"23407356.html\">第三十章 寻矿（一）</a></td></tr><tr><td class=\"L\"><a href=\"23407357.html\">第三十一章 寻矿（二）</a></td><td class=\"L\"><a href=\"23407358.html\">第三十二章 寻矿（三）</a></td><td class=\"L\"><a href=\"23407359.html\">第三十三章 寻矿（四）</a></td><td class=\"L\"><a href=\"23407360.html\">第三十四章 寻矿（五）</a></td></tr><tr><td class=\"L\"><a href=\"23407361.html\">第三十五章 寻矿（六）</a></td><td class=\"L\"><a href=\"23407362.html\">第三十六章 蘑菇岛（一）</a></td><td class=\"L\"><a href=\"23407363.html\">第三十七章 蘑菇岛（二）</a></td><td class=\"L\"><a href=\"23407364.html\">第三十八章 蘑菇岛（三）</a></td></tr><tr><td class=\"L\"><a href=\"23407365.html\">第三十九章 蘑菇岛（四）</a></td><td class=\"L\"><a href=\"23407366.html\">第四十章 蘑菇岛（五）</a></td><td class=\"L\"><a href=\"23407367.html\">第四十一章 蘑菇岛（六）</a></td><td class=\"L\"><a href=\"23407368.html\">第四十二章 原子发动机（一）</a></td></tr><tr><td class=\"L\"><a href=\"23407369.html\">第四十三章 原子发动机（二）</a></td><td class=\"L\"><a href=\"23407370.html\">第四十四章 原子发动机（三）</a></td><td class=\"L\"><a href=\"23407371.html\">第四十五章 原子发动机（四）</a></td><td class=\"L\"><a href=\"23407372.html\">第四十六章 原子发动机（五）</a></td></tr><tr><td class=\"L\"><a href=\"23407373.html\">第四十七章 原子发动机（六）</a></td><td class=\"L\"><a href=\"23407374.html\">第四十八章 地霸H－818（一）</a></td><td class=\"L\"><a href=\"23407375.html\">第四十九章 地霸H－818（二）</a></td><td class=\"L\"><a href=\"23407376.html\">第五十章 地霸H－818（三）</a></td></tr><tr><td class=\"L\"><a href=\"23407377.html\">第五十一章 地霸H－818（四）</a></td><td class=\"L\"><a href=\"23407378.html\">第五十二章 地霸H－818（五）</a></td><td class=\"L\"><a href=\"23407379.html\">第五十三章 地霸H－818（六）</a></td><td class=\"L\"><a href=\"23407380.html\">第五十四章 小山鹰（一）</a></td></tr><tr><td class=\"L\"><a href=\"23407381.html\">第五十五章 小山鹰（二）</a></td><td class=\"L\"><a href=\"23407382.html\">第五十七章 小山鹰（四）</a></td><td class=\"L\"><a href=\"23407383.html\">第五十八章 小山鹰（五）</a></td><td class=\"L\"><a href=\"23407384.html\">第五十九章 小山鹰（六）</a></td></tr><tr><td class=\"L\"><a href=\"23407385.html\">第六十章 小羚羊HJ－340（一）</a></td><td class=\"L\"><a href=\"23407386.html\">第六十一章 小羚羊HJ－340（二）</a></td><td class=\"L\"><a href=\"23407387.html\">第六十二章 小羚羊HJ－340（三）</a></td><td class=\"L\"><a href=\"23407388.html\">第六十三章 小羚羊HJ－340（四）</a></td></tr><tr><td class=\"L\"><a href=\"23407389.html\">第六十四章 小羚羊HJ－340（五）</a></td><td class=\"L\"><a href=\"23407390.html\">第六十五章 小羚羊HJ－340（六）</a></td><td class=\"L\"><a href=\"23407391.html\">第六十六章 小羚羊HJ－340（七）</a></td><td class=\"L\"><a href=\"23407392.html\">第六十七章 小羚羊HJ－340（八）</a></td></tr><tr><td class=\"L\"><a href=\"23407393.html\">第六十八章 核动力燃气轮机（一）</a></td><td class=\"L\"><a href=\"23407394.html\">第六十九章 核动力燃气轮机（二）</a></td><td class=\"L\"><a href=\"23407395.html\">第七十章 核动力燃气轮机（三）</a></td><td class=\"L\"><a href=\"23407396.html\">第七十一章 核动力燃气轮机（四）</a></td></tr><tr><td class=\"L\"><a href=\"23407397.html\">第七十二章 核动力燃气轮机（五）</a></td><td class=\"L\"><a href=\"23407398.html\">第七十三章 核动力燃气轮机（六）</a></td><td class=\"L\"><a href=\"23407399.html\">第七十四章 核动力燃气轮机（七）</a></td><td class=\"L\"><a href=\"23407400.html\">第七十五章 核动力燃气轮机（八）</a></td></tr><tr><td class=\"L\"><a href=\"23407401.html\">第七十六章 征服老专家（一）</a></td><td class=\"L\"><a href=\"23407402.html\">第七十七章 征服老专家（二）</a></td><td class=\"L\"><a href=\"23407403.html\">第七十八章 征服老专家（三）</a></td><td class=\"L\"><a href=\"23407404.html\">第七十九章 征服老专家（四）</a></td></tr><tr><td class=\"L\"><a href=\"23407405.html\">第八十章 征服老专家（五）</a></td><td class=\"L\"><a href=\"23407406.html\">第八十一章 征服老专家（六）</a></td><td class=\"L\"><a href=\"23407407.html\">第八十二章 征服老专家（七）</a></td><td class=\"L\"><a href=\"23407408.html\">第八十三章 征服老专家（八）</a></td></tr><tr><td class=\"L\"><a href=\"23407409.html\">第八十四章 征服老专家（九）</a></td><td class=\"L\"><a href=\"23407410.html\">第八十五章 征服老专家（十）</a></td><td class=\"L\"><a href=\"23407411.html\">第八十六章 年薪一百万（一）</a></td><td class=\"L\"><a href=\"23407412.html\">第八十七章 年薪一百万（二）</a></td></tr><tr><td class=\"L\"><a href=\"23407413.html\">第八十九章 年薪一百万（四）</a></td><td class=\"L\"><a href=\"23407414.html\">第九十章 年薪一百万（五）</a></td><td class=\"L\"><a href=\"23407415.html\">第九十一章 年薪一百万（六）</a></td><td class=\"L\"><a href=\"23407416.html\">第九十二章 年薪一百万（七）</a></td></tr><tr><td class=\"L\"><a href=\"23407417.html\">第九十三章 年薪一百万（八）</a></td><td class=\"L\"><a href=\"23407418.html\">第九十四章 年薪一百万（九）</a></td><td class=\"L\"><a href=\"23407419.html\">第九十五章 年薪一百万（十）</a></td><td class=\"L\"><a href=\"23407420.html\">第九十六章 羚羊出击（一）</a></td></tr><tr><td class=\"L\"><a href=\"23407421.html\">第九十七章 羚羊出击（二）</a></td><td class=\"L\"><a href=\"23407422.html\">第九十八章 羚羊出击（三）</a></td><td class=\"L\"><a href=\"23407423.html\">第一百章 羚羊出击（五）</a></td><td class=\"L\"><a href=\"23407424.html\">第一百零一章 羚羊出击（六）</a></td></tr><tr><td class=\"L\"><a href=\"23407425.html\">第一百零二章 羚羊出击（七）</a></td><td class=\"L\"><a href=\"23407426.html\">第一百零三章 羚羊出击（八）</a></td><td class=\"L\"><a href=\"23407427.html\">第一百零四章 羚羊出击（九）</a></td><td class=\"L\"><a href=\"23407428.html\">第一百零五章 羚羊出击（十）</a></td></tr><tr><td class=\"L\"><a href=\"23407429.html\">第一百零六章 铁甲洪流（一）</a></td><td class=\"L\"><a href=\"23407430.html\">第一百零七章 铁甲洪流（二）</a></td><td class=\"L\"><a href=\"23407431.html\">第一百零八章 铁甲洪流（三）</a></td><td class=\"L\"><a href=\"23407432.html\">第一百零九章 铁甲洪流（四）</a></td></tr><tr><td class=\"L\"><a href=\"23407433.html\">第一百一十章 铁甲洪流（五）</a></td><td class=\"L\"><a href=\"23407434.html\">第一百一十一章 铁甲洪流（六）</a></td><td class=\"L\"><a href=\"23407435.html\">第一百一十二章 铁甲洪流（七）</a></td><td class=\"L\"><a href=\"23407436.html\">第一百一十三章 铁甲洪流（八）</a></td></tr><tr><td class=\"L\"><a href=\"23407437.html\">第一百一十四章 铁甲洪流（十）</a></td><td class=\"L\"><a href=\"23407438.html\">第一百一十五章 实战演习（一）</a></td><td class=\"L\"><a href=\"23407439.html\">第一百一十六章 实战演习（二）</a></td><td class=\"L\"><a href=\"23407440.html\">第一百一十七章 实战演习（三）</a></td></tr><tr><td class=\"L\"><a href=\"23407441.html\">第一百一十八章 实战演习（四）</a></td><td class=\"L\"><a href=\"23407442.html\">第一百一十九章 实战演习（五）</a></td><td class=\"L\"><a href=\"23407444.html\">第一百二十章 实战演习（六）</a></td><td class=\"L\"><a href=\"23407445.html\">第一百二十一章 实战演习（七）</a></td></tr><tr><td class=\"L\"><a href=\"23407446.html\">第一百二十二章 实战演习（八）</a></td><td class=\"L\"><a href=\"23407447.html\">第一百二十三章 实战演习（九）</a></td><td class=\"L\"><a href=\"23407448.html\">第一百二十四章 实战演习（十）</a></td><td class=\"L\"><a href=\"23407449.html\">第一百二十五章 实战演习（十一）</a></td></tr><tr><td class=\"L\"><a href=\"23407450.html\">第一百二十六章 实战演习（十二）</a></td><td class=\"L\"><a href=\"23407451.html\">第一百二十七章 实战演习（十三）</a></td><td class=\"L\"><a href=\"23407452.html\">第一百二十八章 实战演习（十四）</a></td><td class=\"L\"><a href=\"23407454.html\">第一百二十九章 实战演习（十五）</a></td></tr><tr><td class=\"L\"><a href=\"23407455.html\">第一百三十章 实战演习（十六）</a></td><td class=\"L\"><a href=\"23407456.html\">第一百三十一章 实战演习（十七）</a></td><td class=\"L\"><a href=\"23407457.html\">第一百三十二章 实战演习（十八）</a></td><td class=\"L\"><a href=\"23407458.html\">第一百三十三章 实战演习（十九）</a></td></tr><tr><td class=\"L\"><a href=\"23407459.html\">第一百三十四章 实战演习（二十）</a></td><td class=\"L\"><a href=\"23407461.html\">第一百三十五章 铁甲雄兵（一）</a></td><td class=\"L\"><a href=\"23407462.html\">第一百三十六章 铁甲雄兵（二）</a></td><td class=\"L\"><a href=\"23407463.html\">第一百三十七章 铁甲雄兵（三）</a></td></tr><tr><td class=\"L\"><a href=\"23407464.html\">第一百三十八章 铁甲雄兵（四）</a></td><td class=\"L\"><a href=\"23407465.html\">第一百三十九章 铁甲雄兵（五）</a></td><td class=\"L\"><a href=\"23407466.html\">第一百四十章 铁甲雄兵（六）</a></td><td class=\"L\"><a href=\"23407467.html\">第一百四十一章 铁甲雄兵（七）</a></td></tr><tr><td class=\"L\"><a href=\"23407468.html\">第一百四十二章 铁甲雄兵（八）</a></td><td class=\"L\"><a href=\"23407470.html\">第一百四十三章 铁甲雄兵（九）</a></td><td class=\"L\"><a href=\"23407471.html\">第一百四十四章 铁甲雄兵（十）</a></td><td class=\"L\"><a href=\"23407472.html\">第一百四十五章 力挽狂澜（一）</a></td></tr><tr><td class=\"L\"><a href=\"23407474.html\">第一百四十六章 力挽狂澜（二）</a></td><td class=\"L\"><a href=\"23407475.html\">第一百四十七章 力挽狂澜（三）</a></td><td class=\"L\"><a href=\"23407476.html\">第一百四十八章 力挽狂澜（四）</a></td><td class=\"L\"><a href=\"23407477.html\">第一百四十九章 力挽狂澜（五）</a></td></tr><tr><td class=\"L\"><a href=\"23407479.html\">第一百五十章 力挽狂澜（六）</a></td><td class=\"L\"><a href=\"23407480.html\">第一百五十一章 力挽狂澜（七）</a></td><td class=\"L\"><a href=\"23407481.html\">第一百五十二章 力挽狂澜（八）</a></td><td class=\"L\"><a href=\"23407482.html\">第一百五十三章 力挽狂澜（九）</a></td></tr><tr><td class=\"L\"><a href=\"23407483.html\">第一百五十四章 力挽狂澜（十）</a></td><td class=\"L\"><a href=\"23407484.html\">第一百五十五章 超级装甲师（一）</a></td><td class=\"L\"><a href=\"23407485.html\">第一百五十六章 超级装甲师（二）</a></td><td class=\"L\"><a href=\"23407486.html\">第一百五十七章 超级装甲师（三）</a></td></tr><tr><td class=\"L\"><a href=\"23407487.html\">第一百五十八章 超级装甲师（四）</a></td><td class=\"L\"><a href=\"23407489.html\">第一百五十九章 超级装甲师（五）</a></td><td class=\"L\"><a href=\"23407491.html\">第一百六十章 超级装甲师（六）</a></td><td class=\"L\"><a href=\"23407492.html\">第一百六十一章 超级装甲师（七）</a></td></tr><tr><td class=\"L\"><a href=\"23407494.html\">第一百六十二章 超级装甲师（八）</a></td><td class=\"L\"><a href=\"23407495.html\">第一百六十三章 超级装甲师（九）</a></td><td class=\"L\"><a href=\"23407496.html\">第一百六十四章 超级装甲师（十）</a></td><td class=\"L\"><a href=\"23439731.html\">第一百六十五章 装备无敌（一）</a></td></tr><tr><td class=\"L\"><a href=\"23452410.html\">第一百六十六章 装备无敌（二）</a></td><td class=\"L\"><a href=\"23459498.html\">第一百六十七章 装备无敌（三）</a></td><td class=\"L\"><a href=\"23472516.html\">第一百六十八章 装备无敌（四）</a></td><td class=\"L\"><a href=\"23472517.html\">第一百六十九章 装备无敌（五）</a></td></tr><tr><td class=\"L\"><a href=\"23477599.html\">第一百七十章 装备无敌（六）</a></td><td class=\"L\"><a href=\"23478739.html\">第一百七十一章 装备无敌（七）</a></td><td class=\"L\"><a href=\"23481699.html\">第一百七十二章 装备无敌（八）</a></td><td class=\"L\"><a href=\"23482769.html\">第一百七十三章 装备无敌（九）</a></td></tr><tr><td class=\"L\"><a href=\"23484835.html\">第一百七十四章 装备无敌（十）</a></td><td class=\"L\"><a href=\"23487296.html\">第一百七十五章 装备无敌（十一）</a></td><td class=\"L\"><a href=\"23487297.html\">第一百七十六章 装备无敌（十二）</a></td><td class=\"L\"><a href=\"23492808.html\">第一百七十七章 装备无敌（十三）</a></td></tr><tr><td class=\"L\"><a href=\"23494590.html\">第一百七十八章 装备无敌（十四）</a></td><td class=\"L\"><a href=\"23497094.html\">第一百七十九章 装备无敌（十五）</a></td><td class=\"L\"><a href=\"23499644.html\">第一百八十章 装备无敌（十六）</a></td><td class=\"L\"><a href=\"23503283.html\">第一百八十一章 装备无敌（十七）</a></td></tr><tr><td class=\"L\"><a href=\"23506839.html\">第一百八十二章 装备无敌（十八）</a></td><td class=\"L\"><a href=\"23511431.html\">第一百八十三章 枪神（一）</a></td><td class=\"L\"><a href=\"23514643.html\">第一百八十四章 枪神（二）</a></td><td class=\"L\"><a href=\"23519164.html\">第一百八十五章 枪神（三）</a></td></tr><tr><td class=\"L\"><a href=\"23525242.html\">第一百八十六章 枪神（四）</a></td><td class=\"L\"><a href=\"23528051.html\">第一百八十七章 枪神（五）</a></td><td class=\"L\"><a href=\"23532306.html\">第一百八十八章 枪神（六）</a></td><td class=\"L\"><a href=\"23536176.html\">第一百八十九章 枪神（七）</a></td></tr><tr><td class=\"L\"><a href=\"23539957.html\">第一百九十章 枪神（八）</a></td><td class=\"L\"><a href=\"23544752.html\">第一百九十一章 枪神（九）</a></td><td class=\"L\"><a href=\"23553437.html\">第一百九十二章 枪神（十）</a></td><td class=\"L\"><a href=\"23563941.html\">第一百九十三章 枪神（十一）</a></td></tr><tr><td class=\"L\"><a href=\"23568375.html\">第一百九十四章 枪神（十二）</a></td><td class=\"L\"><a href=\"23572685.html\">第一百九十五章 枪神（十三）</a></td><td class=\"L\"><a href=\"23574762.html\">第一百九十六章 枪神（十四）</a></td><td class=\"L\"><a href=\"23585797.html\">第一百九十七章 枪神（十五）</a></td></tr><tr><td class=\"L\"><a href=\"23589939.html\">第一百九十八章 枪神（十六）</a></td><td class=\"L\"><a href=\"23593584.html\">第一百九十九章 枪神（十七）</a></td><td class=\"L\"><a href=\"23597640.html\">第二百章 枪神（十八）</a></td><td class=\"L\"><a href=\"23614048.html\">第二百零一章 枪神（十九）</a></td></tr><tr><td class=\"L\"><a href=\"23618145.html\">第二百零二章 枪神（二十）</a></td><td class=\"L\"><a href=\"23622094.html\">第二百零三章 迷魂林（一）</a></td><td class=\"L\"><a href=\"23629197.html\">第二百零四章 迷魂林（二）</a></td><td class=\"L\"><a href=\"23632033.html\">第二百零五章 迷魂林（三）</a></td></tr><tr><td class=\"L\"><a href=\"23634937.html\">第二百零六章 迷魂林（四）</a></td><td class=\"L\"><a href=\"23641755.html\">第二百零七章 迷魂林（五）</a></td><td class=\"L\"><a href=\"23647568.html\">第二百零八章 迷魂林（六）</a></td><td class=\"L\"><a href=\"23650644.html\">第二百零九章 迷魂林（七）</a></td></tr><tr><td class=\"L\"><a href=\"23654306.html\">第二百一十章 迷魂林（八）</a></td><td class=\"L\"><a href=\"23657274.html\">第二百一十一章 不辱使命（一）</a></td><td class=\"L\"><a href=\"23660801.html\">第二百一十二章 不辱使命（二）</a></td><td class=\"L\"><a href=\"23664049.html\">第二百一十三章 不辱使命（三）</a></td></tr><tr><td class=\"L\"><a href=\"23670819.html\">第二百一十四章 不辱使命（四）</a></td><td class=\"L\"><a href=\"23676130.html\">第二百一十五章 不辱使命（五）</a></td><td class=\"L\"><a href=\"23680182.html\">第二百一十六章 不辱使命（六）</a></td><td class=\"L\"><a href=\"23700410.html\">第二百一十七章 不辱使命（七）</a></td></tr><tr><td class=\"L\"><a href=\"23703443.html\">第二百一十八章 不辱使命（八）</a></td><td class=\"L\"><a href=\"23706945.html\">第二百一十九章 不辱使命（九）</a></td><td class=\"L\"><a href=\"23711523.html\">第二百二十章 不辱使命（十）</a></td><td class=\"L\"><a href=\"23718040.html\">第二百二十一章 地空雷达（一）</a></td></tr><tr><td class=\"L\"><a href=\"23726887.html\">第二百二十二章 防空雷达（二）</a></td><td class=\"L\"><a href=\"23730871.html\">第二百二十三章 防空雷达（三）</a></td><td class=\"L\"><a href=\"23734554.html\">第二百二十四章 防空雷达（四）</a></td><td class=\"L\"><a href=\"23739217.html\">第二百二十五章 防空雷达（五）</a></td></tr><tr><td class=\"L\"><a href=\"23741172.html\">第二百二十六章 防空雷达（六）</a></td><td class=\"L\"><a href=\"23744169.html\">第二百二十七章 防空雷达（七）</a></td><td class=\"L\"><a href=\"23749507.html\">第二百二十八章 防空雷达（八）</a></td><td class=\"L\"><a href=\"23754812.html\">第二百二十九章 防空雷达（九）</a></td></tr><tr><td class=\"L\"><a href=\"23758525.html\">第二百三十章 防空雷达（十）</a></td><td class=\"L\"><a href=\"23766925.html\">第二百三十一章 防空雷达（十一）</a></td><td class=\"L\"><a href=\"23772727.html\">第二百三十二章 防空雷达（十二）</a></td><td class=\"L\"><a href=\"23772728.html\">第二百三十三章 防空雷达（十三）</a></td></tr><tr><td class=\"L\"><a href=\"23775678.html\">第二百三十四章 反坦克导弹（一）</a></td><td class=\"L\"><a href=\"23783984.html\">第二百三十五章 反坦克导弹（二）</a></td><td class=\"L\"><a href=\"23788809.html\">第二百三十六章 反坦克导弹（三）</a></td><td class=\"L\"><a href=\"23792578.html\">第二百三十七章 反坦克导弹（四）</a></td></tr><tr><td class=\"L\"><a href=\"23796216.html\">第二百三十八章 反坦克导弹（五）</a></td><td class=\"L\"><a href=\"23799547.html\">第二百三十九章 反坦克导弹（六）</a></td><td class=\"L\"><a href=\"23802780.html\">第二百四十章 反坦克导弹（七）</a></td><td class=\"L\"><a href=\"23806897.html\">第二百四十一章 反坦克导弹（八）</a></td></tr><tr><td class=\"L\"><a href=\"23812123.html\">第二百四十二章 反坦克导弹（九）</a></td><td class=\"L\"><a href=\"23818241.html\">第二百四十三章 反坦克导弹（十）</a></td><td class=\"L\"><a href=\"23827605.html\">第二百四十四章 防空导弹（一）</a></td><td class=\"L\"><a href=\"23829627.html\">第二百四十五章 防空导弹（二）</a></td></tr><tr><td class=\"L\"><a href=\"23833961.html\">第二百四十六章 防空导弹（三）</a></td><td class=\"L\"><a href=\"23837228.html\">第二百四十七章 防空导弹（四）</a></td><td class=\"L\"><a href=\"23840616.html\">第二百四十八章 防空导弹（五）</a></td><td class=\"L\"><a href=\"23847451.html\">第二百四十九章 防空导弹（六）</a></td></tr><tr><td class=\"L\"><a href=\"23861989.html\">第二百五十章 防空导弹（七）</a></td><td class=\"L\"><a href=\"23879890.html\">第二百五十一章 防空导弹（八）</a></td><td class=\"L\"><a href=\"23894338.html\">第二百五十二章 防空导弹（九）</a></td><td class=\"L\"><a href=\"23905367.html\">第二百五十三章 防空导弹（十）</a></td></tr><tr><td class=\"L\"><a href=\"23911888.html\">第二百五十四章 极速导弹（一）</a></td><td class=\"L\"><a href=\"23918844.html\">第二百五十五章 极速导弹（二）</a></td><td class=\"L\"><a href=\"23930034.html\">第二百五十六章 极速导弹（三）</a></td><td class=\"L\"><a href=\"23942299.html\">第二百五十七章 极速导弹（四）</a></td></tr><tr><td class=\"L\"><a href=\"23960838.html\">第二百五十八章 极速导弹（五）</a></td><td class=\"L\"><a href=\"23967189.html\">第二百五十九章 极速导弹（六）</a></td><td class=\"L\"><a href=\"23975276.html\">第二百六十章 极速导弹（七）</a></td><td class=\"L\"><a href=\"23984019.html\">第二百六十一章 极速导弹（八）</a></td></tr><tr><td class=\"L\"><a href=\"23992860.html\">第二百六十二章 极速导弹（九）</a></td><td class=\"L\"><a href=\"24013945.html\">第二百六十三章 极速导弹（十）</a></td><td class=\"L\"><a href=\"24013946.html\">第二百六十四章 原子导弹（一）</a></td><td class=\"L\"><a href=\"24026409.html\">第二百六十五章 原子导弹（二）</a></td></tr><tr><td class=\"L\"><a href=\"24039305.html\">第二百六十六章 原子导弹（三）</a></td><td class=\"L\"><a href=\"24046314.html\">第二百六十七章 原子导弹（四）</a></td><td class=\"L\"><a href=\"24052359.html\">第二百六十八章 原子导弹（五）</a></td><td class=\"L\"><a href=\"24060527.html\">第二百六十九章 原子导弹（六）</a></td></tr><tr><td class=\"L\"><a href=\"24075164.html\">第二百七十章 原子导弹（七）</a></td><td class=\"L\"><a href=\"24089639.html\">第二百七十一章 原子导弹（八）</a></td><td class=\"L\"><a href=\"24097077.html\">第二百七十二章 原子导弹（九）</a></td><td class=\"L\"><a href=\"24120661.html\">第二百七十三章 原子导弹（十）</a></td></tr><tr><td class=\"L\"><a href=\"24120662.html\">第二百七十四章 导弹之战（一）</a></td><td class=\"L\"><a href=\"24131395.html\">第二百七十五章 导弹之战（二）</a></td><td class=\"L\"><a href=\"24135263.html\">第二百七十六章 导弹之战（三）</a></td><td class=\"L\"><a href=\"24150633.html\">第二百七十七章 导弹之战（四）</a></td></tr><tr><td class=\"L\"><a href=\"24159419.html\">第二百七十八章 导弹之战（五）</a></td><td class=\"L\"><a href=\"24170701.html\">第二百七十九章 导弹之战（六）</a></td><td class=\"L\"><a href=\"24184278.html\">第二百八十章 导弹之战（七）</a></td><td class=\"L\"><a href=\"24222074.html\">第二百八十一章 导弹之战（八）</a></td></tr><tr><td class=\"L\"><a href=\"24222898.html\">第二百八十二章 导弹之战（九）</a></td><td class=\"L\"><a href=\"24238472.html\">第二百八十三章 导弹之战（十）</a></td><td class=\"L\"><a href=\"24294267.html\">第二百八十四章 重大演习（一）</a></td><td class=\"L\"><a href=\"24376607.html\">第二百八十五章 重大演习（二）</a></td></tr><tr><td class=\"L\"><a href=\"24468373.html\">第二百八十六章 重大演习（三）</a></td><td class=\"L\"><a href=\"24539731.html\">第二百八十七章 重大演习（四）</a></td><td class=\"L\"><a href=\"24597695.html\">第二百八十八章 重大演习（五）</a></td><td class=\"L\"><a href=\"24638383.html\">第二百八十九章 重大演习（六）</a></td></tr><tr><td class=\"L\"><a href=\"24667213.html\">第二百九十章 重大演习（七）</a></td><td class=\"L\"><a href=\"24680586.html\">第二百九十一章 重大演习（八）</a></td><td class=\"L\"><a href=\"24703048.html\">第二百九十二章 重大演习（九）</a></td><td class=\"L\"><a href=\"24736373.html\">第二百九十三章 重大演习（十）</a></td></tr><tr><td class=\"L\"><a href=\"24766936.html\">第二百九十四章 万箭齐发（一）</a></td><td class=\"L\"><a href=\"24783530.html\">第二百九十五章 万箭齐发（二）</a></td><td class=\"L\"><a href=\"24809428.html\">第二百九十六章 万箭齐发（三）</a></td><td class=\"L\"><a href=\"24834751.html\">第二百九十七章 万箭齐发（四）</a></td></tr><tr><td class=\"L\"><a href=\"24858503.html\">第二百九十八章 万箭齐发（五）</a></td><td class=\"L\"><a href=\"24873239.html\">第二百九十九章 万箭齐发（六）</a></td><td class=\"L\"><a href=\"24925884.html\">第三百章 万箭齐发（七）</a></td><td class=\"L\"><a href=\"24956268.html\">第三百零一章 万箭齐发（八）</a></td></tr><tr><td class=\"L\"><a href=\"24971484.html\">第三百零二章 万箭齐发（九）</a></td><td class=\"L\"><a href=\"24995032.html\">第三百零三章 万箭齐发（十）</a></td><td class=\"L\"><a href=\"25028480.html\">第三百零四章 利剑出鞘（一）</a></td><td class=\"L\"><a href=\"25048529.html\">第三百零五章 利剑出鞘（二）</a></td></tr><tr><td class=\"L\"><a href=\"25081023.html\">第三百零六章 利剑出鞘（三）</a></td><td class=\"L\"><a href=\"25089123.html\">第三百零七章 利剑出鞘（四）</a></td><td class=\"L\"><a href=\"25106957.html\">第三百零八章 利剑出鞘（五）</a></td><td class=\"L\"><a href=\"25126593.html\">第三百零九章 利剑出鞘（六）</a></td></tr><tr><td class=\"L\"><a href=\"25147300.html\">第三百一十章 利剑出鞘（七）</a></td><td class=\"L\"><a href=\"25169650.html\">第三百一十一章 利剑出鞘（八）</a></td><td class=\"L\"><a href=\"25190339.html\">第三百一十二章 利剑出鞘（九）</a></td><td class=\"L\"><a href=\"25212028.html\">第三百一十三章 利剑出鞘（十）</a></td></tr><tr><td class=\"L\"><a href=\"25260741.html\">第三百一十四章 利剑出鞘（十一）</a></td><td class=\"L\"><a href=\"25260742.html\">第三百一十五章 利剑出鞘（十二）</a></td><td class=\"L\"><a href=\"25281202.html\">第三百一十六章 利剑出鞘（十三）</a></td><td class=\"L\"><a href=\"25295745.html\">第三百一十七章 战斧巡航（一）</a></td></tr><tr><td class=\"L\"><a href=\"25302136.html\">第三百一十八章 战斧巡航（二）</a></td><td class=\"L\"><a href=\"25311251.html\">第三百一十九章 战斧巡航（三）</a></td><td class=\"L\"><a href=\"25320556.html\">第三百二十章 战斧巡航（四）</a></td><td class=\"L\"><a href=\"25338834.html\">第三百二十一章 战斧巡航（五）</a></td></tr><tr><td class=\"L\"><a href=\"25338835.html\">第三百二十二章 战斧巡航（六）</a></td><td class=\"L\"><a href=\"25351585.html\">第三百二十三章 战斧巡航（七）</a></td><td class=\"L\"><a href=\"25363752.html\">第三百二十四章 战斧巡航（八）</a></td><td class=\"L\"><a href=\"25363753.html\">第三百二十五章 战斧巡航（九）</a></td></tr><tr><td class=\"L\"><a href=\"25368816.html\">第三百二十六章 战斧巡航（十）</a></td><td class=\"L\"><a href=\"25378560.html\">第三百二十七章 战斧巡航（十一）</a></td><td class=\"L\"><a href=\"25390560.html\">第三百二十八章 战斧巡航（十二）</a></td><td class=\"L\"><a href=\"25399331.html\">第三百二十九章 战斧巡航（十三）</a></td></tr><tr><td class=\"L\"><a href=\"25399332.html\">第三百三十章 巡航导弹（一）</a></td><td class=\"L\"><a href=\"25405521.html\">第三百三十一章 巡航导弹（二）</a></td><td class=\"L\"><a href=\"25411483.html\">第三百三十二章 巡航导弹（三）</a></td><td class=\"L\"><a href=\"25426125.html\">第三百三十三章 巡航导弹（四）</a></td></tr><tr><td class=\"L\"><a href=\"25426126.html\">第三百三十四章 巡航导弹（五）</a></td><td class=\"L\"><a href=\"25441165.html\">第三百三十五章 巡航导弹（六）</a></td><td class=\"L\"><a href=\"25441166.html\">第三百三十六章 巡航导弹（七）</a></td><td class=\"L\"><a href=\"25452432.html\">第三百三十七章 巡航导弹（八）</a></td></tr><tr><td class=\"L\"><a href=\"25452433.html\">第三百三十八章 巡航导弹（九）</a></td><td class=\"L\"><a href=\"25464711.html\">第三百三十九章 巡航导弹（十）</a></td><td class=\"L\"><a href=\"25464712.html\">第三百四十章 巡航导弹（十一）</a></td><td class=\"L\"><a href=\"25484680.html\">第三百四十一章 巡航导弹（十二）</a></td></tr><tr><td class=\"L\"><a href=\"25484681.html\">第三百四十二章 巡航导弹（十三）</a></td><td class=\"L\"><a href=\"25496454.html\">第三百四十三章 弹道导弹（一）</a></td><td class=\"L\"><a href=\"25512167.html\">第三百四十四章 弹道导弹（二）</a></td><td class=\"L\"><a href=\"25518555.html\">第三百四十五章 弹道导弹（三）</a></td></tr><tr><td class=\"L\"><a href=\"25525253.html\">第三百四十六章 弹道导弹（四）</a></td><td class=\"L\"><a href=\"25531626.html\">第三百四十七章 弹道导弹（五）</a></td><td class=\"L\"><a href=\"25545997.html\">第三百四十八章 弹道导弹（六）</a></td><td class=\"L\"><a href=\"25560837.html\">第三百四十九章 弹道导弹（七）</a></td></tr><tr><td class=\"L\"><a href=\"25571000.html\">第三百五十章 弹道导弹（八）</a></td><td class=\"L\"><a href=\"25577458.html\">第三百五十一章 弹道导弹（九）</a></td><td class=\"L\"><a href=\"25584247.html\">第三百五十二章 弹道导弹（十）</a></td><td class=\"L\"><a href=\"25590684.html\">第三百五十三章 弹道导弹（十一）</a></td></tr><tr><td class=\"L\"><a href=\"25596487.html\">第三百五十四章 弹道导弹（十二）</a></td><td class=\"L\"><a href=\"25604242.html\">第三百五十五章 弹道导弹（十三）</a></td><td class=\"L\"><a href=\"25610825.html\">第三百五十六章 隐形导弹（一）</a></td><td class=\"L\"><a href=\"25616636.html\">第三百五十七章 隐形导弹（二）</a></td></tr><tr><td class=\"L\"><a href=\"25621956.html\">第三百五十八章 隐形导弹（三）</a></td><td class=\"L\"><a href=\"25627101.html\">第三百五十九章 隐形导弹（四）</a></td><td class=\"L\"><a href=\"25639132.html\">第三百六十章 隐形导弹（五）</a></td><td class=\"L\"><a href=\"25639133.html\">第三百六十一章 隐形导弹（六）</a></td></tr><tr><td class=\"L\"><a href=\"25645979.html\">第三百六十二章 隐形导弹（七）</a></td><td class=\"L\"><a href=\"25652205.html\">第三百六十三章 隐形导弹（八）</a></td><td class=\"L\"><a href=\"25659924.html\">第三百六十四章 隐形导弹（九）</a></td><td class=\"L\"><a href=\"25668238.html\">第三百六十五章 隐形导弹（十）</a></td></tr><tr><td class=\"L\"><a href=\"25673921.html\">第三百六十六章 洲际导弹（一）</a></td><td class=\"L\"><a href=\"25679531.html\">第三百六十七章 洲际导弹（二）</a></td><td class=\"L\"><a href=\"25691167.html\">第三百六十八章 洲际导弹（三）</a></td><td class=\"L\"><a href=\"25691169.html\">第三百六十九章 洲际导弹（四）</a></td></tr><tr><td class=\"L\"><a href=\"25724689.html\">第三百七十章 洲际导弹（五）</a></td><td class=\"L\"><a href=\"25741453.html\">第三百七十一章 洲际导弹（六）</a></td><td class=\"L\"><a href=\"25752418.html\">第三百七十二章 洲际导弹（七）</a></td><td class=\"L\"><a href=\"25759253.html\">第三百七十三章 洲际导弹（八）</a></td></tr><tr><td class=\"L\"><a href=\"25759254.html\">第三百七十四章 洲际导弹（九）</a></td><td class=\"L\"><a href=\"25768311.html\">第三百七十五章 洲际导弹（十）</a></td><td class=\"L\"><a href=\"25774788.html\">第三百七十六章 飞越太平洋</a></td><td class=\"L\"><a href=\"25778477.html\">第三百七十七章 十年友好计划</a></td></tr><tr><td class=\"L\"><a href=\"25794137.html\">第三百七十八章 三年的承诺</a></td><td class=\"L\"><a href=\"25808104.html\">第三百七十九章 江海机械厂</a></td><td class=\"L\"><a href=\"25817123.html\">第三百八十章 和领导谈话</a></td><td class=\"L\"><a href=\"25822930.html\">第三百八十一章 大山深处</a></td></tr><tr><td class=\"L\"><a href=\"25828547.html\">第三百八十二章 赵厂长上任记</a></td><td class=\"L\"><a href=\"25832676.html\">第三百八十三章 分宿舍的矛盾</a></td><td class=\"L\"><a href=\"25839205.html\">第三百八十四章 臭味相投</a></td><td class=\"L\"><a href=\"25850034.html\">第三百八十五章 休整</a></td></tr><tr><td class=\"L\"><a href=\"25850035.html\">第三百八十六章 吃饭问题</a></td><td class=\"L\"><a href=\"25854600.html\">第三百八十七章 两个技工很吃惊</a></td><td class=\"L\"><a href=\"25865564.html\">第三百八十八章 专家被工人嘲笑</a></td><td class=\"L\"><a href=\"25865565.html\">第三百八十九章 报纸新闻</a></td></tr><tr><td class=\"L\"><a href=\"25873756.html\">第三百九十章 老家伙不愿去开会</a></td><td class=\"L\"><a href=\"25880168.html\">第三百九十一章 老专家让处分吓着了</a></td><td class=\"L\"><a href=\"25887326.html\">第三百九十二章 专家打扫卫生</a></td><td class=\"L\"><a href=\"25892064.html\">第三百九十三章 下达任务</a></td></tr><tr><td class=\"L\"><a href=\"25897308.html\">第三百九十四章 研制手榴弹</a></td><td class=\"L\"><a href=\"25902968.html\">第三百九十五章 高强度材料</a></td><td class=\"L\"><a href=\"25910916.html\">第三百九十六章 手榴弹生产出来了</a></td><td class=\"L\"><a href=\"25921814.html\">第三百九十七章 手榴弹的用途</a></td></tr><tr><td class=\"L\"><a href=\"25936507.html\">第三百九十八章 商量打猎的事情</a></td><td class=\"L\"><a href=\"25941061.html\">第三百九十九章 伙食问题</a></td><td class=\"L\"><a href=\"25947646.html\">第四百章 走进密林</a></td><td class=\"L\"><a href=\"25960571.html\">第四百零一章 猎人让猎物给撞了</a></td></tr><tr><td class=\"L\"><a href=\"25960572.html\">第四百零二章 刚好遇到赵厂长</a></td><td class=\"L\"><a href=\"25970073.html\">第四百零三章 调查情况</a></td><td class=\"L\"><a href=\"25978564.html\">第四百零四章 村民们的事情</a></td><td class=\"L\"><a href=\"25982407.html\">第四百零五章 手榴弹如何消音</a></td></tr><tr><td class=\"L\"><a href=\"25990543.html\">第四百零六章 铁笼子</a></td><td class=\"L\"><a href=\"25996948.html\">第四百零七章 逮猪武器</a></td><td class=\"L\"><a href=\"26009437.html\">第四百零八章 捕猎行动</a></td><td class=\"L\"><a href=\"26009438.html\">第四百零九章 野猪逃跑了</a></td></tr><tr><td class=\"L\"><a href=\"26017428.html\">第四百一十章 金钟罩铁布衣</a></td><td class=\"L\"><a href=\"26024211.html\">第四百一十一章 无声手雷</a></td><td class=\"L\"><a href=\"26033797.html\">第四百一十二章 自圆其说</a></td><td class=\"L\"><a href=\"26033798.html\">第四百一十三章 守猪待兔</a></td></tr><tr><td class=\"L\"><a href=\"26048034.html\">第四百一十四章 炸倒野猪</a></td><td class=\"L\"><a href=\"26048036.html\">第四百一十五章 如何把野猪抬回去</a></td><td class=\"L\"><a href=\"26052035.html\">第四百一十六章 猪还是先养着</a></td><td class=\"L\"><a href=\"26069381.html\">第四百一十七章 还是不服</a></td></tr><tr><td class=\"L\"><a href=\"26069382.html\">第四百一十八章 领导之间通话</a></td><td class=\"L\"><a href=\"26079275.html\">第四百一十九章 领导来访</a></td><td class=\"L\"><a href=\"26084845.html\">第四百二十章 看望老同志</a></td><td class=\"L\"><a href=\"26099038.html\">第四百二十一章 赵倩倩</a></td></tr><tr><td class=\"L\"><a href=\"26099039.html\">第四百二十二章 哥哥教训妹妹</a></td><td class=\"L\"><a href=\"26104818.html\">第四百二十三章 全体职工动员大会</a></td><td class=\"L\"><a href=\"26111158.html\">第四百二十四章 赵厂长是什么样的人</a></td><td class=\"L\"><a href=\"26123573.html\">第四百二十五章 工人也要整理内务</a></td></tr><tr><td class=\"L\"><a href=\"26129063.html\">第四百二十六章 检查内务</a></td><td class=\"L\"><a href=\"26134142.html\">第四百二十七章 倩倩的无理取闹</a></td><td class=\"L\"><a href=\"26140227.html\">第四百二十八章 关于民主</a></td><td class=\"L\"><a href=\"26149293.html\">第四百二十九章 兄妹过招</a></td></tr><tr><td class=\"L\"><a href=\"26161268.html\">第四百三十章 赵倩倩终于想通了</a></td><td class=\"L\"><a href=\"26161269.html\">第四百三十一章 做俯卧撑</a></td><td class=\"L\"><a href=\"26161270.html\">第四百三十二章 赵连长</a></td><td class=\"L\"><a href=\"26208508.html\">第四百三十三章 质量出自细心</a></td></tr><tr><td class=\"L\"><a href=\"26403829.html\">第四百三十四章 跑步大赛</a></td><td class=\"L\"><a href=\"26411950.html\">第四百三十五章 爱情的力量</a></td><td class=\"L\"><a href=\"26422321.html\">第四百三十六章 美丽的厂区</a></td><td class=\"L\"><a href=\"26422355.html\">第四百三十七章 通信员</a></td></tr><tr><td class=\"L\"><a href=\"26434466.html\">第四百三十八章 国家大事</a></td><td class=\"L\"><a href=\"26434467.html\">第四百三十九章 领导讲话</a></td><td class=\"L\"><a href=\"26460353.html\">第四百四十章 枪的历史</a></td><td class=\"L\"><a href=\"26460354.html\">第四百四十一章 不着急的专家</a></td></tr><tr><td class=\"L\"><a href=\"26460355.html\">第四百四十二章 陈专家很着急</a></td><td class=\"L\"><a href=\"26470279.html\">第四百四十三章 赵厂长关心老专家</a></td><td class=\"L\"><a href=\"26504917.html\">第四百四十四章 宝贝终于拿出来了</a></td><td class=\"L\"><a href=\"26504918.html\">第四百四十五章 新枪图纸</a></td></tr><tr><td class=\"L\"><a href=\"26510400.html\">第四百四十六章 争吵</a></td><td class=\"L\"><a href=\"26521722.html\">第四百四十七章 英文单词</a></td><td class=\"L\"><a href=\"26521723.html\">第四百四十八章 设计图通过审查</a></td><td class=\"L\"><a href=\"26529980.html\">第四百四十九章 想当功臣</a></td></tr><tr><td class=\"L\"><a href=\"26562839.html\">第四百五十章 女工之间的战争</a></td><td class=\"L\"><a href=\"26562840.html\">第四百五十一章 自圆其说</a></td><td class=\"L\"><a href=\"26562841.html\">第四百五十二章 虎狼厂长</a></td><td class=\"L\"><a href=\"26577094.html\">第四百五十三章 新的规章制度</a></td></tr><tr><td class=\"L\"><a href=\"26577095.html\">第四百五十四章 成立突击队</a></td><td class=\"L\"><a href=\"26583841.html\">第四百五十五章 无托步枪</a></td><td class=\"L\"><a href=\"26589416.html\">第四百五十六章 枪管的加工问题</a></td><td class=\"L\"><a href=\"26593330.html\">第四百五十七章 关于铣床的问题</a></td></tr><tr><td class=\"L\"><a href=\"26636562.html\">第四百五十八章 修改设计图</a></td><td class=\"L\"><a href=\"26636563.html\">第四百五十九章 新枪生产完成</a></td><td class=\"L\"><a href=\"26646239.html\">第四百六十章 专家总是饿</a></td><td class=\"L\"><a href=\"26656937.html\">第四百六十一章 吹嘘自己的枪</a></td></tr><tr><td class=\"L\"><a href=\"26664032.html\">第四百六十二章 比武的方法</a></td><td class=\"L\"><a href=\"26692540.html\">第四百六十三章 报靶的方式</a></td><td class=\"L\"><a href=\"26698100.html\">第四百六十四章 枪弹库</a></td><td class=\"L\"><a href=\"26974645.html\">第四百六十五章 试验射击</a></td></tr><tr><td class=\"L\"><a href=\"26988701.html\">第四百六十六章 我就是故意的</a></td><td class=\"L\"><a href=\"27001112.html\">第四百六十七章 找领导告状</a></td><td class=\"L\"><a href=\"27016800.html\">第四百六十八章 我还要继续摔枪</a></td><td class=\"L\"><a href=\"27022868.html\">第四百六十九章 这人已经疯了</a></td></tr><tr><td class=\"L\"><a href=\"27029557.html\">第四百七十章 奇怪的射击动作</a></td><td class=\"L\"><a href=\"27038198.html\">第四百七十一章 从实战出发</a></td><td class=\"L\"><a href=\"27044985.html\">第四百七十二章 先开一个动员会</a></td><td class=\"L\"><a href=\"27052984.html\">第四百七十三章 步枪之王</a></td></tr><tr><td class=\"L\"><a href=\"27059861.html\">第四百七十四章 AK-47出世</a></td><td class=\"L\"><a href=\"27079711.html\">第四百七十五章 新枪让谁打</a></td><td class=\"L\"><a href=\"27086969.html\">第四百七十六章 新枪老家伙打</a></td><td class=\"L\"><a href=\"27104974.html\">第四百七十七章 这枪还真结实</a></td></tr><tr><td class=\"L\"><a href=\"27113803.html\">第四百七十八章 见证奇迹的时刻</a></td><td class=\"L\"><a href=\"27122893.html\">第四百七十九章 两个老家伙服了</a></td><td class=\"L\"><a href=\"27141745.html\">第四百八十章 水的考验</a></td><td class=\"L\"><a href=\"27146811.html\">第四百八十一章 火的锻炼</a></td></tr><tr><td class=\"L\"><a href=\"27153781.html\">第四百八十二章 AK-47通过考验</a></td><td class=\"L\"><a href=\"27160340.html\">第四百八十三章 让你一次打个够</a></td><td class=\"L\"><a href=\"27166217.html\">第四百八十四章 接受任务</a></td><td class=\"L\"><a href=\"27188321.html\">第四百八十五章 另想办法对付赵厂长</a></td></tr><tr><td class=\"L\"><a href=\"27197296.html\">第四百八十六章 大赛前的演练</a></td><td class=\"L\"><a href=\"27202123.html\">第四百八十七章 吹嘘自己的枪</a></td><td class=\"L\"><a href=\"27215322.html\">第四百八十八章 特殊的考核方法</a></td><td class=\"L\"><a href=\"27225876.html\">第四百八十九章 牛掰的海归</a></td></tr><tr><td class=\"L\"><a href=\"27238243.html\">第四百九十章 新规定让大家不满</a></td><td class=\"L\"><a href=\"27256899.html\">第四百九十一章 训斥刘专家</a></td><td class=\"L\"><a href=\"27272635.html\">第四百九十二章 让人吃惊地表演</a></td><td class=\"L\"><a href=\"27282776.html\">第四百九十三章 烈火金刚</a></td></tr><tr><td class=\"L\"><a href=\"27290503.html\">第四百九十四章 有人就是不服气</a></td><td class=\"L\"><a href=\"27298213.html\">第四百九十五章 一帮起哄的家伙</a></td><td class=\"L\"><a href=\"27534259.html\">第四百九十六章 拿了冠军</a></td><td class=\"L\"><a href=\"27537529.html\">第四百九十七章 回到基地</a></td></tr><tr><td class=\"L\"><a href=\"27537531.html\">第四百九十八章 知道是谁</a></td><td class=\"L\"><a href=\"27552405.html\">第四百九十九章 重大计划</a></td><td class=\"L\"><a href=\"27555329.html\">第五百章 不想去参加展览会</a></td><td class=\"L\"><a href=\"27558368.html\">第五百零一章 请客</a></td></tr><tr><td class=\"L\"><a href=\"27561994.html\">第五百零二章 谁当副厂长</a></td><td class=\"L\"><a href=\"27564776.html\">第五百零三章 小插曲</a></td><td class=\"L\"><a href=\"27567659.html\">第五百零四章 车模理论</a></td><td class=\"L\"><a href=\"27570289.html\">第五百零五章 到了展览馆</a></td></tr><tr><td class=\"L\"><a href=\"27572634.html\">第五百零六章 这事不归我管</a></td><td class=\"L\"><a href=\"27603858.html\">第五百零七章 无官一身轻</a></td><td class=\"L\"><a href=\"27603859.html\">第五百零八章 老家伙还不错</a></td><td class=\"L\"><a href=\"27603860.html\">第五百零九章 唐人街</a></td></tr><tr><td class=\"L\"><a href=\"27603861.html\">第五百一十章 旗袍美女</a></td><td class=\"L\"><a href=\"27605276.html\">第五百一十一章 展览会开始</a></td><td class=\"L\"><a href=\"27605277.html\">第五百一十二章 吸引到客人</a></td><td class=\"L\"><a href=\"27611103.html\">第五百一十三章 汉斯先生气坏了</a></td></tr><tr><td class=\"L\"><a href=\"27618200.html\">第五百一十四章 美女与武器</a></td><td class=\"L\"><a href=\"27627420.html\">和五百一十五章 军工专家讲故事</a></td><td class=\"L\"><a href=\"27641429.html\">第五百一十六章 兵圣的故事</a></td><td class=\"L\"><a href=\"27641430.html\">第五百一十七章 战神的克星</a></td></tr><tr><td class=\"L\"><a href=\"27652702.html\">第五百一十八章 诡异的一幕</a></td><td class=\"L\"><a href=\"27659700.html\">第五百一十九章 糖衣炮弹</a></td><td class=\"L\"><a href=\"27667206.html\">第五百二十章 惊为天人</a></td><td class=\"L\"><a href=\"27676938.html\">第五百二十一章 绝世品种</a></td></tr><tr><td class=\"L\"><a href=\"27688248.html\">第五百二十二章 女人的哲学</a></td><td class=\"L\"><a href=\"27694831.html\">第五百二十三章 有一种武器叫美色</a></td><td class=\"L\"><a href=\"27699258.html\">第五百二十四章 史上最美的死亡</a></td><td class=\"L\"><a href=\"27705082.html\">第五百二十五章 史上最牛逼的人</a></td></tr><tr><td class=\"L\"><a href=\"27709360.html\">第五百二十六章 先进的突击步枪</a></td><td class=\"L\"><a href=\"27940223.html\">第五百二十七章 军工专家神枪手</a></td><td class=\"L\"><a href=\"27960258.html\">第五百二十八章 坚固耐用</a></td><td class=\"L\"><a href=\"27967727.html\">第五百二十九章 巨额的订单</a></td></tr><tr><td class=\"L\"><a href=\"27978336.html\">第五百三十章 欢声笑语</a></td><td class=\"L\"><a href=\"27985579.html\">第五百三十一章 漂亮秘书</a></td><td class=\"L\"><a href=\"27990660.html\">第五百三十二章 老天在帮助我</a></td><td class=\"L\"><a href=\"27994093.html\">第五百三十三章 这个女人有问题</a></td></tr><tr><td class=\"L\"><a href=\"28008168.html\">第五百三十四章 两个秘书</a></td><td class=\"L\"><a href=\"28015964.html\">第五百三十五章 工作秘书</a></td><td class=\"L\"><a href=\"28023896.html\">第五百三十六章 坚持就是胜利</a></td><td class=\"L\"><a href=\"28027547.html\">第五百三十七章 陈秘书的动机</a></td></tr><tr><td class=\"L\"><a href=\"28031214.html\">第五百三十八章 发生争执</a></td><td class=\"L\"><a href=\"28034834.html\">第五百三十九章 到车间体验生活</a></td><td class=\"L\"><a href=\"28041112.html\">第五百四十章 验收枪支</a></td><td class=\"L\"><a href=\"28044552.html\">第五百四十一章 膛线上的小缺口</a></td></tr><tr><td class=\"L\"><a href=\"28047721.html\">第五百四十二章 全体职工大会</a></td><td class=\"L\"><a href=\"28055444.html\">第五百四十三章 严重的处罚</a></td><td class=\"L\"><a href=\"28062421.html\">第五百四十四章 妹妹很生气</a></td><td class=\"L\"><a href=\"28077608.html\">第五百四十五章 让人心服口服</a></td></tr><tr><td class=\"L\"><a href=\"28095687.html\">第五百四十六章 领导的艺术</a></td><td class=\"L\"><a href=\"28130659.html\">第五百四十七章 偷鸡不成蚀把米</a></td><td class=\"L\"><a href=\"28130660.html\">第五百四十八章 军工专家打扫卫生</a></td><td class=\"L\"><a href=\"28135031.html\">第五百四十九章 领导的考验</a></td></tr><tr><td class=\"L\"><a href=\"28139292.html\">第五百五十章 领导来了</a></td><td class=\"L\"><a href=\"28143240.html\">第五百五十一章 青草丛生</a></td><td class=\"L\"><a href=\"28158478.html\">第五百五十二章 如梦方醒</a></td><td class=\"L\"><a href=\"28170503.html\">第五百五十三章 人家说的句句在理</a></td></tr><tr><td class=\"L\"><a href=\"28175481.html\">第五百五十四章 向领导证实情况</a></td><td class=\"L\"><a href=\"28325789.html\">第五百五十五章 愤愤不平</a></td><td class=\"L\"><a href=\"28331163.html\">第五百五十六章 专家去车间</a></td><td class=\"L\"><a href=\"28334622.html\">第五百五十七章 要理解上级意图</a></td></tr><tr><td class=\"L\"><a href=\"28347100.html\">第五百五十八章 不愿意干重要的工作</a></td><td class=\"L\"><a href=\"28347101.html\">第五百五十九章 到了组装车间</a></td><td class=\"L\"><a href=\"28351955.html\">第五百六十章 领导突然造访</a></td><td class=\"L\"><a href=\"28355349.html\">第五百六十一章 厂长去哪了</a></td></tr><tr><td class=\"L\"><a href=\"28358490.html\">第五百六十二章 谁在偷懒</a></td><td class=\"L\"><a href=\"28366370.html\">第五百六十三章 搬起石头砸了自己的脚</a></td><td class=\"L\"><a href=\"28366372.html\">第五百六十四章 反常的表现</a></td><td class=\"L\"><a href=\"28372158.html\">第五百六十五章 昏迷</a></td></tr><tr><td class=\"L\"><a href=\"28375575.html\">第五百六十六章 陷害</a></td><td class=\"L\"><a href=\"28378952.html\">第五百六十七章 老家伙旷工</a></td><td class=\"L\"><a href=\"28382267.html\">第五百六十八章 告状</a></td><td class=\"L\"><a href=\"28385072.html\">第五百六十九章 敷衍了事</a></td></tr><tr><td class=\"L\"><a href=\"28388911.html\">第五百七十章 这事只能拖一拖</a></td><td class=\"L\"><a href=\"28392183.html\">第五百七十一章 报案</a></td><td class=\"L\"><a href=\"28396600.html\">第五百七十二章 这个案子没法办了</a></td><td class=\"L\"><a href=\"28416667.html\">第五百七十三章 提前退休</a></td></tr><tr><td class=\"L\"><a href=\"28430414.html\">第五百七十四章 基地扩大了</a></td><td class=\"L\"><a href=\"28440140.html\">第五百七十五章 赵厂长有女朋友</a></td><td class=\"L\"><a href=\"28444789.html\">第五百七十六章 副手爱打牌</a></td><td class=\"L\"><a href=\"28448328.html\">第五百七十七章 贪污受贿</a></td></tr><tr><td class=\"L\"><a href=\"28458798.html\">第五百七十八章 故意作对</a></td><td class=\"L\"><a href=\"28474060.html\">第五百七十九章 聚众赌博</a></td><td class=\"L\"><a href=\"28474061.html\">第五百八十章 怀恨在心</a></td><td class=\"L\"><a href=\"28474062.html\">第五百八十一章 编排赵厂长</a></td></tr><tr><td class=\"L\"><a href=\"28483031.html\">第五百八十二章 编排车间职工</a></td><td class=\"L\"><a href=\"28487180.html\">第五百八十三章 副厂长到车间检查工作</a></td><td class=\"L\"><a href=\"28500021.html\">第五百八十四章 罢工</a></td><td class=\"L\"><a href=\"28628827.html\">第五百八十五章 重要的技术工人</a></td></tr><tr><td class=\"L\"><a href=\"28636243.html\">第五百八十六章 公平处理问题</a></td><td class=\"L\"><a href=\"28636252.html\">第五百八十七章 想办法对付赵厂长</a></td><td class=\"L\"><a href=\"28732103.html\">第五百八十八章 寻找合适的美人</a></td><td class=\"L\"><a href=\"28732104.html\">第五百八十九章 遇到老相识</a></td></tr><tr><td class=\"L\"><a href=\"28732105.html\">第五百八十八章 寻找合适的美人</a></td><td class=\"L\"><a href=\"28732106.html\">第五百八十九章 遇到老相识</a></td><td class=\"L\"><a href=\"28732107.html\">第五百九十章 赵厂长是一个厉害角色</a></td><td class=\"L\"><a href=\"28732108.html\">第五百九十一章 想到对策</a></td></tr><tr><td class=\"L\"><a href=\"28732109.html\">第五百九十二章 让女人心动的男人</a></td><td class=\"L\"><a href=\"28732110.html\">第五百九十三章 保洁员</a></td><td class=\"L\"><a href=\"28732111.html\">第五百九十四章 爱偷懒的女人</a></td><td class=\"L\"><a href=\"28732112.html\">第五百九十五章 越来越不象话</a></td></tr><tr><td class=\"L\"><a href=\"28732113.html\">第五百九十六章 赵厂长检查卫生</a></td><td class=\"L\"><a href=\"28732114.html\">第五百九十七章 创造一个机会</a></td><td class=\"L\"><a href=\"28732115.html\">第五百九十八章 请假</a></td><td class=\"L\"><a href=\"28732116.html\">第五百九十九章 给女朋友买漂亮衣服</a></td></tr><tr><td class=\"L\"><a href=\"28732117.html\">第六百章 把女朋友带到基地</a></td><td class=\"L\"><a href=\"28732118.html\">第六百零一章 副厂长看呆了</a></td><td class=\"L\"><a href=\"28732119.html\">第六百零二章 美女相见</a></td><td class=\"L\"><a href=\"28732120.html\">第六百零三章 情况有变</a></td></tr><tr><td class=\"L\"><a href=\"28811814.html\">第六百零四章 带女朋友到车间</a></td><td class=\"L\"><a href=\"28811815.html\">第六百零五章 心里有气</a></td><td class=\"L\"><a href=\"28811816.html\">第六百零六章 质量第一</a></td><td class=\"L\"><a href=\"28811817.html\">第六百零七章 倩倩有些生气</a></td></tr><tr><td class=\"L\"><a href=\"28811818.html\">第六百零八章 劝说妹妹</a></td><td class=\"L\"><a href=\"28811819.html\">第六百零九章 想要聊聊天</a></td><td class=\"L\"><a href=\"28815762.html\">第六百一十章 编故事</a></td><td class=\"L\"><a href=\"28901800.html\">第六百一十一章 搬弄是非</a></td></tr><tr><td class=\"L\"><a href=\"29077359.html\">第六百一十二章 陷害</a></td><td class=\"L\"><a href=\"29077361.html\">第六百一十三章 去找刘主任告状</a></td><td class=\"L\"><a href=\"29084553.html\">第六百一十四章 暂时挺高兴</a></td><td class=\"L\"><a href=\"29090642.html\">第六百一十五章 装蒜</a></td></tr><tr><td class=\"L\"><a href=\"29091430.html\">第六百一十六章 你要怎么解决这个问题</a></td><td class=\"L\"><a href=\"29093807.html\">第六百一十七章 所谓的好人与坏人</a></td><td class=\"L\"><a href=\"29097279.html\">第六百一十八章 可以弄一个假处分</a></td><td class=\"L\"><a href=\"29115899.html\">第六百一十九章 想着升官发财的事情</a></td></tr><tr><td class=\"L\"><a href=\"29122926.html\">第六百二十章 气度不凡</a></td><td class=\"L\"><a href=\"29126958.html\">第六百二十一章 激动的睡不着</a></td><td class=\"L\"><a href=\"29129805.html\">第六百二十二章 没有心情吃饭</a></td><td class=\"L\"><a href=\"29132919.html\">第六百二十三章 等来等去人家就是不来</a></td></tr><tr><td class=\"L\"><a href=\"29139487.html\">第六百二十四章 做事要有耐心</a></td><td class=\"L\"><a href=\"29142345.html\">第六百二十五章 争吵</a></td><td class=\"L\"><a href=\"29146569.html\">第六百二十六章 耐心地等着</a></td><td class=\"L\"><a href=\"29152949.html\">第六百二十七章 心情很好</a></td></tr><tr><td class=\"L\"><a href=\"29156136.html\">第六百二十八章 只不过是一个形式</a></td><td class=\"L\"><a href=\"29160263.html\">第六百二十九章 而一个大局</a></td><td class=\"L\"><a href=\"29163359.html\">第六百三十章 一场大戏</a></td><td class=\"L\"><a href=\"29169202.html\">第六百三十一章 若有所悟</a></td></tr><tr><td class=\"L\"><a href=\"29178941.html\">第六百三十二章 副厂长讲话</a></td><td class=\"L\"><a href=\"29182516.html\">第六百三十三章 领导的心思猜不透</a></td><td class=\"L\"><a href=\"29186794.html\">第六百三十四章 领导终于来了</a></td><td class=\"L\"><a href=\"29191513.html\">第六百三十五章 检查工厂卫生</a></td></tr><tr><td class=\"L\"><a href=\"29194061.html\">第六百三十六章 车间的卫生很干净</a></td><td class=\"L\"><a href=\"29196596.html\">第六百三十七章 三楼的卫生不怎么样</a></td><td class=\"L\"><a href=\"29200892.html\">第六百三十八章 重新打扫卫生</a></td><td class=\"L\"><a href=\"29200893.html\">第六百三十九章 这个基地很重要</a></td></tr><tr><td class=\"L\"><a href=\"29204126.html\">第六百四十章 宣布处分</a></td><td class=\"L\"><a href=\"29208231.html\">第六百四十一章 上位</a></td><td class=\"L\"><a href=\"29211352.html\">第六百四十二章 人家讲话有水平</a></td><td class=\"L\"><a href=\"29214000.html\">第六百四十三章 职工们的猜测</a></td></tr><tr><td class=\"L\"><a href=\"29216623.html\">第六百四十四章 怀疑你妹</a></td><td class=\"L\"><a href=\"29219428.html\">第六百四十五章 这是一个阴谋</a></td><td class=\"L\"><a href=\"29222050.html\">第六百四十六章 暂时忍耐一下</a></td><td class=\"L\"></td></tr></table></dd>\n",
       "<div class=\"adlist\"><script>show_list2();</script></div>\n",
       "<div class=\"hot\">推荐阅读:<a href=\"http://www.x23us.com/html/56/56905/\" target=\"_blank\">绝世天君</a><a href=\"http://www.x23us.com/html/57/57206/\" target=\"_blank\">大穿越时代</a><a href=\"http://www.x23us.com/html/53/53261/\" target=\"_blank\">1852铁血中华</a><a href=\"http://www.x23us.com/html/58/58725/\" target=\"_blank\">大隐</a><a href=\"http://www.x23us.com/html/57/57137/\" target=\"_blank\">最强狂兵</a><a href=\"http://www.x23us.com/html/51/51983/\" target=\"_blank\">文艺时代</a><a href=\"http://www.x23us.com/html/55/55618/\" target=\"_blank\">透视高手</a><a href=\"http://www.x23us.com/html/53/53145/\" target=\"_blank\">校花的贴身狂少</a><a href=\"http://www.x23us.com/html/57/57661/\" target=\"_blank\">随身英雄杀</a><a href=\"http://www.x23us.com/html/60/60551/\" target=\"_blank\">特战兵王</a><a href=\"http://www.x23us.com/html/0/522/\" target=\"_blank\">重生之资源大亨</a></div>\n",
       "<dd id=\"foottips\"></dd><dd class=\"tags\"><b>Tags：</b><a href=\"http://www.baidu.com/s?ct=2097152&amp;cl=3&amp;wd=超级军工科学家最新章节%20顶点\" rel=\"nofollow\" target=\"_blank\">超级军工科学家最新章节</a> <a href=\"http://www.haosou.com/s?ie=utf-8&amp;shb=1&amp;q=超级军工科学家更新列表%20顶点\" rel=\"nofollow\" target=\"_blank\">超级军工科学家更新列表</a> <a href=\"http://www.baidu.com/s?ct=2097152&amp;cl=3&amp;wd=超级军工科学家无弹窗%20顶点\" rel=\"nofollow\" target=\"_blank\">超级军工科学家无弹窗</a></dd>\n",
       "<dd class=\"reports\"><script>document.write('如发现<<超级军工科学家>>:<a href=\"http://www.x23us.com/newmessage.php?tosys=1&title=超级军工科学家-章节错误&amp;content=错误章节：  举报原因如下： \" target=\"_blank\" rel=\"nofollow\">章节错误/重复/缺少/欠更/内容违规/点此举报</a>');</script>\n",
       "</dd>\n",
       "<dd class=\"tips\"><b>顶点小说提示：<div style=\"color:green;display:inline\">投票积分+1，登陆积分+1，记得不要浪费当天份额哦！</div></b><br/>   ① 文章阅读页面，方向键左右(← →)前后翻页，回车键返回书目录。<br/>   ② 如果您发现超级军工科学家内容有与法律抵触之处，请马上向本站举报，赖以生存的顶点小说需要您们的建议和更多的参与！<br/>   ③ 如果您发现本书超级军工科学家最新章节，而本站又没有更新，请<a href=\"/newmessage.php?tosys=1&amp;title=+%B8%FC%D0%C2%C2%FD%C1%CB%B9%FE&amp;content=%B7%A2%CF%D6%D5%E2%B8%F6%CD%F8%D5%BE%B8%FC%D0%C2%BF%EC%B5%E3%A3%AC%CD%F8%D6%B7%CA%C7%A3%BA\" rel=\"nofollow\" target=\"_blank\">发短信</a>通知我们，我们会立即处理，您的热心是对网站最大的支持！\t</dd></dl></div></div>\n",
       "<div class=\"cl\" style=\"height:8px;\"></div><div id=\"a_footer\">© 2011 <a href=\"http://www.x23us.com/\">顶点小说</a>(www.x23us.com) 拒绝弹窗 免费阅读  <a href=\"http://www.x23us.com/map/4.html\" style=\"color:red\" target=\"_blank\">全部小说</a></div>\n",
       "<div style=\"display:none;width:0px\"><script>show_foot();</script></div>\n",
       "</body>\n",
       "</html>"
      ]
     },
     "execution_count": 84,
     "metadata": {},
     "output_type": "execute_result"
    }
   ],
   "source": [
    "soup"
   ]
  },
  {
   "cell_type": "code",
   "execution_count": 55,
   "metadata": {
    "collapsed": false
   },
   "outputs": [
    {
     "data": {
      "text/plain": [
       "str"
      ]
     },
     "execution_count": 55,
     "metadata": {},
     "output_type": "execute_result"
    }
   ],
   "source": [
    "type(soup.find('div',id='a_main').find('div',class_='bdsub').find_all('a',limit=6)[5].get_text())"
   ]
  },
  {
   "cell_type": "code",
   "execution_count": 29,
   "metadata": {
    "collapsed": false
   },
   "outputs": [
    {
     "name": "stdout",
     "output_type": "stream",
     "text": [
      "玄武战尊\n",
      "http://www.x23us.com/book/65868\n",
      "天地有缺\n",
      "神武图\n",
      "http://www.x23us.com/book/67225\n",
      "醉上空城\n",
      "圣墟\n",
      "http://www.x23us.com/book/66656\n",
      "辰东\n",
      "重生原始时代\n",
      "http://www.x23us.com/book/66443\n",
      "南州十一郎\n",
      "狂武战帝\n",
      "http://www.x23us.com/book/56224\n",
      "被罚站的豆豆\n",
      "带着农场混异界\n",
      "http://www.x23us.com/book/74\n",
      "明宇\n",
      "烽皇\n",
      "http://www.x23us.com/book/66576\n",
      "瑞根\n",
      "大道争锋\n",
      "http://www.x23us.com/book/15350\n",
      "误道者\n",
      "一刀劈开生死路\n",
      "http://www.x23us.com/book/66749\n",
      "夜与雪\n",
      "异世阎王爷\n",
      "http://www.x23us.com/book/67443\n",
      "一号方丈\n",
      "九天剑主\n",
      "http://www.x23us.com/book/65928\n",
      "火神\n",
      "女派大掌门\n",
      "http://www.x23us.com/book/67987\n",
      "古道西风凉\n",
      "玄界兽神\n",
      "http://www.x23us.com/book/67558\n",
      "今晚打酱油\n",
      "真武狂神\n",
      "http://www.x23us.com/book/65912\n",
      "游戏文字\n",
      "十印仙王\n",
      "http://www.x23us.com/book/66803\n",
      "海陈\n",
      "有扇通往地下城的门\n",
      "http://www.x23us.com/book/66840\n",
      "海拉斯特黑袍\n",
      "键盘皇\n",
      "http://www.x23us.com/book/66972\n",
      "冒牌队长\n",
      "超级神基因\n",
      "http://www.x23us.com/book/66957\n",
      "十二翼黑暗炽天使\n",
      "基因武道\n",
      "http://www.x23us.com/book/68107\n",
      "月中阴\n",
      "逆剑狂神\n",
      "http://www.x23us.com/book/58259\n",
      "一剑清新\n",
      "全职法师\n",
      "http://www.x23us.com/book/55304\n",
      "乱\n",
      "不灭战神\n",
      "http://www.x23us.com/book/66079\n",
      "始于梦\n",
      "武极宗师\n",
      "http://www.x23us.com/book/67582\n",
      "风消逝\n",
      "妖精的魔匣\n",
      "http://www.x23us.com/book/53549\n",
      "嗷星小领主\n",
      "吞噬魂帝\n",
      "http://www.x23us.com/book/65813\n",
      "徐广大\n",
      "带着武功去异界\n",
      "http://www.x23us.com/book/67575\n",
      "天秀弟子\n",
      "神武觉醒\n",
      "http://www.x23us.com/book/55686\n",
      "百里玺\n",
      "通天武尊\n",
      "http://www.x23us.com/book/65659\n",
      "夜云端\n",
      "赤龙武神\n",
      "http://www.x23us.com/book/67563\n",
      "悠悠帝皇\n",
      "异界董事长\n",
      "http://www.x23us.com/book/67596\n",
      "菜鸟也是鸟\n"
     ]
    }
   ],
   "source": [
    "tds = soup.find_all('tr', bgcolor='#FFFFFF')\n",
    "for td in tds:\n",
    "    print(td.find('td',{'class':'L'}).find('a')['title'][0:-2])\n",
    "    print(td.find('td',{'class':'L'}).find('a')['href'])\n",
    "    print(td.find('td',{'class':'C'}).get_text())"
   ]
  }
 ],
 "metadata": {
  "anaconda-cloud": {},
  "kernelspec": {
   "display_name": "Python [conda root]",
   "language": "python",
   "name": "conda-root-py"
  },
  "language_info": {
   "codemirror_mode": {
    "name": "ipython",
    "version": 3
   },
   "file_extension": ".py",
   "mimetype": "text/x-python",
   "name": "python",
   "nbconvert_exporter": "python",
   "pygments_lexer": "ipython3",
   "version": "3.5.2"
  }
 },
 "nbformat": 4,
 "nbformat_minor": 1
}
