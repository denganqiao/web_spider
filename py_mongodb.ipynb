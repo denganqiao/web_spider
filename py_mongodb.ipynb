{
 "cells": [
  {
   "cell_type": "code",
   "execution_count": 4,
   "metadata": {
    "collapsed": false
   },
   "outputs": [],
   "source": [
    "import concurrent.futures\n",
    "import urllib.request"
   ]
  },
  {
   "cell_type": "code",
   "execution_count": 5,
   "metadata": {
    "collapsed": true
   },
   "outputs": [],
   "source": [
    "URLS = ['Fox News',\n",
    "        'CNN - Breaking News, U.S., World, Weather, Entertainment & Video News',\n",
    "        'http://europe.wsj.com/',\n",
    "        'BBC - Home',\n",
    "        'http://some-made-up-domain.com/']"
   ]
  },
  {
   "cell_type": "code",
   "execution_count": 6,
   "metadata": {
    "collapsed": true
   },
   "outputs": [],
   "source": [
    "def load_url(url, timeout):\n",
    "    with urllib.request.urlopen(url, timeout=timeout) as conn:\n",
    "        return conn.read()"
   ]
  },
  {
   "cell_type": "code",
   "execution_count": 7,
   "metadata": {
    "collapsed": false
   },
   "outputs": [
    {
     "name": "stdout",
     "output_type": "stream",
     "text": [
      "'CNN - Breaking News, U.S., World, Weather, Entertainment & Video News' generated an exception: unknown url type: 'CNN - Breaking News, U.S., World, Weather, Entertainment & Video News'\n",
      "'Fox News' generated an exception: unknown url type: 'Fox News'\n",
      "'BBC - Home' generated an exception: unknown url type: 'BBC - Home'\n",
      "'http://some-made-up-domain.com/' page is 250 bytes\n",
      "'http://europe.wsj.com/' generated an exception: <urlopen error [Errno 101] Network is unreachable>\n"
     ]
    }
   ],
   "source": [
    "with concurrent.futures.ThreadPoolExecutor(max_workers=5) as executor:\n",
    "    future_to_url = {executor.submit(load_url, url, 60):url for url in URLS}\n",
    "    for future in concurrent.futures.as_completed(future_to_url):\n",
    "        url = future_to_url[future]\n",
    "        # 这边的future就是 通过`Executor.submit()`函数来创建的。\n",
    "        #有以下常用方法方法\n",
    "        # future.result(),返回由相关回调产生的结果，在本案列中，返回函数`load_url`的结果\n",
    "        # future.exception() 返回由相关回调抛出的异常，如果没有异常则返回`None`\n",
    "        # 更多future对象介绍请看下文\n",
    "        if future.exception() is not None:\n",
    "            print('%r generated an exception: %s' % (url,future.exception()))\n",
    "        else:\n",
    "            print('%r page is %d bytes' % (url, len(future.result())))"
   ]
  },
  {
   "cell_type": "code",
   "execution_count": null,
   "metadata": {
    "collapsed": true
   },
   "outputs": [],
   "source": []
  }
 ],
 "metadata": {
  "anaconda-cloud": {},
  "kernelspec": {
   "display_name": "Python [conda root]",
   "language": "python",
   "name": "conda-root-py"
  },
  "language_info": {
   "codemirror_mode": {
    "name": "ipython",
    "version": 3
   },
   "file_extension": ".py",
   "mimetype": "text/x-python",
   "name": "python",
   "nbconvert_exporter": "python",
   "pygments_lexer": "ipython3",
   "version": "3.5.2"
  }
 },
 "nbformat": 4,
 "nbformat_minor": 1
}
