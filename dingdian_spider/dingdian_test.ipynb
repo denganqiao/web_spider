{
 "cells": [
  {
   "cell_type": "code",
   "execution_count": 5,
   "metadata": {
    "collapsed": true
   },
   "outputs": [],
   "source": [
    "import requests\n",
    "from bs4 import BeautifulSoup"
   ]
  },
  {
   "cell_type": "code",
   "execution_count": 6,
   "metadata": {
    "collapsed": false
   },
   "outputs": [],
   "source": [
    "url = 'http://www.x23us.com/html/35/35142/17899091.html'\n",
    "url.encode('gbk','ignore').decode('utf-8')\n",
    "session = requests.session()\n",
    "response = session.get(url)"
   ]
  },
  {
   "cell_type": "code",
   "execution_count": 7,
   "metadata": {
    "collapsed": false
   },
   "outputs": [],
   "source": [
    "html =str(response.content, 'gbk')"
   ]
  },
  {
   "cell_type": "code",
   "execution_count": 8,
   "metadata": {
    "collapsed": true
   },
   "outputs": [],
   "source": [
    "soup = BeautifulSoup(html, 'lxml')"
   ]
  },
  {
   "cell_type": "code",
   "execution_count": 9,
   "metadata": {
    "collapsed": false
   },
   "outputs": [
    {
     "data": {
      "text/plain": [
       "<!DOCTYPE html>\n",
       "<html>\n",
       "<head>\n",
       "<meta content=\"no-siteapp\" http-equiv=\"Cache-Control\"/>\n",
       "<meta content=\"no-transform\" http-equiv=\"Cache-Control\"/>\n",
       "<script src=\"/scripts/m.js\" type=\"text/javascript\"></script>\n",
       "<meta content=\"pc\" name=\"applicable-device\"/>\n",
       "<link href=\"http://m.x23us.com/html/35/35142/17899091.html\" media=\"only screen and (max-width: 640px)\" rel=\"alternate\"/>\n",
       "<meta content=\"format=xhtml; url=http://m.x23us.com/html/35/35142/17899091.html\" name=\"mobile-agent\"/>\n",
       "<meta content=\"format=html5; url=http://m.x23us.com/html/35/35142/17899091.html\" name=\"mobile-agent\"/>\n",
       "<meta content=\"IE=Edge,chrome=1\" http-equiv=\"X-UA-Compatible\"/>\n",
       "<title>仙途漫记- 1.小乞丐-顶点小说</title>\n",
       "<meta content=\"text/html; charset=utf-8\" http-equiv=\"Content-Type\"/>\n",
       "<meta content=\"仙途漫记,瘪三喵喵, 1.小乞丐,在线阅读\" name=\"keywords\"/>\n",
       "<meta content=\"顶点小说整理仙途漫记全集无弹窗在线阅读,当前章节： 1.小乞丐\" name=\"description\"/>\n",
       "<link href=\"/themes/xiaoshuo/style.css\" rel=\"stylesheet\" type=\"text/css\"/>\n",
       "<script language=\"javascript\" src=\"/scripts/xiaoshuo.js\" type=\"text/javascript\"></script>\n",
       "<script type=\"text/javascript\">var preview_page = \"\",next_page = \"17899093.html\",index_page = \"/html/35/35142/\",article_id = \"35142\",chapter_id = \"17899091\";function jumpPage(event){var evt =event?event:window.event;if(evt.keyCode==37) location=preview_page;if (evt.keyCode==39) location=next_page;if (evt.keyCode==13) location=index_page;}document.onkeydown=jumpPage;</script>\n",
       "</head>\n",
       "<body style=\"background:#E6F3FF;\">\n",
       "<div id=\"a_head\"><ul><li><a href=\"http://www.x23us.com/\">顶点首页</a></li><li><a href=\"/class/1_1.html\">玄幻魔法</a></li><li><a href=\"/class/2_1.html\">武侠修真</a></li><li><a href=\"/class/3_1.html\">都市言情</a></li><li><a href=\"/class/4_1.html\">历史军事</a></li><li><a href=\"/class/5_1.html\">侦探推理</a></li><li><a href=\"/class/6_1.html\">网游动漫</a></li><li><a href=\"/class/7_1.html\">科幻小说</a></li><li><a href=\"/class/8_1.html\">恐怖灵异</a></li><li><a href=\"/class/9_1.html\">散文诗词</a></li><li><a href=\"/class/10_1.html\">其他类型</a></li><li><a href=\"/quanben/1\">全本小说</a></li><script>show_search();</script></ul></div>\n",
       "<div class=\"main myset\"><script>show_pagetop();</script></div>\n",
       "<div id=\"a_main\"><div class=\"bdtop\"></div><div class=\"bdsub\" id=\"amain\"><dl><dt>\n",
       "<p class=\"fr\"><a href=\"/modules/article/addbookcase.php?bid=35142&amp;cid=17899091\" rel=\"nofollow\" target=\"_blank\">加入书签</a> | <a href=\"http://www.x23us.com/modules/article/uservote.php?id=35142\" rel=\"nofollow\" target=\"_blank\">推荐本书</a> | <a href=\"http://www.x23us.com/book/35142\">返回书页</a> | <a href=\"/modules/article/bookcase.php\" rel=\"nofollow\">我的书架</a></p><a href=\"http://www.x23us.com/\">顶点小说</a> -&gt; <a href=\"/class/4_1.html\">历史军事</a> -&gt; <a href=\"http://www.x23us.com/html/35/35142/\">仙途漫记</a></dt><dd><h1> 1.小乞丐</h1></dd><dd><h3><a href=\"/html/35/35142/\">上一页</a>        <a href=\"/html/35/35142/\" title=\"仙途漫记最新章节更新列表\">返回最新章节列表</a>        <a href=\"/html/35/35142/17899093.html\">下一页</a></h3></dd>\n",
       "<div class=\"adhtml\"><script>show_htm();</script></div>\n",
       "<div class=\"hot\">热门推荐:<a href=\"http://www.x23us.com/html/62/62295/\" target=\"_blank\">史上最强师兄</a><a href=\"http://www.x23us.com/html/53/53145/\" target=\"_blank\">校花的贴身狂少</a><a href=\"http://www.x23us.com/html/53/53070/\" target=\"_blank\">深渊主宰</a><a href=\"http://www.x23us.com/html/56/56226/\" target=\"_blank\">从仙侠世界归来</a><a href=\"http://www.x23us.com/html/56/56078/\" target=\"_blank\">嫡女重生记</a><a href=\"http://www.x23us.com/html/61/61734/\" target=\"_blank\">英雄联盟之七百年后</a><a href=\"http://www.x23us.com/html/64/64405/\" target=\"_blank\">万域之王</a><a href=\"http://www.x23us.com/html/52/52866/\" target=\"_blank\">逆天邪神</a><a href=\"http://www.x23us.com/html/0/147/\" target=\"_blank\">不灭武尊</a><a href=\"http://www.x23us.com/html/58/58671/\" target=\"_blank\">龙王传说</a><a href=\"http://www.x23us.com/html/65/65181/\" target=\"_blank\">近身兵王</a></div>\n",
       "<div class=\"read_share\"><script>show_share();</script></div>\n",
       "<dd id=\"contents\">    ()    1.小乞丐<br/><br/>    天还没亮，狗蛋就以经出来开始找能填饱肚子的东西了。现在已开始立秋，天气开始慢慢转冷，昨晚就是饿着肚子入眠，今早又得出来寻觅食物。起身时一阵头晕目眩。但是狗蛋还是硬撑着站起来，努力的为自己寻觅食物，他不知道在为什么而活，但是狗蛋只知道他不能再饿了，再不吃东西就会像三狗子一样，眼睛一闭就再也睁不开啦。他为了能让自己每天都能睁开眼，吃东西。必须打起十二分jīng神来。<br/><br/>    “呼。。”一阵秋风吹来，狗蛋把自子身上仅有的几块布紧了紧，还好现在还不算冷，只是早上的风让这个饿着肚子睡了一觉的狗蛋感觉冷。狗蛋看起来眉清目秀的，只是现在满脸的灰尘，谁还能看得出来，脏不拉几的衣服，所谓衣服也不过是几块遮羞布罢了。一边走眼神一边四处扫视，生怕错过任何一样东西。狗蛋双手抱着身子哆嗦着穿过几条街道。一路上什么都没发现，又饿着肚子走了几条街，突然看到对面街上有半块馒头。那半块馒头早已沾满了灰尘，灰不拉几的。就在<br/><br/>    此时狗蛋已使出全身还剩的劲使劲的往馒头跑去，在慢点要是被谁发现了就惨了。以迅雷不及掩耳之速，将半块灰馒头抓起来，也不管馒头上有什么灰尘什么的，直接就放嘴里先咬一口。<br/><br/>    太硬了，馒头太硬了。狗蛋使劲咬一口也只要下一小口，还没来得及吞下去就感觉后脑一痛，眼前一黑，差点将嘴里的馒头喷出去。就地滚了一下，先包住嘴里的馒头再去抱住头，回头一下，原来是二愣在后面偷袭了他。二愣也是全身灰不拉几的，但是个头上明显要比狗蛋强壮许多，狗蛋此时也顾不了这么多了，第一时间想的就是将嘴里的馒头先咽下去。刚吞下去就听见二愣大喊“狗蛋，把馒头给我，不然就要挨揍。”狗蛋当即二话不说拽紧馒头就准备跑，刚刚跑没两步就脚一软，差点跌倒。赶紧双手扶住又准备继续跑。但是二愣哪还能给他机会，立马就准备一把抓住狗蛋。狗蛋身子一弯躲过抓来的手，当即又准备开溜。马上就感受到屁股挨了一脚。顿时来了一个狗吃屎摊在地上。二愣马上一脚就踩在狗蛋手上，一把抢过狗蛋手上的馒头，叫嚣道“狗蛋，几天没揍你啦，现在胆子大啦。敢不听我二楞哥的话啦。是不？”“二楞哥，都是我不对。我已经一天没吃东西了。实在是饿的受不了了。求求你了，别揍我。我错了”二愣又将踩在狗蛋手上的脚移到了狗蛋脸上，更加嚣张道“狗蛋，今天不教训你，我怕你就记不住我二楞哥”说完就往狗蛋身上一阵乱揍。“二楞哥，别，别。。”<br/><br/>    当狗蛋从地上起来时已经是半个时辰后，二愣把狗蛋揍的差点晕过去，揍的手疼了哼两声，撂下两句狠话就带着战利品走了。留下狗蛋一个人在地上哼哼唧唧了小一会才摸爬着做起来。坐在地上摸着疼的地方，眼泪也止不住的流了下来。但是摸了下肚子，已经饿的前胸贴后背了，又胡乱擦了眼泪，挣扎着站起来继续往前走，期望着马上就能找到一块馒头，不管又多脏，不管有多小。只要能吃就行。但是老天爷仿佛也理他，狗蛋走着走着就开始头晕目眩了，还没继续走两步就眼前一黑。<br/><br/>    “咚”;</dd>\n",
       "<div class=\"adhtml\"><script>show_htm2();</script></div>\n",
       "<dd id=\"contfoot\"><a class=\"keep\" href=\"Javascript:void(0);\" onclick=\"window.external.addFavorite('http://www.x23us.com/book/35142','仙途漫记-顶点小说');\">没看完？将本书加入收藏</a><a class=\"case\" href=\"/modules/article/addbookcase.php?bid=35142&amp;cid=17899091\" rel=\"nofollow\" target=\"_blank\">我是会员，将本章节放入书签</a><a class=\"copy\" href=\"Javascript:void(0);\" onclick=\"window.clipboardData.setData('Text','推荐一本书哈 《仙途漫记》 \\r\\n http://www.x23us.com/book/35142');alert('复制成功！');\">复制本书地址，推荐给好友获取积分</a><a class=\"report\" href=\"/newmessage.php?tosys=1&amp;title=仙途漫记 -  1.小乞丐 - %D5%C2%BD%DA%B4%ED%CE%F3&amp;content=%B6%D4%B1%C8%CD%F8%D6%B7%CA%C7%A3%BA\" rel=\"nofollow\" target=\"_blank\">章节错误？点此举报</a></dd><dd id=\"tipscent\"></dd><dd id=\"footlink\"><a href=\"/html/35/35142/\">上一页</a><a href=\"/html/35/35142/\" title=\"仙途漫记最新章节更新列表\">返回章节列表</a><a href=\"/html/35/35142/17899093.html\">下一页</a></dd><dd id=\"tipsfoot\"></dd></dl>\n",
       "<div class=\"cl\"></div>\n",
       "<div class=\"hot\">完结推荐:<a href=\"http://www.x23us.com/html/52/52779/\" target=\"_blank\">绝品透视</a><a href=\"http://www.x23us.com/html/48/48937/\" target=\"_blank\">风流小农民</a><a href=\"http://www.x23us.com/html/8/8978/\" target=\"_blank\">最美遇见你</a><a href=\"http://www.x23us.com/html/55/55847/\" target=\"_blank\">超人回来了</a><a href=\"http://www.x23us.com/html/50/50550/\" target=\"_blank\">三界独尊</a><a href=\"http://www.x23us.com/html/8/8289/\" target=\"_blank\">冰火魔厨</a><a href=\"http://www.x23us.com/html/48/48342/\" target=\"_blank\">伏藏师</a><a href=\"http://www.x23us.com/html/55/55234/\" target=\"_blank\">我的老婆是双胞胎</a><a href=\"http://www.x23us.com/html/19/19659/\" target=\"_blank\">倚天屠龙夺艳记</a><a href=\"http://www.x23us.com/html/53/53734/\" target=\"_blank\">天火大道</a><a href=\"http://www.x23us.com/html/43/43838/\" target=\"_blank\">梦入神机</a></div>\n",
       "<div class=\"link\"><a href=\"http://www.x23us.com/book/35142\">仙途漫记TXT下载</a><a href=\"/html/35/35142/\">仙途漫记最新章节</a><a href=\"/html/35/35142/\">仙途漫记无弹窗</a></div>\n",
       "</div></div>\n",
       "<div class=\"cl\" style=\"height:8px;\"></div><div id=\"a_footer\">© 2011 <a href=\"http://www.x23us.com/\">顶点小说</a>(www.x23us.com) 拒绝弹窗 免费阅读 <a href=\"http://www.x23us.com/map/4.html\" style=\"color:red\" target=\"_blank\">全部小说</a></div>\n",
       "<script>show_pagebottom();</script>\n",
       "<div style=\"display:none;width:0px\"><script>show_foot();</script></div>\n",
       "</body></html>"
      ]
     },
     "execution_count": 9,
     "metadata": {},
     "output_type": "execute_result"
    }
   ],
   "source": [
    "soup"
   ]
  },
  {
   "cell_type": "code",
   "execution_count": 12,
   "metadata": {
    "collapsed": false
   },
   "outputs": [
    {
     "data": {
      "text/plain": [
       "'()1.小乞丐天还没亮，狗蛋就以经出来开始找能填饱肚子的东西了。现在已开始立秋，天气开始慢慢转冷，昨晚就是饿着肚子入眠，今早又得出来寻觅食物。起身时一阵头晕目眩。但是狗蛋还是硬撑着站起来，努力的为自己寻觅食物，他不知道在为什么而活，但是狗蛋只知道他不能再饿了，再不吃东西就会像三狗子一样，眼睛一闭就再也睁不开啦。他为了能让自己每天都能睁开眼，吃东西。必须打起十二分jīng神来。“呼。。”一阵秋风吹来，狗蛋把自子身上仅有的几块布紧了紧，还好现在还不算冷，只是早上的风让这个饿着肚子睡了一觉的狗蛋感觉冷。狗蛋看起来眉清目秀的，只是现在满脸的灰尘，谁还能看得出来，脏不拉几的衣服，所谓衣服也不过是几块遮羞布罢了。一边走眼神一边四处扫视，生怕错过任何一样东西。狗蛋双手抱着身子哆嗦着穿过几条街道。一路上什么都没发现，又饿着肚子走了几条街，突然看到对面街上有半块馒头。那半块馒头早已沾满了灰尘，灰不拉几的。就在此时狗蛋已使出全身还剩的劲使劲的往馒头跑去，在慢点要是被谁发现了就惨了。以迅雷不及掩耳之速，将半块灰馒头抓起来，也不管馒头上有什么灰尘什么的，直接就放嘴里先咬一口。太硬了，馒头太硬了。狗蛋使劲咬一口也只要下一小口，还没来得及吞下去就感觉后脑一痛，眼前一黑，差点将嘴里的馒头喷出去。就地滚了一下，先包住嘴里的馒头再去抱住头，回头一下，原来是二愣在后面偷袭了他。二愣也是全身灰不拉几的，但是个头上明显要比狗蛋强壮许多，狗蛋此时也顾不了这么多了，第一时间想的就是将嘴里的馒头先咽下去。刚吞下去就听见二愣大喊“狗蛋，把馒头给我，不然就要挨揍。”狗蛋当即二话不说拽紧馒头就准备跑，刚刚跑没两步就脚一软，差点跌倒。赶紧双手扶住又准备继续跑。但是二愣哪还能给他机会，立马就准备一把抓住狗蛋。狗蛋身子一弯躲过抓来的手，当即又准备开溜。马上就感受到屁股挨了一脚。顿时来了一个狗吃屎摊在地上。二愣马上一脚就踩在狗蛋手上，一把抢过狗蛋手上的馒头，叫嚣道“狗蛋，几天没揍你啦，现在胆子大啦。敢不听我二楞哥的话啦。是不？”“二楞哥，都是我不对。我已经一天没吃东西了。实在是饿的受不了了。求求你了，别揍我。我错了”二愣又将踩在狗蛋手上的脚移到了狗蛋脸上，更加嚣张道“狗蛋，今天不教训你，我怕你就记不住我二楞哥”说完就往狗蛋身上一阵乱揍。“二楞哥，别，别。。”当狗蛋从地上起来时已经是半个时辰后，二愣把狗蛋揍的差点晕过去，揍的手疼了哼两声，撂下两句狠话就带着战利品走了。留下狗蛋一个人在地上哼哼唧唧了小一会才摸爬着做起来。坐在地上摸着疼的地方，眼泪也止不住的流了下来。但是摸了下肚子，已经饿的前胸贴后背了，又胡乱擦了眼泪，挣扎着站起来继续往前走，期望着马上就能找到一块馒头，不管又多脏，不管有多小。只要能吃就行。但是老天爷仿佛也理他，狗蛋走着走着就开始头晕目眩了，还没继续走两步就眼前一黑。“咚”;'"
      ]
     },
     "execution_count": 12,
     "metadata": {},
     "output_type": "execute_result"
    }
   ],
   "source": [
    "soup.find('dd', id='contents').get_text().replace('\\xa0','')"
   ]
  },
  {
   "cell_type": "code",
   "execution_count": 29,
   "metadata": {
    "collapsed": false
   },
   "outputs": [
    {
     "name": "stdout",
     "output_type": "stream",
     "text": [
      "玄武战尊\n",
      "http://www.x23us.com/book/65868\n",
      "天地有缺\n",
      "神武图\n",
      "http://www.x23us.com/book/67225\n",
      "醉上空城\n",
      "圣墟\n",
      "http://www.x23us.com/book/66656\n",
      "辰东\n",
      "重生原始时代\n",
      "http://www.x23us.com/book/66443\n",
      "南州十一郎\n",
      "狂武战帝\n",
      "http://www.x23us.com/book/56224\n",
      "被罚站的豆豆\n",
      "带着农场混异界\n",
      "http://www.x23us.com/book/74\n",
      "明宇\n",
      "烽皇\n",
      "http://www.x23us.com/book/66576\n",
      "瑞根\n",
      "大道争锋\n",
      "http://www.x23us.com/book/15350\n",
      "误道者\n",
      "一刀劈开生死路\n",
      "http://www.x23us.com/book/66749\n",
      "夜与雪\n",
      "异世阎王爷\n",
      "http://www.x23us.com/book/67443\n",
      "一号方丈\n",
      "九天剑主\n",
      "http://www.x23us.com/book/65928\n",
      "火神\n",
      "女派大掌门\n",
      "http://www.x23us.com/book/67987\n",
      "古道西风凉\n",
      "玄界兽神\n",
      "http://www.x23us.com/book/67558\n",
      "今晚打酱油\n",
      "真武狂神\n",
      "http://www.x23us.com/book/65912\n",
      "游戏文字\n",
      "十印仙王\n",
      "http://www.x23us.com/book/66803\n",
      "海陈\n",
      "有扇通往地下城的门\n",
      "http://www.x23us.com/book/66840\n",
      "海拉斯特黑袍\n",
      "键盘皇\n",
      "http://www.x23us.com/book/66972\n",
      "冒牌队长\n",
      "超级神基因\n",
      "http://www.x23us.com/book/66957\n",
      "十二翼黑暗炽天使\n",
      "基因武道\n",
      "http://www.x23us.com/book/68107\n",
      "月中阴\n",
      "逆剑狂神\n",
      "http://www.x23us.com/book/58259\n",
      "一剑清新\n",
      "全职法师\n",
      "http://www.x23us.com/book/55304\n",
      "乱\n",
      "不灭战神\n",
      "http://www.x23us.com/book/66079\n",
      "始于梦\n",
      "武极宗师\n",
      "http://www.x23us.com/book/67582\n",
      "风消逝\n",
      "妖精的魔匣\n",
      "http://www.x23us.com/book/53549\n",
      "嗷星小领主\n",
      "吞噬魂帝\n",
      "http://www.x23us.com/book/65813\n",
      "徐广大\n",
      "带着武功去异界\n",
      "http://www.x23us.com/book/67575\n",
      "天秀弟子\n",
      "神武觉醒\n",
      "http://www.x23us.com/book/55686\n",
      "百里玺\n",
      "通天武尊\n",
      "http://www.x23us.com/book/65659\n",
      "夜云端\n",
      "赤龙武神\n",
      "http://www.x23us.com/book/67563\n",
      "悠悠帝皇\n",
      "异界董事长\n",
      "http://www.x23us.com/book/67596\n",
      "菜鸟也是鸟\n"
     ]
    }
   ],
   "source": [
    "tds = soup.find_all('tr', bgcolor='#FFFFFF')\n",
    "for td in tds:\n",
    "    print(td.find('td',{'class':'L'}).find('a')['title'][0:-2])\n",
    "    print(td.find('td',{'class':'L'}).find('a')['href'])\n",
    "    print(td.find('td',{'class':'C'}).get_text())"
   ]
  }
 ],
 "metadata": {
  "anaconda-cloud": {},
  "kernelspec": {
   "display_name": "Python [conda root]",
   "language": "python",
   "name": "conda-root-py"
  },
  "language_info": {
   "codemirror_mode": {
    "name": "ipython",
    "version": 3
   },
   "file_extension": ".py",
   "mimetype": "text/x-python",
   "name": "python",
   "nbconvert_exporter": "python",
   "pygments_lexer": "ipython3",
   "version": "3.5.2"
  }
 },
 "nbformat": 4,
 "nbformat_minor": 1
}
