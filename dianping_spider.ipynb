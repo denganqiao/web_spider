{
 "cells": [
  {
   "cell_type": "code",
   "execution_count": 1,
   "metadata": {
    "collapsed": false
   },
   "outputs": [],
   "source": [
    "import urllib\n",
    "from urllib import request\n",
    "from bs4 import BeautifulSoup\n",
    "import re\n",
    "import json\n",
    "import requests\n",
    "from selenium import webdriver\n",
    "import random"
   ]
  },
  {
   "cell_type": "code",
   "execution_count": 21,
   "metadata": {
    "collapsed": false
   },
   "outputs": [
    {
     "ename": "HTTPError",
     "evalue": "HTTP Error 403: Forbidden",
     "output_type": "error",
     "traceback": [
      "\u001b[0;31m---------------------------------------------------------------------------\u001b[0m",
      "\u001b[0;31mHTTPError\u001b[0m                                 Traceback (most recent call last)",
      "\u001b[0;32m<ipython-input-21-0d8f1e908986>\u001b[0m in \u001b[0;36m<module>\u001b[0;34m()\u001b[0m\n\u001b[1;32m     28\u001b[0m \u001b[0mreq\u001b[0m\u001b[0;34m.\u001b[0m\u001b[0madd_header\u001b[0m\u001b[0;34m(\u001b[0m\u001b[0;34m\"GET\"\u001b[0m\u001b[0;34m,\u001b[0m\u001b[0murl\u001b[0m\u001b[0;34m)\u001b[0m\u001b[0;34m\u001b[0m\u001b[0m\n\u001b[1;32m     29\u001b[0m \u001b[0mreq\u001b[0m\u001b[0;34m.\u001b[0m\u001b[0madd_header\u001b[0m\u001b[0;34m(\u001b[0m\u001b[0;34m\"Cookie\"\u001b[0m\u001b[0;34m,\u001b[0m\u001b[0;34m\"_hc.v=c019a1eb-4454-098b-587e-5628e182c145.1500469542; __utma=1.1944479408.1500469542.1500469542.1500476464.2; __utmz=1.1500469542.1.1.utmcsr=(direct)|utmccn=(direct)|utmcmd=(none); _lxsdk_cuid=15d6406aaa3c8-04809fb646cae9-1b281508-100200-15d6406aaa3c8; _lxsdk=15d6406aaa3c8-04809fb646cae9-1b281508-100200-15d6406aaa3c8; s_ViewType=10; PHOENIX_ID=0a010918-15d6a2e4cd3-57318c0; _lxsdk_s=15d6a86ad66-994-2b6-965%7C%7C13; JSESSIONID=8B63AA47F82921F628855137CF6A34B3; aburl=1; cy=2; cye=beijing; __mta=252648758.1500621643093.1500725385888.1500730803800.15\"\u001b[0m\u001b[0;34m)\u001b[0m\u001b[0;34m\u001b[0m\u001b[0m\n\u001b[0;32m---> 30\u001b[0;31m \u001b[0mresponse\u001b[0m \u001b[0;34m=\u001b[0m \u001b[0mrequest\u001b[0m\u001b[0;34m.\u001b[0m\u001b[0murlopen\u001b[0m\u001b[0;34m(\u001b[0m\u001b[0mreq\u001b[0m\u001b[0;34m)\u001b[0m\u001b[0;34m\u001b[0m\u001b[0m\n\u001b[0m\u001b[1;32m     31\u001b[0m \u001b[0mhtml\u001b[0m \u001b[0;34m=\u001b[0m \u001b[0mresponse\u001b[0m\u001b[0;34m.\u001b[0m\u001b[0mread\u001b[0m\u001b[0;34m(\u001b[0m\u001b[0;34m)\u001b[0m\u001b[0;34m.\u001b[0m\u001b[0mdecode\u001b[0m\u001b[0;34m(\u001b[0m\u001b[0;34m'utf-8'\u001b[0m\u001b[0;34m)\u001b[0m\u001b[0;34m\u001b[0m\u001b[0m\n",
      "\u001b[0;32m/home/jesse/anaconda3/lib/python3.5/urllib/request.py\u001b[0m in \u001b[0;36murlopen\u001b[0;34m(url, data, timeout, cafile, capath, cadefault, context)\u001b[0m\n\u001b[1;32m    161\u001b[0m     \u001b[0;32melse\u001b[0m\u001b[0;34m:\u001b[0m\u001b[0;34m\u001b[0m\u001b[0m\n\u001b[1;32m    162\u001b[0m         \u001b[0mopener\u001b[0m \u001b[0;34m=\u001b[0m \u001b[0m_opener\u001b[0m\u001b[0;34m\u001b[0m\u001b[0m\n\u001b[0;32m--> 163\u001b[0;31m     \u001b[0;32mreturn\u001b[0m \u001b[0mopener\u001b[0m\u001b[0;34m.\u001b[0m\u001b[0mopen\u001b[0m\u001b[0;34m(\u001b[0m\u001b[0murl\u001b[0m\u001b[0;34m,\u001b[0m \u001b[0mdata\u001b[0m\u001b[0;34m,\u001b[0m \u001b[0mtimeout\u001b[0m\u001b[0;34m)\u001b[0m\u001b[0;34m\u001b[0m\u001b[0m\n\u001b[0m\u001b[1;32m    164\u001b[0m \u001b[0;34m\u001b[0m\u001b[0m\n\u001b[1;32m    165\u001b[0m \u001b[0;32mdef\u001b[0m \u001b[0minstall_opener\u001b[0m\u001b[0;34m(\u001b[0m\u001b[0mopener\u001b[0m\u001b[0;34m)\u001b[0m\u001b[0;34m:\u001b[0m\u001b[0;34m\u001b[0m\u001b[0m\n",
      "\u001b[0;32m/home/jesse/anaconda3/lib/python3.5/urllib/request.py\u001b[0m in \u001b[0;36mopen\u001b[0;34m(self, fullurl, data, timeout)\u001b[0m\n\u001b[1;32m    470\u001b[0m         \u001b[0;32mfor\u001b[0m \u001b[0mprocessor\u001b[0m \u001b[0;32min\u001b[0m \u001b[0mself\u001b[0m\u001b[0;34m.\u001b[0m\u001b[0mprocess_response\u001b[0m\u001b[0;34m.\u001b[0m\u001b[0mget\u001b[0m\u001b[0;34m(\u001b[0m\u001b[0mprotocol\u001b[0m\u001b[0;34m,\u001b[0m \u001b[0;34m[\u001b[0m\u001b[0;34m]\u001b[0m\u001b[0;34m)\u001b[0m\u001b[0;34m:\u001b[0m\u001b[0;34m\u001b[0m\u001b[0m\n\u001b[1;32m    471\u001b[0m             \u001b[0mmeth\u001b[0m \u001b[0;34m=\u001b[0m \u001b[0mgetattr\u001b[0m\u001b[0;34m(\u001b[0m\u001b[0mprocessor\u001b[0m\u001b[0;34m,\u001b[0m \u001b[0mmeth_name\u001b[0m\u001b[0;34m)\u001b[0m\u001b[0;34m\u001b[0m\u001b[0m\n\u001b[0;32m--> 472\u001b[0;31m             \u001b[0mresponse\u001b[0m \u001b[0;34m=\u001b[0m \u001b[0mmeth\u001b[0m\u001b[0;34m(\u001b[0m\u001b[0mreq\u001b[0m\u001b[0;34m,\u001b[0m \u001b[0mresponse\u001b[0m\u001b[0;34m)\u001b[0m\u001b[0;34m\u001b[0m\u001b[0m\n\u001b[0m\u001b[1;32m    473\u001b[0m \u001b[0;34m\u001b[0m\u001b[0m\n\u001b[1;32m    474\u001b[0m         \u001b[0;32mreturn\u001b[0m \u001b[0mresponse\u001b[0m\u001b[0;34m\u001b[0m\u001b[0m\n",
      "\u001b[0;32m/home/jesse/anaconda3/lib/python3.5/urllib/request.py\u001b[0m in \u001b[0;36mhttp_response\u001b[0;34m(self, request, response)\u001b[0m\n\u001b[1;32m    580\u001b[0m         \u001b[0;32mif\u001b[0m \u001b[0;32mnot\u001b[0m \u001b[0;34m(\u001b[0m\u001b[0;36m200\u001b[0m \u001b[0;34m<=\u001b[0m \u001b[0mcode\u001b[0m \u001b[0;34m<\u001b[0m \u001b[0;36m300\u001b[0m\u001b[0;34m)\u001b[0m\u001b[0;34m:\u001b[0m\u001b[0;34m\u001b[0m\u001b[0m\n\u001b[1;32m    581\u001b[0m             response = self.parent.error(\n\u001b[0;32m--> 582\u001b[0;31m                 'http', request, response, code, msg, hdrs)\n\u001b[0m\u001b[1;32m    583\u001b[0m \u001b[0;34m\u001b[0m\u001b[0m\n\u001b[1;32m    584\u001b[0m         \u001b[0;32mreturn\u001b[0m \u001b[0mresponse\u001b[0m\u001b[0;34m\u001b[0m\u001b[0m\n",
      "\u001b[0;32m/home/jesse/anaconda3/lib/python3.5/urllib/request.py\u001b[0m in \u001b[0;36merror\u001b[0;34m(self, proto, *args)\u001b[0m\n\u001b[1;32m    508\u001b[0m         \u001b[0;32mif\u001b[0m \u001b[0mhttp_err\u001b[0m\u001b[0;34m:\u001b[0m\u001b[0;34m\u001b[0m\u001b[0m\n\u001b[1;32m    509\u001b[0m             \u001b[0margs\u001b[0m \u001b[0;34m=\u001b[0m \u001b[0;34m(\u001b[0m\u001b[0mdict\u001b[0m\u001b[0;34m,\u001b[0m \u001b[0;34m'default'\u001b[0m\u001b[0;34m,\u001b[0m \u001b[0;34m'http_error_default'\u001b[0m\u001b[0;34m)\u001b[0m \u001b[0;34m+\u001b[0m \u001b[0morig_args\u001b[0m\u001b[0;34m\u001b[0m\u001b[0m\n\u001b[0;32m--> 510\u001b[0;31m             \u001b[0;32mreturn\u001b[0m \u001b[0mself\u001b[0m\u001b[0;34m.\u001b[0m\u001b[0m_call_chain\u001b[0m\u001b[0;34m(\u001b[0m\u001b[0;34m*\u001b[0m\u001b[0margs\u001b[0m\u001b[0;34m)\u001b[0m\u001b[0;34m\u001b[0m\u001b[0m\n\u001b[0m\u001b[1;32m    511\u001b[0m \u001b[0;34m\u001b[0m\u001b[0m\n\u001b[1;32m    512\u001b[0m \u001b[0;31m# XXX probably also want an abstract factory that knows when it makes\u001b[0m\u001b[0;34m\u001b[0m\u001b[0;34m\u001b[0m\u001b[0m\n",
      "\u001b[0;32m/home/jesse/anaconda3/lib/python3.5/urllib/request.py\u001b[0m in \u001b[0;36m_call_chain\u001b[0;34m(self, chain, kind, meth_name, *args)\u001b[0m\n\u001b[1;32m    442\u001b[0m         \u001b[0;32mfor\u001b[0m \u001b[0mhandler\u001b[0m \u001b[0;32min\u001b[0m \u001b[0mhandlers\u001b[0m\u001b[0;34m:\u001b[0m\u001b[0;34m\u001b[0m\u001b[0m\n\u001b[1;32m    443\u001b[0m             \u001b[0mfunc\u001b[0m \u001b[0;34m=\u001b[0m \u001b[0mgetattr\u001b[0m\u001b[0;34m(\u001b[0m\u001b[0mhandler\u001b[0m\u001b[0;34m,\u001b[0m \u001b[0mmeth_name\u001b[0m\u001b[0;34m)\u001b[0m\u001b[0;34m\u001b[0m\u001b[0m\n\u001b[0;32m--> 444\u001b[0;31m             \u001b[0mresult\u001b[0m \u001b[0;34m=\u001b[0m \u001b[0mfunc\u001b[0m\u001b[0;34m(\u001b[0m\u001b[0;34m*\u001b[0m\u001b[0margs\u001b[0m\u001b[0;34m)\u001b[0m\u001b[0;34m\u001b[0m\u001b[0m\n\u001b[0m\u001b[1;32m    445\u001b[0m             \u001b[0;32mif\u001b[0m \u001b[0mresult\u001b[0m \u001b[0;32mis\u001b[0m \u001b[0;32mnot\u001b[0m \u001b[0;32mNone\u001b[0m\u001b[0;34m:\u001b[0m\u001b[0;34m\u001b[0m\u001b[0m\n\u001b[1;32m    446\u001b[0m                 \u001b[0;32mreturn\u001b[0m \u001b[0mresult\u001b[0m\u001b[0;34m\u001b[0m\u001b[0m\n",
      "\u001b[0;32m/home/jesse/anaconda3/lib/python3.5/urllib/request.py\u001b[0m in \u001b[0;36mhttp_error_default\u001b[0;34m(self, req, fp, code, msg, hdrs)\u001b[0m\n\u001b[1;32m    588\u001b[0m \u001b[0;32mclass\u001b[0m \u001b[0mHTTPDefaultErrorHandler\u001b[0m\u001b[0;34m(\u001b[0m\u001b[0mBaseHandler\u001b[0m\u001b[0;34m)\u001b[0m\u001b[0;34m:\u001b[0m\u001b[0;34m\u001b[0m\u001b[0m\n\u001b[1;32m    589\u001b[0m     \u001b[0;32mdef\u001b[0m \u001b[0mhttp_error_default\u001b[0m\u001b[0;34m(\u001b[0m\u001b[0mself\u001b[0m\u001b[0;34m,\u001b[0m \u001b[0mreq\u001b[0m\u001b[0;34m,\u001b[0m \u001b[0mfp\u001b[0m\u001b[0;34m,\u001b[0m \u001b[0mcode\u001b[0m\u001b[0;34m,\u001b[0m \u001b[0mmsg\u001b[0m\u001b[0;34m,\u001b[0m \u001b[0mhdrs\u001b[0m\u001b[0;34m)\u001b[0m\u001b[0;34m:\u001b[0m\u001b[0;34m\u001b[0m\u001b[0m\n\u001b[0;32m--> 590\u001b[0;31m         \u001b[0;32mraise\u001b[0m \u001b[0mHTTPError\u001b[0m\u001b[0;34m(\u001b[0m\u001b[0mreq\u001b[0m\u001b[0;34m.\u001b[0m\u001b[0mfull_url\u001b[0m\u001b[0;34m,\u001b[0m \u001b[0mcode\u001b[0m\u001b[0;34m,\u001b[0m \u001b[0mmsg\u001b[0m\u001b[0;34m,\u001b[0m \u001b[0mhdrs\u001b[0m\u001b[0;34m,\u001b[0m \u001b[0mfp\u001b[0m\u001b[0;34m)\u001b[0m\u001b[0;34m\u001b[0m\u001b[0m\n\u001b[0m\u001b[1;32m    591\u001b[0m \u001b[0;34m\u001b[0m\u001b[0m\n\u001b[1;32m    592\u001b[0m \u001b[0;32mclass\u001b[0m \u001b[0mHTTPRedirectHandler\u001b[0m\u001b[0;34m(\u001b[0m\u001b[0mBaseHandler\u001b[0m\u001b[0;34m)\u001b[0m\u001b[0;34m:\u001b[0m\u001b[0;34m\u001b[0m\u001b[0m\n",
      "\u001b[0;31mHTTPError\u001b[0m: HTTP Error 403: Forbidden"
     ]
    }
   ],
   "source": [
    "my_headers=[\n",
    "            \"Mozilla/5.0 (Windows NT 6.1; WOW64) AppleWebKit/537.1 (KHTML, like Gecko) Chrome/22.0.1207.1 Safari/537.1\",\n",
    "            \"Mozilla/5.0 (X11; CrOS i686 2268.111.0) AppleWebKit/536.11 (KHTML, like Gecko) Chrome/20.0.1132.57 Safari/536.11\",\n",
    "            \"Mozilla/5.0 (Windows NT 6.1; WOW64) AppleWebKit/536.6 (KHTML, like Gecko) Chrome/20.0.1092.0 Safari/536.6\",\n",
    "            \"Mozilla/5.0 (Windows NT 6.2) AppleWebKit/536.6 (KHTML, like Gecko) Chrome/20.0.1090.0 Safari/536.6\",\n",
    "            \"Mozilla/5.0 (Windows NT 6.2; WOW64) AppleWebKit/537.1 (KHTML, like Gecko) Chrome/19.77.34.5 Safari/537.1\",\n",
    "            \"Mozilla/5.0 (X11; Linux x86_64) AppleWebKit/536.5 (KHTML, like Gecko) Chrome/19.0.1084.9 Safari/536.5\",\n",
    "            \"Mozilla/5.0 (Windows NT 6.0) AppleWebKit/536.5 (KHTML, like Gecko) Chrome/19.0.1084.36 Safari/536.5\",\n",
    "            \"Mozilla/5.0 (Windows NT 6.1; WOW64) AppleWebKit/536.3 (KHTML, like Gecko) Chrome/19.0.1063.0 Safari/536.3\",\n",
    "            \"Mozilla/5.0 (Windows NT 5.1) AppleWebKit/536.3 (KHTML, like Gecko) Chrome/19.0.1063.0 Safari/536.3\",\n",
    "            \"Mozilla/5.0 (Macintosh; Intel Mac OS X 10_8_0) AppleWebKit/536.3 (KHTML, like Gecko) Chrome/19.0.1063.0 Safari/536.3\",\n",
    "            \"Mozilla/5.0 (Windows NT 6.2) AppleWebKit/536.3 (KHTML, like Gecko) Chrome/19.0.1062.0 Safari/536.3\",\n",
    "            \"Mozilla/5.0 (Windows NT 6.1; WOW64) AppleWebKit/536.3 (KHTML, like Gecko) Chrome/19.0.1062.0 Safari/536.3\",\n",
    "            \"Mozilla/5.0 (Windows NT 6.2) AppleWebKit/536.3 (KHTML, like Gecko) Chrome/19.0.1061.1 Safari/536.3\",\n",
    "            \"Mozilla/5.0 (Windows NT 6.1; WOW64) AppleWebKit/536.3 (KHTML, like Gecko) Chrome/19.0.1061.1 Safari/536.3\",\n",
    "            \"Mozilla/5.0 (Windows NT 6.1) AppleWebKit/536.3 (KHTML, like Gecko) Chrome/19.0.1061.1 Safari/536.3\",\n",
    "            \"Mozilla/5.0 (Windows NT 6.2) AppleWebKit/536.3 (KHTML, like Gecko) Chrome/19.0.1061.0 Safari/536.3\",\n",
    "            \"Mozilla/5.0 (X11; Linux x86_64) AppleWebKit/535.24 (KHTML, like Gecko) Chrome/19.0.1055.1 Safari/535.24\",\n",
    "            \"Mozilla/5.0 (Windows NT 6.2; WOW64) AppleWebKit/535.24 (KHTML, like Gecko) Chrome/19.0.1055.1 Safari/535.24\"\n",
    "        ]\n",
    "proxies = {\n",
    "  \"http\": \"http://10.10.1.10:3128\",\n",
    "  \"https\": \"http://10.10.1.10:1080\",\n",
    "}\n",
    "\n",
    "requests.get(\"http://example.org\", proxies=proxies)\n",
    "url = 'http://www.dianping.com/shop/16789967'\n",
    "headers = 'Baiduspider+'\n",
    "randdom_header=random.choice(my_headers)\n",
    "req = urllib.request.Request(url)\n",
    "req.add_header(\"User-Agent\",headers)\n",
    "req.add_header(\"Host\",\"www.dianping.com\")\n",
    "req.add_header(\"GET\",url)\n",
    "\n",
    "response = request.urlopen(req)\n",
    "html = response.read().decode('utf-8')"
   ]
  },
  {
   "cell_type": "code",
   "execution_count": 17,
   "metadata": {
    "collapsed": false
   },
   "outputs": [
    {
     "data": {
      "text/plain": [
       "'<!DOCTYPE html>\\r\\n\\r\\n\\r\\n\\r\\n\\r\\n\\r\\n\\r\\n\\r\\n\\r\\n<html>\\r\\n<head>\\r\\n<meta charset=\"UTF-8\"/>\\r\\n<meta http-equiv=\"X-UA-Compatible\" content=\"IE=edge\"/>\\r\\n<script>(function(n){var e;e=\"//catdot.dianping.com/broker-service/api/js\",n.onerror=function(n,o,r){var i=encodeURIComponent,t=+new Date();(new Image).src=e+\"?error=\"+i(n)+\"&file=\"+i(o)+\"&line=\"+i(r)+\"&timestamp=\"+t}})(window);</script>\\r\\n<title>宋记香辣蟹(日月光中心广场店)电话,地址,营业时间(图)-上海美食-大众点评网</title>\\r\\n<script>\\r\\n    document.documentElement.className = location.hash ? \\'J_H\\' : \\'\\';\\r\\n\\r\\n    !(function (win, doc, ns) {\\r\\n        var cacheFunName = \\'_MeiTuanALogObject\\';\\r\\n        win[cacheFunName] = ns;\\r\\n        if (!win[ns]) {\\r\\n            var _LX = function () {\\r\\n                _LX.q.push(arguments);\\r\\n                return _LX;\\r\\n            };\\r\\n            _LX.q = _LX.q || [];\\r\\n            _LX.l = +new Date();\\r\\n            win[ns] = _LX;\\r\\n        }\\r\\n    })(window, document, \\'LXAnalytics\\');\\r\\n\\r\\n    var G_rtop = +new Date,\\r\\n            _gaq = [\\r\\n                [\\'_setAccount\\', \\'UA-464026-1\\'],\\r\\n                [\\'_addOrganic\\', \\'soso\\', \\'w\\'],\\r\\n                [\\'_addOrganic\\', \\'sogou\\', \\'query\\'],\\r\\n                [\\'_addOrganic\\', \\'yodao\\', \\'q\\'],\\r\\n                [\\'_addOrganic\\', \\'bing\\', \\'q\\'],\\r\\n                [\\'_addOrganic\\', \\'360\\', \\'q\\'],\\r\\n                [\\'_addOrganic\\', \\'gougou\\', \\'search\\'],\\r\\n                [\\'_setDomainName\\', \\'.dianping.com\\']\\r\\n                ,\\r\\n                    [\\'_setAllowHash\\', false]\\r\\n                            ],\\r\\n            dpga = function (key) {\\r\\n                _gaq.push([\\'_trackPageview\\', key || \\'\\'])\\r\\n            },\\r\\n            pageTracker = {_trackPageview: dpga},\\r\\n            _hip = [\\r\\n                [\\'_setPageId\\', 12],\\r\\n                [\\'_setCityId\\', 1],\\r\\n                [\\'_setShopType\\', 10],\\r\\n                [\\'_setPVInitData\\', {p_render:+(new Date)-G_rtop}]\\r\\n            ];\\r\\n</script>\\r\\n<link rel=\"Shortcut Icon\" href=\"//www.dpfile.com/s/res/favicon.5ff777c11d7833e57e01c9d192b7e427.ico\" type=\"image/x-icon\" />\\r\\n<link rel=\"apple-touch-icon\" href=\"//www.dpfile.com/s/res/app-touch-icon.89213f53ed66e1693e4b6aeedd355349.png\">\\r\\n<link rel=\"apple-touch-icon\" sizes=\"76x76\" href=\"//www.dpfile.com/s/res/app-touch-icon-76x76.6399ce382f3e0584a6b07599cbeb3bcb.png\">\\r\\n<link rel=\"apple-touch-icon\" sizes=\"120x120\" href=\"//www.dpfile.com/s/res/app-touch-icon-120x120.067844b8518f076b154dcf793a46a0a5.png\">\\r\\n<link rel=\"apple-touch-icon\" sizes=\"152x152\" href=\"//www.dpfile.com/s/res/app-touch-icon-152x152.ee6d0c24fc2de0f9a62b6cc9e6720393.png\">\\r\\n<link rel=\"stylesheet\" href=\"//www.dpfile.com/mod/css-reset/1.0.0/css/index.css\" type=\"text/css\"/>\\r\\n<link rel=\"stylesheet\" href=\"//www.dpfile.com/concat/~mod~easy-login~0.4.20~css~style.css,~mod~mbox~1.0.3~css~mbox.css,~mod~easy-login~0.4.16~css~style.css,~mod~main-authbox~1.0.5~css~index.css,~mod~css-rating~1.0.2~css~index.css,~mod~main-authbox~1.0.4~css~index.css,~mod~app-main-shop-basicinfo-change~1.1.23~css~index.css,~mod~app-main-shop-remove~0.0.8~css~index.css,~mod~app-main-header-remove~1.4.8~css~footer.css,~mod~app-main-header-remove~1.4.8~css~goto_app.css,~mod~app-main-header-remove~1.4.8~css~index.css\" type=\"text/css\"/>\\n<link rel=\"canonical\" href=\"http://www.dianping.com/shop/16789967\"/>\\n<link rel=\"alternate\" media=\"only screen and (max-width: 640px)\"     href=\"http://m.dianping.com/shop/16789967\" >\\n<script type=\"text/javascript\">(function(){var g=[\"iPhone\",\"Android\",\"Windows Phone\"],b=\"https://m.dianping.com\",e=window.location.pathname+window.location.search,f=false;for(var d=0,a;a=g[d];d++){if(navigator.userAgent.indexOf(a)!=-1){f=true;break}}function h(){location.href=b+e}function c(){if(document.referrer.indexOf(b)==0){document.cookie=\"vmod=pc;expires=0;\"}return document.cookie.match(/vmod=pc/)}if(f){if(!c()){h()}}})();</script>\\n\\n\\n<meta name=\"Keywords\" content=\"宋记香辣蟹(日月光中心广场店),川菜/家常菜,上海,打浦桥,地址,电话,评论,网友点评,推荐菜,照片/图片,营业时间,公交信息\"/>\\n<meta name=\"Description\" content=\"上海宋记香辣蟹(日月光中心广场店):人均价格117元。进入宋记香辣蟹(日月光中心广场店)页面,查看更多关于宋记香辣蟹(日月光中心广场店)的地址、电话、菜单、价格、营业时间介绍,了解宋记香辣蟹(日月光中心广场店)最新的折扣优惠券、用户点评信息。\"/>\\n<meta name=\"location\" content=\"province=上海;city=上海;\">\\n<meta itemprop=\"name\" content=\"宋记香辣蟹\">\\n<meta itemprop=\"description\" content=\"宋记香辣蟹\">\\n<meta itemprop=\"image\" content=\"https://img.meituan.net/msmerchant/27d605cef06dce37764ef9571c066a67597629.jpg%40120w_90h_1e_1c_1l_80q%7Cwatermark%3D1%26%26r%3D1%26p%3D9%26x%3D2%26y%3D2%26relative%3D1%26o%3D20\">\\n<meta http-equiv=\"mobile-agent\" content=\"format=html5; url=http://m.dianping.com/shop/16789967\">\\n<div type=\"hide\" id=\"staticPage\" class=\"staticPage\"/>\\n    <script>\\n!function(e,t,n){function s(){var e=t.createElement(\"script\");e.async=!0,e.src=\"https://s0.meituan.net/bs/js/?f=mta-js:mta.min.js\";var n=t.getElementsByTagName(\"script\")[0];n.parentNode.insertBefore(e,n)}if(e.MeituanAnalyticsObject=n,e[n]=e[n]||function(){(e[n].q=e[n].q||[]).push(arguments)},\"complete\"===t.readyState)s();else{var r=\"addEventListener\",i=\"attachEvent\";if(e[r])e[r](\"load\",s,!1);else if(e[i])e[i](\"onload\",s);else{var a=e.onload;e.onload=function(){s(),a&&a()}}}}(window,document,\"mta\"),function(e,t,n){if(t&&!(\"_mta\"in t)){t._mta=!0;var s=e.location.protocol;if(\"file:\"!==s){var r=e.location.host,i=t.prototype.open;t.prototype.open=function(t,n,a,o,h){if(this._method=\"string\"==typeof t?t.toUpperCase():null,n){if(0===n.indexOf(\"http://\")||0===n.indexOf(\"https://\")||0===n.indexOf(\"//\"))this._url=n;else if(0===n.indexOf(\"/\"))this._url=s+\"//\"+r+n;else{var l=s+\"//\"+r+e.location.pathname;l=l.substring(0,l.lastIndexOf(\"/\")+1),this._url=l+n}var u=this._url.indexOf(\"?\");-1!==u?(this._searchLength=this._url.length-1-u,this._url=this._url.substring(0,u)):this._searchLength=0}else this._url=null,this._searchLength=0;return this._startTime=(new Date).getTime(),i.apply(this,arguments)};var a=\"onreadystatechange\",o=\"addEventListener\",h=t.prototype.send;t.prototype.send=function(t){function n(n,r){if(0!==n._url.indexOf(s+\"//frep.meituan.net/_.gif\")){for(var i=\"browser.ajax\",a=[98,114,111,119,115,101,114,46,97,106,97,120],o=0,h=i.length;h>o;o++)if(i.charCodeAt(o)!==a[o])return;var l;if(n.response)switch(n.responseType){case\"json\":l=JSON&&JSON.stringify(n.response).length;break;case\"blob\":case\"moz-blob\":l=n.response.size;break;case\"arraybuffer\":l=n.response.byteLength;case\"document\":l=n.response.documentElement&&n.response.documentElement.innerHTML&&n.response.documentElement.innerHTML.length+28;break;default:l=n.response.length}e.mta(\"send\",i,{url:n._url,method:n._method,error:!(0===n.status.toString().indexOf(\"2\")||304===n.status),responseTime:(new Date).getTime()-n._startTime,requestSize:n._searchLength+(t?t.length:0),responseSize:l||0})}}if(o in this){var r=function(e){n(this,e)};this[o](\"load\",r),this[o](\"error\",r),this[o](\"abort\",r)}else{var i=this[a];this[a]=function(t){i&&i.apply(this,arguments),4===this.readyState&&e.mta&&n(this,t)}}return h.apply(this,arguments)}}}}(window,window.XMLHttpRequest,\"mta\");\\n\\n// 初始化项目\\nmta(\"create\",\"583ebe0e3628a77c40686d20\");\\n// 推荐设置上报地址为 HTTPS 协议，以获得更高的数据准确性，默认会和页面协议一致\\nmta(\"config\", \"beaconImage\", \"https://frep.meituan.net/_.gif\");\\n\\n// 发送页面性能指标，包括 ttfb（首字节）、domReady（可交互）、load（完全加载）等\\nmta(\"send\",\"page\");\\n</script>\\n    <link rel=\"stylesheet\" href=\"//www.dpfile.com/app/app-pc-main-shop/static/main-shop.min.b641df2def713425b771b54edbd4f8fe.css\" type=\"text/css\" />\\n    <meta name=\"lx:category\" content=\"dianping_nova\">\\n    <meta name=\"lx:appnm\" content=\"dp_pc\">\\n    <meta name=\"lx:cid\" content=\"dp12\">\\n    <meta name=\"lx:autopv\" content=\"off\"/> \\n    <script type=\"text/javascript\">\\n    (function (win, doc, ns) {\\n        var cacheFunName = \\'_MeiTuanALogObject\\';\\n        win[cacheFunName] = ns;\\n        if (!win[ns]) {\\n            var _LX = function () {\\n                _LX.q.push(arguments);\\n                return _LX;\\n            };\\n            _LX.q = _LX.q || [];\\n            _LX.l = +new Date();\\n            win[ns] = _LX;\\n        }\\n    })(window, document, \\'LXAnalytics\\');\\n    var environment = {\\n        cityid: 1\\n    };\\n    LXAnalytics(\\'pageView\\', undefined , environment)\\n    </script>\\n    <script src=\"//analytics.meituan.net/analytics.js\" type=\"text/javascript\" charset=\"utf-8\" async defer></script>\\n<script>\\n    var rohrdata = \"\";\\n    var Rohr_Opt = new Object;\\n    Rohr_Opt.Flag = 100015;\\n    Rohr_Opt.LogVal = \"rohrdata\";\\n</script>\\n<script src=\"http://awp-assets.meituan.net/hfe/rohr/1.0.2/rohr.min.js\"></script>\\n\\r\\n</head>\\r\\n\\r\\n<body id=\"top\">\\r\\n\\r\\n<div id=\"site-nav\" class=\"site-nav\">\\r\\n<div class=\"container\" id=\"static_header_container_wya\">\\r\\n        <div class=\"group user-action J-user-action\">\\r\\n            <a class=\"item\" href=\"https://www.dianping.com/login\"\\r\\n               rel=\"nofollow\" onclick=\"LXAnalytics(\\'moduleClick\\', \\'hdlogin\\')\">点评账号登录</a>\\r\\n            <a class=\"item\" href=\"https://www.dianping.com/thirdconnect?do=l&ft=6&redir=\"\\r\\n               rel=\"nofollow\" onclick=\"LXAnalytics(\\'moduleClick\\', \\'hdloginqq\\')\">QQ登录</a>\\r\\n            <a class=\"item\" href=\"https://www.dianping.com/reg\"\\r\\n               rel=\"nofollow\" onclick=\"LXAnalytics(\\'moduleClick\\', \\'hdregister\\')\">注册</a>\\r\\n        </div>\\r\\n    <div class=\"group quick-menu\">\\r\\n        <a rel=\"nofollow\" onclick=\"LXAnalytics(\\'moduleClick\\', \\'hdaddreview\\')\" class=\"item left-split\"\\r\\n           href=\"//www.dianping.com/addreview/list\">写点评</a>\\r\\n        <a rel=\"nofollow\" onclick=\"LXAnalytics(\\'moduleClick\\', \\'hdaddpoi\\')\" class=\"item left-split\"\\r\\n           href=\"//www.dianping.com/addshop\">添加商户</a>\\r\\n        <a rel=\"nofollow\" onclick=\"LXAnalytics(\\'moduleClick\\', \\'hdshopowner\\')\"\\r\\n           class=\"item left-split J-shop-center-trigger\">我是商家<i class=\"icon i-arrow\"></i></a>\\r\\n        <a rel=\"nofollow\" onclick=\"LXAnalytics(\\'moduleClick\\', \\'hdfirm\\')\" class=\"item left-split\"\\r\\n           href=\"//b.dianping.com\">企业服务</a>\\r\\n        <a rel=\"nofollow\" onclick=\"LXAnalytics(\\'moduleClick\\', \\'hdagency\\')\"\\r\\n           class=\"item left-split J-agent-recruit-trigger\">代理商招募<i class=\"icon i-arrow\"></i></a>\\r\\n        <a rel=\"nofollow\" onclick=\"LXAnalytics(\\'moduleClick\\', \\'hddata\\')\" class=\"item left-split J-dp-index-trigger\">点评大数据<i\\r\\n                class=\"icon i-arrow\"></i></a>\\r\\n        <a rel=\"nofollow\" onclick=\"LXAnalytics(\\'moduleClick\\', \\'hdapp\\')\" class=\"item left-split\" id=\"J_mobile-page\"\\r\\n           href=\"//www.dianping.com/events/m/index.htm\">\\r\\n            <i class=\"icon i-mobile\"></i>手机版</a>\\r\\n        <a rel=\"nofollow\" class=\"item left-split\" href=\"//www.dianping.com/help\"\\r\\n           onclick=\"LXAnalytics(\\'moduleClick\\', \\'hdservice\\')\">服务中心</a>\\r\\n    </div>\\r\\n    <div class=\"panel my-center J-shop-center Hide\">\\r\\n        <a rel=\"nofollow\" href=\"//e.dianping.com\" target=\"_blank\">商户中心</a>\\r\\n        <a rel=\"nofollow\" href=\"//e.dianping.com/shopclaim/introduce/introducelogin\" target=\"_blank\">我想合作</a>\\r\\n        <a rel=\"nofollow\" href=\"//e.dianping.com/shopclaim/shopv\" target=\"_blank\">商户认证</a>\\r\\n    </div>\\r\\n    <div class=\"panel my-center J-dp-index Hide\">\\r\\n        <a rel=\"nofollow\" href=\"https://h5.dianping.com/app/app-bigdata2017/index.html\" target=\"_blank\">吃喝玩乐大数据</a>\\r\\n    </div>\\r\\n    <div class=\"panel my-center J-agent-recruit Hide\">\\r\\n        <a rel=\"nofollow\" href=\"https://daili.meituan.com/?comeFrom=dpwebMenu\" target=\"_blank\">餐饮代理商招募</a>\\r\\n        <a rel=\"nofollow\" href=\"//www.dianping.com/apollo/agent/index?source=dppc\" target=\"_blank\">非餐饮代理商招募</a>\\r\\n    </div>\\r\\n</div>\\r\\n\\r\\n</div>\\r\\n<div id=\"page-header\" class=\"page-header\">\\r\\n    <div class=\"container\">\\r\\n<a  onclick=\"pageTracker._trackPageview(\\'dp_head_logo_shanghai\\');\" title=\"大众点评网\" href=\"//www.dianping.com\"\\r\\n                                                                                  class=\"logo\"></a>\\r\\n    <a class=\"city J-city\">上海<i class=\"icon i-arrow\"></i></a>\\r\\n<div class=\"city-list J-city-list Hide\">\\r\\n            <div class=\"group clearfix\">\\r\\n                <h3 class=\"title\">华北东北：</h3>\\r\\n                    <a \\r\\n                       href=\"//www.dianping.com/beijing/food\"\\r\\n                         onclick=\"pageTracker._trackPageview(\\'dp_head_hotcity_beijing\\');\">北京</a>\\r\\n                    <a \\r\\n                       href=\"//www.dianping.com/tianjin/food\"\\r\\n                         onclick=\"pageTracker._trackPageview(\\'dp_head_hotcity_tianjin\\');\">天津</a>\\r\\n                    <a \\r\\n                       href=\"//www.dianping.com/shenyang/food\"\\r\\n                         onclick=\"pageTracker._trackPageview(\\'dp_head_hotcity_shenyang\\');\">沈阳</a>\\r\\n                    <a \\r\\n                       href=\"//www.dianping.com/dalian/food\"\\r\\n                         onclick=\"pageTracker._trackPageview(\\'dp_head_hotcity_dalian\\');\">大连</a>\\r\\n                    <a \\r\\n                       href=\"//www.dianping.com/changchun/food\"\\r\\n                         onclick=\"pageTracker._trackPageview(\\'dp_head_hotcity_changchun\\');\">长春</a>\\r\\n                    <a \\r\\n                       href=\"//www.dianping.com/haerbin/food\"\\r\\n                         onclick=\"pageTracker._trackPageview(\\'dp_head_hotcity_haerbin\\');\">哈尔滨</a>\\r\\n                    <a \\r\\n                       href=\"//www.dianping.com/shijiazhuang/food\"\\r\\n                         onclick=\"pageTracker._trackPageview(\\'dp_head_hotcity_shijiazhuang\\');\">石家庄</a>\\r\\n                    <a \\r\\n                       href=\"//www.dianping.com/taiyuan/food\"\\r\\n                         onclick=\"pageTracker._trackPageview(\\'dp_head_hotcity_taiyuan\\');\">太原</a>\\r\\n                    <a \\r\\n                       href=\"//www.dianping.com/huhehaote/food\"\\r\\n                         onclick=\"pageTracker._trackPageview(\\'dp_head_hotcity_huhehaote\\');\">呼和浩特</a>\\r\\n                    <a \\r\\n                       href=\"//www.dianping.com/langfang/food\"\\r\\n                         onclick=\"pageTracker._trackPageview(\\'dp_head_hotcity_langfang\\');\">廊坊</a>\\r\\n            </div>\\r\\n            <div class=\"group clearfix\">\\r\\n                <h3 class=\"title\">华东地区：</h3>\\r\\n                    <a \\r\\n                       href=\"//www.dianping.com/shanghai/food\"\\r\\n                         onclick=\"pageTracker._trackPageview(\\'dp_head_hotcity_shanghai\\');\">上海</a>\\r\\n                    <a \\r\\n                       href=\"//www.dianping.com/hangzhou/food\"\\r\\n                         onclick=\"pageTracker._trackPageview(\\'dp_head_hotcity_hangzhou\\');\">杭州</a>\\r\\n                    <a \\r\\n                       href=\"//www.dianping.com/nanjing/food\"\\r\\n                         onclick=\"pageTracker._trackPageview(\\'dp_head_hotcity_nanjing\\');\">南京</a>\\r\\n                    <a \\r\\n                       href=\"//www.dianping.com/suzhou/food\"\\r\\n                         onclick=\"pageTracker._trackPageview(\\'dp_head_hotcity_suzhou\\');\">苏州</a>\\r\\n                    <a \\r\\n                       href=\"//www.dianping.com/wuxi/food\"\\r\\n                         onclick=\"pageTracker._trackPageview(\\'dp_head_hotcity_wuxi\\');\">无锡</a>\\r\\n                    <a \\r\\n                       href=\"//www.dianping.com/jinan/food\"\\r\\n                         onclick=\"pageTracker._trackPageview(\\'dp_head_hotcity_jinan\\');\">济南</a>\\r\\n                    <a \\r\\n                       href=\"//www.dianping.com/xiamen/food\"\\r\\n                         onclick=\"pageTracker._trackPageview(\\'dp_head_hotcity_xiamen\\');\">厦门</a>\\r\\n                    <a \\r\\n                       href=\"//www.dianping.com/ningbo/food\"\\r\\n                         onclick=\"pageTracker._trackPageview(\\'dp_head_hotcity_ningbo\\');\">宁波</a>\\r\\n                    <a \\r\\n                       href=\"//www.dianping.com/fuzhou/food\"\\r\\n                         onclick=\"pageTracker._trackPageview(\\'dp_head_hotcity_fuzhou\\');\">福州</a>\\r\\n                    <a \\r\\n                       href=\"//www.dianping.com/qingdao/food\"\\r\\n                         onclick=\"pageTracker._trackPageview(\\'dp_head_hotcity_qingdao\\');\">青岛</a>\\r\\n                    <a \\r\\n                       href=\"//www.dianping.com/hefei/food\"\\r\\n                         onclick=\"pageTracker._trackPageview(\\'dp_head_hotcity_hefei\\');\">合肥</a>\\r\\n                    <a \\r\\n                       href=\"//www.dianping.com/changzhou/food\"\\r\\n                         onclick=\"pageTracker._trackPageview(\\'dp_head_hotcity_changzhou\\');\">常州</a>\\r\\n                    <a \\r\\n                       href=\"//www.dianping.com/yangzhou/food\"\\r\\n                         onclick=\"pageTracker._trackPageview(\\'dp_head_hotcity_yangzhou\\');\">扬州</a>\\r\\n                    <a \\r\\n                       href=\"//www.dianping.com/wenzhou/food\"\\r\\n                         onclick=\"pageTracker._trackPageview(\\'dp_head_hotcity_wenzhou\\');\">温州</a>\\r\\n                    <a \\r\\n                       href=\"//www.dianping.com/shaoxing/food\"\\r\\n                         onclick=\"pageTracker._trackPageview(\\'dp_head_hotcity_shaoxing\\');\">绍兴</a>\\r\\n                    <a \\r\\n                       href=\"//www.dianping.com/jiaxing/food\"\\r\\n                         onclick=\"pageTracker._trackPageview(\\'dp_head_hotcity_jiaxing\\');\">嘉兴</a>\\r\\n                    <a \\r\\n                       href=\"//www.dianping.com/yantai/food\"\\r\\n                         onclick=\"pageTracker._trackPageview(\\'dp_head_hotcity_yantai\\');\">烟台</a>\\r\\n                    <a \\r\\n                       href=\"//www.dianping.com/weihai/food\"\\r\\n                         onclick=\"pageTracker._trackPageview(\\'dp_head_hotcity_weihai\\');\">威海</a>\\r\\n                    <a \\r\\n                       href=\"//www.dianping.com/zhenjiang/food\"\\r\\n                         onclick=\"pageTracker._trackPageview(\\'dp_head_hotcity_zhenjiang\\');\">镇江</a>\\r\\n                    <a \\r\\n                       href=\"//www.dianping.com/nantong/food\"\\r\\n                         onclick=\"pageTracker._trackPageview(\\'dp_head_hotcity_nantong\\');\">南通</a>\\r\\n                    <a \\r\\n                       href=\"//www.dianping.com/jinhua/food\"\\r\\n                         onclick=\"pageTracker._trackPageview(\\'dp_head_hotcity_jinhua\\');\">金华</a>\\r\\n                    <a \\r\\n                       href=\"//www.dianping.com/xuzhou/food\"\\r\\n                         onclick=\"pageTracker._trackPageview(\\'dp_head_hotcity_xuzhou\\');\">徐州</a>\\r\\n                    <a \\r\\n                       href=\"//www.dianping.com/weifang/food\"\\r\\n                         onclick=\"pageTracker._trackPageview(\\'dp_head_hotcity_weifang\\');\">潍坊</a>\\r\\n                    <a \\r\\n                       href=\"//www.dianping.com/zibo/food\"\\r\\n                         onclick=\"pageTracker._trackPageview(\\'dp_head_hotcity_zibo\\');\">淄博</a>\\r\\n                    <a \\r\\n                       href=\"//www.dianping.com/linyi/food\"\\r\\n                         onclick=\"pageTracker._trackPageview(\\'dp_head_hotcity_linyi\\');\">临沂</a>\\r\\n                    <a \\r\\n                       href=\"//www.dianping.com/maanshan/food\"\\r\\n                         onclick=\"pageTracker._trackPageview(\\'dp_head_hotcity_maanshan\\');\">马鞍山</a>\\r\\n                    <a \\r\\n                       href=\"//www.dianping.com/zhejiangtaizhou/food\"\\r\\n                         onclick=\"pageTracker._trackPageview(\\'dp_head_hotcity_zhejiangtaizhou\\');\">台州</a>\\r\\n                    <a \\r\\n                       href=\"//www.dianping.com/taizhou/food\"\\r\\n                         onclick=\"pageTracker._trackPageview(\\'dp_head_hotcity_taizhou\\');\">泰州</a>\\r\\n                    <a \\r\\n                       href=\"//www.dianping.com/jining/food\"\\r\\n                         onclick=\"pageTracker._trackPageview(\\'dp_head_hotcity_jining\\');\">济宁</a>\\r\\n                    <a \\r\\n                       href=\"//www.dianping.com/taian/food\"\\r\\n                         onclick=\"pageTracker._trackPageview(\\'dp_head_hotcity_taian\\');\">泰安</a>\\r\\n            </div>\\r\\n            <div class=\"group clearfix\">\\r\\n                <h3 class=\"title\">中部西部：</h3>\\r\\n                    <a \\r\\n                       href=\"//www.dianping.com/chengdu/food\"\\r\\n                         onclick=\"pageTracker._trackPageview(\\'dp_head_hotcity_chengdu\\');\">成都</a>\\r\\n                    <a \\r\\n                       href=\"//www.dianping.com/wuhan/food\"\\r\\n                         onclick=\"pageTracker._trackPageview(\\'dp_head_hotcity_wuhan\\');\">武汉</a>\\r\\n                    <a \\r\\n                       href=\"//www.dianping.com/zhengzhou/food\"\\r\\n                         onclick=\"pageTracker._trackPageview(\\'dp_head_hotcity_zhengzhou\\');\">郑州</a>\\r\\n                    <a \\r\\n                       href=\"//www.dianping.com/changsha/food\"\\r\\n                         onclick=\"pageTracker._trackPageview(\\'dp_head_hotcity_changsha\\');\">长沙</a>\\r\\n                    <a \\r\\n                       href=\"//www.dianping.com/nanchang/food\"\\r\\n                         onclick=\"pageTracker._trackPageview(\\'dp_head_hotcity_nanchang\\');\">南昌</a>\\r\\n                    <a \\r\\n                       href=\"//www.dianping.com/guiyang/food\"\\r\\n                         onclick=\"pageTracker._trackPageview(\\'dp_head_hotcity_guiyang\\');\">贵阳</a>\\r\\n                    <a \\r\\n                       href=\"//www.dianping.com/xining/food\"\\r\\n                         onclick=\"pageTracker._trackPageview(\\'dp_head_hotcity_xining\\');\">西宁</a>\\r\\n                    <a \\r\\n                       href=\"//www.dianping.com/chongqing/food\"\\r\\n                         onclick=\"pageTracker._trackPageview(\\'dp_head_hotcity_chongqing\\');\">重庆</a>\\r\\n                    <a \\r\\n                       href=\"//www.dianping.com/xian/food\"\\r\\n                         onclick=\"pageTracker._trackPageview(\\'dp_head_hotcity_xian\\');\">西安</a>\\r\\n                    <a \\r\\n                       href=\"//www.dianping.com/kunming/food\"\\r\\n                         onclick=\"pageTracker._trackPageview(\\'dp_head_hotcity_kunming\\');\">昆明</a>\\r\\n                    <a \\r\\n                       href=\"//www.dianping.com/lanzhou/food\"\\r\\n                         onclick=\"pageTracker._trackPageview(\\'dp_head_hotcity_lanzhou\\');\">兰州</a>\\r\\n                    <a \\r\\n                       href=\"//www.dianping.com/wulumuqi/food\"\\r\\n                         onclick=\"pageTracker._trackPageview(\\'dp_head_hotcity_wulumuqi\\');\">乌鲁木齐</a>\\r\\n                    <a \\r\\n                       href=\"//www.dianping.com/yinchuan/food\"\\r\\n                         onclick=\"pageTracker._trackPageview(\\'dp_head_hotcity_yinchuan\\');\">银川</a>\\r\\n            </div>\\r\\n            <div class=\"group clearfix\">\\r\\n                <h3 class=\"title\">华南地区：</h3>\\r\\n                    <a \\r\\n                       href=\"//www.dianping.com/guangzhou/food\"\\r\\n                         onclick=\"pageTracker._trackPageview(\\'dp_head_hotcity_guangzhou\\');\">广州</a>\\r\\n                    <a \\r\\n                       href=\"//www.dianping.com/shenzhen/food\"\\r\\n                         onclick=\"pageTracker._trackPageview(\\'dp_head_hotcity_shenzhen\\');\">深圳</a>\\r\\n                    <a \\r\\n                       href=\"//www.dianping.com/foshan/food\"\\r\\n                         onclick=\"pageTracker._trackPageview(\\'dp_head_hotcity_foshan\\');\">佛山</a>\\r\\n                    <a \\r\\n                       href=\"//www.dianping.com/zhuhai/food\"\\r\\n                         onclick=\"pageTracker._trackPageview(\\'dp_head_hotcity_zhuhai\\');\">珠海</a>\\r\\n                    <a \\r\\n                       href=\"//www.dianping.com/dongguan/food\"\\r\\n                         onclick=\"pageTracker._trackPageview(\\'dp_head_hotcity_dongguan\\');\">东莞</a>\\r\\n                    <a \\r\\n                       href=\"//www.dianping.com/sanya/food\"\\r\\n                         onclick=\"pageTracker._trackPageview(\\'dp_head_hotcity_sanya\\');\">三亚</a>\\r\\n                    <a \\r\\n                       href=\"//www.dianping.com/haikou/food\"\\r\\n                         onclick=\"pageTracker._trackPageview(\\'dp_head_hotcity_haikou\\');\">海口</a>\\r\\n                    <a \\r\\n                       href=\"//www.dianping.com/nanning/food\"\\r\\n                         onclick=\"pageTracker._trackPageview(\\'dp_head_hotcity_nanning\\');\">南宁</a>\\r\\n                    <a \\r\\n                       href=\"//www.dianping.com/huizhou/food\"\\r\\n                         onclick=\"pageTracker._trackPageview(\\'dp_head_hotcity_huizhou\\');\">惠州</a>\\r\\n            </div>\\r\\n            <div class=\"group clearfix\">\\r\\n                <h3 class=\"title\">国外热门：</h3>\\r\\n                    <a \\r\\n                       href=\"//www.dianping.com/tokyo/food\"\\r\\n                         onclick=\"pageTracker._trackPageview(\\'dp_head_hotcity_tokyo\\');\">东京</a>\\r\\n                    <a \\r\\n                       href=\"//www.dianping.com/seoul/food\"\\r\\n                         onclick=\"pageTracker._trackPageview(\\'dp_head_hotcity_seoul\\');\">首尔</a>\\r\\n                    <a \\r\\n                       href=\"//www.dianping.com/bangkok/food\"\\r\\n                         onclick=\"pageTracker._trackPageview(\\'dp_head_hotcity_bangkok\\');\">曼谷</a>\\r\\n                    <a \\r\\n                       href=\"//www.dianping.com/singapore/food\"\\r\\n                         onclick=\"pageTracker._trackPageview(\\'dp_head_hotcity_singapore\\');\">新加坡</a>\\r\\n                    <a \\r\\n                       href=\"//www.dianping.com/kualalumpur/food\"\\r\\n                         onclick=\"pageTracker._trackPageview(\\'dp_head_hotcity_kualalumpur\\');\">吉隆坡</a>\\r\\n                    <a \\r\\n                       href=\"//www.dianping.com/melbourne/food\"\\r\\n                         onclick=\"pageTracker._trackPageview(\\'dp_head_hotcity_melbourne\\');\">墨尔本</a>\\r\\n                    <a \\r\\n                       href=\"//www.dianping.com/kyoto/food\"\\r\\n                         onclick=\"pageTracker._trackPageview(\\'dp_head_hotcity_kyoto\\');\">京都</a>\\r\\n                    <a \\r\\n                       href=\"//www.dianping.com/osaka/food\"\\r\\n                         onclick=\"pageTracker._trackPageview(\\'dp_head_hotcity_osaka\\');\">大阪</a>\\r\\n                    <a \\r\\n                       href=\"//www.dianping.com/hokkaido/food\"\\r\\n                         onclick=\"pageTracker._trackPageview(\\'dp_head_hotcity_hokkaido\\');\">北海道</a>\\r\\n                    <a \\r\\n                       href=\"//www.dianping.com/chiangmai/food\"\\r\\n                         onclick=\"pageTracker._trackPageview(\\'dp_head_hotcity_chiangmai\\');\">清迈</a>\\r\\n                    <a \\r\\n                       href=\"//www.dianping.com/pattaya/food\"\\r\\n                         onclick=\"pageTracker._trackPageview(\\'dp_head_hotcity_pattaya\\');\">芭堤雅</a>\\r\\n                    <a \\r\\n                       href=\"//www.dianping.com/phuket/food\"\\r\\n                         onclick=\"pageTracker._trackPageview(\\'dp_head_hotcity_phuket\\');\">普吉岛</a>\\r\\n                    <a \\r\\n                       href=\"//www.dianping.com/jeju/food\"\\r\\n                         onclick=\"pageTracker._trackPageview(\\'dp_head_hotcity_jeju\\');\">济州岛</a>\\r\\n                    <a \\r\\n                       href=\"//www.dianping.com/boracay/food\"\\r\\n                         onclick=\"pageTracker._trackPageview(\\'dp_head_hotcity_boracay\\');\">长滩岛</a>\\r\\n                    <a \\r\\n                       href=\"//www.dianping.com/bali/food\"\\r\\n                         onclick=\"pageTracker._trackPageview(\\'dp_head_hotcity_bali\\');\">巴厘岛</a>\\r\\n                    <a \\r\\n                       href=\"//www.dianping.com/sabah/food\"\\r\\n                         onclick=\"pageTracker._trackPageview(\\'dp_head_hotcity_sabah\\');\">沙巴</a>\\r\\n                    <a \\r\\n                       href=\"//www.dianping.com/NewYorkCity/food\"\\r\\n                         onclick=\"pageTracker._trackPageview(\\'dp_head_hotcity_NewYorkCity\\');\">纽约市</a>\\r\\n                    <a \\r\\n                       href=\"//www.dianping.com/losangeles/food\"\\r\\n                         onclick=\"pageTracker._trackPageview(\\'dp_head_hotcity_losangeles\\');\">洛杉矶</a>\\r\\n                    <a \\r\\n                       href=\"//www.dianping.com/paris/food\"\\r\\n                         onclick=\"pageTracker._trackPageview(\\'dp_head_hotcity_paris\\');\">巴黎</a>\\r\\n                    <a \\r\\n                       href=\"//www.dianping.com/london/food\"\\r\\n                         onclick=\"pageTracker._trackPageview(\\'dp_head_hotcity_london\\');\">伦敦</a>\\r\\n                    <a \\r\\n                       href=\"//www.dianping.com/sydney/food\"\\r\\n                         onclick=\"pageTracker._trackPageview(\\'dp_head_hotcity_sydney\\');\">悉尼</a>\\r\\n                    <a \\r\\n                       href=\"//www.dianping.com/auckland/food\"\\r\\n                         onclick=\"pageTracker._trackPageview(\\'dp_head_hotcity_auckland\\');\">奥克兰</a>\\r\\n            </div>\\r\\n            <div class=\"group clearfix\">\\r\\n                <h3 class=\"title\">港澳台：</h3>\\r\\n                    <a \\r\\n                       href=\"//www.dianping.com/hongkong/food\"\\r\\n                         onclick=\"pageTracker._trackPageview(\\'dp_head_hotcity_hongkong\\');\">香港</a>\\r\\n                    <a \\r\\n                       href=\"//www.dianping.com/macau/food\"\\r\\n                         onclick=\"pageTracker._trackPageview(\\'dp_head_hotcity_macau\\');\">澳门</a>\\r\\n                    <a \\r\\n                       href=\"//www.dianping.com/taipei/food\"\\r\\n                         onclick=\"pageTracker._trackPageview(\\'dp_head_hotcity_taipei\\');\">台北</a>\\r\\n                    <a \\r\\n                       href=\"//www.dianping.com/kaohsiung/food\"\\r\\n                         onclick=\"pageTracker._trackPageview(\\'dp_head_hotcity_kaohsiung\\');\">高雄</a>\\r\\n                    <a \\r\\n                       href=\"//www.dianping.com/kenting/food\"\\r\\n                         onclick=\"pageTracker._trackPageview(\\'dp_head_hotcity_kenting\\');\">垦丁</a>\\r\\n                    <a \\r\\n                       href=\"//www.dianping.com/hualien/food\"\\r\\n                         onclick=\"pageTracker._trackPageview(\\'dp_head_hotcity_hualien\\');\">花莲</a>\\r\\n            </div>\\r\\n    <a class=\"all\"\\r\\n       href=\"//www.dianping.com/citylist\"  onclick=\"pageTracker._trackPageview(\\'dp_head_othercity_shanghai\\');\">全部城市</a>\\r\\n</div>\\r\\n<div class=\"search-bar\">\\r\\n    <input onfocus=\"LXAnalytics(\\'moduleClick\\', \\'search\\');\" class=\"J-search-input\" id=\"G_s\" x-webkit-speech=\"\"\\r\\n           x-webkit-grammar=\"builtin:translate\"\\r\\n            data-s-pattern=\"//www.dianping.com/search/keyword/{0}/{1}_\" data-s-epattern=\"//www.dianping.com/search/category/{0}/{1}\"\\r\\n \\r\\n           data-s-cateid=\"0\"\\r\\n           data-s-cityid=\"1\"\\r\\n           data-s-chanid=\"1000\"\\r\\n           \\r\\n           type=\"text\" placeholder=\"搜索商户名、地址、菜名、外卖等\" autocomplete=\"off\"\\r\\n onwebkitspeechchange=\"pageTracker._trackPageview(\\'dp_head_kerword_voice_shanghai\\');\"/>\\r\\n    <a class=\"search-btn J-search-btn\" id=\"G_s-btn\"><i class=\"icon i-search\"></i></a>\\r\\n</div>\\r\\n    </div>\\r\\n</div>\\r\\n<div id=\"main-nav\" class=\"main-nav\">\\r\\n    <div class=\"container\">\\r\\n    <a class=\"current-category J-current-category\">美食<i class=\"icon\"></i></a>\\r\\n    <div class=\"channel-nav clearfix\">\\r\\n        <a href=\"//www.dianping.com\" onclick=\"LXAnalytics(\\'moduleClick\\', \\'tlmain\\')\">首页</a>\\r\\n            <a onclick=\"LXAnalytics(\\'moduleClick\\', \\'tltuan\\')\"\\r\\n                target=\"_blank\"\\r\\n               href=\"http://t.dianping.com/shanghai\">团购</a>\\r\\n            <a onclick=\"LXAnalytics(\\'moduleClick\\', \\'tlwealfare\\')\"\\r\\n               \\r\\n               href=\"//www.dianping.com/coupon/shanghai\">找优惠</a>\\r\\n            <a onclick=\"LXAnalytics(\\'moduleClick\\', \\'tlbook\\');_hip.push([\\'mv\\', { module: \\'2_click_yychanneltab\\', action: \\'click\\'}])\"\\r\\n               \\r\\n               href=\"//www.dianping.com/reservation/channel/shanghai\">订座</a>\\r\\n            <a onclick=\"LXAnalytics(\\'moduleClick\\', \\'tltongcheng\\')\"\\r\\n               \\r\\n               href=\"http://s.dianping.com/event/shanghai\">同城活动</a>\\r\\n            <a onclick=\"LXAnalytics(\\'moduleClick\\', \\'tlcommunity\\')\"\\r\\n               \\r\\n               href=\"http://s.dianping.com/shanghai/group\">社区</a>\\r\\n    </div>\\r\\n<ul class=\"category-nav J-category-nav Hide\">\\r\\n        <li class=\"primary-category J-primary-category\" data-key=\"10\">\\r\\n            <a class=\"name\"  onclick=\"pageTracker._trackPageview(\\'dp_head_shanghai_food\\');\"\\r\\n               href=\"//www.dianping.com/shanghai/food\"\\r\\n               alt=\"\">美食</a>\\r\\n                <a class=\"item\"  onclick=\"pageTracker._trackPageview(\\'dp_head_shanghai_food_fenlei1\\');\"\\r\\n                   href=\"//www.dianping.com/search/category/1/10/g1783\"\\r\\n                   alt=\"\">家常菜</a>\\r\\n                <a class=\"item\"  onclick=\"pageTracker._trackPageview(\\'dp_head_shanghai_food_fenlei2\\');\"\\r\\n                   href=\"//www.dianping.com/search/category/1/10/g101\"\\r\\n                   alt=\"\">本帮江浙菜</a>\\r\\n            <i class=\"icon i-arrow\"></i>\\r\\n            <div class=\"secondary-category J-secondary-category\">\\r\\n                <a  onclick=\"pageTracker._trackPageview(\\'dp_head_shanghai_food_index\\');\"\\r\\n                        href=\"//www.dianping.com/shanghai/food\"\\r\\n                        alt=\"\">美食频道</a>\\r\\n                    <a data-key=\"1783\"  onclick=\"pageTracker._trackPageview(\\'dp_head_shanghai_food_fenlei1\\');\"\\r\\n                       href=\"//www.dianping.com/search/category/1/10/g1783\"\\r\\n                       alt=\"\">家常菜</a>\\r\\n                    <a data-key=\"101\"  onclick=\"pageTracker._trackPageview(\\'dp_head_shanghai_food_fenlei2\\');\"\\r\\n                       href=\"//www.dianping.com/search/category/1/10/g101\"\\r\\n                       alt=\"\">本帮江浙菜</a>\\r\\n                    <a data-key=\"203\"  onclick=\"pageTracker._trackPageview(\\'dp_head_shanghai_food_fenlei3\\');\"\\r\\n                       href=\"//www.dianping.com/search/category/1/10/g203\"\\r\\n                       alt=\"\">蟹宴</a>\\r\\n                    <a data-key=\"102\"  onclick=\"pageTracker._trackPageview(\\'dp_head_shanghai_food_fenlei4\\');\"\\r\\n                       href=\"//www.dianping.com/search/category/1/10/g102\"\\r\\n                       alt=\"\">川菜</a>\\r\\n                    <a data-key=\"251\"  onclick=\"pageTracker._trackPageview(\\'dp_head_shanghai_food_fenlei5\\');\"\\r\\n                       href=\"//www.dianping.com/search/category/1/10/g251\"\\r\\n                       alt=\"\">海鲜</a>\\r\\n                    <a data-key=\"103\"  onclick=\"pageTracker._trackPageview(\\'dp_head_shanghai_food_fenlei6\\');\"\\r\\n                       href=\"//www.dianping.com/search/category/1/10/g103\"\\r\\n                       alt=\"\">粤菜</a>\\r\\n                    <a data-key=\"104\"  onclick=\"pageTracker._trackPageview(\\'dp_head_shanghai_food_fenlei7\\');\"\\r\\n                       href=\"//www.dianping.com/search/category/1/10/g104\"\\r\\n                       alt=\"\">湘菜</a>\\r\\n                    <a data-key=\"247\"  onclick=\"pageTracker._trackPageview(\\'dp_head_shanghai_food_fenlei8\\');\"\\r\\n                       href=\"//www.dianping.com/search/category/1/10/g247\"\\r\\n                       alt=\"\">江西菜</a>\\r\\n                    <a data-key=\"106\"  onclick=\"pageTracker._trackPageview(\\'dp_head_shanghai_food_fenlei9\\');\"\\r\\n                       href=\"//www.dianping.com/search/category/1/10/g106\"\\r\\n                       alt=\"\">东北菜</a>\\r\\n                    <a data-key=\"105\"  onclick=\"pageTracker._trackPageview(\\'dp_head_shanghai_food_fenlei10\\');\"\\r\\n                       href=\"//www.dianping.com/search/category/1/10/g105\"\\r\\n                       alt=\"\">贵州菜</a>\\r\\n                    <a data-key=\"215\"  onclick=\"pageTracker._trackPageview(\\'dp_head_shanghai_food_fenlei11\\');\"\\r\\n                       href=\"//www.dianping.com/search/category/1/10/g215\"\\r\\n                       alt=\"\">面馆</a>\\r\\n                    <a data-key=\"107\"  onclick=\"pageTracker._trackPageview(\\'dp_head_shanghai_food_fenlei12\\');\"\\r\\n                       href=\"//www.dianping.com/search/category/1/10/g107\"\\r\\n                       alt=\"\">台湾菜</a>\\r\\n                    <a data-key=\"3243\"  onclick=\"pageTracker._trackPageview(\\'dp_head_shanghai_food_fenlei13\\');\"\\r\\n                       href=\"//www.dianping.com/search/category/1/10/g3243\"\\r\\n                       alt=\"\">新疆菜</a>\\r\\n                    <a data-key=\"26481\"  onclick=\"pageTracker._trackPageview(\\'dp_head_shanghai_food_fenlei14\\');\"\\r\\n                       href=\"//www.dianping.com/search/category/1/10/g26481\"\\r\\n                       alt=\"\">西北菜</a>\\r\\n                    <a data-key=\"109\"  onclick=\"pageTracker._trackPageview(\\'dp_head_shanghai_food_fenlei15\\');\"\\r\\n                       href=\"//www.dianping.com/search/category/1/10/g109\"\\r\\n                       alt=\"\">素菜</a>\\r\\n                    <a data-key=\"508\"  onclick=\"pageTracker._trackPageview(\\'dp_head_shanghai_food_fenlei16\\');\"\\r\\n                       href=\"//www.dianping.com/search/category/1/10/g508\"\\r\\n                       alt=\"\">烧烤</a>\\r\\n                    <a data-key=\"132\"  onclick=\"pageTracker._trackPageview(\\'dp_head_shanghai_food_fenlei17\\');\"\\r\\n                       href=\"//www.dianping.com/search/category/1/10/g132\"\\r\\n                       alt=\"\">咖啡厅</a>\\r\\n                    <a data-key=\"110\"  onclick=\"pageTracker._trackPageview(\\'dp_head_shanghai_food_fenlei18\\');\"\\r\\n                       href=\"//www.dianping.com/search/category/1/10/g110\"\\r\\n                       alt=\"\">火锅</a>\\r\\n                    <a data-key=\"219\"  onclick=\"pageTracker._trackPageview(\\'dp_head_shanghai_food_fenlei19\\');\"\\r\\n                       href=\"//www.dianping.com/search/category/1/10/g219\"\\r\\n                       alt=\"\">小龙虾</a>\\r\\n                    <a data-key=\"111\"  onclick=\"pageTracker._trackPageview(\\'dp_head_shanghai_food_fenlei20\\');\"\\r\\n                       href=\"//www.dianping.com/search/category/1/10/g111\"\\r\\n                       alt=\"\">自助餐</a>\\r\\n                    <a data-key=\"112\"  onclick=\"pageTracker._trackPageview(\\'dp_head_shanghai_food_fenlei21\\');\"\\r\\n                       href=\"//www.dianping.com/search/category/1/10/g112\"\\r\\n                       alt=\"\">小吃快餐</a>\\r\\n                    <a data-key=\"113\"  onclick=\"pageTracker._trackPageview(\\'dp_head_shanghai_food_fenlei22\\');\"\\r\\n                       href=\"//www.dianping.com/search/category/1/10/g113\"\\r\\n                       alt=\"\">日本菜</a>\\r\\n                    <a data-key=\"114\"  onclick=\"pageTracker._trackPageview(\\'dp_head_shanghai_food_fenlei23\\');\"\\r\\n                       href=\"//www.dianping.com/search/category/1/10/g114\"\\r\\n                       alt=\"\">韩国料理</a>\\r\\n                    <a data-key=\"115\"  onclick=\"pageTracker._trackPageview(\\'dp_head_shanghai_food_fenlei24\\');\"\\r\\n                       href=\"//www.dianping.com/search/category/1/10/g115\"\\r\\n                       alt=\"\">东南亚菜</a>\\r\\n                    <a data-key=\"116\"  onclick=\"pageTracker._trackPageview(\\'dp_head_shanghai_food_fenlei25\\');\"\\r\\n                       href=\"//www.dianping.com/search/category/1/10/g116\"\\r\\n                       alt=\"\">西餐</a>\\r\\n                    <a data-key=\"117\"  onclick=\"pageTracker._trackPageview(\\'dp_head_shanghai_food_fenlei26\\');\"\\r\\n                       href=\"//www.dianping.com/search/category/1/10/g117\"\\r\\n                       alt=\"\">面包甜点</a>\\r\\n                    <a data-key=\"248\"  onclick=\"pageTracker._trackPageview(\\'dp_head_shanghai_food_fenlei27\\');\"\\r\\n                       href=\"//www.dianping.com/search/category/1/10/g248\"\\r\\n                       alt=\"\">云南菜</a>\\r\\n                    <a data-key=\"118\"  onclick=\"pageTracker._trackPageview(\\'dp_head_shanghai_food_fenlei28\\');\"\\r\\n                       href=\"//www.dianping.com/search/category/1/10/g118\"\\r\\n                       alt=\"\">其他</a>\\r\\n            </div>\\r\\n        </li>\\r\\n</ul>\\r\\n    </div>\\r\\n</div>\\r\\n\\r\\n<div class=\"bottom-contrainer\">\\r\\n    <div class=\"bottom-ad\">\\r\\n        <a class=\"ad-link\"\\r\\n           onClick=\"_hip.push([\\'mv\\', {module:\\'globebanner_below\\',action:\\'click\\',pageId:\\'12\\'}])\" href=\"\"></a>\\r\\n        <div class=\"qrcode\">\\r\\n            <span class=\"qrcode-txt\">扫一扫</span>\\r\\n            <div class=\"qrcode-img\"></div>\\r\\n        </div>\\r\\n        <div class=\"bottom-close\"></div>\\r\\n    </div>\\r\\n    <div class=\"bottom-bg\"></div>\\r\\n</div>\\r\\n\\r\\n<div class=\"bottom-collspan collspan-hide\">\\r\\n    <img class=\"collspan-img\"/>\\r\\n    <div class=\"collspan\"></div>\\r\\n</div>\\r\\n\\r\\n\\n<div id=\"body\" class=\"body\">\\n    <div class=\"body-bg\"></div>\\n    <div class=\"body-content clearfix\">\\n<div class=\"breadcrumb\">\\n        <a href=\"http://www.dianping.com/shanghai/food\" itemprop=\"url\">\\n            上海餐厅\\n        </a>\\n        &gt;\\n        <a href=\"http://www.dianping.com/search/category/1/10/r838\" itemprop=\"url\">\\n            打浦桥\\n        </a>\\n        &gt;\\n        <a href=\"http://www.dianping.com/search/category/1/10/g102r838\" itemprop=\"url\">\\n            川菜\\n        </a>\\n        &gt;\\n        <a href=\"http://www.dianping.com/search/category/1/10/g4467r838\" itemprop=\"url\">\\n            川菜/家常菜\\n        </a>\\n        &gt;\\n    <span>宋记香辣蟹(日月光中心广场店)</span>\\n</div>\\n        <div class=\"main\">\\n<div id=\"basic-info\" class=\"basic-info default nug_shop_ab_pv-a\">\\n<s class=\"cover J_cover\"></s>\\n<h1 class=\"shop-name\">\\n宋记香辣蟹(日月光中心广场店)\\n<a class=\"qr-contrainer\" href=\"http://www.dianping.com/events/m/index.htm\"  onclick=\"_hip.push([\\'mv\\', { module: \\'shopinfo_hoverQR\\', action: \\'click\\'}])\">\\n    <div class=\"phone-qr\"></div>\\n    <div class=\"qr-code\">\\n    <div id=\"qrcode\" class=\"code\">\\n        <div class=\"code-img\"></div>\\n      </div>\\n    </div>\\n</a>\\n    <a class=\"branch J-branch\">其它8家分店<i class=\"icon i-arrow\"></i></a>\\n</h1>\\n<div class=\"brief-info\">\\n    <span title=\"准五星商户\" class=\"mid-rank-stars mid-str45\"></span>\\n    <span id=\"reviewCount\" class=\"item\">21827条评论</span>\\n\\n    <div class=\"star-from-desc J-star-from-desc Hide\">星级来自业内综合评估<i class=\"icon\"></i></div>\\n    <span id=\"avgPriceTitle\" class=\"item\">人均：117元</span>\\n    <span id=\"comment_score\">\\n\\t    |\\n\\t        <span class=\"item\">口味：8.4</span>\\n|\\n\\t        <span class=\"item\">环境：8.5</span>\\n|\\n\\t        <span class=\"item\">服务：8.5</span>\\n    </span>\\n        <a class=\"icon score-btn J-score\"></a>\\n</div>\\n<div class=\"expand-info address\" itemprop=\"street-address\">\\n    <span class=\"info-name\">地址：</span>\\n<a href=\"/search/category/1/10/r\" rel=\"nofollow\" target=\"_blank\">\\n    <span itemprop=\"locality region\"></span></a>\\n    <span class=\"item\" itemprop=\"street-address\" title=\"徐家汇路618号日月光中心广场4楼(地铁九号线打浦桥站)\">\\n    徐家汇路618号日月光中心广场4楼(地铁九号线打浦桥站)\\n    </span>\\n</div>\\n<p class=\"expand-info tel\">\\n    <span class=\"info-name\">电话：</span>\\n        <span class=\"item\" itemprop=\"tel\">021-64172698</span>\\n</p>\\n\\t<div class=\"promosearch-wrapper\"></div> \\n<a class=\"J-unfold unfold\">更多信息<i class=\"icon\"></i></a>\\n<div class=\"other J-other Hide\">\\n    <p class=\"info info-indent\">\\n\\n        <span class=\"info-name\">营业时间：</span>\\n                <span class=\"item\">\\n                    周一至周日\\n11:00-15:00\\n17:00-21:30\\n                </span>\\n        <a class=\"item-gray\" href=\"/shop/16789967/edit\" target=\"_blank\">\\n            修改\\n        </a>\\n    </p>\\n    \\n   <div id=\"license-wrappper\"></div> \\n\\n    <p class=\"info J-feature Hide\"></p>\\n    <p id=\"park\" class=\"info info-indent J-park Hide\"></p>\\n\\n        <p class=\"info info-indent\">\\n            <span class=\"info-name\">餐厅简介：</span>曾经一度很辉煌，但“现在和以前是不能比了”。其实香辣蟹依然“挺赞”的，烧得“很入味”，而且里面的笋干和年糕也“蛮好吃”。另外香辣虾也不错，只是配料“和香辣蟹差不多”。生意还可以。\\n        </p>\\n    <div id=\"tips-wrapper\"></div>  \\n</div>\\n\\n<div class=\"action\">\\n    <a class=\"write left-action\" href=\"/shop/16789967/review\" target=\"_blank\" rel=\"nofollow\"> <i class=\"icon\"></i><span id=\"dpReviewBtn\">写点评</span></a>\\n    <div id=\"booking-wrapper\"></div>\\n    <span class=\"right-action\">\\n                <a class=\"share J-weixin\" rel=\"nofollow\" title=\"微信分享\"><i class=\"icon\"></i></a>\\n                <a id=\"fav\" class=\"favorite J-favorite\" rel=\"nofollow\" title=\"收藏\"><i class=\"icon\"></i></a>\\n                <a class=\"report\" title=\"报错\" href=\"/shop/16789967/edit\" rel=\"nofollow\" target=\"_blank\"><i class=\"icon\"></i></a>\\n                <a class=\"action-more J-action-more\"><i class=\"icon\"></i></a>\\n                <div class=\"shop-action-more-list J-action-more-list Hide\">\\n                    <a href=\"/upload/shop/16789967\" target=\"_blank\">添加图片</a>\\n                    <i class=\"arrow\"></i>\\n                </div>\\n            </span>\\n</div>\\n\\n    <div id=\"tuiguangAd-wrapper\">\\n    </div>\\n</div>\\n<div id=\"shop-branchs\" class=\"shop-branchs Hide\">\\n    <div class=\"item\">\\n        <h3 class=\"name\">\\n            <a href=\"/shop/68066861\">\\n                七宝万科广场店\\n            </a>\\n           \\n        </h3>\\n        <p class=\"address\">\\n            <span class=\"sml-rank-stars sml-str45\"></span>\\n        漕宝路3366号七宝万科广场5层507\\n        </p>\\n    </div>\\n    <div class=\"item\">\\n        <h3 class=\"name\">\\n            <a href=\"/shop/501135\">\\n                曹家渡店\\n            </a>\\n           \\n        </h3>\\n        <p class=\"address\">\\n            <span class=\"sml-rank-stars sml-str40\"></span>\\n        万航渡后路19号2楼\\n        </p>\\n    </div>\\n    <div class=\"item\">\\n        <h3 class=\"name\">\\n            <a href=\"/shop/9949077\">\\n                世纪联华店\\n            </a>\\n           \\n        </h3>\\n        <p class=\"address\">\\n            <span class=\"sml-rank-stars sml-str30\"></span>\\n        城中北路800号\\n        </p>\\n    </div>\\n    <div class=\"item\">\\n        <h3 class=\"name\">\\n            <a href=\"/shop/83524961\">\\n                云端赛跑陆家嘴店\\n            </a>\\n           \\n        </h3>\\n        <p class=\"address\">\\n            <span class=\"sml-rank-stars sml-str40\"></span>\\n        潍坊路162号3幢1楼\\n        </p>\\n    </div>\\n    <div class=\"item\">\\n        <h3 class=\"name\">\\n            <a href=\"/shop/68694400\">\\n                大悦城店\\n            </a>\\n           \\n        </h3>\\n        <p class=\"address\">\\n            <span class=\"sml-rank-stars sml-str40\"></span>\\n        西藏北路166号大悦城层南区9层\\n        </p>\\n    </div>\\n    <a class=\"add-shop\" target=\"_blank\" href=\"/addshop/1_10/id=500502\"><i class=\"icon\"></i>添加分店</a>\\n    <a class=\"more-shop\" target=\"_blank\" href=\"/search/branch/1/0_500502/g0\">查看全部8家分店</a>\\n</div>\\n<div id=\"shop-score\" class=\"shop-score Hide\">\\n        <ul class=\"stars\">\\n            <li>\\n                <span class=\"mid-rank-stars mid-str50\"></span>\\n\\t\\t\\t\\t\\t<span class=\"progress-bar\">\\n\\t\\t\\t\\t\\t\\t<span  id=\"reviewCountProgressStar5\" style=\"width:60%\"></span>\\n\\t\\t\\t\\t\\t</span>\\n         <span id=\"reviewCountStar5\">   13194</span>\\n            </li>\\n            <li>\\n                <span class=\"mid-rank-stars mid-str40\"></span>\\n\\t\\t\\t\\t\\t<span class=\"progress-bar\">\\n\\t\\t\\t\\t\\t\\t<span  id=\"reviewCountProgressStar4\" style=\"width:26%\"></span>\\n\\t\\t\\t\\t\\t</span>\\n          <span id=\"reviewCountStar4\">  5766 </span>\\n            </li>\\n            <li>\\n                <span class=\"mid-rank-stars mid-str30\"></span>\\n\\t\\t\\t\\t\\t<span class=\"progress-bar\" >\\n\\t\\t\\t\\t\\t\\t<span id=\"reviewCountProgressStar3\" style=\"width:9%\"></span>\\n\\t\\t\\t\\t\\t</span>\\n          <span id=\"reviewCountStar3\">   2110</span>\\n            </li>\\n            <li>\\n                <span class=\"mid-rank-stars mid-str20\"></span>\\n\\t\\t\\t\\t\\t<span class=\"progress-bar\" >\\n\\t\\t\\t\\t\\t<span id=\"reviewCountProgressStar2\" style=\"width:1%\"></span>\\n\\t\\t\\t\\t\\t</span>\\n          <span id=\"reviewCountStar2\">\\t    426</span>\\n            </li>\\n            <li>\\n                <span class=\"mid-rank-stars mid-str10\"></span>\\n\\t\\t\\t\\t\\t<span class=\"progress-bar\">\\n\\t\\t\\t\\t\\t\\t<span  id=\"reviewCountProgressStar1\" style=\"width:1%\"></span>\\n\\t\\t\\t\\t\\t</span>\\n          <span id=\"reviewCountStar1\">   331</span>\\n            </li>\\n        </ul>\\n    <ul class=\"scores\">\\n         <li>\\n            口味：\\n                     <span class=\"progress-bar\"><span style=\"width:84%\"></span></span>\\n            8.4\\n            </li>\\n         <li>\\n            环境：\\n                     <span class=\"progress-bar\"><span style=\"width:85%\"></span></span>\\n            8.5\\n            </li>\\n         <li>\\n            服务：\\n                     <span class=\"progress-bar\"><span style=\"width:85%\"></span></span>\\n            8.5\\n            </li>\\n       \\n    </ul>\\n\\n\\n</div>\\n<div id=\"shop-hours\" class=\"shop-hours Hide\">\\n    <h3 class=\"title\">修改时间</h3>\\n    <textarea></textarea>\\n    <p class=\"action\">\\n        <a class=\"J-cancel\">取消</a>\\n        <a class=\"btn J-confirm\">保存修改</a>\\n    </p>\\n</div>\\n<div id=\"stop-info\" class=\"stop-info J-park-more Hide\">\\n</div>\\n\\n\\t            <div id=\"promoinfo-wrapper\"></div> \\n\\t            <div id=\"shoptabs-wrapper\"></div>\\n            <div id=\"myreview-wrapper\"></div>\\n           \\t<div id=\"friends-comment\" class=\"mod comment friends-comment\">\\n\\t\\t\\t<div id=\"friends-comment-head\"></div>\\n\\t\\t\\t\\t<ul class=\"comment-list J-list\" id=\"friend-reviewlist-wrapper\"></ul>\\n\\t\\t\\t\\t<div id=\"friends-comment-tail\"></div>\\n\\t\\t\\t\\t<div id=\"qqfriends-comment-head\"></div>\\n\\t\\t\\t\\t<div class=\"qq-friends\" id=\"qq-friends-wrapper\">\\n\\t\\t\\t        <h3 class=\"names\" id=\"qq-friends-names\"></h3>\\n\\t\\t\\t        <div class=\"avatars clearfix\" id=\"qq-friends-avatars\"></div>\\n\\t\\t\\t    </div>\\n\\t\\t\\t</div>\\n\\t\\t\\t\\n\\t\\t\\t<div id=\"addreview-wrapper\"></div>\\n\\t            <div id=\"relatedeal-wrapper\"></div>\\n\\t\\t\\t<div class=\"mod shop-owner\">\\n\\t\\t\\t    <h2 class=\"mod-title\">\\n\\t\\t\\t        <a class=\"item current\">App专享优惠</a>\\n\\t\\t\\t    </h2>\\n\\t\\t\\t</div>\\n   <div id =\"J-shop-links\" class=\"nav-tabs\">\\n        <p class=\"description\">\\n            <span>大众点评</span><span>上海</span><span>川菜/家常菜</span><span>频道为您提供</span><span>宋记香辣蟹(日月光中心广场店)</span><span>地址，电话，最新菜单等最新商户信息，找</span><span>上海</span><span>美食，就上大众点评。</span>\\n        </p>\\n    \\t\\t<div class=\"bottom-links-container\">\\n\\t            <div  class=\"tabs\">\\n\\t             \\t   <a  class=\"cur\"><span class=\"tit\">热门商圈推荐</span></a>\\n\\t                \\t<a  class=\"\"><span class=\"tit\">热门川菜/家常菜推荐</span></a>\\n\\t            </div>\\n\\t            <div  class=\"con\">\\n\\t                <div class=\"nc-items\">\\n\\t\\t\\t\\t\\t        <a href=\"http://www.dianping.com/search/category/1/10/g4467r801\" itemprop=\"url\">\\n\\t\\t\\t\\t\\t            陆家嘴川菜/家常菜\\n\\t\\t\\t\\t\\t        </a>\\n\\t\\t\\t\\t\\t        <a href=\"http://www.dianping.com/search/category/1/10/g4467r802\" itemprop=\"url\">\\n\\t\\t\\t\\t\\t            八佰伴川菜/家常菜\\n\\t\\t\\t\\t\\t        </a>\\n\\t\\t\\t\\t\\t        <a href=\"http://www.dianping.com/search/category/1/10/g4467r804\" itemprop=\"url\">\\n\\t\\t\\t\\t\\t            上南地区川菜/家常菜\\n\\t\\t\\t\\t\\t        </a>\\n\\t\\t\\t\\t\\t        <a href=\"http://www.dianping.com/search/category/1/10/g4467r865\" itemprop=\"url\">\\n\\t\\t\\t\\t\\t            徐家汇川菜/家常菜\\n\\t\\t\\t\\t\\t        </a>\\n\\t\\t\\t\\t\\t        <a href=\"http://www.dianping.com/search/category/1/10/g4467r860\" itemprop=\"url\">\\n\\t\\t\\t\\t\\t            人民广场川菜/家常菜\\n\\t\\t\\t\\t\\t        </a>\\n\\t\\t\\t\\t\\t        <a href=\"http://www.dianping.com/search/category/1/10/g4467r803\" itemprop=\"url\">\\n\\t\\t\\t\\t\\t            世纪公园川菜/家常菜\\n\\t\\t\\t\\t\\t        </a>\\n\\t\\t\\t\\t\\t        <a href=\"http://www.dianping.com/search/category/1/10/g4467r835\" itemprop=\"url\">\\n\\t\\t\\t\\t\\t            淮海路川菜/家常菜\\n\\t\\t\\t\\t\\t        </a>\\n\\t\\t\\t\\t\\t        <a href=\"http://www.dianping.com/search/category/1/10/g4467r812\" itemprop=\"url\">\\n\\t\\t\\t\\t\\t            静安寺川菜/家常菜\\n\\t\\t\\t\\t\\t        </a>\\n\\t\\t\\t\\t\\t        <a href=\"http://www.dianping.com/search/category/1/10/g4467r842\" itemprop=\"url\">\\n\\t\\t\\t\\t\\t            中山公园川菜/家常菜\\n\\t\\t\\t\\t\\t        </a>\\n\\t\\t\\t\\t\\t        <a href=\"http://www.dianping.com/search/category/1/10/g4467r846\" itemprop=\"url\">\\n\\t\\t\\t\\t\\t            虹桥镇川菜/家常菜\\n\\t\\t\\t\\t\\t        </a>\\n\\t                </div>\\n\\t                <div class=\"nc-items Hide\">\\n\\t\\t\\t\\t\\t        <a href=\"http://www.dianping.com/shop/20926167\" itemprop=\"url\">\\n\\t\\t\\t\\t\\t            红辣椒(徐家汇店)\\n\\t\\t\\t\\t\\t        </a>\\n\\t\\t\\t\\t\\t        <a href=\"http://www.dianping.com/shop/68961315\" itemprop=\"url\">\\n\\t\\t\\t\\t\\t            我在成都等你(云南南路全国总店)\\n\\t\\t\\t\\t\\t        </a>\\n\\t\\t\\t\\t\\t        <a href=\"http://www.dianping.com/shop/59252131\" itemprop=\"url\">\\n\\t\\t\\t\\t\\t            红盔甲(人民广场店)\\n\\t\\t\\t\\t\\t        </a>\\n\\t\\t\\t\\t\\t        <a href=\"http://www.dianping.com/shop/4223460\" itemprop=\"url\">\\n\\t\\t\\t\\t\\t            红辣椒(张杨路店)\\n\\t\\t\\t\\t\\t        </a>\\n\\t\\t\\t\\t\\t        <a href=\"http://www.dianping.com/shop/66885258\" itemprop=\"url\">\\n\\t\\t\\t\\t\\t            红盔甲(虹口足球场店)\\n\\t\\t\\t\\t\\t        </a>\\n\\t\\t\\t\\t\\t        <a href=\"http://www.dianping.com/shop/77217307\" itemprop=\"url\">\\n\\t\\t\\t\\t\\t            付小姐在成都(打浦桥总店)\\n\\t\\t\\t\\t\\t        </a>\\n\\t\\t\\t\\t\\t        <a href=\"http://www.dianping.com/shop/66226812\" itemprop=\"url\">\\n\\t\\t\\t\\t\\t            椒羞(徐家汇店)\\n\\t\\t\\t\\t\\t        </a>\\n\\t\\t\\t\\t\\t        <a href=\"http://www.dianping.com/shop/32419566\" itemprop=\"url\">\\n\\t\\t\\t\\t\\t            付小姐在成都(中山公园店)\\n\\t\\t\\t\\t\\t        </a>\\n\\t\\t\\t\\t\\t        <a href=\"http://www.dianping.com/shop/23911969\" itemprop=\"url\">\\n\\t\\t\\t\\t\\t            红盔甲(胶州路店)\\n\\t\\t\\t\\t\\t        </a>\\n\\t\\t\\t\\t\\t        <a href=\"http://www.dianping.com/shop/51439081\" itemprop=\"url\">\\n\\t\\t\\t\\t\\t            红盔甲(定西路店)\\n\\t\\t\\t\\t\\t        </a>\\n\\t                </div>\\n\\t            </div>\\n\\t   \\t\\t </div>  \\n\\t</div>   \\n           </div>\\n        \\n       <div id=\"aside\" class=\"aside\">\\n\\n<div class=\"photos-container\">\\n    <div class=\"photo-thumb\">\\n        <div class=\"photo-header\">\\n            <a class=\"J_main-photo\"  target=\"_blank\" href=\"/photos/820628509\">\\n                <img src=\"https://img.meituan.net/msmerchant/27d605cef06dce37764ef9571c066a67597629.jpg%40280w_212h_1e_1c_1l%7Cwatermark%3D0\" title=\"宋记香辣蟹的图片\" alt=\"宋记香辣蟹的图片\"/>\\n            </a>\\n\\n            <div class=\"photo-info\">\\n                <a class=\"add-photo J_addPhoto\" href=\"/upload/shop/16789967\" target=\"_blank\">添加照片</a>\\n                <a target=\"_blank\" href=\"/shop/16789967/photos\">\\n                    <span id=\"pic-count\" class=\"photo-count\" >14493</span>\\n                </a>\\n\\n            </div>\\n        </div>\\n        <div class=\"photo-thumb-btns J_thumb-ctn\">\\n            <div class=\"photo-carousel J_photo-carousel\">\\n                <ul>\\n                            <li>\\n                                <a href=\"javascript:void(0);\" target=\"_blank\" data-url=\"/photos/820628509\"\\n                                   data-picsrc=\"https://img.meituan.net/msmerchant/27d605cef06dce37764ef9571c066a67597629.jpg%40280w_212h_1e_1c_1l%7Cwatermark%3D0\">\\n                                <img src=\"https://img.meituan.net/msmerchant/27d605cef06dce37764ef9571c066a67597629.jpg%40280w_212h_1e_1c_1l%7Cwatermark%3D0\" title=\"宋记香辣蟹的图片\" alt=\"宋记香辣蟹的图片\"/>\\n                                    </a>\\n                            </li>\\n                            <li>\\n                                <a href=\"javascript:void(0);\" target=\"_blank\" data-url=\"/photos/820628510\"\\n                                   data-picsrc=\"https://img.meituan.net/msmerchant/b16aee590ce7da6fac5ed0faf50479fd620264.jpg%40280w_212h_1e_1c_1l%7Cwatermark%3D0\">\\n                                <img src=\"https://img.meituan.net/msmerchant/b16aee590ce7da6fac5ed0faf50479fd620264.jpg%40280w_212h_1e_1c_1l%7Cwatermark%3D0\" title=\"宋记香辣蟹的图片\" alt=\"宋记香辣蟹的图片\"/>\\n                                    </a>\\n                            </li>\\n                            <li>\\n                                <a href=\"javascript:void(0);\" target=\"_blank\" data-url=\"/photos/820628511\"\\n                                   data-picsrc=\"https://img.meituan.net/msmerchant/15f02fb37eedc9e2ec580c6cf72ebaf0823440.jpg%40280w_212h_1e_1c_1l%7Cwatermark%3D0\">\\n                                <img src=\"https://img.meituan.net/msmerchant/15f02fb37eedc9e2ec580c6cf72ebaf0823440.jpg%40280w_212h_1e_1c_1l%7Cwatermark%3D0\" title=\"宋记香辣蟹的图片\" alt=\"宋记香辣蟹的图片\"/>\\n                                    </a>\\n                            </li>\\n                            <li>\\n                                <a href=\"javascript:void(0);\" target=\"_blank\" data-url=\"/photos/820628512\"\\n                                   data-picsrc=\"https://img.meituan.net/msmerchant/f4ac8c1e581c996b8bf40ea820c0bed2712506.jpg%40280w_212h_1e_1c_1l%7Cwatermark%3D0\">\\n                                <img src=\"https://img.meituan.net/msmerchant/f4ac8c1e581c996b8bf40ea820c0bed2712506.jpg%40280w_212h_1e_1c_1l%7Cwatermark%3D0\" title=\"宋记香辣蟹的图片\" alt=\"宋记香辣蟹的图片\"/>\\n                                    </a>\\n                            </li>\\n                            <li>\\n                                <a href=\"javascript:void(0);\" target=\"_blank\" data-url=\"/photos/820628515\"\\n                                   data-picsrc=\"http://p0.meituan.net/msmerchant/6af369fb6023380738dc9c2e831b2e9367624.jpg%40280w_212h_1e_1c_1l%7Cwatermark%3D0\">\\n                                <img src=\"http://p0.meituan.net/msmerchant/6af369fb6023380738dc9c2e831b2e9367624.jpg%40280w_212h_1e_1c_1l%7Cwatermark%3D0\" title=\"宋记香辣蟹的图片\" alt=\"宋记香辣蟹的图片\"/>\\n                                    </a>\\n                            </li>\\n                </ul>\\n            </div>\\n            <a href=\"javascript:;\" class=\"photo-nav prev J_prev\"><i></i></a>\\n            <a href=\"javascript:;\" class=\"photo-nav next J_next\"><i></i></a>\\n        </div>\\n    </div>\\n\\n\\n</div> \\t\\t\\t\\t<div id=\"aside-bottom\"></div>\\n        </div>\\n    </div>\\n</div>\\n\\n\\n<style type=\"text/css\">\\n.toast-wrapper_wya {\\n    width: 400px;\\n    height: 50px;\\n    z-index: 21501;\\n    top: 40%;\\n    left: 35%;\\n    position: fixed;\\n    display:none;\\n}\\n.toast-ie_wya {\\n   position: relative;\\n   background-color: #fff;\\n   border: 1px solid #ddd;\\n}\\n.tips_wya {\\n   height: 36px;\\n   line-height: 36px;\\n   font-size: 14px;\\n   padding: 0 10px;\\n   background-color: #eee;\\n}\\n\\n.close_wya {\\n    position: absolute;\\n    top: 0;\\n    right: 0;\\n    width: 14px;\\n    height: 14px;\\n    _overflow: hidden;\\n    background-position: -60px -90px;\\n    cursor: pointer;\\n    padding: 10px;\\n    text-align: center;\\n}\\n\\n\\n.content_wya {\\n    font-size: 12px;\\n    font-weight: 400;\\n    text-align: center;\\n    padding: 10px;\\n}\\n</style>\\n\\n\\n\\n\\n<div id=\"mbox_overlay_wya\" class=\"mbox_overlay_wya\" style=\"top: 0px; left: 0px; width: 100%; background-color: rgb(0, 0, 0); z-index:2150; zoom: 1;  filter:alpha(opacity=20);  \\n      -moz-opacity:0.2;  \\n      -khtml-opacity: 0.2;  \\n      opacity: 0.2; \\n position: fixed; visibility: visible; height: 100%; display:none;\"></div>\\n<div class=\"toast-wrapper_wya\" id=\"toast-wrapper_wya\">\\n    <div class=\"toast-ie_wya\">\\n        <h3 class=\"tips_wya\">提示</h3>\\n        <a class=\"close_wya\" onclick=\"closeWindows()\">X</a>\\n        <p class=\"content_wya\">您当前浏览器版本过低，可能会影响某些功能，请升级IE9及以上版本浏览器，或者尝试用其他浏览器打开！</p>\\n    </div>\\n</div>\\n<script>\\n\\nif(navigator.userAgent.indexOf(\"MSIE 6.0\") >= 0 || navigator.userAgent.indexOf(\"MSIE 7.0\") >= 0 || navigator.userAgent.indexOf(\"MSIE 8.0\")>=0) {\\n           document.getElementById(\"toast-wrapper_wya\").style.display =\"block\";\\n           document.getElementById(\"mbox_overlay_wya\").style.display =\"block\";\\n}\\nfunction closeWindows() {\\n          document.getElementById(\"toast-wrapper_wya\").style.display =\"none\";\\n          document.getElementById(\"mbox_overlay_wya\").style.display =\"none\";\\n}\\nsetTimeout(\"closeWindows()\",10000);\\n</script>\\n<script>\\n    window.shop_config={\\n        userId: 0,\\n        shopId: 16789967,\\n        shopCityId: 1,\\n        shopName: \"宋记香辣蟹\",\\n        address: \"徐家汇路618号日月光中心广场4楼\",\\n        publicTransit: \"\",\\n        cityId: 1,\\n        cityCnName: \"上海\",\\n        cityName: \"上海\",\\n        cityEnName: \"shanghai\",\\n        isOverseasCity: 0,\\n        fullName: \"宋记香辣蟹(日月光中心广场店)\",\\n        shopGlat: \"31.205946\",\\n        shopGlng:\"121.468472\",\\n        cityGlat:\"31.230708\",\\n        cityGlng:\"121.472916\",\\n        power:5,\\n        shopPower:45,\\n        voteTotal:0,\\n        district:0,\\n        shopType:10,\\n        mainRegionId:838,\\n        mainCategoryName:\"川菜/家常菜\",\\n        categoryURLName:\"food\",\\n        shopGroupId: 500502,\\n        categoryName: \"美食\",\\n        loadUserDomain:\"http://www.dianping.com\",\\n        map:{\\n            power:5,\\n        manaScore:0\\n        },    mainCategoryId:4467,\\n     defaultPic:\"https://img.meituan.net/msmerchant/27d605cef06dce37764ef9571c066a67597629.jpg%40120w_90h_1e_1c_1l_80q%7Cwatermark%3D1%26%26r%3D1%26p%3D9%26x%3D2%26y%3D2%26relative%3D1%26o%3D20\"\\n    }\\n</script>\\n\\n<script src=\"//www.dpfile.com/app/app-pc-main-shop/static/common.min.1c62f4a18a3db55573e8e8fc7b7229b6.js\" type=\"text/javascript\"></script><script src=\"//www.dpfile.com/app/app-pc-main-shop/static/main-shop.min.4bb5398b35e194c43170ed9c93be3504.js\" type=\"text/javascript\"></script><!--[if (IE 8)|(IE 9)]><script src=\"//www.dpfile.com/app/app-pc-main-shop/static/jquery.transport.xdr.min.v01667367.js\" type=\"text/javascript\"></script>\\t<![endif]-->\\n\\n\\r\\n<div id=\"footer\" class=\"footer\">\\r\\n    <p class=\"links\">\\r\\n        <a target=\"_blank\" href=\"//www.dianping.com/aboutus\" rel=\"nofollow\">关于大众点评</a>|\\r\\n        <a target=\"_blank\" href=\"http://s.dianping.com/topic/2815561\" rel=\"nofollow\">诚信公约</a>|\\r\\n        <a target=\"_blank\" href=\"//www.dianping.com/help\" rel=\"nofollow\">网站帮助</a>|\\r\\n            <a target=\"_blank\" href=\"//www.dianping.com/sitemap/c1c10\">网站地图</a>|\\r\\n        <a target=\"_blank\" href=\"//www.dianping.com/business/\" rel=\"nofollow\">推广服务</a>|\\r\\n        <a target=\"_blank\" href=\"//www.dianping.com/aboutus/media\" rel=\"nofollow\">媒体报道</a>|\\r\\n        <a target=\"_blank\" href=\"http://careers.dianping.com\" rel=\"nofollow\">人才招聘</a>|\\r\\n        <!--新增footer links-->\\r\\n        <span class=\"links-container\">\\r\\n\\t\\t\\t\\t<a class=\"ext-links\" href=\"javascript:void(0);\" rel=\"nofollow\">最新咨询</a>|\\r\\n\\t\\t\\t\\t<a class=\"ext-links\" href=\"javascript:void(0);\" rel=\"nofollow\">点评图库</a>|\\r\\n\\t\\t\\t\\t<a class=\"ext-links\" href=\"javascript:void(0);\" rel=\"nofollow\">商户地图</a>|\\r\\n        </span>\\r\\n        <a target=\"_blank\" href=\"//www.dianping.com/forum\" rel=\"nofollow\">站务论坛</a>|\\r\\n        <a target=\"_blank\" href=\"//www.dianping.com/contactus\" rel=\"nofollow\">联系我们</a>|\\r\\n        <a target=\"_blank\" href=\"http://developer.dianping.com\" rel=\"nofollow\">开发者</a>|\\r\\n        <a target=\"_blank\" href=\"https://developer.meituan.com/?applyFrom=dianping_c_pc_busines\" rel=\"nofollow\">聚宝盆餐饮开放平台</a>\\r\\n    </p>\\r\\n    <!--新增 footer links 面板-->\\r\\n    <div class=\"ext-container Hide\">\\r\\n        <div class=\"link-items Hide\">\\r\\n            <a target=\"_blank\" href=\"//www.dianping.com/homenews/news \"><span>家装资讯</span></a>\\r\\n            <a target=\"_blank\" href=\"http://m.dianping.com/homenews/news \"><span>家装资讯手机版</span></a>\\r\\n            <a target=\"_blank\" href=\"//www.dianping.com/wedding\"><span>结婚资讯</span></a>\\r\\n        </div>\\r\\n        <div class=\"link-items Hide\">\\r\\n            <a target=\"_blank\" href=\"//www.dianping.com/home-tuku\"><span>家装图库</span></a>\\r\\n            <a target=\"_blank\" href=\"http://m.dianping.com/home-tuku\"><span>家装图库手机版</span></a>\\r\\n            <a target=\"_blank\" href=\"//www.dianping.com/beauty-salvia/hairdressing\"><span>美发图库</span></a>\\r\\n            <a target=\"_blank\" href=\"//www.dianping.com/beauty-salvia/manicure\"><span>美甲图库</span></a>\\r\\n            <a target=\"_blank\" href=\"//www.dianping.com/beauty-salvia/tattoo\"><span>纹身图库</span></a>\\r\\n        </div>\\r\\n        <div class=\"link-items Hide\">\\r\\n            <!--这里有cityName要拼上-->\\r\\n                <a target=\"_blank\" href=\"//www.dianping.com/shanghai/homesitemap\"><span>家装商户</span></a>\\r\\n                <a target=\"_blank\" href=\"http://m.dianping.com/shanghai/homesitemap\"><span>家装商户手机版</span></a>\\r\\n        </div>\\r\\n    </div>\\r\\n    <p class=\"rights\">\\r\\n        <span style=\"margin-right:10px;\">&copy;2003-2017 dianping.com, All Rights Reserved.</span>\\r\\n        <span>本站发布的所有内容，未经许可，不得转载，详见\\r\\n            <a rel=\"nofollow\" class=\"G\" href=\"//www.dianping.com/aboutus/zhishichanquan\">《知识产权声明》</a>。\\r\\n        </span>\\r\\n    </p>\\r\\n</div>\\r\\n<script src=\"//www.dpfile.com/mod/neuron/7.1.4/neuron.js\" id=\"neuron-js\"></script><script>neuron.config({path: \"//www.dpfile.com/mod\", loaded:[\"app-main-shop-remove@0.0.8\",\"app-main-shop-basicinfo-change@1.1.23\",\"pic-monitor@0.1.3\",\"app-main-header-remove@1.4.8\",\"nugget-jquery@0.1.1\",\"dot@0.1.0\",\"hippo@1.2.28\",\"suggest@1.0.1\",\"storage@0.1.2\",\"switch@0.2.1\",\"storage@0.2.4\",\"huatuo@0.1.10\",\"main-authbox@1.0.4\",\"request@1.0.7\",\"shop-confirm@1.0.0\",\"shop-alert@1.0.0\",\"css-rating@1.0.2\",\"page-event-transfer@1.0.0\",\"main-authbox@1.0.5\",\"jquery-official@1.11.2\",\"mix@1.0.1\",\"fx@2.0.0\",\"attributes@1.4.1\",\"request@0.2.7\",\"easy-login@0.4.16\",\"tpl@0.2.1\",\"event-transfer@0.1.0\",\"placeholder@0.1.1\",\"cookie@0.1.2\",\"mbox@1.0.3\",\"request@1.0.8\",\"easy-login@0.4.20\",\"hexrgb@0.0.1\",\"jquery@1.9.2\",\"lang@1.0.1\",\"class@2.0.5\",\"asset@1.0.2\",\"underscore@1.5.3\",\"clone@0.1.13\",\"events@1.0.5\",\"util@1.0.5\",\"json@1.0.1\"], graph:{\"1\":[\"1.0.2\"],\"3\":[\"1.9.2\"],\"6\":[\"1.0.1\"],\"5\":[\"1.0.5\",{\"json@~1.0.0\":6}],\"4\":[\"1.0.5\",{\"util@~1.0.0\":5}],\"7\":[\"0.0.1\"],\"8\":[\"1.0.1\"],\"2\":[\"2.0.0\",{\"jquery@~1.9.2\":3,\"events@~1.0.5\":4,\"hexrgb@~0.0.1\":7,\"lang@~1.0.0\":8,\"util@~1.0.4\":5}],\"9\":[\"0.1.10\"],\"13\":[\"0.1.13\",{\"util@~1.0.2\":5}],\"14\":[\"1.5.3\"],\"12\":[\"2.0.5\",{\"events@~1.0.0\":4,\"util@~1.0.0\":5,\"clone@~0.1.11\":13,\"underscore@~1.5.2\":14}],\"11\":[\"1.0.3\",{\"jquery@~1.9.2\":3,\"lang@~1.0.0\":8,\"class@~2.0.5\":12}],\"16\":[\"1.0.2\"],\"15\":[\"0.2.7\",{\"json@~1.0.0\":6,\"lang@~1.0.0\":8,\"asset@~1.0.0\":16,\"class@~2.0.0\":12}],\"17\":[\"0.1.2\"],\"18\":[\"0.4.16\"],\"19\":[\"0.1.1\",{\"jquery@~1.9.2\":3}],\"10\":[\"1.0.4\",{\"jquery@~1.9.2\":3,\"mbox@~1.0.1\":11,\"request@~0.2.4\":15,\"cookie@~0.1.0\":17,\"easy-login@~0.4.0\":18,\"placeholder@~0.1.1\":19}],\"21\":[\"0.1.0\",{\"class@~2.0.5\":12}],\"20\":[\"1.0.0\",{\"event-transfer@~0.1.0\":21}],\"22\":[\"1.0.7\",{\"json@~1.0.0\":6,\"asset@~1.0.0\":16,\"lang@~1.0.0\":8,\"class@~2.0.0\":12}],\"24\":[\"0.2.1\"],\"23\":[\"1.0.0\",{\"mbox@~1.0.1\":11,\"jquery@~1.9.2\":3,\"tpl@~0.2.1\":24}],\"25\":[\"0.2.4\",{\"json@~1.0.0\":6,\"underscore@~1.5.3\":14}],\"27\":[\"1.4.1\",{\"util@~1.0.0\":5,\"clone@~0.1.11\":13}],\"28\":[\"1.0.1\"],\"26\":[\"0.2.1\",{\"fx@~2.0.0\":2,\"jquery@~1.9.2\":3,\"attributes@~1.4.0\":27,\"events@~1.0.5\":4,\"clone@~0.1.12\":13,\"mix@~1.0.1\":28,\"underscore@~1.5.3\":14,\"util@~1.0.4\":5}],\"0\":[\"0.0.8\",{\"css-rating@^1.0.0\":1,\"fx@^2.0.0\":2,\"huatuo@~0.1.6\":9,\"jquery@~1.9.2\":3,\"json@~1.0.1\":6,\"main-authbox@^1.0.0\":10,\"mbox@~1.0.0\":11,\"page-event-transfer@^1.0.0\":20,\"request@^1.0.7\":22,\"shop-alert@^1.0.0\":23,\"storage@~0.2.4\":25,\"switch@~0.2.1\":26,\"tpl@~0.2.1\":24}],\"30\":[\"1.11.2\"],\"32\":[\"1.0.8\",{\"json@~1.0.0\":6,\"asset@~1.0.0\":16,\"class@~2.0.0\":12,\"lang@~1.0.0\":8}],\"33\":[\"0.4.20\"],\"31\":[\"1.0.5\",{\"jquery@~1.9.2\":3,\"mbox@~1.0.1\":11,\"request@~1.0.7\":32,\"cookie@~0.1.0\":17,\"easy-login@~0.4.0\":33,\"placeholder@~0.1.1\":19}],\"34\":[\"1.0.0\",{\"jquery@~1.9.2\":3,\"mbox@^1.0.1\":11,\"tpl@~0.2.1\":24}],\"29\":[\"1.1.23\",{\"css-rating@^1.0.0\":1,\"fx@^2.0.0\":2,\"jquery@~1.9.2\":3,\"jquery-official@^1.11.2\":30,\"json@~1.0.1\":6,\"main-authbox@^1.0.0\":31,\"mbox@~1.0.0\":11,\"page-event-transfer@^1.0.0\":20,\"request@^1.0.7\":32,\"shop-alert@^1.0.0\":23,\"shop-confirm@^1.0.0\":34,\"tpl@~0.2.1\":24}],\"35\":[\"0.1.3\"],\"37\":[\"0.1.0\"],\"38\":[\"1.2.28\"],\"39\":[\"0.1.2\",{\"json@~1.0.0\":6,\"lang@~1.0.0\":8}],\"40\":[\"1.0.1\",{\"class@~2.0.0\":12,\"jquery@~1.9.2\":3}],\"36\":[\"1.4.8\",{\"class@^2.0.5\":12,\"dot@~0.1.0\":37,\"event-transfer@~0.1.0\":21,\"hippo@^1.2.13\":38,\"jquery@~1.9.2\":3,\"placeholder@~0.1.1\":19,\"request@^1.0.7\":32,\"storage@~0.1.0\":39,\"suggest@~1.0.0\":40,\"tpl@~0.2.1\":24}],\"41\":[\"0.1.1\",{\"hippo@~1.2.2\":38,\"jquery@~1.9.2\":3,\"request@~1.0.0\":32,\"json@~1.0.1\":6}],\"_\":{\"app-main-shop-remove@*\":0,\"app-main-shop-basicinfo-change@*\":29,\"pic-monitor@*\":35,\"app-main-header-remove@*\":36,\"nugget-jquery@*\":41}}})</script>\\n<script async src=\"//www.dpfile.com/mod/app-main-shop-remove/0.0.8/app-main-shop-remove.js\"></script>\\n<script async src=\"//www.dpfile.com/mod/app-main-shop-basicinfo-change/1.1.23/app-main-shop-basicinfo-change.js\"></script>\\n<script async src=\"//www.dpfile.com/mod/pic-monitor/0.1.3/pic-monitor.js\"></script>\\n<script async src=\"//www.dpfile.com/mod/app-main-header-remove/1.4.8/app-main-header-remove.js\"></script>\\n<script async src=\"//www.dpfile.com/mod/nugget-jquery/0.1.1/nugget-jquery.js\"></script>\\n<script async src=\"//www.dpfile.com/mod/dot/0.1.0/dot.js\"></script>\\n<script async src=\"//www.dpfile.com/mod/hippo/1.2.28/hippo.js\"></script>\\n<script async src=\"//www.dpfile.com/mod/suggest/1.0.1/suggest.js\"></script>\\n<script async src=\"//www.dpfile.com/mod/storage/0.1.2/storage.js\"></script>\\n<script async src=\"//www.dpfile.com/mod/switch/0.2.1/switch.js\"></script>\\n<script async src=\"//www.dpfile.com/mod/storage/0.2.4/storage.js\"></script>\\n<script async src=\"//www.dpfile.com/mod/huatuo/0.1.10/huatuo.js\"></script>\\n<script async src=\"//www.dpfile.com/mod/main-authbox/1.0.4/main-authbox.js\"></script>\\n<script async src=\"//www.dpfile.com/mod/request/1.0.7/request.js\"></script>\\n<script async src=\"//www.dpfile.com/mod/shop-confirm/1.0.0/shop-confirm.js\"></script>\\n<script async src=\"//www.dpfile.com/mod/shop-alert/1.0.0/shop-alert.js\"></script>\\n<script async src=\"//www.dpfile.com/mod/css-rating/1.0.2/css-rating.js\"></script>\\n<script async src=\"//www.dpfile.com/mod/page-event-transfer/1.0.0/page-event-transfer.js\"></script>\\n<script async src=\"//www.dpfile.com/mod/main-authbox/1.0.5/main-authbox.js\"></script>\\n<script async src=\"//www.dpfile.com/mod/jquery-official/1.11.2/jquery-official.js\"></script>\\n<script async src=\"//www.dpfile.com/mod/mix/1.0.1/mix.js\"></script>\\n<script async src=\"//www.dpfile.com/mod/fx/2.0.0/fx.js\"></script>\\n<script async src=\"//www.dpfile.com/mod/attributes/1.4.1/attributes.js\"></script>\\n<script async src=\"//www.dpfile.com/mod/request/0.2.7/request.js\"></script>\\n<script async src=\"//www.dpfile.com/mod/easy-login/0.4.16/easy-login.js\"></script>\\n<script async src=\"//www.dpfile.com/mod/tpl/0.2.1/tpl.js\"></script>\\n<script async src=\"//www.dpfile.com/mod/event-transfer/0.1.0/event-transfer.js\"></script>\\n<script async src=\"//www.dpfile.com/mod/placeholder/0.1.1/placeholder.js\"></script>\\n<script async src=\"//www.dpfile.com/mod/cookie/0.1.2/cookie.js\"></script>\\n<script async src=\"//www.dpfile.com/mod/mbox/1.0.3/mbox.js\"></script>\\n<script async src=\"//www.dpfile.com/mod/request/1.0.8/request.js\"></script>\\n<script async src=\"//www.dpfile.com/mod/easy-login/0.4.20/easy-login.js\"></script>\\n<script async src=\"//www.dpfile.com/mod/hexrgb/0.0.1/hexrgb.js\"></script>\\n<script async src=\"//www.dpfile.com/mod/jquery/1.9.2/jquery.js\"></script>\\n<script async src=\"//www.dpfile.com/mod/lang/1.0.1/lang.js\"></script>\\n<script async src=\"//www.dpfile.com/mod/class/2.0.5/class.js\"></script>\\n<script async src=\"//www.dpfile.com/mod/asset/1.0.2/asset.js\"></script>\\n<script async src=\"//www.dpfile.com/mod/underscore/1.5.3/underscore.js\"></script>\\n<script async src=\"//www.dpfile.com/mod/clone/0.1.13/clone.js\"></script>\\n<script async src=\"//www.dpfile.com/mod/events/1.0.5/events.js\"></script>\\n<script async src=\"//www.dpfile.com/mod/util/1.0.5/util.js\"></script>\\n<script async src=\"//www.dpfile.com/mod/json/1.0.1/json.js\"></script>\\n<script>facade({entry:\"app-main-shop-remove\", data: {\\n    userId: 0,\\n    shopId: 16789967,\\n\\tshopName: \"宋记香辣蟹\",\\n    power: 5,\\n    manaScore:0,\\n    cityId:1\\n}});\\nfacade({entry:\"app-main-shop-basicinfo-change\", data: {\\nuserId: 0,\\nshopId: 16789967,\\nshopName: \"宋记香辣蟹\",\\ncityId: 1,\\nmap:{\\npower:5,\\nmanaScore:0\\n}}});\\nfacade({entry:\"pic-monitor\", data: {\\npageType:\\'shop-page\\',\\nselector: \\'#basic-info .photos img\\'\\n}});\\nfacade({entry:\"app-main-header-remove\", data: {\\r\\n    isLogin: false,\\r\\n    needAjaxOutput : false,\\r\\n    baseSearch: (function(){function k(){q();var b=encodeURIComponent,a=m().replace(n,\" \").replace(/^\\\\s+|\\\\s+$/g,r).replace(/\\\\//g,\"\"),c=p(s),f=p(t),b=-1!==c.indexOf(\"{q}\")?c.replace(\"{q}\",b(a)):c+b(a),c={55:{\"\\\\u5f69\\\\u5986\\\\u9020\\\\u578b\":166},70:{\"\\\\u4eb2\\\\u5b50\\\\u6444\\\\u5f71\":193,\"\\\\u5e7c\\\\u513f\\\\u6559\\\\u80b2\":188,\"\\\\u5b55\\\\u5987\\\\u5199\\\\u771f\":27814,\"\\\\u5b55\\\\u4ea7\\\\u62a4\\\\u7406\":258,\"\\\\u4eb2\\\\u5b50\\\\u8d2d\\\\u7269\":125,\"\\\\u4eb2\\\\u5b50\\\\u6e38\\\\u4e50\":161,\"\\\\u513f\\\\u7ae5\\\\u6444\\\\u5f71\":27813,\"\\\\u5168\\\\u5bb6\\\\u798f\":2782,\"\\\\u65e9\\\\u6559\\\\u4e2d\\\\u5fc3\":27761,\\r\\n\"\\\\u5e7c\\\\u513f\\\\u5916\\\\u8bed\":27762,\"\\\\u5e7c\\\\u513f\\\\u624d\\\\u827a\":27763,\"\\\\u4eb2\\\\u5b50\\\\u4e50\\\\u56ed\":27760,\"\\\\u5a74\\\\u513f\\\\u6e38\\\\u6cf3\":27767,\"\\\\u5987\\\\u5e7c\\\\u533b\\\\u9662\":257,\"\\\\u6708\\\\u5b50\\\\u670d\\\\u52a1\":27766,\"\\\\u4ea7\\\\u540e\\\\u6062\\\\u590d\":27768}};if(a||f){var g=d.getAttribute(\"data-s-cityid\"),k=[1,2,3,11,5,6,13,21,22,10,160,18,19,79,4,7,8,9,17,14,15,16,110,344,94,98,104,105,101,145,148,149,219,92,99,108,150,152,155,213,385,35,93,208,24,102,416,12,70,258,267,151,62,26,23,146,27,162,206,220,345,147,59,80,44,299,180,\\r\\n179,196,194,111,46,167,103,209,224,25,71,97,58,106,107,95,42,184,260,313,225,226,47,33,134,242,217,210,119,137,153,120,143,112,161,192,1009,292,197,218,113,321,211,116,133,96,325,129,207,127,29,166,163,84,241,115,109,277,130,200,114,157,132];if(\"\\\\u65c5\\\\u6e38\\\\u5a5a\\\\u7eb1\"==a){-1!=k.indexOf(parseInt(g))&&(e.location.href=\"/wedding/travel/\"+g);return}\"1\"===g?c={55:{\"\\\\u5a5a\\\\u5bb4\":2736,\"\\\\u5a5a\\\\u5bb4\\\\u9152\\\\u5e97\":2736,\"\\\\u5a5a\\\\u793c\\\\u4f1a\\\\u6240\":2738,\"\\\\u5a5a\\\\u7eb1\\\\u6444\\\\u5f71\":163,\"\\\\u5a5a\\\\u7eb1\\\\u793c\\\\u670d\":162,\\r\\n\"\\\\u5a5a\\\\u5e86\\\\u516c\\\\u53f8\":167,\"\\\\u5a5a\\\\u6212\\\\u9996\\\\u9970\":191,\"\\\\u5f69\\\\u5986\\\\u9020\\\\u578b\":166},70:{\"\\\\u6708\\\\u5b50\\\\u4f1a\\\\u6240\":2784,\"\\\\u6708\\\\u5ac2\":2786,\"\\\\u6708\\\\u5b50\\\\u9910\":2788,\"\\\\u4eb2\\\\u5b50\\\\u6444\\\\u5f71\":193,\"\\\\u5e7c\\\\u513f\\\\u6559\\\\u80b2\":188,\"\\\\u5b55\\\\u5987\\\\u5199\\\\u771f\":27814,\"\\\\u5b55\\\\u4ea7\\\\u62a4\\\\u7406\":258,\"\\\\u4eb2\\\\u5b50\\\\u8d2d\\\\u7269\":125,\"\\\\u4eb2\\\\u5b50\\\\u6e38\\\\u4e50\":161,\"\\\\u513f\\\\u7ae5\\\\u6444\\\\u5f71\":27813,\"\\\\u5168\\\\u5bb6\\\\u798f\":2782,\"\\\\u65e9\\\\u6559\\\\u4e2d\\\\u5fc3\":27761,\"\\\\u5e7c\\\\u513f\\\\u5916\\\\u8bed\":27762,\"\\\\u5e7c\\\\u513f\\\\u624d\\\\u827a\":27763,\\r\\n\"\\\\u4eb2\\\\u5b50\\\\u4e50\\\\u56ed\":27760,\"\\\\u5a74\\\\u513f\\\\u6e38\\\\u6cf3\":27767,\"\\\\u5987\\\\u5e7c\\\\u533b\\\\u9662\":257,\"\\\\u6708\\\\u5b50\\\\u670d\\\\u52a1\":27766,\"\\\\u4ea7\\\\u540e\\\\u6062\\\\u590d\":27768}}:\"2\"===g&&(c={55:{\"\\\\u5a5a\\\\u7eb1\\\\u6444\\\\u5f71\":163,\"\\\\u5a5a\\\\u7eb1\\\\u793c\\\\u670d\":162,\"\\\\u5a5a\\\\u5e86\\\\u516c\\\\u53f8\":167,\"\\\\u5a5a\\\\u6212\\\\u9996\\\\u9970\":191,\"\\\\u5f69\\\\u5986\\\\u9020\\\\u578b\":166},70:{\"\\\\u6708\\\\u5b50\\\\u4f1a\\\\u6240\":2784,\"\\\\u6708\\\\u5ac2\":2786,\"\\\\u6708\\\\u5b50\\\\u9910\":2788,\"\\\\u4eb2\\\\u5b50\\\\u6444\\\\u5f71\":193,\"\\\\u5e7c\\\\u513f\\\\u6559\\\\u80b2\":188,\"\\\\u5b55\\\\u5987\\\\u5199\\\\u771f\":27814,\\r\\n\"\\\\u5b55\\\\u4ea7\\\\u62a4\\\\u7406\":258,\"\\\\u4eb2\\\\u5b50\\\\u8d2d\\\\u7269\":125,\"\\\\u4eb2\\\\u5b50\\\\u6e38\\\\u4e50\":161,\"\\\\u513f\\\\u7ae5\\\\u6444\\\\u5f71\":27813,\"\\\\u5168\\\\u5bb6\\\\u798f\":2782,\"\\\\u65e9\\\\u6559\\\\u4e2d\\\\u5fc3\":27761,\"\\\\u5e7c\\\\u513f\\\\u5916\\\\u8bed\":27762,\"\\\\u5e7c\\\\u513f\\\\u624d\\\\u827a\":27763,\"\\\\u4eb2\\\\u5b50\\\\u4e50\\\\u56ed\":27760,\"\\\\u5a74\\\\u513f\\\\u6e38\\\\u6cf3\":27767,\"\\\\u5987\\\\u5e7c\\\\u533b\\\\u9662\":257,\"\\\\u6708\\\\u5b50\\\\u670d\\\\u52a1\":27766,\"\\\\u4ea7\\\\u540e\\\\u6062\\\\u590d\":27768}});for(var l in c)for(var h in c[l])if(-1!=h.indexOf(a)&&\"\"!=a){e.location.href=\"/search/category/\"+\\r\\ng+\"/\"+l+\"/g\"+c[l][h];return}-1!==[\"\\\\u53ef\\\\u9001\\\\u5916\\\\u5356\",\"\\\\u5916\\\\u5356\",\"\\\\u9644\\\\u8fd1\\\\u5916\\\\u5356\",\"\\\\u5916\\\\u9001\",\"\\\\u5916\\\\u5356\\\\u7f51\"].indexOf(a)&&\"1\"===d.getAttribute(\"data-s-cityid\")?e.location.href=\"http://waimai.dianping.com\":e.location.href=a?b:f}else \\r\\n\\r\\n d.focus();return!1}function m(){return d.value}function p(b){for(var a=h,c=a.length;c--;)b=b.replace(\"{\"+c+\"}\",a[c]);return b}var h=arguments,e=this,r=\"\",n=/[\\\\\\\\<]+/g,d=e.document.getElementById(\"page-header\").getElementsByTagName(\"input\")[0],\\r\\nf=d.parentNode.getElementsByTagName(\"a\")[0],s=d.getAttribute(\"data-s-pattern\"),t=d.getAttribute(\"data-s-epattern\"),q=f.onclick||function(){};d.onkeydown=function(b){b=b||e.event;if(13===b.keyCode){b=f;var a;document.createEvent?(a=document.createEvent(\"HTMLEvents\"),a.initEvent(\"click\",!0,!0)):(a=document.createEventObject(),a.eventType=\"click\");a.eventName=\"click\";document.createEvent?b.dispatchEvent(a):b.fireEvent(\"on\"+a.eventType,a);return!1}};f.onclick=k;return{s:n,data:function(){h=arguments},\\r\\nval:function(b){m=b},submit:k}})(1,0),\\r\\n    cityId:1\\r\\n    }});\\nfacade({entry:\"nugget-jquery\", data: {\\r\\n    city: \"shanghai\"\\r\\n}});\\n</script>\\r\\n</body></html>\\r\\n'"
      ]
     },
     "execution_count": 17,
     "metadata": {},
     "output_type": "execute_result"
    }
   ],
   "source": [
    "html"
   ]
  },
  {
   "cell_type": "code",
   "execution_count": null,
   "metadata": {
    "collapsed": true
   },
   "outputs": [],
   "source": []
  },
  {
   "cell_type": "code",
   "execution_count": null,
   "metadata": {
    "collapsed": true
   },
   "outputs": [],
   "source": []
  },
  {
   "cell_type": "code",
   "execution_count": null,
   "metadata": {
    "collapsed": true
   },
   "outputs": [],
   "source": []
  },
  {
   "cell_type": "code",
   "execution_count": 3,
   "metadata": {
    "collapsed": false
   },
   "outputs": [],
   "source": [
    "my_headers=[\n",
    "            \"Mozilla/5.0 (Windows NT 6.1; WOW64) AppleWebKit/537.1 (KHTML, like Gecko) Chrome/22.0.1207.1 Safari/537.1\",\n",
    "            \"Mozilla/5.0 (X11; CrOS i686 2268.111.0) AppleWebKit/536.11 (KHTML, like Gecko) Chrome/20.0.1132.57 Safari/536.11\",\n",
    "            \"Mozilla/5.0 (Windows NT 6.1; WOW64) AppleWebKit/536.6 (KHTML, like Gecko) Chrome/20.0.1092.0 Safari/536.6\",\n",
    "            \"Mozilla/5.0 (Windows NT 6.2) AppleWebKit/536.6 (KHTML, like Gecko) Chrome/20.0.1090.0 Safari/536.6\",\n",
    "            \"Mozilla/5.0 (Windows NT 6.2; WOW64) AppleWebKit/537.1 (KHTML, like Gecko) Chrome/19.77.34.5 Safari/537.1\",\n",
    "            \"Mozilla/5.0 (X11; Linux x86_64) AppleWebKit/536.5 (KHTML, like Gecko) Chrome/19.0.1084.9 Safari/536.5\",\n",
    "            \"Mozilla/5.0 (Windows NT 6.0) AppleWebKit/536.5 (KHTML, like Gecko) Chrome/19.0.1084.36 Safari/536.5\",\n",
    "            \"Mozilla/5.0 (Windows NT 6.1; WOW64) AppleWebKit/536.3 (KHTML, like Gecko) Chrome/19.0.1063.0 Safari/536.3\",\n",
    "            \"Mozilla/5.0 (Windows NT 5.1) AppleWebKit/536.3 (KHTML, like Gecko) Chrome/19.0.1063.0 Safari/536.3\",\n",
    "            \"Mozilla/5.0 (Macintosh; Intel Mac OS X 10_8_0) AppleWebKit/536.3 (KHTML, like Gecko) Chrome/19.0.1063.0 Safari/536.3\",\n",
    "            \"Mozilla/5.0 (Windows NT 6.2) AppleWebKit/536.3 (KHTML, like Gecko) Chrome/19.0.1062.0 Safari/536.3\",\n",
    "            \"Mozilla/5.0 (Windows NT 6.1; WOW64) AppleWebKit/536.3 (KHTML, like Gecko) Chrome/19.0.1062.0 Safari/536.3\",\n",
    "            \"Mozilla/5.0 (Windows NT 6.2) AppleWebKit/536.3 (KHTML, like Gecko) Chrome/19.0.1061.1 Safari/536.3\",\n",
    "            \"Mozilla/5.0 (Windows NT 6.1; WOW64) AppleWebKit/536.3 (KHTML, like Gecko) Chrome/19.0.1061.1 Safari/536.3\",\n",
    "            \"Mozilla/5.0 (Windows NT 6.1) AppleWebKit/536.3 (KHTML, like Gecko) Chrome/19.0.1061.1 Safari/536.3\",\n",
    "            \"Mozilla/5.0 (Windows NT 6.2) AppleWebKit/536.3 (KHTML, like Gecko) Chrome/19.0.1061.0 Safari/536.3\",\n",
    "            \"Mozilla/5.0 (X11; Linux x86_64) AppleWebKit/535.24 (KHTML, like Gecko) Chrome/19.0.1055.1 Safari/535.24\",\n",
    "            \"Mozilla/5.0 (Windows NT 6.2; WOW64) AppleWebKit/535.24 (KHTML, like Gecko) Chrome/19.0.1055.1 Safari/535.24\"\n",
    "        ]\n",
    "\n",
    "# 进入浏览器设置\n",
    "options = webdriver.ChromeOptions()\n",
    "randdom_header=random.choice(my_headers)\n",
    "# 更换头部\n",
    "options.add_argument('user-agent=my_headers')\n",
    "options.add_argument('Host=\"www.dianping.com\"')\n",
    "PROXY = \"23.23.23.23:3128\" # IP:PORT or HOST:PORT\n",
    "# options.add_argument('--proxy-server=%s' % PROXY)\n",
    "chrome_options = webdriver.ChromeOptions()\n",
    "browser = webdriver.Chrome(chrome_options=options)\n",
    "url = 'http://www.dianping.com/shop/16789967'\n",
    "browser.get(url)\n",
    "html = browser.page_source"
   ]
  },
  {
   "cell_type": "code",
   "execution_count": 3,
   "metadata": {
    "collapsed": false
   },
   "outputs": [],
   "source": [
    "soup = BeautifulSoup(html, 'html.parser')"
   ]
  },
  {
   "cell_type": "code",
   "execution_count": 4,
   "metadata": {
    "collapsed": false
   },
   "outputs": [
    {
     "ename": "AttributeError",
     "evalue": "'NoneType' object has no attribute 'parent'",
     "output_type": "error",
     "traceback": [
      "\u001b[0;31m---------------------------------------------------------------------------\u001b[0m",
      "\u001b[0;31mAttributeError\u001b[0m                            Traceback (most recent call last)",
      "\u001b[0;32m<ipython-input-4-3f050b4c7648>\u001b[0m in \u001b[0;36m<module>\u001b[0;34m()\u001b[0m\n\u001b[1;32m      1\u001b[0m \u001b[0ma\u001b[0m \u001b[0;34m=\u001b[0m \u001b[0msoup\u001b[0m\u001b[0;34m.\u001b[0m\u001b[0ma\u001b[0m\u001b[0;34m\u001b[0m\u001b[0m\n\u001b[0;32m----> 2\u001b[0;31m \u001b[0mprint\u001b[0m\u001b[0;34m(\u001b[0m\u001b[0ma\u001b[0m\u001b[0;34m.\u001b[0m\u001b[0mparent\u001b[0m\u001b[0;34m.\u001b[0m\u001b[0mname\u001b[0m\u001b[0;34m)\u001b[0m\u001b[0;34m\u001b[0m\u001b[0m\n\u001b[0m\u001b[1;32m      3\u001b[0m \u001b[0;32mimport\u001b[0m \u001b[0mre\u001b[0m\u001b[0;34m\u001b[0m\u001b[0m\n",
      "\u001b[0;31mAttributeError\u001b[0m: 'NoneType' object has no attribute 'parent'"
     ]
    }
   ],
   "source": [
    "a = soup.a\n",
    "print(a.parent.name)\n",
    "import re"
   ]
  },
  {
   "cell_type": "code",
   "execution_count": null,
   "metadata": {
    "collapsed": false
   },
   "outputs": [],
   "source": [
    "info = soup.find_all(id='avgPriceTitle')"
   ]
  },
  {
   "cell_type": "code",
   "execution_count": null,
   "metadata": {
    "collapsed": false
   },
   "outputs": [],
   "source": [
    "pattern = re.compile('[0-9]{1,}')\n",
    "result = pattern.findall(str(info))\n",
    "ave_money = result[0]+u'元'\n",
    "print(result[0]+u'元')"
   ]
  },
  {
   "cell_type": "code",
   "execution_count": null,
   "metadata": {
    "collapsed": false
   },
   "outputs": [],
   "source": [
    "address = soup.find_all(class_='breadcrumb', attrs='href')\n",
    "address"
   ]
  },
  {
   "cell_type": "code",
   "execution_count": null,
   "metadata": {
    "collapsed": false
   },
   "outputs": [],
   "source": [
    "str(address)\n",
    "results = re.findall('itemprop=\"url\">\\n            (.*?)\\n        </a>',str(address))\n",
    "shop_name = re.findall('<span>(.*?)</span>', str(address))"
   ]
  },
  {
   "cell_type": "code",
   "execution_count": null,
   "metadata": {
    "collapsed": false
   },
   "outputs": [],
   "source": [
    "city = results[0][0:-2]"
   ]
  },
  {
   "cell_type": "code",
   "execution_count": null,
   "metadata": {
    "collapsed": false
   },
   "outputs": [],
   "source": [
    "cbd = results[1]\n",
    "food_type = results[2]\n",
    "shop_id = re.findall('[0-9]{1,}', url)[0]"
   ]
  },
  {
   "cell_type": "code",
   "execution_count": null,
   "metadata": {
    "collapsed": false
   },
   "outputs": [],
   "source": [
    "brief_info = soup.find_all(class_=\"brief-info\", attrs='id')\n",
    "# print(type(str(brief_info)))\n",
    "soup2 = BeautifulSoup(str(brief_info), 'html.parser')"
   ]
  },
  {
   "cell_type": "code",
   "execution_count": null,
   "metadata": {
    "collapsed": false
   },
   "outputs": [],
   "source": [
    "soup2"
   ]
  },
  {
   "cell_type": "code",
   "execution_count": null,
   "metadata": {
    "collapsed": false
   },
   "outputs": [],
   "source": [
    "content = soup2.find_all(id='reviewCount')\n",
    "plcount = re.findall('id=\"reviewCount\">(.*)</span>', str(content))\n",
    "plcount = plcount[0][0:-3]"
   ]
  },
  {
   "cell_type": "code",
   "execution_count": null,
   "metadata": {
    "collapsed": false
   },
   "outputs": [],
   "source": [
    "rank = soup2.span\n",
    "rank = re.findall('title=\"(.*?)\"', str(rank))[0]"
   ]
  },
  {
   "cell_type": "code",
   "execution_count": null,
   "metadata": {
    "collapsed": false
   },
   "outputs": [],
   "source": [
    "str(content)"
   ]
  },
  {
   "cell_type": "code",
   "execution_count": null,
   "metadata": {
    "collapsed": false
   },
   "outputs": [],
   "source": [
    "results = re.findall('<span class=\"item\">(.*?)</span>', str(soup2))"
   ]
  },
  {
   "cell_type": "code",
   "execution_count": null,
   "metadata": {
    "collapsed": false
   },
   "outputs": [],
   "source": [
    "results"
   ]
  },
  {
   "cell_type": "code",
   "execution_count": null,
   "metadata": {
    "collapsed": false
   },
   "outputs": [],
   "source": [
    "kw = results[0]\n",
    "kw = kw[3:]"
   ]
  },
  {
   "cell_type": "code",
   "execution_count": null,
   "metadata": {
    "collapsed": true
   },
   "outputs": [],
   "source": [
    "hj = results[1]\n",
    "hj = hj[3:]"
   ]
  },
  {
   "cell_type": "code",
   "execution_count": null,
   "metadata": {
    "collapsed": true
   },
   "outputs": [],
   "source": [
    "fw = results[2]\n",
    "fw = fw[3:]"
   ]
  },
  {
   "cell_type": "code",
   "execution_count": null,
   "metadata": {
    "collapsed": false
   },
   "outputs": [],
   "source": [
    "s_shop_num = soup.find_all(class_=\"branch J-branch\")\n",
    "if s_shop_num:\n",
    "    s_shop_num = re.findall('>(.*?)<', str(s_shop_num))\n",
    "    s_shop_num = s_shop_num[0]\n",
    "    sub_shop_num = str(s_shop_num)[2:-3]\n",
    "else:\n",
    "    sub_shop_num = 0"
   ]
  },
  {
   "cell_type": "code",
   "execution_count": null,
   "metadata": {
    "collapsed": false
   },
   "outputs": [],
   "source": [
    "tel = soup.find_all(itemprop='tel')\n",
    "tel = re.findall('>(.*?)<', str(tel))[0]"
   ]
  },
  {
   "cell_type": "code",
   "execution_count": null,
   "metadata": {
    "collapsed": false
   },
   "outputs": [],
   "source": [
    "add = soup.find_all(itemprop=\"street-address\")[0]\n",
    "add = re.findall('title=\"(.*?)\">', str(add))[0]\n",
    "add"
   ]
  },
  {
   "cell_type": "code",
   "execution_count": null,
   "metadata": {
    "collapsed": false
   },
   "outputs": [],
   "source": [
    "soup.find_all(class_=\"promosearch-wrapper\")"
   ]
  },
  {
   "cell_type": "code",
   "execution_count": null,
   "metadata": {
    "collapsed": false
   },
   "outputs": [],
   "source": [
    "info_sp = re.findall('a class=\"tag tag-(.*?)-b', str(soup))"
   ]
  },
  {
   "cell_type": "code",
   "execution_count": null,
   "metadata": {
    "collapsed": false
   },
   "outputs": [],
   "source": [
    "len(info_sp)"
   ]
  },
  {
   "cell_type": "code",
   "execution_count": null,
   "metadata": {
    "collapsed": false
   },
   "outputs": [],
   "source": [
    "sp_info = \"\"\n",
    "for ele in info_sp:\n",
    "    if ele == \"tuan\":\n",
    "        sp_info = sp_info + u\"团、\"\n",
    "    elif ele == \"wai\":\n",
    "        sp_info = sp_info + u\"外、\"\n",
    "    elif ele == \"cu\":\n",
    "        sp_info = sp_info + u\"促、\"\n",
    "    elif ele == \"ding\":\n",
    "        sp_info = sp_info + u\"订、\"\n",
    "sp_info = sp_info[0:-1]"
   ]
  },
  {
   "cell_type": "code",
   "execution_count": null,
   "metadata": {
    "collapsed": false
   },
   "outputs": [],
   "source": [
    "sp_info"
   ]
  },
  {
   "cell_type": "code",
   "execution_count": null,
   "metadata": {
    "collapsed": false
   },
   "outputs": [],
   "source": [
    "t_info = soup.find_all(class_=\"info info-indent\")\n",
    "str(t_info)"
   ]
  },
  {
   "cell_type": "code",
   "execution_count": null,
   "metadata": {
    "collapsed": false
   },
   "outputs": [],
   "source": [
    "soup3 = BeautifulSoup(str(t_info), \"html.parser\")"
   ]
  },
  {
   "cell_type": "code",
   "execution_count": null,
   "metadata": {
    "collapsed": false
   },
   "outputs": [],
   "source": [
    "t_info = soup3.find_all(class_='item')[0].text"
   ]
  },
  {
   "cell_type": "code",
   "execution_count": null,
   "metadata": {
    "collapsed": false
   },
   "outputs": [],
   "source": [
    "time = t_info.strip().replace('\\n', '')"
   ]
  },
  {
   "cell_type": "code",
   "execution_count": null,
   "metadata": {
    "collapsed": true
   },
   "outputs": [],
   "source": []
  },
  {
   "cell_type": "code",
   "execution_count": null,
   "metadata": {
    "collapsed": true
   },
   "outputs": [],
   "source": []
  },
  {
   "cell_type": "code",
   "execution_count": null,
   "metadata": {
    "collapsed": false
   },
   "outputs": [],
   "source": [
    "t = re.findall('<span class=\"item\">(.*?)</span>', str(t_info))\n",
    "t"
   ]
  },
  {
   "cell_type": "code",
   "execution_count": null,
   "metadata": {
    "collapsed": true
   },
   "outputs": [],
   "source": []
  },
  {
   "cell_type": "code",
   "execution_count": null,
   "metadata": {
    "collapsed": false
   },
   "outputs": [],
   "source": [
    "soup"
   ]
  },
  {
   "cell_type": "code",
   "execution_count": null,
   "metadata": {
    "collapsed": false
   },
   "outputs": [],
   "source": [
    "comment = soup.find_all(class_=\"good J-summary\")\n",
    "elements = re.findall('1\">(.*?)</a></span>', str(comment))\n",
    "comment = str()"
   ]
  },
  {
   "cell_type": "code",
   "execution_count": null,
   "metadata": {
    "collapsed": false
   },
   "outputs": [],
   "source": [
    "for ele in elements:\n",
    "    comment = comment + str(ele)"
   ]
  },
  {
   "cell_type": "code",
   "execution_count": null,
   "metadata": {
    "collapsed": false
   },
   "outputs": [],
   "source": [
    "comment"
   ]
  },
  {
   "cell_type": "code",
   "execution_count": 5,
   "metadata": {
    "collapsed": false
   },
   "outputs": [
    {
     "name": "stdout",
     "output_type": "stream",
     "text": [
      "url: http://www.dianping.com/shop/16789967\n"
     ]
    },
    {
     "ename": "NameError",
     "evalue": "name 'city' is not defined",
     "output_type": "error",
     "traceback": [
      "\u001b[0;31m---------------------------------------------------------------------------\u001b[0m",
      "\u001b[0;31mNameError\u001b[0m                                 Traceback (most recent call last)",
      "\u001b[0;32m<ipython-input-5-86c9fb70eeb1>\u001b[0m in \u001b[0;36m<module>\u001b[0;34m()\u001b[0m\n\u001b[1;32m      1\u001b[0m \u001b[0mprint\u001b[0m\u001b[0;34m(\u001b[0m\u001b[0;34m\"url:\"\u001b[0m\u001b[0;34m,\u001b[0m \u001b[0murl\u001b[0m\u001b[0;34m)\u001b[0m\u001b[0;34m\u001b[0m\u001b[0m\n\u001b[0;32m----> 2\u001b[0;31m \u001b[0mprint\u001b[0m\u001b[0;34m(\u001b[0m\u001b[0;34m\"城市:\"\u001b[0m\u001b[0;34m,\u001b[0m \u001b[0mcity\u001b[0m\u001b[0;34m)\u001b[0m\u001b[0;34m\u001b[0m\u001b[0m\n\u001b[0m\u001b[1;32m      3\u001b[0m \u001b[0mprint\u001b[0m\u001b[0;34m(\u001b[0m\u001b[0;34m\"商圈:\"\u001b[0m\u001b[0;34m,\u001b[0m \u001b[0mcbd\u001b[0m\u001b[0;34m)\u001b[0m\u001b[0;34m\u001b[0m\u001b[0m\n\u001b[1;32m      4\u001b[0m \u001b[0mprint\u001b[0m\u001b[0;34m(\u001b[0m\u001b[0;34m\"食物种类:\"\u001b[0m\u001b[0;34m,\u001b[0m \u001b[0mfood_type\u001b[0m\u001b[0;34m)\u001b[0m\u001b[0;34m\u001b[0m\u001b[0m\n\u001b[1;32m      5\u001b[0m \u001b[0mprint\u001b[0m\u001b[0;34m(\u001b[0m\u001b[0;34m\"店名:\"\u001b[0m\u001b[0;34m,\u001b[0m \u001b[0mshop_name\u001b[0m\u001b[0;34m[\u001b[0m\u001b[0;36m0\u001b[0m\u001b[0;34m]\u001b[0m\u001b[0;34m)\u001b[0m\u001b[0;34m\u001b[0m\u001b[0m\n",
      "\u001b[0;31mNameError\u001b[0m: name 'city' is not defined"
     ]
    }
   ],
   "source": [
    "print(\"url:\", url)\n",
    "print(\"城市:\", city)\n",
    "print(\"商圈:\", cbd)\n",
    "print(\"食物种类:\", food_type)\n",
    "print(\"店名:\", shop_name[0])\n",
    "print(\"店铺id:\", shop_id)\n",
    "print(\"人均:\", ave_money)\n",
    "print(\"评论数:\", plcount)\n",
    "print(\"星级:\", rank)\n",
    "print(\"口味:\" ,kw)\n",
    "print(\"环境:\", hj)\n",
    "print(\"服务:\", fw)\n",
    "print(\"分店数:\", sub_shop_num)\n",
    "print(\"电话:\", tel)\n",
    "print(\"地址:\", add)\n",
    "print(\"特色服务:\", sp_info)\n",
    "print(\"营业时间:\", time)\n",
    "print(\"大家认为:\", comment)\n",
    "# print(\"促销信息:\", cu_info)\n",
    "# print(\"团购信息:\", bus_info)\n",
    "# print(\"推荐菜:\", recom_food)\n"
   ]
  },
  {
   "cell_type": "code",
   "execution_count": null,
   "metadata": {
    "collapsed": true
   },
   "outputs": [],
   "source": []
  },
  {
   "cell_type": "code",
   "execution_count": null,
   "metadata": {
    "collapsed": true
   },
   "outputs": [],
   "source": []
  }
 ],
 "metadata": {
  "anaconda-cloud": {},
  "kernelspec": {
   "display_name": "Python [conda root]",
   "language": "python",
   "name": "conda-root-py"
  },
  "language_info": {
   "codemirror_mode": {
    "name": "ipython",
    "version": 3
   },
   "file_extension": ".py",
   "mimetype": "text/x-python",
   "name": "python",
   "nbconvert_exporter": "python",
   "pygments_lexer": "ipython3",
   "version": "3.5.2"
  }
 },
 "nbformat": 4,
 "nbformat_minor": 1
}
