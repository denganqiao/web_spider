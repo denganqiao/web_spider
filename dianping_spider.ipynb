{
 "cells": [
  {
   "cell_type": "code",
   "execution_count": 2,
   "metadata": {
    "collapsed": true
   },
   "outputs": [],
   "source": [
    "import urllib\n",
    "from urllib import request\n",
    "from bs4 import BeautifulSoup\n",
    "import re"
   ]
  },
  {
   "cell_type": "code",
   "execution_count": 392,
   "metadata": {
    "collapsed": false
   },
   "outputs": [],
   "source": [
    "if __name__ == \"__main__\":\n",
    "    #以CSDN为例，CSDN不更改User Agent是无法访问的\n",
    "    url = 'http://www.dianping.com/shop/77298586'\n",
    "    headers = {}\n",
    "    #写入User Agent信息\n",
    "    headers['User-Agent'] = 'Mozilla/5.0 (Linux; Android 4.0.4; Galaxy Nexus Build/IMM76B) AppleWebKit/535.19 (KHTML, like Gecko) Chrome/18.0.1025.133 Mobile Safari/535.19'\n",
    "    #创建Request对象\n",
    "    req = request.Request(url, headers=headers)\n",
    "    #传入创建好的Request对象\n",
    "    response = request.urlopen(req)\n",
    "    #读取响应信息并解码\n",
    "    html = response.read().decode('utf-8')\n"
   ]
  },
  {
   "cell_type": "code",
   "execution_count": 393,
   "metadata": {
    "collapsed": false
   },
   "outputs": [],
   "source": [
    "from bs4 import BeautifulSoup"
   ]
  },
  {
   "cell_type": "code",
   "execution_count": 394,
   "metadata": {
    "collapsed": true
   },
   "outputs": [],
   "source": [
    "soup = BeautifulSoup(html, 'lxml')"
   ]
  },
  {
   "cell_type": "code",
   "execution_count": 395,
   "metadata": {
    "collapsed": false
   },
   "outputs": [
    {
     "name": "stdout",
     "output_type": "stream",
     "text": [
      "div\n"
     ]
    }
   ],
   "source": [
    "a = soup.a\n",
    "print(a.parent.name)\n",
    "import re"
   ]
  },
  {
   "cell_type": "code",
   "execution_count": 396,
   "metadata": {
    "collapsed": false
   },
   "outputs": [
    {
     "name": "stdout",
     "output_type": "stream",
     "text": [
      "meta\n",
      "meta\n",
      "meta\n",
      "meta\n",
      "meta\n",
      "meta\n",
      "meta\n",
      "meta\n",
      "meta\n",
      "meta\n",
      "meta\n",
      "meta\n"
     ]
    }
   ],
   "source": [
    "for tag in soup.find_all(re.compile('^m')):\n",
    "    print(tag.name)"
   ]
  },
  {
   "cell_type": "code",
   "execution_count": null,
   "metadata": {
    "collapsed": false
   },
   "outputs": [],
   "source": []
  },
  {
   "cell_type": "code",
   "execution_count": 397,
   "metadata": {
    "collapsed": false
   },
   "outputs": [
    {
     "name": "stdout",
     "output_type": "stream",
     "text": [
      "194元\n"
     ]
    }
   ],
   "source": [
    "pattern = re.compile('[0-9]{1,}')\n",
    "result = pattern.findall(info)\n",
    "ave_money = result[0]+u'元'\n",
    "print(result[0]+u'元')"
   ]
  },
  {
   "cell_type": "code",
   "execution_count": 398,
   "metadata": {
    "collapsed": false
   },
   "outputs": [
    {
     "data": {
      "text/plain": [
       "[<div class=\"breadcrumb\">\n",
       " <a href=\"http://www.dianping.com/beijing/food\" itemprop=\"url\">\n",
       "             北京餐厅\n",
       "         </a>\n",
       "         &gt;\n",
       "         <a href=\"http://www.dianping.com/search/category/2/10/r2580\" itemprop=\"url\">\n",
       "             三里屯\n",
       "         </a>\n",
       "         &gt;\n",
       "         <a href=\"http://www.dianping.com/search/category/2/10/g110r2580\" itemprop=\"url\">\n",
       "             火锅\n",
       "         </a>\n",
       "         &gt;\n",
       "     <span>和牛家鲜切牛肉火锅(工体店)</span>\n",
       " </div>]"
      ]
     },
     "execution_count": 398,
     "metadata": {},
     "output_type": "execute_result"
    }
   ],
   "source": [
    "address = soup.find_all(class_='breadcrumb', attrs='href')\n",
    "address"
   ]
  },
  {
   "cell_type": "code",
   "execution_count": 399,
   "metadata": {
    "collapsed": false
   },
   "outputs": [],
   "source": [
    "str(address)\n",
    "results = re.findall('itemprop=\"url\">\\n            (.*?)\\n        </a>',str(address))\n",
    "shop_name = re.findall('<span>(.*?)</span>', str(address))"
   ]
  },
  {
   "cell_type": "code",
   "execution_count": 400,
   "metadata": {
    "collapsed": false
   },
   "outputs": [],
   "source": [
    "city = results[0][0:-2]"
   ]
  },
  {
   "cell_type": "code",
   "execution_count": 401,
   "metadata": {
    "collapsed": false
   },
   "outputs": [],
   "source": [
    "cbd = results[1]\n",
    "food_type = results[2]\n",
    "shop_id = re.findall('[0-9]{1,}', url)[0]"
   ]
  },
  {
   "cell_type": "code",
   "execution_count": null,
   "metadata": {
    "collapsed": false
   },
   "outputs": [],
   "source": []
  },
  {
   "cell_type": "code",
   "execution_count": 402,
   "metadata": {
    "collapsed": false
   },
   "outputs": [],
   "source": [
    "brief_info = soup.find_all(class_=\"brief-info\", attrs='id')\n",
    "# print(type(str(brief_info)))\n",
    "soup2 = BeautifulSoup(str(brief_info), 'lxml')"
   ]
  },
  {
   "cell_type": "code",
   "execution_count": 403,
   "metadata": {
    "collapsed": false
   },
   "outputs": [
    {
     "data": {
      "text/plain": [
       "<html><body><p>[</p><div class=\"brief-info\">\n",
       "<span class=\"mid-rank-stars mid-str45\" title=\"准五星商户\"></span>\n",
       "<span class=\"item\" id=\"reviewCount\">280条评论</span>\n",
       "<div class=\"star-from-desc J-star-from-desc Hide\">星级来自业内综合评估<i class=\"icon\"></i></div>\n",
       "<span class=\"item\" id=\"avgPriceTitle\">人均：194元</span>\n",
       "<span id=\"comment_score\">\n",
       "\t    |\n",
       "\t        <span class=\"item\">口味：8.5</span>\n",
       "|\n",
       "\t        <span class=\"item\">环境：8.9</span>\n",
       "|\n",
       "\t        <span class=\"item\">服务：8.5</span>\n",
       "</span>\n",
       "<a class=\"icon score-btn J-score\"></a>\n",
       "</div>]</body></html>"
      ]
     },
     "execution_count": 403,
     "metadata": {},
     "output_type": "execute_result"
    }
   ],
   "source": [
    "soup2"
   ]
  },
  {
   "cell_type": "code",
   "execution_count": 404,
   "metadata": {
    "collapsed": false
   },
   "outputs": [],
   "source": [
    "content = soup2.find_all(id='reviewCount')\n",
    "plcount = re.findall('id=\"reviewCount\">(.*)</span>', str(content))\n",
    "plcount = plcount[0][0:-3]"
   ]
  },
  {
   "cell_type": "code",
   "execution_count": 405,
   "metadata": {
    "collapsed": false
   },
   "outputs": [],
   "source": [
    "rank = soup2.span\n",
    "rank = re.findall('title=\"(.*?)\"', str(rank))[0]"
   ]
  },
  {
   "cell_type": "code",
   "execution_count": 406,
   "metadata": {
    "collapsed": false
   },
   "outputs": [
    {
     "data": {
      "text/plain": [
       "'[<span class=\"item\" id=\"reviewCount\">280条评论</span>]'"
      ]
     },
     "execution_count": 406,
     "metadata": {},
     "output_type": "execute_result"
    }
   ],
   "source": [
    "str(content)"
   ]
  },
  {
   "cell_type": "code",
   "execution_count": 407,
   "metadata": {
    "collapsed": false
   },
   "outputs": [],
   "source": [
    "results = re.findall('<span class=\"item\">(.*?)</span>', str(soup2))"
   ]
  },
  {
   "cell_type": "code",
   "execution_count": 408,
   "metadata": {
    "collapsed": false
   },
   "outputs": [
    {
     "data": {
      "text/plain": [
       "['口味：8.5', '环境：8.9', '服务：8.5']"
      ]
     },
     "execution_count": 408,
     "metadata": {},
     "output_type": "execute_result"
    }
   ],
   "source": [
    "results"
   ]
  },
  {
   "cell_type": "code",
   "execution_count": 409,
   "metadata": {
    "collapsed": false
   },
   "outputs": [],
   "source": [
    "kw = results[0]\n",
    "kw = kw[3:]"
   ]
  },
  {
   "cell_type": "code",
   "execution_count": 410,
   "metadata": {
    "collapsed": true
   },
   "outputs": [],
   "source": [
    "hj = results[1]\n",
    "hj = hj[3:]"
   ]
  },
  {
   "cell_type": "code",
   "execution_count": 411,
   "metadata": {
    "collapsed": true
   },
   "outputs": [],
   "source": [
    "fw = results[2]\n",
    "fw = fw[3:]"
   ]
  },
  {
   "cell_type": "code",
   "execution_count": 413,
   "metadata": {
    "collapsed": false
   },
   "outputs": [],
   "source": [
    "s_shop_num = soup.find_all(class_=\"branch J-branch\")\n",
    "if s_shop_num:\n",
    "    s_shop_num = re.findall('>(.*?)<', str(s_shop_num))\n",
    "    s_shop_num = s_shop_num[0]\n",
    "    sub_shop_num = str(s_shop_num)[2:-3]\n",
    "else:\n",
    "    sub_shop_num = 0"
   ]
  },
  {
   "cell_type": "code",
   "execution_count": 426,
   "metadata": {
    "collapsed": false
   },
   "outputs": [
    {
     "data": {
      "text/plain": [
       "'4006602517'"
      ]
     },
     "execution_count": 426,
     "metadata": {},
     "output_type": "execute_result"
    }
   ],
   "source": [
    "tel = soup.find_all(itemprop='tel')\n",
    "tel = re.findall('>(.*?)<', str(tel))[0]"
   ]
  },
  {
   "cell_type": "code",
   "execution_count": 436,
   "metadata": {
    "collapsed": false
   },
   "outputs": [
    {
     "data": {
      "text/plain": [
       "'工体西路6号地下一层'"
      ]
     },
     "execution_count": 436,
     "metadata": {},
     "output_type": "execute_result"
    }
   ],
   "source": [
    "add = soup.find_all(itemprop=\"street-address\")[0]\n",
    "add = re.findall('title=\"(.*?)\">', str(add))[0]\n",
    "add"
   ]
  },
  {
   "cell_type": "code",
   "execution_count": null,
   "metadata": {
    "collapsed": true
   },
   "outputs": [],
   "source": []
  },
  {
   "cell_type": "code",
   "execution_count": null,
   "metadata": {
    "collapsed": true
   },
   "outputs": [],
   "source": []
  },
  {
   "cell_type": "code",
   "execution_count": 437,
   "metadata": {
    "collapsed": false
   },
   "outputs": [
    {
     "name": "stdout",
     "output_type": "stream",
     "text": [
      "http://www.dianping.com/shop/77298586\n",
      "北京\n",
      "三里屯\n",
      "火锅\n",
      "和牛家鲜切牛肉火锅(工体店)\n",
      "77298586\n",
      "280\n",
      "准五星商户\n",
      "8.5\n",
      "8.9\n",
      "8.5\n",
      "0\n",
      "4006602517\n",
      "工体西路6号地下一层\n"
     ]
    }
   ],
   "source": [
    "print(url)\n",
    "print(city)\n",
    "print(cbd)\n",
    "print(food_type)\n",
    "print(shop_name[0])\n",
    "print(shop_id)\n",
    "print(plcount)\n",
    "print(rank)\n",
    "print(kw)\n",
    "print(hj)\n",
    "print(fw)\n",
    "print(sub_shop_num)\n",
    "print(tel)\n",
    "print(add)"
   ]
  },
  {
   "cell_type": "code",
   "execution_count": 367,
   "metadata": {
    "collapsed": true
   },
   "outputs": [],
   "source": [
    "if __name__ == \"__main__\":\n",
    "    #以CSDN为例，CSDN不更改User Agent是无法访问的\n",
    "    url = 'http://www.dianping.com/shop/90559998'\n",
    "    headers = {}\n",
    "    #写入User Agent信息\n",
    "    headers['User-Agent'] = 'Mozilla/5.0 (Linux; Android 4.0.4; Galaxy Nexus Build/IMM76B) AppleWebKit/535.19 (KHTML, like Gecko) Chrome/18.0.1025.133 Mobile Safari/535.19'\n",
    "    #创建Request对象\n",
    "    req = request.Request(url, headers=headers)\n",
    "    #传入创建好的Request对象\n",
    "    response = request.urlopen(req)\n",
    "    #读取响应信息并解码\n",
    "    html = response.read().decode('utf-8')\n"
   ]
  },
  {
   "cell_type": "code",
   "execution_count": 368,
   "metadata": {
    "collapsed": true
   },
   "outputs": [],
   "source": [
    "soup = BeautifulSoup(html, 'lxml')"
   ]
  },
  {
   "cell_type": "code",
   "execution_count": 386,
   "metadata": {
    "collapsed": false
   },
   "outputs": [],
   "source": [
    "ss = soup.find_all(class_=\"branch J-branch\")\n",
    "ss = re.findall('>(.*?)<', str(ss))"
   ]
  },
  {
   "cell_type": "code",
   "execution_count": 387,
   "metadata": {
    "collapsed": false
   },
   "outputs": [
    {
     "data": {
      "text/plain": [
       "'其它2家分店'"
      ]
     },
     "execution_count": 387,
     "metadata": {},
     "output_type": "execute_result"
    }
   ],
   "source": [
    "ss = ss[0]\n"
   ]
  },
  {
   "cell_type": "code",
   "execution_count": 388,
   "metadata": {
    "collapsed": true
   },
   "outputs": [],
   "source": []
  },
  {
   "cell_type": "code",
   "execution_count": 389,
   "metadata": {
    "collapsed": false
   },
   "outputs": [],
   "source": [
    "sub_shop_num = str(ss)[2:-3]"
   ]
  },
  {
   "cell_type": "code",
   "execution_count": 390,
   "metadata": {
    "collapsed": false
   },
   "outputs": [
    {
     "data": {
      "text/plain": [
       "'244'"
      ]
     },
     "execution_count": 390,
     "metadata": {},
     "output_type": "execute_result"
    }
   ],
   "source": [
    "sub_shop_num"
   ]
  },
  {
   "cell_type": "code",
   "execution_count": null,
   "metadata": {
    "collapsed": true
   },
   "outputs": [],
   "source": []
  }
 ],
 "metadata": {
  "anaconda-cloud": {},
  "kernelspec": {
   "display_name": "Python [conda root]",
   "language": "python",
   "name": "conda-root-py"
  },
  "language_info": {
   "codemirror_mode": {
    "name": "ipython",
    "version": 3
   },
   "file_extension": ".py",
   "mimetype": "text/x-python",
   "name": "python",
   "nbconvert_exporter": "python",
   "pygments_lexer": "ipython3",
   "version": "3.5.2"
  }
 },
 "nbformat": 4,
 "nbformat_minor": 1
}
