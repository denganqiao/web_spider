{
 "cells": [
  {
   "cell_type": "code",
   "execution_count": 51,
   "metadata": {
    "collapsed": true
   },
   "outputs": [],
   "source": [
    "import urllib\n",
    "from urllib import request\n",
    "from bs4 import BeautifulSoup\n",
    "import re\n",
    "import json\n",
    "import requests"
   ]
  },
  {
   "cell_type": "code",
   "execution_count": 60,
   "metadata": {
    "collapsed": false
   },
   "outputs": [],
   "source": [
    "url = 'http://www.dianping.com/shop/77298586'\n",
    "headers = {}\n",
    "#写入User Agent信息\n",
    "headers['User-Agent'] = 'Mozilla/5.0 (Linux; Android 4.0.4; Galaxy Nexus Build/IMM76B) AppleWebKit/535.19 (KHTML, like Gecko) Chrome/18.0.1025.133 Mobile Safari/535.19'\n",
    "#创建Request对象\n",
    "response = requests.get(url, headers=headers)"
   ]
  },
  {
   "cell_type": "code",
   "execution_count": 63,
   "metadata": {
    "collapsed": false
   },
   "outputs": [],
   "source": [
    "soup = BeautifulSoup(response.text, 'html.parser')"
   ]
  },
  {
   "cell_type": "code",
   "execution_count": 64,
   "metadata": {
    "collapsed": false
   },
   "outputs": [
    {
     "data": {
      "text/plain": [
       "'<!DOCTYPE html>\\n<html>\\n <head>\\n  <meta charset=\"utf-8\"/>\\n  <meta content=\"IE=edge\" http-equiv=\"X-UA-Compatible\"/>\\n  <script>\\n   (function(n){var e;e=\"//catdot.dianping.com/broker-service/api/js\",n.onerror=function(n,o,r){var i=encodeURIComponent,t=+new Date();(new Image).src=e+\"?error=\"+i(n)+\"&file=\"+i(o)+\"&line=\"+i(r)+\"&timestamp=\"+t}})(window);\\n  </script>\\n  <title>\\n   和牛家鲜切牛肉火锅(工体店)电话,地址,营业时间(图)-北京美食-大众点评网\\n  </title>\\n  <script>\\n   document.documentElement.className = location.hash ? \\'J_H\\' : \\'\\';\\r\\n\\r\\n    !(function (win, doc, ns) {\\r\\n        var cacheFunName = \\'_MeiTuanALogObject\\';\\r\\n        win[cacheFunName] = ns;\\r\\n        if (!win[ns]) {\\r\\n            var _LX = function () {\\r\\n                _LX.q.push(arguments);\\r\\n                return _LX;\\r\\n            };\\r\\n            _LX.q = _LX.q || [];\\r\\n            _LX.l = +new Date();\\r\\n            win[ns] = _LX;\\r\\n        }\\r\\n    })(window, document, \\'LXAnalytics\\');\\r\\n\\r\\n    var G_rtop = +new Date,\\r\\n            _gaq = [\\r\\n                [\\'_setAccount\\', \\'UA-464026-1\\'],\\r\\n                [\\'_addOrganic\\', \\'soso\\', \\'w\\'],\\r\\n                [\\'_addOrganic\\', \\'sogou\\', \\'query\\'],\\r\\n                [\\'_addOrganic\\', \\'yodao\\', \\'q\\'],\\r\\n                [\\'_addOrganic\\', \\'bing\\', \\'q\\'],\\r\\n                [\\'_addOrganic\\', \\'360\\', \\'q\\'],\\r\\n                [\\'_addOrganic\\', \\'gougou\\', \\'search\\'],\\r\\n                [\\'_setDomainName\\', \\'.dianping.com\\']\\r\\n                ,\\r\\n                    [\\'_setAllowHash\\', false]\\r\\n                            ],\\r\\n            dpga = function (key) {\\r\\n                _gaq.push([\\'_trackPageview\\', key || \\'\\'])\\r\\n            },\\r\\n            pageTracker = {_trackPageview: dpga},\\r\\n            _hip = [\\r\\n                [\\'_setPageId\\', 12],\\r\\n                [\\'_setCityId\\', 2],\\r\\n                [\\'_setShopType\\', 10],\\r\\n                [\\'_setPVInitData\\', {p_render:+(new Date)-G_rtop}]\\r\\n            ];\\n  </script>\\n  <link href=\"//www.dpfile.com/s/res/favicon.5ff777c11d7833e57e01c9d192b7e427.ico\" rel=\"Shortcut Icon\" type=\"image/x-icon\"/>\\n  <link href=\"//www.dpfile.com/s/res/app-touch-icon.89213f53ed66e1693e4b6aeedd355349.png\" rel=\"apple-touch-icon\">\\n   <link href=\"//www.dpfile.com/s/res/app-touch-icon-76x76.6399ce382f3e0584a6b07599cbeb3bcb.png\" rel=\"apple-touch-icon\" sizes=\"76x76\">\\n    <link href=\"//www.dpfile.com/s/res/app-touch-icon-120x120.067844b8518f076b154dcf793a46a0a5.png\" rel=\"apple-touch-icon\" sizes=\"120x120\">\\n     <link href=\"//www.dpfile.com/s/res/app-touch-icon-152x152.ee6d0c24fc2de0f9a62b6cc9e6720393.png\" rel=\"apple-touch-icon\" sizes=\"152x152\">\\n      <link href=\"//www.dpfile.com/mod/css-reset/1.0.0/css/index.css\" rel=\"stylesheet\" type=\"text/css\"/>\\n      <link href=\"//www.dpfile.com/concat/~mod~easy-login~0.4.20~css~style.css,~mod~mbox~1.0.3~css~mbox.css,~mod~easy-login~0.4.16~css~style.css,~mod~main-authbox~1.0.5~css~index.css,~mod~css-rating~1.0.2~css~index.css,~mod~main-authbox~1.0.4~css~index.css,~mod~app-main-shop-basicinfo-change~1.1.23~css~index.css,~mod~app-main-shop-remove~0.0.8~css~index.css,~mod~app-main-header-remove~1.4.8~css~footer.css,~mod~app-main-header-remove~1.4.8~css~goto_app.css,~mod~app-main-header-remove~1.4.8~css~index.css\" rel=\"stylesheet\" type=\"text/css\"/>\\n      <link href=\"http://www.dianping.com/shop/77298586\" rel=\"canonical\"/>\\n      <link href=\"http://m.dianping.com/shop/77298586\" media=\"only screen and (max-width: 640px)\" rel=\"alternate\">\\n       <script type=\"text/javascript\">\\n        (function(){var g=[\"iPhone\",\"Android\",\"Windows Phone\"],b=\"https://m.dianping.com\",e=window.location.pathname+window.location.search,f=false;for(var d=0,a;a=g[d];d++){if(navigator.userAgent.indexOf(a)!=-1){f=true;break}}function h(){location.href=b+e}function c(){if(document.referrer.indexOf(b)==0){document.cookie=\"vmod=pc;expires=0;\"}return document.cookie.match(/vmod=pc/)}if(f){if(!c()){h()}}})();\\n       </script>\\n       <meta content=\"和牛家鲜切牛肉火锅(工体店)null,火锅,北京,三里屯,地址,电话,评论,网友点评,推荐菜,照片/图片,营业时间,公交信息\" name=\"Keywords\"/>\\n       <meta content=\"北京和牛家鲜切牛肉火锅(工体店):人均价格194元。进入和牛家鲜切牛肉火锅(工体店)页面,查看更多关于和牛家鲜切牛肉火锅(工体店)的地址、电话、菜单、价格、营业时间介绍,了解和牛家鲜切牛肉火锅(工体店)最新的折扣优惠券、用户点评信息。\" name=\"Description\"/>\\n       <meta content=\"province=北京;city=北京;\" name=\"location\">\\n        <meta content=\"和牛家鲜切牛肉火锅\" itemprop=\"name\">\\n         <meta content=\"和牛家鲜切牛肉火锅\" itemprop=\"description\">\\n          <meta content=\"http://p0.meituan.net/msmerchant/a05e941bd32dcc360b016d3f28dfba2287470.jpeg%40120w_90h_1e_1c_1l_80q%7Cwatermark%3D1%26%26r%3D1%26p%3D9%26x%3D2%26y%3D2%26relative%3D1%26o%3D20\" itemprop=\"image\">\\n           <meta content=\"format=html5; url=http://m.dianping.com/shop/77298586\" http-equiv=\"mobile-agent\">\\n            <div class=\"staticPage\" id=\"staticPage\" type=\"hide\">\\n            </div>\\n            <script>\\n             !function(e,t,n){function s(){var e=t.createElement(\"script\");e.async=!0,e.src=\"https://s0.meituan.net/bs/js/?f=mta-js:mta.min.js\";var n=t.getElementsByTagName(\"script\")[0];n.parentNode.insertBefore(e,n)}if(e.MeituanAnalyticsObject=n,e[n]=e[n]||function(){(e[n].q=e[n].q||[]).push(arguments)},\"complete\"===t.readyState)s();else{var r=\"addEventListener\",i=\"attachEvent\";if(e[r])e[r](\"load\",s,!1);else if(e[i])e[i](\"onload\",s);else{var a=e.onload;e.onload=function(){s(),a&&a()}}}}(window,document,\"mta\"),function(e,t,n){if(t&&!(\"_mta\"in t)){t._mta=!0;var s=e.location.protocol;if(\"file:\"!==s){var r=e.location.host,i=t.prototype.open;t.prototype.open=function(t,n,a,o,h){if(this._method=\"string\"==typeof t?t.toUpperCase():null,n){if(0===n.indexOf(\"http://\")||0===n.indexOf(\"https://\")||0===n.indexOf(\"//\"))this._url=n;else if(0===n.indexOf(\"/\"))this._url=s+\"//\"+r+n;else{var l=s+\"//\"+r+e.location.pathname;l=l.substring(0,l.lastIndexOf(\"/\")+1),this._url=l+n}var u=this._url.indexOf(\"?\");-1!==u?(this._searchLength=this._url.length-1-u,this._url=this._url.substring(0,u)):this._searchLength=0}else this._url=null,this._searchLength=0;return this._startTime=(new Date).getTime(),i.apply(this,arguments)};var a=\"onreadystatechange\",o=\"addEventListener\",h=t.prototype.send;t.prototype.send=function(t){function n(n,r){if(0!==n._url.indexOf(s+\"//frep.meituan.net/_.gif\")){for(var i=\"browser.ajax\",a=[98,114,111,119,115,101,114,46,97,106,97,120],o=0,h=i.length;h>o;o++)if(i.charCodeAt(o)!==a[o])return;var l;if(n.response)switch(n.responseType){case\"json\":l=JSON&&JSON.stringify(n.response).length;break;case\"blob\":case\"moz-blob\":l=n.response.size;break;case\"arraybuffer\":l=n.response.byteLength;case\"document\":l=n.response.documentElement&&n.response.documentElement.innerHTML&&n.response.documentElement.innerHTML.length+28;break;default:l=n.response.length}e.mta(\"send\",i,{url:n._url,method:n._method,error:!(0===n.status.toString().indexOf(\"2\")||304===n.status),responseTime:(new Date).getTime()-n._startTime,requestSize:n._searchLength+(t?t.length:0),responseSize:l||0})}}if(o in this){var r=function(e){n(this,e)};this[o](\"load\",r),this[o](\"error\",r),this[o](\"abort\",r)}else{var i=this[a];this[a]=function(t){i&&i.apply(this,arguments),4===this.readyState&&e.mta&&n(this,t)}}return h.apply(this,arguments)}}}}(window,window.XMLHttpRequest,\"mta\");\\n\\n// 初始化项目\\nmta(\"create\",\"583ebe0e3628a77c40686d20\");\\n// 推荐设置上报地址为 HTTPS 协议，以获得更高的数据准确性，默认会和页面协议一致\\nmta(\"config\", \"beaconImage\", \"https://frep.meituan.net/_.gif\");\\n\\n// 发送页面性能指标，包括 ttfb（首字节）、domReady（可交互）、load（完全加载）等\\nmta(\"send\",\"page\");\\n            </script>\\n            <link href=\"//www.dpfile.com/app/app-pc-main-shop/static/main-shop.min.dfa4372ca31215245c3a2ff57ff3f1b0.css\" rel=\"stylesheet\" type=\"text/css\"/>\\n            <meta content=\"dianping_nova\" name=\"lx:category\">\\n             <meta content=\"dp_pc\" name=\"lx:appnm\">\\n              <meta content=\"pc_shop_detail\" name=\"lx:cid\">\\n               <script type=\"text/javascript\">\\n                (function (win, doc, ns) {\\n        var cacheFunName = \\'_MeiTuanALogObject\\';\\n        win[cacheFunName] = ns;\\n        if (!win[ns]) {\\n            var _LX = function () {\\n                _LX.q.push(arguments);\\n                return _LX;\\n            };\\n            _LX.q = _LX.q || [];\\n            _LX.l = +new Date();\\n            win[ns] = _LX;\\n        }\\n    })(window, document, \\'LXAnalytics\\');\\n               </script>\\n               <script async=\"\" charset=\"utf-8\" defer=\"\" src=\"//analytics.meituan.net/analytics.js\" type=\"text/javascript\">\\n               </script>\\n               <script>\\n                var rohrdata = \"\";\\n    var Rohr_Opt = new Object;\\n    Rohr_Opt.Flag = 100015;\\n    Rohr_Opt.LogVal = \"rohrdata\";\\n               </script>\\n               <script src=\"http://awp-assets.meituan.net/hfe/rohr/1.0.2/rohr.min.js\">\\n               </script>\\n              </meta>\\n             </meta>\\n            </meta>\\n           </meta>\\n          </meta>\\n         </meta>\\n        </meta>\\n       </meta>\\n      </link>\\n     </link>\\n    </link>\\n   </link>\\n  </link>\\n </head>\\n <body id=\"top\">\\n  <div class=\"site-nav\" id=\"site-nav\">\\n   <div class=\"container\" id=\"static_header_container_wya\">\\n    <div class=\"group user-action J-user-action\">\\n     <a class=\"item\" href=\"https://www.dianping.com/login\" onclick=\"LXAnalytics(\\'moduleClick\\', \\'hdlogin\\')\" rel=\"nofollow\">\\n      点评账号登录\\n     </a>\\n     <a class=\"item\" href=\"https://www.dianping.com/thirdconnect?do=l&amp;ft=6&amp;redir=\" onclick=\"LXAnalytics(\\'moduleClick\\', \\'hdloginqq\\')\" rel=\"nofollow\">\\n      QQ登录\\n     </a>\\n     <a class=\"item\" href=\"https://www.dianping.com/reg\" onclick=\"LXAnalytics(\\'moduleClick\\', \\'hdregister\\')\" rel=\"nofollow\">\\n      注册\\n     </a>\\n    </div>\\n    <div class=\"group quick-menu\">\\n     <a class=\"item left-split\" href=\"//www.dianping.com/addreview/list\" onclick=\"LXAnalytics(\\'moduleClick\\', \\'hdaddreview\\')\" rel=\"nofollow\">\\n      写点评\\n     </a>\\n     <a class=\"item left-split\" href=\"//www.dianping.com/addshop\" onclick=\"LXAnalytics(\\'moduleClick\\', \\'hdaddpoi\\')\" rel=\"nofollow\">\\n      添加商户\\n     </a>\\n     <a class=\"item left-split J-shop-center-trigger\" onclick=\"LXAnalytics(\\'moduleClick\\', \\'hdshopowner\\')\" rel=\"nofollow\">\\n      我是商家\\n      <i class=\"icon i-arrow\">\\n      </i>\\n     </a>\\n     <a class=\"item left-split\" href=\"//b.dianping.com\" onclick=\"LXAnalytics(\\'moduleClick\\', \\'hdfirm\\')\" rel=\"nofollow\">\\n      企业服务\\n     </a>\\n     <a class=\"item left-split J-agent-recruit-trigger\" onclick=\"LXAnalytics(\\'moduleClick\\', \\'hdagency\\')\" rel=\"nofollow\">\\n      代理商招募\\n      <i class=\"icon i-arrow\">\\n      </i>\\n     </a>\\n     <a class=\"item left-split J-dp-index-trigger\" onclick=\"LXAnalytics(\\'moduleClick\\', \\'hddata\\')\" rel=\"nofollow\">\\n      点评大数据\\n      <i class=\"icon i-arrow\">\\n      </i>\\n     </a>\\n     <a class=\"item left-split\" href=\"//www.dianping.com/events/m/index.htm\" id=\"J_mobile-page\" onclick=\"LXAnalytics(\\'moduleClick\\', \\'hdapp\\')\" rel=\"nofollow\">\\n      <i class=\"icon i-mobile\">\\n      </i>\\n      手机版\\n     </a>\\n     <a class=\"item left-split\" href=\"//www.dianping.com/help\" onclick=\"LXAnalytics(\\'moduleClick\\', \\'hdservice\\')\" rel=\"nofollow\">\\n      服务中心\\n     </a>\\n    </div>\\n    <div class=\"panel my-center J-shop-center Hide\">\\n     <a href=\"//e.dianping.com\" rel=\"nofollow\" target=\"_blank\">\\n      商户中心\\n     </a>\\n     <a href=\"//e.dianping.com/shopclaim/introduce/introducelogin\" rel=\"nofollow\" target=\"_blank\">\\n      我想合作\\n     </a>\\n     <a href=\"//e.dianping.com/shopclaim/shopv\" rel=\"nofollow\" target=\"_blank\">\\n      商户认证\\n     </a>\\n    </div>\\n    <div class=\"panel my-center J-dp-index Hide\">\\n     <a href=\"https://h5.dianping.com/app/app-bigdata2017/index.html\" rel=\"nofollow\" target=\"_blank\">\\n      吃喝玩乐大数据\\n     </a>\\n    </div>\\n    <div class=\"panel my-center J-agent-recruit Hide\">\\n     <a href=\"https://daili.meituan.com/?comeFrom=dpwebMenu\" rel=\"nofollow\" target=\"_blank\">\\n      餐饮代理商招募\\n     </a>\\n     <a href=\"//www.dianping.com/apollo/agent/index?source=dppc\" rel=\"nofollow\" target=\"_blank\">\\n      非餐饮代理商招募\\n     </a>\\n    </div>\\n   </div>\\n  </div>\\n  <div class=\"page-header\" id=\"page-header\">\\n   <div class=\"container\">\\n    <a class=\"logo\" href=\"//www.dianping.com\" onclick=\"pageTracker._trackPageview(\\'dp_head_logo_beijing\\');\" title=\"大众点评网\">\\n    </a>\\n    <a class=\"city J-city\">\\n     北京\\n     <i class=\"icon i-arrow\">\\n     </i>\\n    </a>\\n    <div class=\"city-list J-city-list Hide\">\\n     <div class=\"group clearfix\">\\n      <h3 class=\"title\">\\n       华北东北：\\n      </h3>\\n      <a href=\"//www.dianping.com/beijing/food\" onclick=\"pageTracker._trackPageview(\\'dp_head_hotcity_beijing\\');\">\\n       北京\\n      </a>\\n      <a href=\"//www.dianping.com/tianjin/food\" onclick=\"pageTracker._trackPageview(\\'dp_head_hotcity_tianjin\\');\">\\n       天津\\n      </a>\\n      <a href=\"//www.dianping.com/shenyang/food\" onclick=\"pageTracker._trackPageview(\\'dp_head_hotcity_shenyang\\');\">\\n       沈阳\\n      </a>\\n      <a href=\"//www.dianping.com/dalian/food\" onclick=\"pageTracker._trackPageview(\\'dp_head_hotcity_dalian\\');\">\\n       大连\\n      </a>\\n      <a href=\"//www.dianping.com/changchun/food\" onclick=\"pageTracker._trackPageview(\\'dp_head_hotcity_changchun\\');\">\\n       长春\\n      </a>\\n      <a href=\"//www.dianping.com/haerbin/food\" onclick=\"pageTracker._trackPageview(\\'dp_head_hotcity_haerbin\\');\">\\n       哈尔滨\\n      </a>\\n      <a href=\"//www.dianping.com/shijiazhuang/food\" onclick=\"pageTracker._trackPageview(\\'dp_head_hotcity_shijiazhuang\\');\">\\n       石家庄\\n      </a>\\n      <a href=\"//www.dianping.com/taiyuan/food\" onclick=\"pageTracker._trackPageview(\\'dp_head_hotcity_taiyuan\\');\">\\n       太原\\n      </a>\\n      <a href=\"//www.dianping.com/huhehaote/food\" onclick=\"pageTracker._trackPageview(\\'dp_head_hotcity_huhehaote\\');\">\\n       呼和浩特\\n      </a>\\n      <a href=\"//www.dianping.com/langfang/food\" onclick=\"pageTracker._trackPageview(\\'dp_head_hotcity_langfang\\');\">\\n       廊坊\\n      </a>\\n     </div>\\n     <div class=\"group clearfix\">\\n      <h3 class=\"title\">\\n       华东地区：\\n      </h3>\\n      <a href=\"//www.dianping.com/shanghai/food\" onclick=\"pageTracker._trackPageview(\\'dp_head_hotcity_shanghai\\');\">\\n       上海\\n      </a>\\n      <a href=\"//www.dianping.com/hangzhou/food\" onclick=\"pageTracker._trackPageview(\\'dp_head_hotcity_hangzhou\\');\">\\n       杭州\\n      </a>\\n      <a href=\"//www.dianping.com/nanjing/food\" onclick=\"pageTracker._trackPageview(\\'dp_head_hotcity_nanjing\\');\">\\n       南京\\n      </a>\\n      <a href=\"//www.dianping.com/suzhou/food\" onclick=\"pageTracker._trackPageview(\\'dp_head_hotcity_suzhou\\');\">\\n       苏州\\n      </a>\\n      <a href=\"//www.dianping.com/wuxi/food\" onclick=\"pageTracker._trackPageview(\\'dp_head_hotcity_wuxi\\');\">\\n       无锡\\n      </a>\\n      <a href=\"//www.dianping.com/jinan/food\" onclick=\"pageTracker._trackPageview(\\'dp_head_hotcity_jinan\\');\">\\n       济南\\n      </a>\\n      <a href=\"//www.dianping.com/xiamen/food\" onclick=\"pageTracker._trackPageview(\\'dp_head_hotcity_xiamen\\');\">\\n       厦门\\n      </a>\\n      <a href=\"//www.dianping.com/ningbo/food\" onclick=\"pageTracker._trackPageview(\\'dp_head_hotcity_ningbo\\');\">\\n       宁波\\n      </a>\\n      <a href=\"//www.dianping.com/fuzhou/food\" onclick=\"pageTracker._trackPageview(\\'dp_head_hotcity_fuzhou\\');\">\\n       福州\\n      </a>\\n      <a href=\"//www.dianping.com/qingdao/food\" onclick=\"pageTracker._trackPageview(\\'dp_head_hotcity_qingdao\\');\">\\n       青岛\\n      </a>\\n      <a href=\"//www.dianping.com/hefei/food\" onclick=\"pageTracker._trackPageview(\\'dp_head_hotcity_hefei\\');\">\\n       合肥\\n      </a>\\n      <a href=\"//www.dianping.com/changzhou/food\" onclick=\"pageTracker._trackPageview(\\'dp_head_hotcity_changzhou\\');\">\\n       常州\\n      </a>\\n      <a href=\"//www.dianping.com/yangzhou/food\" onclick=\"pageTracker._trackPageview(\\'dp_head_hotcity_yangzhou\\');\">\\n       扬州\\n      </a>\\n      <a href=\"//www.dianping.com/wenzhou/food\" onclick=\"pageTracker._trackPageview(\\'dp_head_hotcity_wenzhou\\');\">\\n       温州\\n      </a>\\n      <a href=\"//www.dianping.com/shaoxing/food\" onclick=\"pageTracker._trackPageview(\\'dp_head_hotcity_shaoxing\\');\">\\n       绍兴\\n      </a>\\n      <a href=\"//www.dianping.com/jiaxing/food\" onclick=\"pageTracker._trackPageview(\\'dp_head_hotcity_jiaxing\\');\">\\n       嘉兴\\n      </a>\\n      <a href=\"//www.dianping.com/yantai/food\" onclick=\"pageTracker._trackPageview(\\'dp_head_hotcity_yantai\\');\">\\n       烟台\\n      </a>\\n      <a href=\"//www.dianping.com/weihai/food\" onclick=\"pageTracker._trackPageview(\\'dp_head_hotcity_weihai\\');\">\\n       威海\\n      </a>\\n      <a href=\"//www.dianping.com/zhenjiang/food\" onclick=\"pageTracker._trackPageview(\\'dp_head_hotcity_zhenjiang\\');\">\\n       镇江\\n      </a>\\n      <a href=\"//www.dianping.com/nantong/food\" onclick=\"pageTracker._trackPageview(\\'dp_head_hotcity_nantong\\');\">\\n       南通\\n      </a>\\n      <a href=\"//www.dianping.com/jinhua/food\" onclick=\"pageTracker._trackPageview(\\'dp_head_hotcity_jinhua\\');\">\\n       金华\\n      </a>\\n      <a href=\"//www.dianping.com/xuzhou/food\" onclick=\"pageTracker._trackPageview(\\'dp_head_hotcity_xuzhou\\');\">\\n       徐州\\n      </a>\\n      <a href=\"//www.dianping.com/weifang/food\" onclick=\"pageTracker._trackPageview(\\'dp_head_hotcity_weifang\\');\">\\n       潍坊\\n      </a>\\n      <a href=\"//www.dianping.com/zibo/food\" onclick=\"pageTracker._trackPageview(\\'dp_head_hotcity_zibo\\');\">\\n       淄博\\n      </a>\\n      <a href=\"//www.dianping.com/linyi/food\" onclick=\"pageTracker._trackPageview(\\'dp_head_hotcity_linyi\\');\">\\n       临沂\\n      </a>\\n      <a href=\"//www.dianping.com/maanshan/food\" onclick=\"pageTracker._trackPageview(\\'dp_head_hotcity_maanshan\\');\">\\n       马鞍山\\n      </a>\\n      <a href=\"//www.dianping.com/zhejiangtaizhou/food\" onclick=\"pageTracker._trackPageview(\\'dp_head_hotcity_zhejiangtaizhou\\');\">\\n       台州\\n      </a>\\n      <a href=\"//www.dianping.com/taizhou/food\" onclick=\"pageTracker._trackPageview(\\'dp_head_hotcity_taizhou\\');\">\\n       泰州\\n      </a>\\n      <a href=\"//www.dianping.com/jining/food\" onclick=\"pageTracker._trackPageview(\\'dp_head_hotcity_jining\\');\">\\n       济宁\\n      </a>\\n      <a href=\"//www.dianping.com/taian/food\" onclick=\"pageTracker._trackPageview(\\'dp_head_hotcity_taian\\');\">\\n       泰安\\n      </a>\\n     </div>\\n     <div class=\"group clearfix\">\\n      <h3 class=\"title\">\\n       中部西部：\\n      </h3>\\n      <a href=\"//www.dianping.com/chengdu/food\" onclick=\"pageTracker._trackPageview(\\'dp_head_hotcity_chengdu\\');\">\\n       成都\\n      </a>\\n      <a href=\"//www.dianping.com/wuhan/food\" onclick=\"pageTracker._trackPageview(\\'dp_head_hotcity_wuhan\\');\">\\n       武汉\\n      </a>\\n      <a href=\"//www.dianping.com/zhengzhou/food\" onclick=\"pageTracker._trackPageview(\\'dp_head_hotcity_zhengzhou\\');\">\\n       郑州\\n      </a>\\n      <a href=\"//www.dianping.com/changsha/food\" onclick=\"pageTracker._trackPageview(\\'dp_head_hotcity_changsha\\');\">\\n       长沙\\n      </a>\\n      <a href=\"//www.dianping.com/nanchang/food\" onclick=\"pageTracker._trackPageview(\\'dp_head_hotcity_nanchang\\');\">\\n       南昌\\n      </a>\\n      <a href=\"//www.dianping.com/guiyang/food\" onclick=\"pageTracker._trackPageview(\\'dp_head_hotcity_guiyang\\');\">\\n       贵阳\\n      </a>\\n      <a href=\"//www.dianping.com/xining/food\" onclick=\"pageTracker._trackPageview(\\'dp_head_hotcity_xining\\');\">\\n       西宁\\n      </a>\\n      <a href=\"//www.dianping.com/chongqing/food\" onclick=\"pageTracker._trackPageview(\\'dp_head_hotcity_chongqing\\');\">\\n       重庆\\n      </a>\\n      <a href=\"//www.dianping.com/xian/food\" onclick=\"pageTracker._trackPageview(\\'dp_head_hotcity_xian\\');\">\\n       西安\\n      </a>\\n      <a href=\"//www.dianping.com/kunming/food\" onclick=\"pageTracker._trackPageview(\\'dp_head_hotcity_kunming\\');\">\\n       昆明\\n      </a>\\n      <a href=\"//www.dianping.com/lanzhou/food\" onclick=\"pageTracker._trackPageview(\\'dp_head_hotcity_lanzhou\\');\">\\n       兰州\\n      </a>\\n      <a href=\"//www.dianping.com/wulumuqi/food\" onclick=\"pageTracker._trackPageview(\\'dp_head_hotcity_wulumuqi\\');\">\\n       乌鲁木齐\\n      </a>\\n      <a href=\"//www.dianping.com/yinchuan/food\" onclick=\"pageTracker._trackPageview(\\'dp_head_hotcity_yinchuan\\');\">\\n       银川\\n      </a>\\n     </div>\\n     <div class=\"group clearfix\">\\n      <h3 class=\"title\">\\n       华南地区：\\n      </h3>\\n      <a href=\"//www.dianping.com/guangzhou/food\" onclick=\"pageTracker._trackPageview(\\'dp_head_hotcity_guangzhou\\');\">\\n       广州\\n      </a>\\n      <a href=\"//www.dianping.com/shenzhen/food\" onclick=\"pageTracker._trackPageview(\\'dp_head_hotcity_shenzhen\\');\">\\n       深圳\\n      </a>\\n      <a href=\"//www.dianping.com/foshan/food\" onclick=\"pageTracker._trackPageview(\\'dp_head_hotcity_foshan\\');\">\\n       佛山\\n      </a>\\n      <a href=\"//www.dianping.com/zhuhai/food\" onclick=\"pageTracker._trackPageview(\\'dp_head_hotcity_zhuhai\\');\">\\n       珠海\\n      </a>\\n      <a href=\"//www.dianping.com/dongguan/food\" onclick=\"pageTracker._trackPageview(\\'dp_head_hotcity_dongguan\\');\">\\n       东莞\\n      </a>\\n      <a href=\"//www.dianping.com/sanya/food\" onclick=\"pageTracker._trackPageview(\\'dp_head_hotcity_sanya\\');\">\\n       三亚\\n      </a>\\n      <a href=\"//www.dianping.com/haikou/food\" onclick=\"pageTracker._trackPageview(\\'dp_head_hotcity_haikou\\');\">\\n       海口\\n      </a>\\n      <a href=\"//www.dianping.com/nanning/food\" onclick=\"pageTracker._trackPageview(\\'dp_head_hotcity_nanning\\');\">\\n       南宁\\n      </a>\\n      <a href=\"//www.dianping.com/huizhou/food\" onclick=\"pageTracker._trackPageview(\\'dp_head_hotcity_huizhou\\');\">\\n       惠州\\n      </a>\\n     </div>\\n     <div class=\"group clearfix\">\\n      <h3 class=\"title\">\\n       国外热门：\\n      </h3>\\n      <a href=\"//www.dianping.com/tokyo/food\" onclick=\"pageTracker._trackPageview(\\'dp_head_hotcity_tokyo\\');\">\\n       东京\\n      </a>\\n      <a href=\"//www.dianping.com/seoul/food\" onclick=\"pageTracker._trackPageview(\\'dp_head_hotcity_seoul\\');\">\\n       首尔\\n      </a>\\n      <a href=\"//www.dianping.com/bangkok/food\" onclick=\"pageTracker._trackPageview(\\'dp_head_hotcity_bangkok\\');\">\\n       曼谷\\n      </a>\\n      <a href=\"//www.dianping.com/singapore/food\" onclick=\"pageTracker._trackPageview(\\'dp_head_hotcity_singapore\\');\">\\n       新加坡\\n      </a>\\n      <a href=\"//www.dianping.com/kualalumpur/food\" onclick=\"pageTracker._trackPageview(\\'dp_head_hotcity_kualalumpur\\');\">\\n       吉隆坡\\n      </a>\\n      <a href=\"//www.dianping.com/melbourne/food\" onclick=\"pageTracker._trackPageview(\\'dp_head_hotcity_melbourne\\');\">\\n       墨尔本\\n      </a>\\n      <a href=\"//www.dianping.com/kyoto/food\" onclick=\"pageTracker._trackPageview(\\'dp_head_hotcity_kyoto\\');\">\\n       京都\\n      </a>\\n      <a href=\"//www.dianping.com/osaka/food\" onclick=\"pageTracker._trackPageview(\\'dp_head_hotcity_osaka\\');\">\\n       大阪\\n      </a>\\n      <a href=\"//www.dianping.com/hokkaido/food\" onclick=\"pageTracker._trackPageview(\\'dp_head_hotcity_hokkaido\\');\">\\n       北海道\\n      </a>\\n      <a href=\"//www.dianping.com/chiangmai/food\" onclick=\"pageTracker._trackPageview(\\'dp_head_hotcity_chiangmai\\');\">\\n       清迈\\n      </a>\\n      <a href=\"//www.dianping.com/pattaya/food\" onclick=\"pageTracker._trackPageview(\\'dp_head_hotcity_pattaya\\');\">\\n       芭堤雅\\n      </a>\\n      <a href=\"//www.dianping.com/phuket/food\" onclick=\"pageTracker._trackPageview(\\'dp_head_hotcity_phuket\\');\">\\n       普吉岛\\n      </a>\\n      <a href=\"//www.dianping.com/jeju/food\" onclick=\"pageTracker._trackPageview(\\'dp_head_hotcity_jeju\\');\">\\n       济州岛\\n      </a>\\n      <a href=\"//www.dianping.com/boracay/food\" onclick=\"pageTracker._trackPageview(\\'dp_head_hotcity_boracay\\');\">\\n       长滩岛\\n      </a>\\n      <a href=\"//www.dianping.com/bali/food\" onclick=\"pageTracker._trackPageview(\\'dp_head_hotcity_bali\\');\">\\n       巴厘岛\\n      </a>\\n      <a href=\"//www.dianping.com/sabah/food\" onclick=\"pageTracker._trackPageview(\\'dp_head_hotcity_sabah\\');\">\\n       沙巴\\n      </a>\\n      <a href=\"//www.dianping.com/NewYorkCity/food\" onclick=\"pageTracker._trackPageview(\\'dp_head_hotcity_NewYorkCity\\');\">\\n       纽约市\\n      </a>\\n      <a href=\"//www.dianping.com/losangeles/food\" onclick=\"pageTracker._trackPageview(\\'dp_head_hotcity_losangeles\\');\">\\n       洛杉矶\\n      </a>\\n      <a href=\"//www.dianping.com/paris/food\" onclick=\"pageTracker._trackPageview(\\'dp_head_hotcity_paris\\');\">\\n       巴黎\\n      </a>\\n      <a href=\"//www.dianping.com/london/food\" onclick=\"pageTracker._trackPageview(\\'dp_head_hotcity_london\\');\">\\n       伦敦\\n      </a>\\n      <a href=\"//www.dianping.com/sydney/food\" onclick=\"pageTracker._trackPageview(\\'dp_head_hotcity_sydney\\');\">\\n       悉尼\\n      </a>\\n      <a href=\"//www.dianping.com/auckland/food\" onclick=\"pageTracker._trackPageview(\\'dp_head_hotcity_auckland\\');\">\\n       奥克兰\\n      </a>\\n     </div>\\n     <div class=\"group clearfix\">\\n      <h3 class=\"title\">\\n       港澳台：\\n      </h3>\\n      <a href=\"//www.dianping.com/hongkong/food\" onclick=\"pageTracker._trackPageview(\\'dp_head_hotcity_hongkong\\');\">\\n       香港\\n      </a>\\n      <a href=\"//www.dianping.com/macau/food\" onclick=\"pageTracker._trackPageview(\\'dp_head_hotcity_macau\\');\">\\n       澳门\\n      </a>\\n      <a href=\"//www.dianping.com/taipei/food\" onclick=\"pageTracker._trackPageview(\\'dp_head_hotcity_taipei\\');\">\\n       台北\\n      </a>\\n      <a href=\"//www.dianping.com/kaohsiung/food\" onclick=\"pageTracker._trackPageview(\\'dp_head_hotcity_kaohsiung\\');\">\\n       高雄\\n      </a>\\n      <a href=\"//www.dianping.com/kenting/food\" onclick=\"pageTracker._trackPageview(\\'dp_head_hotcity_kenting\\');\">\\n       垦丁\\n      </a>\\n      <a href=\"//www.dianping.com/hualien/food\" onclick=\"pageTracker._trackPageview(\\'dp_head_hotcity_hualien\\');\">\\n       花莲\\n      </a>\\n     </div>\\n     <a class=\"all\" href=\"//www.dianping.com/citylist\" onclick=\"pageTracker._trackPageview(\\'dp_head_othercity_beijing\\');\">\\n      全部城市\\n     </a>\\n    </div>\\n    <div class=\"search-bar\">\\n     <input autocomplete=\"off\" class=\"J-search-input\" data-s-cateid=\"0\" data-s-chanid=\"1000\" data-s-cityid=\"2\" data-s-epattern=\"//www.dianping.com/search/category/{0}/{1}\" data-s-pattern=\"//www.dianping.com/search/keyword/{0}/{1}_\" id=\"G_s\" onfocus=\"LXAnalytics(\\'moduleClick\\', \\'search\\');\" onwebkitspeechchange=\"pageTracker._trackPageview(\\'dp_head_kerword_voice_beijing\\');\" placeholder=\"搜索商户名、地址、菜名、外卖等\" type=\"text\" x-webkit-grammar=\"builtin:translate\" x-webkit-speech=\"\"/>\\n     <a class=\"search-btn J-search-btn\" id=\"G_s-btn\">\\n      <i class=\"icon i-search\">\\n      </i>\\n     </a>\\n    </div>\\n   </div>\\n  </div>\\n  <div class=\"main-nav\" id=\"main-nav\">\\n   <div class=\"container\">\\n    <a class=\"current-category J-current-category\">\\n     美食\\n     <i class=\"icon\">\\n     </i>\\n    </a>\\n    <div class=\"channel-nav clearfix\">\\n     <a href=\"//www.dianping.com\" onclick=\"LXAnalytics(\\'moduleClick\\', \\'tlmain\\')\">\\n      首页\\n     </a>\\n     <a href=\"http://t.dianping.com/beijing\" onclick=\"LXAnalytics(\\'moduleClick\\', \\'tltuan\\')\" target=\"_blank\">\\n      团购\\n     </a>\\n     <a href=\"//www.dianping.com/coupon/beijing\" onclick=\"LXAnalytics(\\'moduleClick\\', \\'tlwealfare\\')\">\\n      找优惠\\n     </a>\\n     <a href=\"//www.dianping.com/reservation/channel/beijing\" onclick=\"LXAnalytics(\\'moduleClick\\', \\'tlbook\\');_hip.push([\\'mv\\', { module: \\'2_click_yychanneltab\\', action: \\'click\\'}])\">\\n      订座\\n     </a>\\n     <a href=\"http://s.dianping.com/event/beijing\" onclick=\"LXAnalytics(\\'moduleClick\\', \\'tltongcheng\\')\">\\n      同城活动\\n     </a>\\n     <a href=\"http://s.dianping.com/beijing/group\" onclick=\"LXAnalytics(\\'moduleClick\\', \\'tlcommunity\\')\">\\n      社区\\n     </a>\\n    </div>\\n    <ul class=\"category-nav J-category-nav Hide\">\\n     <li class=\"primary-category J-primary-category\" data-key=\"10\">\\n      <a alt=\"\" class=\"name\" href=\"//www.dianping.com/beijing/food\" onclick=\"pageTracker._trackPageview(\\'dp_head_beijing_food\\');\">\\n       美食\\n      </a>\\n      <a alt=\"\" class=\"item\" href=\"//www.dianping.com/search/category/2/10/g1338\" onclick=\"pageTracker._trackPageview(\\'dp_head_beijing_food_fenlei1\\');\">\\n       私房菜\\n      </a>\\n      <a alt=\"\" class=\"item\" href=\"//www.dianping.com/search/category/2/10/g311\" onclick=\"pageTracker._trackPageview(\\'dp_head_beijing_food_fenlei2\\');\">\\n       北京菜\\n      </a>\\n      <i class=\"icon i-arrow\">\\n      </i>\\n      <div class=\"secondary-category J-secondary-category\">\\n       <a alt=\"\" href=\"//www.dianping.com/beijing/food\" onclick=\"pageTracker._trackPageview(\\'dp_head_beijing_food_index\\');\">\\n        美食频道\\n       </a>\\n       <a alt=\"\" data-key=\"1338\" href=\"//www.dianping.com/search/category/2/10/g1338\" onclick=\"pageTracker._trackPageview(\\'dp_head_beijing_food_fenlei1\\');\">\\n        私房菜\\n       </a>\\n       <a alt=\"\" data-key=\"311\" href=\"//www.dianping.com/search/category/2/10/g311\" onclick=\"pageTracker._trackPageview(\\'dp_head_beijing_food_fenlei2\\');\">\\n        北京菜\\n       </a>\\n       <a alt=\"\" data-key=\"1783\" href=\"//www.dianping.com/search/category/2/10/g1783\" onclick=\"pageTracker._trackPageview(\\'dp_head_beijing_food_fenlei3\\');\">\\n        家常菜\\n       </a>\\n       <a alt=\"\" data-key=\"107\" href=\"//www.dianping.com/search/category/2/10/g107\" onclick=\"pageTracker._trackPageview(\\'dp_head_beijing_food_fenlei4\\');\">\\n        台湾菜\\n       </a>\\n       <a alt=\"\" data-key=\"26483\" href=\"//www.dianping.com/search/category/2/10/g26483\" onclick=\"pageTracker._trackPageview(\\'dp_head_beijing_food_fenlei5\\');\">\\n        鲁菜\\n       </a>\\n       <a alt=\"\" data-key=\"102\" href=\"//www.dianping.com/search/category/2/10/g102\" onclick=\"pageTracker._trackPageview(\\'dp_head_beijing_food_fenlei6\\');\">\\n        川菜\\n       </a>\\n       <a alt=\"\" data-key=\"1845\" href=\"//www.dianping.com/search/category/2/10/g1845\" onclick=\"pageTracker._trackPageview(\\'dp_head_beijing_food_fenlei7\\');\">\\n        俄罗斯菜\\n       </a>\\n       <a alt=\"\" data-key=\"104\" href=\"//www.dianping.com/search/category/2/10/g104\" onclick=\"pageTracker._trackPageview(\\'dp_head_beijing_food_fenlei8\\');\">\\n        湘菜\\n       </a>\\n       <a alt=\"\" data-key=\"246\" href=\"//www.dianping.com/search/category/2/10/g246\" onclick=\"pageTracker._trackPageview(\\'dp_head_beijing_food_fenlei9\\');\">\\n        湖北菜\\n       </a>\\n       <a alt=\"\" data-key=\"26482\" href=\"//www.dianping.com/search/category/2/10/g26482\" onclick=\"pageTracker._trackPageview(\\'dp_head_beijing_food_fenlei10\\');\">\\n        徽菜\\n       </a>\\n       <a alt=\"\" data-key=\"219\" href=\"//www.dianping.com/search/category/2/10/g219\" onclick=\"pageTracker._trackPageview(\\'dp_head_beijing_food_fenlei11\\');\">\\n        小龙虾\\n       </a>\\n       <a alt=\"\" data-key=\"101\" href=\"//www.dianping.com/search/category/2/10/g101\" onclick=\"pageTracker._trackPageview(\\'dp_head_beijing_food_fenlei12\\');\">\\n        江浙菜\\n       </a>\\n       <a alt=\"\" data-key=\"1817\" href=\"//www.dianping.com/search/category/2/10/g1817\" onclick=\"pageTracker._trackPageview(\\'dp_head_beijing_food_fenlei13\\');\">\\n        粉面馆\\n       </a>\\n       <a alt=\"\" data-key=\"103\" href=\"//www.dianping.com/search/category/2/10/g103\" onclick=\"pageTracker._trackPageview(\\'dp_head_beijing_food_fenlei14\\');\">\\n        粤菜\\n       </a>\\n       <a alt=\"\" data-key=\"250\" href=\"//www.dianping.com/search/category/2/10/g250\" onclick=\"pageTracker._trackPageview(\\'dp_head_beijing_food_fenlei15\\');\">\\n        创意菜\\n       </a>\\n       <a alt=\"\" data-key=\"106\" href=\"//www.dianping.com/search/category/2/10/g106\" onclick=\"pageTracker._trackPageview(\\'dp_head_beijing_food_fenlei16\\');\">\\n        东北菜\\n       </a>\\n       <a alt=\"\" data-key=\"132\" href=\"//www.dianping.com/search/category/2/10/g132\" onclick=\"pageTracker._trackPageview(\\'dp_head_beijing_food_fenlei17\\');\">\\n        咖啡厅\\n       </a>\\n       <a alt=\"\" data-key=\"3243\" href=\"//www.dianping.com/search/category/2/10/g3243\" onclick=\"pageTracker._trackPageview(\\'dp_head_beijing_food_fenlei18\\');\">\\n        新疆菜\\n       </a>\\n       <a alt=\"\" data-key=\"508\" href=\"//www.dianping.com/search/category/2/10/g508\" onclick=\"pageTracker._trackPageview(\\'dp_head_beijing_food_fenlei19\\');\">\\n        烧烤\\n       </a>\\n       <a alt=\"\" data-key=\"26481\" href=\"//www.dianping.com/search/category/2/10/g26481\" onclick=\"pageTracker._trackPageview(\\'dp_head_beijing_food_fenlei20\\');\">\\n        西北菜\\n       </a>\\n       <a alt=\"\" data-key=\"248\" href=\"//www.dianping.com/search/category/2/10/g248\" onclick=\"pageTracker._trackPageview(\\'dp_head_beijing_food_fenlei21\\');\">\\n        云南菜\\n       </a>\\n       <a alt=\"\" data-key=\"105\" href=\"//www.dianping.com/search/category/2/10/g105\" onclick=\"pageTracker._trackPageview(\\'dp_head_beijing_food_fenlei22\\');\">\\n        贵州菜\\n       </a>\\n       <a alt=\"\" data-key=\"109\" href=\"//www.dianping.com/search/category/2/10/g109\" onclick=\"pageTracker._trackPageview(\\'dp_head_beijing_food_fenlei23\\');\">\\n        素菜\\n       </a>\\n       <a alt=\"\" data-key=\"110\" href=\"//www.dianping.com/search/category/2/10/g110\" onclick=\"pageTracker._trackPageview(\\'dp_head_beijing_food_fenlei24\\');\">\\n        火锅\\n       </a>\\n       <a alt=\"\" data-key=\"251\" href=\"//www.dianping.com/search/category/2/10/g251\" onclick=\"pageTracker._trackPageview(\\'dp_head_beijing_food_fenlei25\\');\">\\n        海鲜\\n       </a>\\n       <a alt=\"\" data-key=\"112\" href=\"//www.dianping.com/search/category/2/10/g112\" onclick=\"pageTracker._trackPageview(\\'dp_head_beijing_food_fenlei26\\');\">\\n        小吃快餐\\n       </a>\\n       <a alt=\"\" data-key=\"113\" href=\"//www.dianping.com/search/category/2/10/g113\" onclick=\"pageTracker._trackPageview(\\'dp_head_beijing_food_fenlei27\\');\">\\n        日本菜\\n       </a>\\n       <a alt=\"\" data-key=\"114\" href=\"//www.dianping.com/search/category/2/10/g114\" onclick=\"pageTracker._trackPageview(\\'dp_head_beijing_food_fenlei28\\');\">\\n        韩国料理\\n       </a>\\n       <a alt=\"\" data-key=\"115\" href=\"//www.dianping.com/search/category/2/10/g115\" onclick=\"pageTracker._trackPageview(\\'dp_head_beijing_food_fenlei29\\');\">\\n        东南亚菜\\n       </a>\\n       <a alt=\"\" data-key=\"116\" href=\"//www.dianping.com/search/category/2/10/g116\" onclick=\"pageTracker._trackPageview(\\'dp_head_beijing_food_fenlei30\\');\">\\n        西餐\\n       </a>\\n       <a alt=\"\" data-key=\"111\" href=\"//www.dianping.com/search/category/2/10/g111\" onclick=\"pageTracker._trackPageview(\\'dp_head_beijing_food_fenlei31\\');\">\\n        自助餐\\n       </a>\\n       <a alt=\"\" data-key=\"117\" href=\"//www.dianping.com/search/category/2/10/g117\" onclick=\"pageTracker._trackPageview(\\'dp_head_beijing_food_fenlei32\\');\">\\n        面包甜点\\n       </a>\\n       <a alt=\"\" data-key=\"118\" href=\"//www.dianping.com/search/category/2/10/g118\" onclick=\"pageTracker._trackPageview(\\'dp_head_beijing_food_fenlei33\\');\">\\n        其他\\n       </a>\\n      </div>\\n     </li>\\n    </ul>\\n   </div>\\n  </div>\\n  <div class=\"bottom-contrainer\">\\n   <div class=\"bottom-ad\">\\n    <a class=\"ad-link\" href=\"\" onclick=\"_hip.push([\\'mv\\', {module:\\'globebanner_below\\',action:\\'click\\',pageId:\\'12\\'}])\">\\n    </a>\\n    <div class=\"qrcode\">\\n     <span class=\"qrcode-txt\">\\n      扫一扫\\n     </span>\\n     <div class=\"qrcode-img\">\\n     </div>\\n    </div>\\n    <div class=\"bottom-close\">\\n    </div>\\n   </div>\\n   <div class=\"bottom-bg\">\\n   </div>\\n  </div>\\n  <div class=\"bottom-collspan collspan-hide\">\\n   <img class=\"collspan-img\"/>\\n   <div class=\"collspan\">\\n   </div>\\n  </div>\\n  <div class=\"body\" id=\"body\">\\n   <div class=\"body-bg\">\\n   </div>\\n   <div class=\"body-content clearfix\">\\n    <div class=\"breadcrumb\">\\n     <a href=\"http://www.dianping.com/beijing/food\" itemprop=\"url\">\\n      北京餐厅\\n     </a>\\n     &gt;\\n     <a href=\"http://www.dianping.com/search/category/2/10/r2580\" itemprop=\"url\">\\n      三里屯\\n     </a>\\n     &gt;\\n     <a href=\"http://www.dianping.com/search/category/2/10/g110r2580\" itemprop=\"url\">\\n      火锅\\n     </a>\\n     &gt;\\n     <span>\\n      和牛家鲜切牛肉火锅(工体店)\\n     </span>\\n    </div>\\n    <div class=\"main\">\\n     <div class=\"basic-info default nug_shop_ab_pv-a\" id=\"basic-info\">\\n      <s class=\"cover J_cover\">\\n      </s>\\n      <h1 class=\"shop-name\">\\n       和牛家鲜切牛肉火锅(工体店)\\n       <a class=\"qr-contrainer\" href=\"http://www.dianping.com/events/m/index.htm\" onclick=\"_hip.push([\\'mv\\', { module: \\'shopinfo_hoverQR\\', action: \\'click\\'}])\">\\n        <div class=\"phone-qr\">\\n        </div>\\n        <div class=\"qr-code\">\\n         <div class=\"code\" id=\"qrcode\">\\n          <div class=\"code-img\">\\n          </div>\\n         </div>\\n        </div>\\n       </a>\\n       <a class=\"branch\" href=\"/addshop/2_10/id=77298586\" rel=\"nofollow\" target=\"_blank\" title=\"添加分店\">\\n        添加分店\\n       </a>\\n      </h1>\\n      <div class=\"brief-info\">\\n       <span class=\"mid-rank-stars mid-str45\" title=\"准五星商户\">\\n       </span>\\n       <span class=\"item\" id=\"reviewCount\">\\n        280条评论\\n       </span>\\n       <div class=\"star-from-desc J-star-from-desc Hide\">\\n        星级来自业内综合评估\\n        <i class=\"icon\">\\n        </i>\\n       </div>\\n       <span class=\"item\" id=\"avgPriceTitle\">\\n        人均：194元\\n       </span>\\n       <span id=\"comment_score\">\\n        |\\n        <span class=\"item\">\\n         口味：8.5\\n        </span>\\n        |\\n        <span class=\"item\">\\n         环境：8.9\\n        </span>\\n        |\\n        <span class=\"item\">\\n         服务：8.5\\n        </span>\\n       </span>\\n       <a class=\"icon score-btn J-score\">\\n       </a>\\n      </div>\\n      <div class=\"expand-info address\" itemprop=\"street-address\">\\n       <span class=\"info-name\">\\n        地址：\\n       </span>\\n       <a href=\"/search/category/2/10/r\" rel=\"nofollow\" target=\"_blank\">\\n        <span itemprop=\"locality region\">\\n        </span>\\n       </a>\\n       <span class=\"item\" itemprop=\"street-address\" title=\"工体西路6号地下一层\">\\n        工体西路6号地下一层\\n       </span>\\n      </div>\\n      <p class=\"expand-info tel\">\\n       <span class=\"info-name\">\\n        电话：\\n       </span>\\n       <span class=\"item\" itemprop=\"tel\">\\n        4006602517\\n       </span>\\n      </p>\\n      <div class=\"promosearch-wrapper\">\\n      </div>\\n      <a class=\"J-unfold unfold\">\\n       更多信息\\n       <i class=\"icon\">\\n       </i>\\n      </a>\\n      <div class=\"other J-other Hide\">\\n       <p class=\"info info-indent\">\\n        <span class=\"info-name\">\\n         营业时间：\\n        </span>\\n        <span class=\"item\">\\n         周一至周日\\n11:00-24:00\\n        </span>\\n        <a class=\"item-gray\" href=\"/shop/77298586/edit\" target=\"_blank\">\\n         修改\\n        </a>\\n       </p>\\n       <div id=\"license-wrappper\">\\n       </div>\\n       <p class=\"info J-feature Hide\">\\n       </p>\\n       <p class=\"info info-indent J-park Hide\" id=\"park\">\\n       </p>\\n       <div id=\"tips-wrapper\">\\n       </div>\\n      </div>\\n      <div class=\"action\">\\n       <a class=\"write left-action\" href=\"/shop/77298586/review\" rel=\"nofollow\" target=\"_blank\">\\n        <i class=\"icon\">\\n        </i>\\n        <span id=\"dpReviewBtn\">\\n         写点评\\n        </span>\\n       </a>\\n       <div id=\"booking-wrapper\">\\n       </div>\\n       <span class=\"right-action\">\\n        <a class=\"share J-weixin\" rel=\"nofollow\" title=\"微信分享\">\\n         <i class=\"icon\">\\n         </i>\\n        </a>\\n        <a class=\"favorite J-favorite\" id=\"fav\" rel=\"nofollow\" title=\"收藏\">\\n         <i class=\"icon\">\\n         </i>\\n        </a>\\n        <a class=\"report\" href=\"/shop/77298586/edit\" rel=\"nofollow\" target=\"_blank\" title=\"报错\">\\n         <i class=\"icon\">\\n         </i>\\n        </a>\\n        <a class=\"action-more J-action-more\">\\n         <i class=\"icon\">\\n         </i>\\n        </a>\\n        <div class=\"shop-action-more-list J-action-more-list Hide\">\\n         <a href=\"/upload/shop/77298586\" target=\"_blank\">\\n          添加图片\\n         </a>\\n         <i class=\"arrow\">\\n         </i>\\n        </div>\\n       </span>\\n      </div>\\n      <div id=\"tuiguangAd-wrapper\">\\n      </div>\\n     </div>\\n     <div class=\"shop-branchs Hide\" id=\"shop-branchs\">\\n      <a class=\"add-shop\" href=\"/addshop/2_10/id=77298586\" target=\"_blank\">\\n       <i class=\"icon\">\\n       </i>\\n       添加分店\\n      </a>\\n      <a class=\"more-shop\" href=\"/search/branch/2/0_77298586/g0\" target=\"_blank\">\\n       查看全部0家分店\\n      </a>\\n     </div>\\n     <div class=\"shop-score Hide\" id=\"shop-score\">\\n      <ul class=\"stars\">\\n       <li>\\n        <span class=\"mid-rank-stars mid-str50\">\\n        </span>\\n        <span class=\"progress-bar\">\\n         <span id=\"reviewCountProgressStar5\" style=\"width:62%\">\\n         </span>\\n        </span>\\n        <span id=\"reviewCountStar5\">\\n         175\\n        </span>\\n       </li>\\n       <li>\\n        <span class=\"mid-rank-stars mid-str40\">\\n        </span>\\n        <span class=\"progress-bar\">\\n         <span id=\"reviewCountProgressStar4\" style=\"width:18%\">\\n         </span>\\n        </span>\\n        <span id=\"reviewCountStar4\">\\n         51\\n        </span>\\n       </li>\\n       <li>\\n        <span class=\"mid-rank-stars mid-str30\">\\n        </span>\\n        <span class=\"progress-bar\">\\n         <span id=\"reviewCountProgressStar3\" style=\"width:9%\">\\n         </span>\\n        </span>\\n        <span id=\"reviewCountStar3\">\\n         26\\n        </span>\\n       </li>\\n       <li>\\n        <span class=\"mid-rank-stars mid-str20\">\\n        </span>\\n        <span class=\"progress-bar\">\\n         <span id=\"reviewCountProgressStar2\" style=\"width:2%\">\\n         </span>\\n        </span>\\n        <span id=\"reviewCountStar2\">\\n         8\\n        </span>\\n       </li>\\n       <li>\\n        <span class=\"mid-rank-stars mid-str10\">\\n        </span>\\n        <span class=\"progress-bar\">\\n         <span id=\"reviewCountProgressStar1\" style=\"width:7%\">\\n         </span>\\n        </span>\\n        <span id=\"reviewCountStar1\">\\n         20\\n        </span>\\n       </li>\\n      </ul>\\n      <ul class=\"scores\">\\n       <li>\\n        口味：\\n        <span class=\"progress-bar\">\\n         <span style=\"width:85%\">\\n         </span>\\n        </span>\\n        8.5\\n       </li>\\n       <li>\\n        环境：\\n        <span class=\"progress-bar\">\\n         <span style=\"width:89%\">\\n         </span>\\n        </span>\\n        8.9\\n       </li>\\n       <li>\\n        服务：\\n        <span class=\"progress-bar\">\\n         <span style=\"width:85%\">\\n         </span>\\n        </span>\\n        8.5\\n       </li>\\n      </ul>\\n     </div>\\n     <div class=\"shop-hours Hide\" id=\"shop-hours\">\\n      <h3 class=\"title\">\\n       修改时间\\n      </h3>\\n      <textarea></textarea>\\n      <p class=\"action\">\\n       <a class=\"J-cancel\">\\n        取消\\n       </a>\\n       <a class=\"btn J-confirm\">\\n        保存修改\\n       </a>\\n      </p>\\n     </div>\\n     <div class=\"stop-info J-park-more Hide\" id=\"stop-info\">\\n     </div>\\n     <div id=\"promoinfo-wrapper\">\\n     </div>\\n     <div id=\"shoptabs-wrapper\">\\n     </div>\\n     <div id=\"myreview-wrapper\">\\n     </div>\\n     <div class=\"mod comment friends-comment\" id=\"friends-comment\">\\n      <div id=\"friends-comment-head\">\\n      </div>\\n      <ul class=\"comment-list J-list\" id=\"friend-reviewlist-wrapper\">\\n      </ul>\\n      <div id=\"friends-comment-tail\">\\n      </div>\\n      <div id=\"qqfriends-comment-head\">\\n      </div>\\n      <div class=\"qq-friends\" id=\"qq-friends-wrapper\">\\n       <h3 class=\"names\" id=\"qq-friends-names\">\\n       </h3>\\n       <div class=\"avatars clearfix\" id=\"qq-friends-avatars\">\\n       </div>\\n      </div>\\n     </div>\\n     <div class=\"mod comment\" data-render=\"1\" id=\"comment\">\\n      <h2 class=\"mod-title J-tab\" id=\"defaultcomment-wrapper\">\\n       <a class=\"item current\" data-type=\"all\" href=\"/shop/77298586/review_all\">\\n        网友点评\\n        <span class=\"sub-title\">\\n         (280)\\n        </span>\\n       </a>\\n       <div class=\"search J-search\">\\n        <input placeholder=\"搜索评论\" type=\"text\"/>\\n        <a class=\"search-btn\">\\n         <i class=\"icon\">\\n         </i>\\n        </a>\\n       </div>\\n      </h2>\\n      <div id=\"summaryfilter-wrapper\">\\n       <div class=\"comment-condition J-comment-condition Fix\">\\n        <div class=\"hd\">\\n         <span>\\n          大家认为\\n         </span>\\n         <i class=\"arrow-left\">\\n         </i>\\n        </div>\\n        <div class=\"content\">\\n         <span class=\"good J-summary\">\\n          <a date-type=\"回头客_1\">\\n           回头客(8)\\n          </a>\\n         </span>\\n         <span class=\"good J-summary\">\\n          <a date-type=\"干净卫生_1\">\\n           干净卫生(9)\\n          </a>\\n         </span>\\n         <span class=\"good J-summary\">\\n          <a date-type=\"牛肉赞_1\">\\n           牛肉赞(40)\\n          </a>\\n         </span>\\n         <span class=\"good J-summary\">\\n          <a date-type=\"高大上_1\">\\n           高大上(10)\\n          </a>\\n         </span>\\n         <span class=\"good J-summary\">\\n          <a date-type=\"点心好_1\">\\n           点心好(6)\\n          </a>\\n         </span>\\n         <br>\\n          <span class=\"good J-summary\">\\n           <a date-type=\"菜品不错_1\">\\n            菜品不错(26)\\n           </a>\\n          </span>\\n          <span class=\"good J-summary\">\\n           <a date-type=\"饮品赞_1\">\\n            饮品赞(6)\\n           </a>\\n          </span>\\n          <span class=\"good J-summary\">\\n           <a date-type=\"味道赞_1\">\\n            味道赞(54)\\n           </a>\\n          </span>\\n          <span class=\"good J-summary\">\\n           <a date-type=\"环境优雅_1\">\\n            环境优雅(47)\\n           </a>\\n          </span>\\n          <span class=\"bad J-summary\">\\n           <a date-type=\"深夜食堂_0\">\\n            深夜食堂(16)\\n           </a>\\n          </span>\\n         </br>\\n        </div>\\n       </div>\\n       <div class=\"comment-filter-box clearfix J-filter\">\\n        <label class=\"filter-item J-filter-pic\">\\n         <a class=\"checkbox\" data-value=\"pic\" href=\"/shop/77298586/review_more_pic\" rel=\"nofollow\" target=\"_blank\">\\n          <i class=\"icon\">\\n          </i>\\n         </a>\\n         有图片\\n         <span class=\"count\">\\n          (143)\\n         </span>\\n        </label>\\n        <div class=\"comment-filter-star-box J-stars-box\">\\n         <span class=\"all-star J_all-star\">\\n          全部星级\\n          <i>\\n          </i>\\n         </span>\\n         <div class=\"star-selector J_star-selector Hide\">\\n          <a class=\"star-current\" data-order=\"all\">\\n           全部星级\\n           <i>\\n           </i>\\n          </a>\\n          <a data-order=\"5star\" onclick=\"pageTracker._trackPageview(\\'dp_test_shop_dianping_gengduo1_5xing_beijing_food\\');\">\\n           5星\\n          </a>\\n          <a data-order=\"4star\" onclick=\"pageTracker._trackPageview(\\'dp_test_shop_dianping_gengduo1_4xing_beijing_food\\');\">\\n           4星\\n          </a>\\n          <a data-order=\"3star\" onclick=\"pageTracker._trackPageview(\\'dp_test_shop_dianping_gengduo1_3xing_beijing_food\\');\">\\n           3星\\n          </a>\\n          <a data-order=\"2star\" onclick=\"pageTracker._trackPageview(\\'dp_test_shop_dianping_gengduo1_2xing_beijing_food\\');\">\\n           2星\\n          </a>\\n          <a data-order=\"1star\" onclick=\"pageTracker._trackPageview(\\'dp_test_shop_dianping_gengduo1_1xing_beijing_food\\');\">\\n           1星\\n          </a>\\n         </div>\\n        </div>\\n       </div>\\n      </div>\\n      <ul class=\"comment-list J-list\" id=\"reviewlist-wrapper\">\\n       <li class=\"comment-item\" data-id=\"353618023\" id=\"rev_353618023\" xmlns=\"http://www.w3.org/1999/html\">\\n        <a class=\"avatar J-avatar\" data-user-id=\"7496655\" href=\"/member/7496655\" rel=\"nofollow\" target=\"_blank\">\\n         <img alt=\"你不吃香菜我吃\" data-lazyload=\"https://p0.meituan.net/userheadpicbackend/9fec030d9eb2128c0ae6643934319e3f265472.jpg%4048w_48h_1e_1c_1l%7Cwatermark%3D0\" src=\"//www.dpfile.com/s/i/blank.34cdf505e1d61164df34b5bc67584823.png\">\\n         </img>\\n        </a>\\n        <p class=\"user-info\">\\n         <a class=\"name\" href=\"/member/7496655\" rel=\"nofollow\" target=\"_blank\" title=\"\">\\n          你不吃香菜我吃\\n         </a>\\n         <span class=\"user-rank-rst urr-rank50\" title=\"贡献值2000-4999\">\\n         </span>\\n         <i class=\"icon-vdper\">\\n         </i>\\n        </p>\\n        <div class=\"content\">\\n         <p class=\"shop-info\">\\n          <span class=\"sml-rank-stars sml-str40\">\\n          </span>\\n          <span class=\"item\">\\n           口味：2\\n          </span>\\n          <span class=\"item\">\\n           环境：3\\n          </span>\\n          <span class=\"item\">\\n           服务：3\\n          </span>\\n          <span class=\"average\">\\n           人均：134\\n          </span>\\n         </p>\\n         <div class=\"info J-info-short\">\\n          <p class=\"desc\">\\n           男朋友出来晚了，只好来拔草和牛家啦\\n           <br/>\\n           微信上看到\\xa0椰子锅底，牛肉无限吃就来了\\n           <br/>\\n           位置不好找，在地下，记得是全明星旁边那个门下去就是？\\n           <br/>\\n           环境可以，但是卫生......\\n          </p>\\n          <a class=\"more fold J-more\" href=\"javascript:void(0);\">\\n           更多\\n           <i class=\"icon\">\\n           </i>\\n          </a>\\n         </div>\\n         <div class=\"info J-info-all Hide\">\\n          <p class=\"desc J-desc\">\\n           男朋友出来晚了，只好来拔草和牛家啦\\n           <br/>\\n           微信上看到\\xa0椰子锅底，牛肉无限吃就来了\\n           <br/>\\n           位置不好找，在地下，记得是全明星旁边那个门下去就是？\\n           <br/>\\n           环境可以，但是卫生间也不大干净……\\n           <br/>\\n           不过餐桌可以充电\\xa0加分！\\n           <br/>\\n           <br/>\\n           点的双人餐\\n           <br/>\\n           半天没给上水，小料台换的也不及时\\n           <br/>\\n           <br/>\\n           大拌菜\\xa0拍黄瓜味道一般\\xa0不是很惊艳吧\\n           <br/>\\n           安格斯上脑，一开始牛肉品质还不错\\xa0，比较香，也瘦。后来加了两盘竟然很腻？！有股牛肉腥味，肥肉油味很大……感觉都不是一种肉！\\n           <br/>\\n           和牛半边云嫩肉\\xa0口感不错\\xa0肉香\\xa0肥的部分不腻很脆\\n           <br/>\\n           椰子火锅的椰子肉挺好吃的，不过每当着面兑椰子汁\\n           <br/>\\n           和牛肉串\\xa0很小一串\\xa0嚼不烂？？？？？？\\n           <br/>\\n           蔬菜拼盘\\xa0种类很多\\xa0毫无造型可言\\n           <br/>\\n           凉茶\\xa0凑合？\\xa0喝多了感觉有股草席子味\\n           <br/>\\n           哦\\xa0没吃到炒河粉有点遗憾\\n           <br/>\\n           <br/>\\n           建议不要双人套餐了，品质真一般\\n           <br/>\\n           感觉单点还是会好点的\\n          </p>\\n          <a class=\"more unfold J-more\" href=\"javascript:void(0);\">\\n           收起\\n           <i class=\"icon\">\\n           </i>\\n          </a>\\n         </div>\\n         <div class=\"photos\">\\n          <div class=\"clearfix\">\\n           <a class=\"item J-photo\" href=\"/photos/794996887/member\" target=\"_blank\">\\n            <img alt=\"和牛家鲜切牛肉火锅的图片\" data-lazyload=\"http://qcloud.dpfile.com/pc/1pDH5qf5sGrWzW4e1eQOcTY7eNuKu_BoxD7ejKzgnFCis11DQmnpY8dKDDZwsi8cF5u7J_jS4MuCaeLAHD0KTg.jpg\" src=\"//www.dpfile.com/s/i/blank.34cdf505e1d61164df34b5bc67584823.png\"/>\\n           </a>\\n           <a class=\"item J-photo\" href=\"/photos/794996888/member\" target=\"_blank\">\\n            <img alt=\"和牛家鲜切牛肉火锅的图片\" data-lazyload=\"http://qcloud.dpfile.com/pc/9ZJ8SztKUU0884Q6m8eI3nyS_g812YIFb_OcH2QNU-QAYpBnpZyeK1-EVSeBbyfTF5u7J_jS4MuCaeLAHD0KTg.jpg\" src=\"//www.dpfile.com/s/i/blank.34cdf505e1d61164df34b5bc67584823.png\"/>\\n           </a>\\n           <a class=\"item J-photo\" href=\"/photos/794996889/member\" target=\"_blank\">\\n            <img alt=\"和牛家鲜切牛肉火锅的图片\" data-lazyload=\"http://qcloud.dpfile.com/pc/4pCB0F95_L826I4TZv3bEAjtr5M7By5PASowOIRFkcuFff-3Vpg1uQyjg14tVv6eF5u7J_jS4MuCaeLAHD0KTg.jpg\" src=\"//www.dpfile.com/s/i/blank.34cdf505e1d61164df34b5bc67584823.png\"/>\\n           </a>\\n           <a class=\"item J-photo\" href=\"/photos/794996890/member\" target=\"_blank\">\\n            <img alt=\"和牛家鲜切牛肉火锅的图片\" data-lazyload=\"http://qcloud.dpfile.com/pc/DjBqEbi3nyNYjcdJwObIAwfWYTS3srOibfTEyXcrMB9ph2eIJA04NCRvoGqL4_opF5u7J_jS4MuCaeLAHD0KTg.jpg\" src=\"//www.dpfile.com/s/i/blank.34cdf505e1d61164df34b5bc67584823.png\"/>\\n           </a>\\n           <a class=\"item J-photo\" href=\"/photos/794996891/member\" target=\"_blank\">\\n            <img alt=\"和牛家鲜切牛肉火锅的图片\" data-lazyload=\"http://qcloud.dpfile.com/pc/tqIQPjUelICeoMQNBzV8C5Xxgt091uZD5UY9hMjpOt4iWckIbiCo3OTQ4xPEhrctF5u7J_jS4MuCaeLAHD0KTg.jpg\" src=\"//www.dpfile.com/s/i/blank.34cdf505e1d61164df34b5bc67584823.png\"/>\\n           </a>\\n          </div>\\n          <a class=\"all-photo\" href=\"/shop/77298586/photos/album/7496655\" target=\"_blank\">\\n           查看全部12张\\n          </a>\\n         </div>\\n         <div class=\"misc-info\" id=\"review_353618023_action\">\\n          <div class=\"actions\">\\n           <a class=\"item J-praise\" data-id=\"353618023\" rel=\"nofollow\">\\n            <i class=\"icon i-praise\">\\n            </i>\\n            赞(8)\\n           </a>\\n           <a class=\"item\" href=\"/review/353618023#fn\" target=\"_blank\" title=\"\">\\n            回应\\n           </a>\\n           <a class=\"item J-favorite\" data-id=\"353618023\" rel=\"nofollow\">\\n            收藏\\n           </a>\\n           <a class=\"item J-report\" data-id=\"353618023\" dr-referuserid=\"2\" rel=\"nofollow\">\\n            举报\\n           </a>\\n          </div>\\n          <span class=\"time\">\\n           06-18\\n          </span>\\n          <span class=\"shop\">\\n           和牛家鲜切牛肉火锅\\n          </span>\\n         </div>\\n        </div>\\n       </li>\\n       <li class=\"comment-item\" data-id=\"351404619\" id=\"rev_351404619\" xmlns=\"http://www.w3.org/1999/html\">\\n        <a class=\"avatar J-avatar\" data-user-id=\"6106925\" href=\"/member/6106925\" rel=\"nofollow\" target=\"_blank\">\\n         <img alt=\"大杉小凯\" data-lazyload=\"https://p1.meituan.net/userheadpicbackend/5e4de3969bcaa622affc210df4bdb6651425.jpg%4048w_48h_1e_1c_1l%7Cwatermark%3D0\" src=\"//www.dpfile.com/s/i/blank.34cdf505e1d61164df34b5bc67584823.png\">\\n         </img>\\n        </a>\\n        <p class=\"user-info\">\\n         <a class=\"name\" href=\"/member/6106925\" rel=\"nofollow\" target=\"_blank\" title=\"\">\\n          大杉小凯\\n         </a>\\n         <span class=\"user-rank-rst urr-rank40\" title=\"贡献值400-999\">\\n         </span>\\n        </p>\\n        <div class=\"content\">\\n         <p class=\"shop-info\">\\n          <span class=\"sml-rank-stars sml-str50\">\\n          </span>\\n          <span class=\"item\">\\n           口味：4\\n          </span>\\n          <span class=\"item\">\\n           环境：4\\n          </span>\\n          <span class=\"item\">\\n           服务：4\\n          </span>\\n         </p>\\n         <div class=\"info J-info-short\">\\n          <p class=\"desc\">\\n           地址挺好找的，工体西路上，招牌也很明显，只是店在地下一层，我们是地铁东大桥下，a口出，跟着手机导航走的，20多分钟的路程。\\n           <br/>\\n           <br/>\\n           到的早，店员刚开始准备中午的营业，......\\n          </p>\\n          <a class=\"more fold J-more\" href=\"javascript:void(0);\">\\n           更多\\n           <i class=\"icon\">\\n           </i>\\n          </a>\\n         </div>\\n         <div class=\"info J-info-all Hide\">\\n          <p class=\"desc J-desc\">\\n           地址挺好找的，工体西路上，招牌也很明显，只是店在地下一层，我们是地铁东大桥下，a口出，跟着手机导航走的，20多分钟的路程。\\n           <br/>\\n           <br/>\\n           到的早，店员刚开始准备中午的营业，看到顾客亲切主动引位入座布筷。\\n           <br/>\\n           <br/>\\n           先上的椰子锅，很快套餐也上齐了，不会让人等的捉急，上菜速度点赞。\\n           <br/>\\n           <br/>\\n           和牛肉确实好吃，入锅10秒之内捞起，嫩、香，品质很棒。相比之下和牛小串口感稍老一些，不过调味很好。还有牛肉丸儿，口感是脆弹的，好吃好吃！搭配的蔬菜拼盘品种丰富量大且食材很新鲜。套餐里的两个凉菜也很好吃，香甜拌汁的大拌菜和麻辣爽脆的黄瓜虽是佐餐配角但味道也是好吃的停不下来。\\n           <br/>\\n           <br/>\\n           小料是自助的，自助台品种挺多，基本想吃的常见的调料都有，试了几种味道都不错，但个人觉得调料这块儿的提升空间还很大而且不能忽视，毕竟调料是吃火锅的不二伴侣。\\n           <br/>\\n           <br/>\\n           其实最想说的是店家的服务，亲切诚恳，有礼有节有度，整个就餐过程很舒服。尤其一位高个子的西装小哥（是经理或者领班么？），与顾客服务对话时很有绅士风度。无意中看到他俯身快速拿纸巾擦拭地面上的水渍，很感动，相信有这样好员工的店家也确确实实是想好好做好这个事业的，祝生意兴隆！\\n          </p>\\n          <a class=\"more unfold J-more\" href=\"javascript:void(0);\">\\n           收起\\n           <i class=\"icon\">\\n           </i>\\n          </a>\\n         </div>\\n         <dl class=\"recommend-info clearfix\">\\n          <dt>\\n           喜欢的菜：\\n          </dt>\\n          <dd>\\n           <a href=\"http://www.dianping.com/shop/77298586/dish-%E5%92%8C%E7%89%9B%E8%82%89\" target=\"_blank\">\\n            和牛肉\\n           </a>\\n           <span>\\n            牛肉丸\\n           </span>\\n           <span>\\n            和牛\\n           </span>\\n           <a href=\"http://www.dianping.com/shop/77298586/dish-%E8%90%9D%E5%8D%9C%E5%87%89%E8%8F%9C\" target=\"_blank\">\\n            萝卜凉菜\\n           </a>\\n          </dd>\\n         </dl>\\n         <div class=\"photos\">\\n          <div class=\"clearfix\">\\n           <a class=\"item J-photo\" href=\"/photos/784112956/member\" target=\"_blank\">\\n            <img alt=\"和牛家鲜切牛肉火锅的图片\" data-lazyload=\"http://qcloud.dpfile.com/pc/q71UIc9f_GbSDr-TBCdzSaL29KDd3rwmISaRHNWA3MwN56-_QiKuOvyio1OOxsRtF5u7J_jS4MuCaeLAHD0KTg.jpg\" src=\"//www.dpfile.com/s/i/blank.34cdf505e1d61164df34b5bc67584823.png\"/>\\n           </a>\\n           <a class=\"item J-photo\" href=\"/photos/784112964/member\" target=\"_blank\">\\n            <img alt=\"和牛家鲜切牛肉火锅的图片\" data-lazyload=\"http://qcloud.dpfile.com/pc/B0XhusSkM2TrV2llJxkBM3BHOfdPs0Q4A9rc4HzyaRLR7Vgtxuf-v_GOtsJd4pCAF5u7J_jS4MuCaeLAHD0KTg.jpg\" src=\"//www.dpfile.com/s/i/blank.34cdf505e1d61164df34b5bc67584823.png\"/>\\n           </a>\\n           <a class=\"item J-photo\" href=\"/photos/784112975/member\" target=\"_blank\">\\n            <img alt=\"和牛家鲜切牛肉火锅的图片\" data-lazyload=\"http://qcloud.dpfile.com/pc/T7UasSWFXUq_mxydljQlDK_-V6wCDdxas9rKFJVZuZsoLz_lmsyLi2Jw3_LehKdUF5u7J_jS4MuCaeLAHD0KTg.jpg\" src=\"//www.dpfile.com/s/i/blank.34cdf505e1d61164df34b5bc67584823.png\"/>\\n           </a>\\n           <a class=\"item J-photo\" href=\"/photos/784112980/member\" target=\"_blank\">\\n            <img alt=\"和牛家鲜切牛肉火锅的图片\" data-lazyload=\"http://qcloud.dpfile.com/pc/kviOhtwxsfJbjGv6Mn-JwzyHwRfy-zK0XkwPx_Bx_8fzrC8Y-b3mDZCktYnLeqgcF5u7J_jS4MuCaeLAHD0KTg.jpg\" src=\"//www.dpfile.com/s/i/blank.34cdf505e1d61164df34b5bc67584823.png\"/>\\n           </a>\\n           <a class=\"item J-photo\" href=\"/photos/784112989/member\" target=\"_blank\">\\n            <img alt=\"和牛家鲜切牛肉火锅的图片\" data-lazyload=\"http://qcloud.dpfile.com/pc/fwDUy5neKnm78mVLIQJTQn0GVFKftjmxvjIvFPPFNubZ2KqnOjFsy49EWnD8MTEBF5u7J_jS4MuCaeLAHD0KTg.jpg\" src=\"//www.dpfile.com/s/i/blank.34cdf505e1d61164df34b5bc67584823.png\"/>\\n           </a>\\n          </div>\\n          <a class=\"all-photo\" href=\"/shop/77298586/photos/album/6106925\" target=\"_blank\">\\n           查看全部25张\\n          </a>\\n         </div>\\n         <div class=\"misc-info\" id=\"review_351404619_action\">\\n          <div class=\"actions\">\\n           <a class=\"item J-praise\" data-id=\"351404619\" rel=\"nofollow\">\\n            <i class=\"icon i-praise\">\\n            </i>\\n            赞(6)\\n           </a>\\n           <a class=\"item\" href=\"/review/351404619#fn\" target=\"_blank\" title=\"\">\\n            回应(4)\\n           </a>\\n           <a class=\"item J-favorite\" data-id=\"351404619\" rel=\"nofollow\">\\n            收藏\\n           </a>\\n           <a class=\"item J-report\" data-id=\"351404619\" dr-referuserid=\"2\" rel=\"nofollow\">\\n            举报\\n           </a>\\n          </div>\\n          <span class=\"time\">\\n           06-04\\xa0\\xa0更新于17-06-07 18:30\\n          </span>\\n          <span class=\"shop\">\\n           和牛家鲜切牛肉火锅\\n          </span>\\n         </div>\\n        </div>\\n       </li>\\n       <li class=\"comment-item\" data-id=\"354695216\" id=\"rev_354695216\" xmlns=\"http://www.w3.org/1999/html\">\\n        <a class=\"avatar J-avatar\" data-user-id=\"975860680\" href=\"/member/975860680\" rel=\"nofollow\" target=\"_blank\">\\n         <img alt=\"好东西要张扬\" data-lazyload=\"https://p0.meituan.net/userheadpicbackend/483f6e7d95476b3aecf7feccd163160f99038.jpg%4048w_48h_1e_1c_1l%7Cwatermark%3D0\" src=\"//www.dpfile.com/s/i/blank.34cdf505e1d61164df34b5bc67584823.png\">\\n         </img>\\n        </a>\\n        <p class=\"user-info\">\\n         <a class=\"name\" href=\"/member/975860680\" rel=\"nofollow\" target=\"_blank\" title=\"\">\\n          好东西要张扬\\n         </a>\\n         <span class=\"user-rank-rst urr-rank20\" title=\"贡献值100-199\">\\n         </span>\\n        </p>\\n        <div class=\"content\">\\n         <p class=\"shop-info\">\\n          <span class=\"sml-rank-stars sml-str40\">\\n          </span>\\n          <span class=\"item\">\\n           口味：3\\n          </span>\\n          <span class=\"item\">\\n           环境：4\\n          </span>\\n          <span class=\"item\">\\n           服务：4\\n          </span>\\n         </p>\\n         <div class=\"info J-info-short\">\\n          <p class=\"desc\">\\n           来过两次了。不错。\\n           <br/>\\n           和牛鲜的就是不一样，不论种类，都是干干净净的牛肉。种类分的很细致，不过，对于不是牛肉专家来说，谁也不容易记住。但是，各种分类标注清楚，包括涮......\\n          </p>\\n          <a class=\"more fold J-more\" href=\"javascript:void(0);\">\\n           更多\\n           <i class=\"icon\">\\n           </i>\\n          </a>\\n         </div>\\n         <div class=\"info J-info-all Hide\">\\n          <p class=\"desc J-desc\">\\n           来过两次了。不错。\\n           <br/>\\n           和牛鲜的就是不一样，不论种类，都是干干净净的牛肉。种类分的很细致，不过，对于不是牛肉专家来说，谁也不容易记住。但是，各种分类标注清楚，包括涮品时间也细致，可见店家用功之至！点赞。\\n           <br/>\\n           喜欢半边云那种有点肥的口感，椰子鸡的汤里不会油腻。和牛串入味，嫩嫩口感让人禁不住会过量。凤爪实在是凉拌凤爪里的翘楚，口感脆韧，酸甜适度，开胃下酒，连着吃了三份，必点！\\n           <br/>\\n           各种点心很精心，无论卖相还是口味，绝对不是那些中央厨房的大路货，应该是现做的，而且面点师傅功力相当不错，点赞！\\n           <br/>\\n           那个小番茄做的凉菜不错，里面有惊喜，可以尝试一下。还有，鹅肝也不错，就是不够吃。\\n           <br/>\\n           环境总体很时尚，估计老板没少投资，面积太大显得有点冷清。团购或者办卡还是可以来解馋的，如果没有优惠，价格还是小贵的。\\n           <br/>\\n           总体来说，值得来尝试一下。\\n          </p>\\n          <a class=\"more unfold J-more\" href=\"javascript:void(0);\">\\n           收起\\n           <i class=\"icon\">\\n           </i>\\n          </a>\\n         </div>\\n         <div class=\"photos\">\\n          <div class=\"clearfix\">\\n           <a class=\"item J-photo\" href=\"/photos/799748542/member\" target=\"_blank\">\\n            <img alt=\"和牛家鲜切牛肉火锅的图片\" data-lazyload=\"http://qcloud.dpfile.com/pc/iwZ2L_g5D1EC8lLisqjpvhNDs7sgT1f_4aSKg15AnxFmYHZdSeUjkPyh5-nTQ1W5F5u7J_jS4MuCaeLAHD0KTg.jpg\" src=\"//www.dpfile.com/s/i/blank.34cdf505e1d61164df34b5bc67584823.png\"/>\\n           </a>\\n           <a class=\"item J-photo\" href=\"/photos/799748543/member\" target=\"_blank\">\\n            <img alt=\"和牛家鲜切牛肉火锅的图片\" data-lazyload=\"http://qcloud.dpfile.com/pc/wt-9HzYVkdxMffGDS-AJdZ4G5bTXFD82A2vGFs2qMXJFEh9gDnVrGIULq943m8ZxF5u7J_jS4MuCaeLAHD0KTg.jpg\" src=\"//www.dpfile.com/s/i/blank.34cdf505e1d61164df34b5bc67584823.png\"/>\\n           </a>\\n           <a class=\"item J-photo\" href=\"/photos/799748544/member\" target=\"_blank\">\\n            <img alt=\"和牛家鲜切牛肉火锅的图片\" data-lazyload=\"http://qcloud.dpfile.com/pc/aUvyauoQeM3oBp2hicTd33SQZzM_zD9jEd5lxxvaL5OQS8mZfO1Y_kfZdFknlLWoF5u7J_jS4MuCaeLAHD0KTg.jpg\" src=\"//www.dpfile.com/s/i/blank.34cdf505e1d61164df34b5bc67584823.png\"/>\\n           </a>\\n           <a class=\"item J-photo\" href=\"/photos/799748545/member\" target=\"_blank\">\\n            <img alt=\"和牛家鲜切牛肉火锅的图片\" data-lazyload=\"http://qcloud.dpfile.com/pc/y-7Hi2mt5Uz6RMfPyWhU-LU6kmJNsDZ9nWn2GpZ7sDG5m9ai5Dwcre_SlpgUg8LoF5u7J_jS4MuCaeLAHD0KTg.jpg\" src=\"//www.dpfile.com/s/i/blank.34cdf505e1d61164df34b5bc67584823.png\"/>\\n           </a>\\n           <a class=\"item J-photo\" href=\"/photos/799748546/member\" target=\"_blank\">\\n            <img alt=\"和牛家鲜切牛肉火锅的图片\" data-lazyload=\"http://qcloud.dpfile.com/pc/dJpWUBJLpvki8D3Y8_7oYyvf-JQ9nTOffy6Ib4agmeNcIGL6n6YbPhgO9ekFYu4tF5u7J_jS4MuCaeLAHD0KTg.jpg\" src=\"//www.dpfile.com/s/i/blank.34cdf505e1d61164df34b5bc67584823.png\"/>\\n           </a>\\n          </div>\\n          <a class=\"all-photo\" href=\"/shop/77298586/photos/album/975860680\" target=\"_blank\">\\n           查看全部11张\\n          </a>\\n         </div>\\n         <div class=\"misc-info\" id=\"review_354695216_action\">\\n          <div class=\"actions\">\\n           <a class=\"item J-praise\" data-id=\"354695216\" rel=\"nofollow\">\\n            <i class=\"icon i-praise\">\\n            </i>\\n            赞\\n           </a>\\n           <a class=\"item\" href=\"/review/354695216#fn\" target=\"_blank\" title=\"\">\\n            回应\\n           </a>\\n           <a class=\"item J-favorite\" data-id=\"354695216\" rel=\"nofollow\">\\n            收藏\\n           </a>\\n           <a class=\"item J-report\" data-id=\"354695216\" dr-referuserid=\"2\" rel=\"nofollow\">\\n            举报\\n           </a>\\n          </div>\\n          <span class=\"time\">\\n           06-25\\n          </span>\\n          <span class=\"shop\">\\n           和牛家鲜切牛肉火锅\\n          </span>\\n         </div>\\n        </div>\\n       </li>\\n       <li class=\"comment-item\" data-id=\"354193934\" id=\"rev_354193934\" xmlns=\"http://www.w3.org/1999/html\">\\n        <a class=\"avatar J-avatar\" data-user-id=\"1059068601\" href=\"/member/1059068601\" rel=\"nofollow\" target=\"_blank\">\\n         <img alt=\"evie.li\" data-lazyload=\"https://p0.meituan.net/userheadpicbackend/a1ea35fb5fb0a3cab62370dc9522b458758459.jpeg%4048w_48h_1e_1c_1l%7Cwatermark%3D0\" src=\"//www.dpfile.com/s/i/blank.34cdf505e1d61164df34b5bc67584823.png\">\\n         </img>\\n        </a>\\n        <p class=\"user-info\">\\n         <a class=\"name\" href=\"/member/1059068601\" rel=\"nofollow\" target=\"_blank\" title=\"\">\\n          evie.li\\n         </a>\\n         <span class=\"user-rank-rst urr-rank40\" title=\"贡献值400-999\">\\n         </span>\\n         <i class=\"icon-vdper\">\\n         </i>\\n        </p>\\n        <div class=\"content\">\\n         <p class=\"shop-info\">\\n          <span class=\"sml-rank-stars sml-str40\">\\n          </span>\\n          <span class=\"item\">\\n           口味：2\\n          </span>\\n          <span class=\"item\">\\n           环境：2\\n          </span>\\n          <span class=\"item\">\\n           服务：4\\n          </span>\\n         </p>\\n         <div class=\"info J-info-short\">\\n          <p class=\"desc\">\\n           抱着比较期待的心情来的，结果较失望。\\n           <br/>\\n           【凤爪】这个确实挺好吃的，可以一点。\\n           <br/>\\n           【厨师三拼？之类的】这个有两款肉还可以，但也到不了让我惊艳的地步吧，有些对不起价......\\n          </p>\\n          <a class=\"more fold J-more\" href=\"javascript:void(0);\">\\n           更多\\n           <i class=\"icon\">\\n           </i>\\n          </a>\\n         </div>\\n         <div class=\"info J-info-all Hide\">\\n          <p class=\"desc J-desc\">\\n           抱着比较期待的心情来的，结果较失望。\\n           <br/>\\n           【凤爪】这个确实挺好吃的，可以一点。\\n           <br/>\\n           【厨师三拼？之类的】这个有两款肉还可以，但也到不了让我惊艳的地步吧，有些对不起价格。\\n           <br/>\\n           【吊龙伴】这个就是真·对不起价格了，太太太一般了，说好吃的大约都没在广东吃过潮汕牛肉火锅吧？\\n           <br/>\\n           汤底里的牛肉丸还挺好吃的，嗯。\\n           <br/>\\n           服务还是很好的非常的贴心，随叫随到，然后有凉茶可以免费多拿的。另外作为一个牛肉火锅店居然没有沙茶酱真的是…\\n           <br/>\\n           建议来的人点个套餐就好了…单点简直宰冤大头。\\n          </p>\\n          <a class=\"more unfold J-more\" href=\"javascript:void(0);\">\\n           收起\\n           <i class=\"icon\">\\n           </i>\\n          </a>\\n         </div>\\n         <div class=\"photos\">\\n          <div class=\"clearfix\">\\n           <a class=\"item J-photo\" href=\"/photos/797693162/member\" target=\"_blank\">\\n            <img alt=\"和牛家鲜切牛肉火锅的图片\" data-lazyload=\"http://qcloud.dpfile.com/pc/hNGUbMyNYMkPMU43BTnJvfHH7aSPtQAdX2QBzB5-HRU4jyZZRObLs5ym-WtN-3N1F5u7J_jS4MuCaeLAHD0KTg.jpg\" src=\"//www.dpfile.com/s/i/blank.34cdf505e1d61164df34b5bc67584823.png\"/>\\n           </a>\\n           <a class=\"item J-photo\" href=\"/photos/797693163/member\" target=\"_blank\">\\n            <img alt=\"和牛家鲜切牛肉火锅的图片\" data-lazyload=\"http://qcloud.dpfile.com/pc/6YCBpWD-gKSJ8Xwl54p7y2sg_5yO7fsmctp3L9Uqz4Pb7ejKKUJ5jqBlyPGMUFvEF5u7J_jS4MuCaeLAHD0KTg.jpg\" src=\"//www.dpfile.com/s/i/blank.34cdf505e1d61164df34b5bc67584823.png\"/>\\n           </a>\\n           <a class=\"item J-photo\" href=\"/photos/797693164/member\" target=\"_blank\">\\n            <img alt=\"和牛家鲜切牛肉火锅的图片\" data-lazyload=\"http://qcloud.dpfile.com/pc/M6eNWsX4fu74sGg6rljykFPHZdkGVDIbhs3K1tvGinpGEzAPPptLTCRa2KhFCT1UF5u7J_jS4MuCaeLAHD0KTg.jpg\" src=\"//www.dpfile.com/s/i/blank.34cdf505e1d61164df34b5bc67584823.png\"/>\\n           </a>\\n           <a class=\"item J-photo\" href=\"/photos/797693165/member\" target=\"_blank\">\\n            <img alt=\"和牛家鲜切牛肉火锅的图片\" data-lazyload=\"http://qcloud.dpfile.com/pc/dY2STYCbFXw7SegVWZlwTk9DQitBstVrBkV0TnA2-ZIeXNncvMiXbuED7x1tXqN4F5u7J_jS4MuCaeLAHD0KTg.jpg\" src=\"//www.dpfile.com/s/i/blank.34cdf505e1d61164df34b5bc67584823.png\"/>\\n           </a>\\n           <a class=\"item J-photo\" href=\"/photos/797693166/member\" target=\"_blank\">\\n            <img alt=\"和牛家鲜切牛肉火锅的图片\" data-lazyload=\"http://qcloud.dpfile.com/pc/k4eSe3BUVn4ShOIu7K_lpHjdD_N39zvKl3-3YtlL49ULJfV-4Vsy2vcytSds15ERF5u7J_jS4MuCaeLAHD0KTg.jpg\" src=\"//www.dpfile.com/s/i/blank.34cdf505e1d61164df34b5bc67584823.png\"/>\\n           </a>\\n          </div>\\n          <a class=\"all-photo\" href=\"/shop/77298586/photos/album/1059068601\" target=\"_blank\">\\n           查看全部6张\\n          </a>\\n         </div>\\n         <div class=\"misc-info\" id=\"review_354193934_action\">\\n          <div class=\"actions\">\\n           <a class=\"item J-praise\" data-id=\"354193934\" rel=\"nofollow\">\\n            <i class=\"icon i-praise\">\\n            </i>\\n            赞\\n           </a>\\n           <a class=\"item\" href=\"/review/354193934#fn\" target=\"_blank\" title=\"\">\\n            回应\\n           </a>\\n           <a class=\"item J-favorite\" data-id=\"354193934\" rel=\"nofollow\">\\n            收藏\\n           </a>\\n           <a class=\"item J-report\" data-id=\"354193934\" dr-referuserid=\"2\" rel=\"nofollow\">\\n            举报\\n           </a>\\n          </div>\\n          <span class=\"time\">\\n           06-22\\n          </span>\\n          <span class=\"shop\">\\n           和牛家鲜切牛肉火锅\\n          </span>\\n          <span class=\"item\">\\n           签到点评\\n          </span>\\n         </div>\\n        </div>\\n       </li>\\n       <li class=\"comment-item\" data-id=\"353821420\" id=\"rev_353821420\" xmlns=\"http://www.w3.org/1999/html\">\\n        <a class=\"avatar J-avatar\" data-user-id=\"245616359\" href=\"/member/245616359\" rel=\"nofollow\" target=\"_blank\">\\n         <img alt=\"喜欢我我就是仙女腻啊\" data-lazyload=\"https://p1.meituan.net/userheadpicbackend/748da89ad03f9bcc3946a69822c007d9461780.jpg%4048w_48h_1e_1c_1l%7Cwatermark%3D0\" src=\"//www.dpfile.com/s/i/blank.34cdf505e1d61164df34b5bc67584823.png\">\\n         </img>\\n        </a>\\n        <p class=\"user-info\">\\n         <a class=\"name\" href=\"/member/245616359\" rel=\"nofollow\" target=\"_blank\" title=\"\">\\n          喜欢我我就是仙女腻啊\\n         </a>\\n         <span class=\"user-rank-rst urr-rank45\" title=\"贡献值1000-1999\">\\n         </span>\\n         <i class=\"icon-vdper\">\\n         </i>\\n        </p>\\n        <div class=\"content\">\\n         <p class=\"shop-info\">\\n          <span class=\"sml-rank-stars sml-str50\">\\n          </span>\\n          <span class=\"item\">\\n           口味：4\\n          </span>\\n          <span class=\"item\">\\n           环境：4\\n          </span>\\n          <span class=\"item\">\\n           服务：4\\n          </span>\\n          <span class=\"average\">\\n           人均：120\\n          </span>\\n         </p>\\n         <div class=\"info J-info-short\">\\n          <p class=\"desc\">\\n           特别赞！之前只听过椰子鸡，第一次听说椰子牛！双人餐特别划算！安格斯牛肉都是随便续，套餐里有4份安格斯上脑，一份半边云，搭配海鲜汁特别鲜嫩～肉不小心加多了也不怕，大师傅......\\n          </p>\\n          <a class=\"more fold J-more\" href=\"javascript:void(0);\">\\n           更多\\n           <i class=\"icon\">\\n           </i>\\n          </a>\\n         </div>\\n         <div class=\"info J-info-all Hide\">\\n          <p class=\"desc J-desc\">\\n           特别赞！之前只听过椰子鸡，第一次听说椰子牛！双人餐特别划算！安格斯牛肉都是随便续，套餐里有4份安格斯上脑，一份半边云，搭配海鲜汁特别鲜嫩～肉不小心加多了也不怕，大师傅可以帮忙炒成牛河带走～\\n           <br/>\\n           点心什么的都特别精致！据说都是挖来的五星级酒店大厨做的！\\n           <br/>\\n           细节做的很贴心，每桌上都有一个放手机的小格子和usb充电口，女生的洗手间还备着梳子，化妆棉，卸妆水啊，再也不怕吃火锅妆化了！\\n          </p>\\n          <a class=\"more unfold J-more\" href=\"javascript:void(0);\">\\n           收起\\n           <i class=\"icon\">\\n           </i>\\n          </a>\\n         </div>\\n         <div class=\"photos\">\\n          <div class=\"clearfix\">\\n           <a class=\"item J-photo\" href=\"/photos/796018709/member\" target=\"_blank\">\\n            <img alt=\"和牛家鲜切牛肉火锅的图片\" data-lazyload=\"http://qcloud.dpfile.com/pc/Bpr9gaUYl-wg9Jim6Z0VBJjpb8pBNoPF7mt6FoOwxRqMJZYrLhxg9hJCgiMMDCU0F5u7J_jS4MuCaeLAHD0KTg.jpg\" src=\"//www.dpfile.com/s/i/blank.34cdf505e1d61164df34b5bc67584823.png\"/>\\n           </a>\\n           <a class=\"item J-photo\" href=\"/photos/796018710/member\" target=\"_blank\">\\n            <img alt=\"和牛家鲜切牛肉火锅的图片\" data-lazyload=\"http://qcloud.dpfile.com/pc/B10yY5zZJ8v1AJ5Uz1g6aZa3-2U_zBvBU7uDGJo1zpUoLz_lmsyLi2Jw3_LehKdUF5u7J_jS4MuCaeLAHD0KTg.jpg\" src=\"//www.dpfile.com/s/i/blank.34cdf505e1d61164df34b5bc67584823.png\"/>\\n           </a>\\n           <a class=\"item J-photo\" href=\"/photos/796018711/member\" target=\"_blank\">\\n            <img alt=\"和牛家鲜切牛肉火锅的图片\" data-lazyload=\"http://qcloud.dpfile.com/pc/yqAZMz_MJ2aa9o0yoICewgWdkarM8Thm5E-U3IOedp0-6nbDDJnfJwPyRaeIkFSNF5u7J_jS4MuCaeLAHD0KTg.jpg\" src=\"//www.dpfile.com/s/i/blank.34cdf505e1d61164df34b5bc67584823.png\"/>\\n           </a>\\n           <a class=\"item J-photo\" href=\"/photos/796018712/member\" target=\"_blank\">\\n            <img alt=\"和牛家鲜切牛肉火锅的图片\" data-lazyload=\"http://qcloud.dpfile.com/pc/SL1W7RtF9CfMJ_5Ylcj_BuUWzQcdpVta9nf4fJuiPCEzT_DHfqHPpoJ3fKALjcNcF5u7J_jS4MuCaeLAHD0KTg.jpg\" src=\"//www.dpfile.com/s/i/blank.34cdf505e1d61164df34b5bc67584823.png\"/>\\n           </a>\\n           <a class=\"item J-photo\" href=\"/photos/796018713/member\" target=\"_blank\">\\n            <img alt=\"和牛家鲜切牛肉火锅的图片\" data-lazyload=\"http://qcloud.dpfile.com/pc/8Lfo6f_bk1WnqlZhR093OU6qVCcc3korFrHfiQhSf60eXNncvMiXbuED7x1tXqN4F5u7J_jS4MuCaeLAHD0KTg.jpg\" src=\"//www.dpfile.com/s/i/blank.34cdf505e1d61164df34b5bc67584823.png\"/>\\n           </a>\\n          </div>\\n          <a class=\"all-photo\" href=\"/shop/77298586/photos/album/245616359\" target=\"_blank\">\\n           查看全部9张\\n          </a>\\n         </div>\\n         <div class=\"misc-info\" id=\"review_353821420_action\">\\n          <div class=\"actions\">\\n           <a class=\"item J-praise\" data-id=\"353821420\" rel=\"nofollow\">\\n            <i class=\"icon i-praise\">\\n            </i>\\n            赞(3)\\n           </a>\\n           <a class=\"item\" href=\"/review/353821420#fn\" target=\"_blank\" title=\"\">\\n            回应(2)\\n           </a>\\n           <a class=\"item J-favorite\" data-id=\"353821420\" rel=\"nofollow\">\\n            收藏\\n           </a>\\n           <a class=\"item J-report\" data-id=\"353821420\" dr-referuserid=\"2\" rel=\"nofollow\">\\n            举报\\n           </a>\\n          </div>\\n          <span class=\"time\">\\n           06-19\\n          </span>\\n          <span class=\"shop\">\\n           和牛家鲜切牛肉火锅\\n          </span>\\n         </div>\\n        </div>\\n       </li>\\n       <li class=\"comment-item\" data-id=\"354968633\" id=\"rev_354968633\" xmlns=\"http://www.w3.org/1999/html\">\\n        <a class=\"avatar J-avatar\" data-user-id=\"49935085\" href=\"/member/49935085\" rel=\"nofollow\" target=\"_blank\">\\n         <img alt=\"史小怪_850\" data-lazyload=\"https://p1.meituan.net/userheadpicbackend/41db73d4ef8d480e81934eb8a1a044be344566.jpg%4048w_48h_1e_1c_1l%7Cwatermark%3D0\" src=\"//www.dpfile.com/s/i/blank.34cdf505e1d61164df34b5bc67584823.png\">\\n         </img>\\n        </a>\\n        <p class=\"user-info\">\\n         <a class=\"name\" href=\"/member/49935085\" rel=\"nofollow\" target=\"_blank\" title=\"\">\\n          史小怪_850\\n         </a>\\n         <span class=\"user-rank-rst urr-rank40\" title=\"贡献值400-999\">\\n         </span>\\n         <i class=\"icon-vdper\">\\n         </i>\\n        </p>\\n        <div class=\"content\">\\n         <p class=\"shop-info\">\\n          <span class=\"sml-rank-stars sml-str40\">\\n          </span>\\n          <span class=\"item\">\\n           口味：2\\n          </span>\\n          <span class=\"item\">\\n           环境：4\\n          </span>\\n          <span class=\"item\">\\n           服务：3\\n          </span>\\n          <span class=\"average\">\\n           人均：125\\n          </span>\\n         </p>\\n         <div class=\"info J-info-short\">\\n          <p class=\"desc\">\\n           最近好多公众号在推他们家的椰子牛火锅，吃完五盘肉+蔬菜拼盘可以再加2盘肉+蔬菜拼盘（在90min之内可以一直继续）\\n           <br/>\\n           三个妹子去吃的，268+100，368。\\n           <br/>\\n           【黑椒牛肉串】挺......\\n          </p>\\n          <a class=\"more fold J-more\" href=\"javascript:void(0);\">\\n           更多\\n           <i class=\"icon\">\\n           </i>\\n          </a>\\n         </div>\\n         <div class=\"info J-info-all Hide\">\\n          <p class=\"desc J-desc\">\\n           最近好多公众号在推他们家的椰子牛火锅，吃完五盘肉+蔬菜拼盘可以再加2盘肉+蔬菜拼盘（在90min之内可以一直继续）\\n           <br/>\\n           三个妹子去吃的，268+100，368。\\n           <br/>\\n           【黑椒牛肉串】挺好吃的，但素，特别小只，一口一个\\n           <br/>\\n           【凉菜们】味道还可以\\n           <br/>\\n           【牛筋丸？】还在煮锅的时候上了一盘香菇包子，我们以为是送的，吃了一会儿发现没有上牛筋丸呀……然后服务员说今天刚好没有了，换成了点心，但是我们并没有被告知哇……不过之后还是很好解决了，还是给服务点个赞\\n           <br/>\\n           【凉茶和小料】凉茶太淡了，一杯都没喝完。小料还可以。\\n           <br/>\\n           【椰子锅】只能说……没有椰子味儿，更像一个普通的清汤锅。\\n           <br/>\\n           【肉肉们】第一盘觉得不错，第二盘开始就觉得普通，再往后吃甚至开始觉得有点腥了🤔🤔🤔不过确实吃完了再加没问题，品质普通。\\n           <br/>\\n           【总结】感觉比较适合想吃的饱饱的伙伴们来吃。就本次体验来说，虽然我们还加了一次肉，但是感觉还是不值125左右的人均，可能是套餐原因吧……\\n          </p>\\n          <a class=\"more unfold J-more\" href=\"javascript:void(0);\">\\n           收起\\n           <i class=\"icon\">\\n           </i>\\n          </a>\\n         </div>\\n         <div class=\"photos\">\\n          <div class=\"clearfix\">\\n           <a class=\"item J-photo\" href=\"/photos/801389490/member\" target=\"_blank\">\\n            <img alt=\"和牛家鲜切牛肉火锅的图片\" data-lazyload=\"http://qcloud.dpfile.com/pc/U0e3_W40g3Mmr2YOZ4eboMg9W5i-GjxMAXBB_kTw3HYJO12YakHRan_9PGFW8t_4F5u7J_jS4MuCaeLAHD0KTg.jpg\" src=\"//www.dpfile.com/s/i/blank.34cdf505e1d61164df34b5bc67584823.png\"/>\\n           </a>\\n           <a class=\"item J-photo\" href=\"/photos/801389491/member\" target=\"_blank\">\\n            <img alt=\"和牛家鲜切牛肉火锅的图片\" data-lazyload=\"http://qcloud.dpfile.com/pc/QhjQQuMXCQ1xk0XCYEMau3uUH7bx5UpNEQ2nxBzqT2WhwknyKhPrQprPwrvPpf_NF5u7J_jS4MuCaeLAHD0KTg.jpg\" src=\"//www.dpfile.com/s/i/blank.34cdf505e1d61164df34b5bc67584823.png\"/>\\n           </a>\\n           <a class=\"item J-photo\" href=\"/photos/801389492/member\" target=\"_blank\">\\n            <img alt=\"和牛家鲜切牛肉火锅的图片\" data-lazyload=\"http://qcloud.dpfile.com/pc/h2v05KJPGyZjVyMRiX-cjOVdUBgdB1d4nsoLi3YCZbN2D-aWdrpf_hSIQXn7wiMoF5u7J_jS4MuCaeLAHD0KTg.jpg\" src=\"//www.dpfile.com/s/i/blank.34cdf505e1d61164df34b5bc67584823.png\"/>\\n           </a>\\n           <a class=\"item J-photo\" href=\"/photos/801389493/member\" target=\"_blank\">\\n            <img alt=\"和牛家鲜切牛肉火锅的图片\" data-lazyload=\"http://qcloud.dpfile.com/pc/D4df_R3vjBxlfRa2cmgN-uhXcYyQNSCi-kON18okxh5KDKcUBpLtixvsrKsbtZQhF5u7J_jS4MuCaeLAHD0KTg.jpg\" src=\"//www.dpfile.com/s/i/blank.34cdf505e1d61164df34b5bc67584823.png\"/>\\n           </a>\\n           <a class=\"item J-photo\" href=\"/photos/801389494/member\" target=\"_blank\">\\n            <img alt=\"和牛家鲜切牛肉火锅的图片\" data-lazyload=\"http://qcloud.dpfile.com/pc/5ZvHNxWC4E7TSfO-XceQLEk__9bp-C4o0xkK2lMPF9XbcpKhwzrhWJCusQ1RXeMVF5u7J_jS4MuCaeLAHD0KTg.jpg\" src=\"//www.dpfile.com/s/i/blank.34cdf505e1d61164df34b5bc67584823.png\"/>\\n           </a>\\n          </div>\\n          <a class=\"all-photo\" href=\"/shop/77298586/photos/album/49935085\" target=\"_blank\">\\n           查看全部7张\\n          </a>\\n         </div>\\n         <div class=\"misc-info\" id=\"review_354968633_action\">\\n          <div class=\"actions\">\\n           <a class=\"item J-praise\" data-id=\"354968633\" rel=\"nofollow\">\\n            <i class=\"icon i-praise\">\\n            </i>\\n            赞(7)\\n           </a>\\n           <a class=\"item\" href=\"/review/354968633#fn\" target=\"_blank\" title=\"\">\\n            回应\\n           </a>\\n           <a class=\"item J-favorite\" data-id=\"354968633\" rel=\"nofollow\">\\n            收藏\\n           </a>\\n           <a class=\"item J-report\" data-id=\"354968633\" dr-referuserid=\"2\" rel=\"nofollow\">\\n            举报\\n           </a>\\n          </div>\\n          <span class=\"time\">\\n           06-26\\n          </span>\\n          <span class=\"shop\">\\n           和牛家鲜切牛肉火锅\\n          </span>\\n          <span class=\"item\">\\n           团购点评\\n          </span>\\n         </div>\\n        </div>\\n       </li>\\n       <li class=\"comment-item\" data-id=\"355825984\" id=\"rev_355825984\" xmlns=\"http://www.w3.org/1999/html\">\\n        <a class=\"avatar J-avatar\" data-user-id=\"42807770\" href=\"/member/42807770\" rel=\"nofollow\" target=\"_blank\">\\n         <img alt=\"挑嘴的郝老师\" data-lazyload=\"https://p1.meituan.net/userheadpicbackend/e42c3a898400426baff8072e43b82050108060.jpg%4048w_48h_1e_1c_1l%7Cwatermark%3D0\" src=\"//www.dpfile.com/s/i/blank.34cdf505e1d61164df34b5bc67584823.png\">\\n         </img>\\n        </a>\\n        <p class=\"user-info\">\\n         <a class=\"name\" href=\"/member/42807770\" rel=\"nofollow\" target=\"_blank\" title=\"\">\\n          挑嘴的郝老师\\n         </a>\\n         <span class=\"user-rank-rst urr-rank45\" title=\"贡献值1000-1999\">\\n         </span>\\n         <i class=\"icon-vdper\">\\n         </i>\\n        </p>\\n        <div class=\"content\">\\n         <p class=\"shop-info\">\\n          <span class=\"sml-rank-stars sml-str40\">\\n          </span>\\n          <span class=\"item\">\\n           口味：3\\n          </span>\\n          <span class=\"item\">\\n           环境：4\\n          </span>\\n          <span class=\"item\">\\n           服务：2\\n          </span>\\n         </p>\\n         <p class=\"desc\">\\n          看到微信公众号上面写牛肉随便吃才来的，结果可有意思了。店家说每次加的东西必须是一套一套上，你全吃完才行。第二点是不能单要牛肉，啥都不行，必须成套上。你不爱吃鱼也得上鱼，不吃海螺也得上。挺没意思的，你在微信公众号上用不起眼的字符写的是循环往复，还打了个随便吃的噱头，欺诈消费者吧这算？？食物不点评，给大家看看猫腻是什么就行\\n         </p>\\n         <div class=\"photos\">\\n          <div class=\"clearfix\">\\n           <a class=\"item J-photo\" href=\"/photos/807296114/member\" target=\"_blank\">\\n            <img alt=\"和牛家鲜切牛肉火锅的图片\" data-lazyload=\"http://qcloud.dpfile.com/pc/oYV2jeBTnelfocWYF8YNLPkjyU3YdqSIgAWhrKDBzT-_KJSEnm9fiirk3YqIVqWpF5u7J_jS4MuCaeLAHD0KTg.jpg\" src=\"//www.dpfile.com/s/i/blank.34cdf505e1d61164df34b5bc67584823.png\"/>\\n           </a>\\n           <a class=\"item J-photo\" href=\"/photos/807296116/member\" target=\"_blank\">\\n            <img alt=\"和牛家鲜切牛肉火锅的图片\" data-lazyload=\"http://qcloud.dpfile.com/pc/so6VYLr3Noc3oJ9R7CKefoZj-grPLik68Is2eut8G48VnBGjkhpKEC5GfeK-Ez0-F5u7J_jS4MuCaeLAHD0KTg.jpg\" src=\"//www.dpfile.com/s/i/blank.34cdf505e1d61164df34b5bc67584823.png\"/>\\n           </a>\\n           <a class=\"item J-photo\" href=\"/photos/807296117/member\" target=\"_blank\">\\n            <img alt=\"和牛家鲜切牛肉火锅的图片\" data-lazyload=\"http://qcloud.dpfile.com/pc/pzIB3lHi0XQoFyTFsV-8BOdMLXgbv722GMq4c14fSYPTtYaXFmiKBqJc_bNvyQABF5u7J_jS4MuCaeLAHD0KTg.jpg\" src=\"//www.dpfile.com/s/i/blank.34cdf505e1d61164df34b5bc67584823.png\"/>\\n           </a>\\n          </div>\\n         </div>\\n         <div class=\"misc-info\" id=\"review_355825984_action\">\\n          <div class=\"actions\">\\n           <a class=\"item J-praise\" data-id=\"355825984\" rel=\"nofollow\">\\n            <i class=\"icon i-praise\">\\n            </i>\\n            赞(2)\\n           </a>\\n           <a class=\"item\" href=\"/review/355825984#fn\" target=\"_blank\" title=\"\">\\n            回应\\n           </a>\\n           <a class=\"item J-favorite\" data-id=\"355825984\" rel=\"nofollow\">\\n            收藏\\n           </a>\\n           <a class=\"item J-report\" data-id=\"355825984\" dr-referuserid=\"2\" rel=\"nofollow\">\\n            举报\\n           </a>\\n          </div>\\n          <span class=\"time\">\\n           07-01\\n          </span>\\n          <span class=\"shop\">\\n           和牛家鲜切牛肉火锅\\n          </span>\\n         </div>\\n        </div>\\n       </li>\\n       <li class=\"comment-item\" data-id=\"350909084\" id=\"rev_350909084\" xmlns=\"http://www.w3.org/1999/html\">\\n        <a class=\"avatar J-avatar\" data-user-id=\"125137960\" href=\"/member/125137960\" rel=\"nofollow\" target=\"_blank\">\\n         <img alt=\"问之弥切\" data-lazyload=\"https://p0.meituan.net/userheadpicbackend/6a5b63dc0278b3d6abf947e76becbf0e239862.jpg%4048w_48h_1e_1c_1l%7Cwatermark%3D0\" src=\"//www.dpfile.com/s/i/blank.34cdf505e1d61164df34b5bc67584823.png\">\\n         </img>\\n        </a>\\n        <p class=\"user-info\">\\n         <a class=\"name\" href=\"/member/125137960\" rel=\"nofollow\" target=\"_blank\" title=\"\">\\n          问之弥切\\n         </a>\\n         <span class=\"user-rank-rst urr-rank40\" title=\"贡献值400-999\">\\n         </span>\\n         <i class=\"icon-vdper\">\\n         </i>\\n        </p>\\n        <div class=\"content\">\\n         <p class=\"shop-info\">\\n          <span class=\"sml-rank-stars sml-str40\">\\n          </span>\\n          <span class=\"item\">\\n           口味：3\\n          </span>\\n          <span class=\"item\">\\n           环境：4\\n          </span>\\n          <span class=\"item\">\\n           服务：3\\n          </span>\\n          <span class=\"average\">\\n           人均：195\\n          </span>\\n         </p>\\n         <div class=\"info J-info-short\">\\n          <p class=\"desc\">\\n           下午一点五十多到的\\xa0午餐似乎只营业到两点\\xa0刚好可以点餐\\xa0但是只剩嫩肉和安格斯（忘记名字了）\\xa0遂各点一盘+一盘牛筋丸\\n           <br/>\\n           小料台很多也都空了\\xa0似乎有......\\n          </p>\\n          <a class=\"more fold J-more\" href=\"javascript:void(0);\">\\n           更多\\n           <i class=\"icon\">\\n           </i>\\n          </a>\\n         </div>\\n         <div class=\"info J-info-all Hide\">\\n          <p class=\"desc J-desc\">\\n           下午一点五十多到的\\xa0午餐似乎只营业到两点\\xa0刚好可以点餐\\xa0但是只剩嫩肉和安格斯（忘记名字了）\\xa0遂各点一盘+一盘牛筋丸\\n           <br/>\\n           小料台很多也都空了\\xa0似乎有自助西瓜\\n           <br/>\\n           <br/>\\n           【位置】\\n           <br/>\\n           工体西路\\xa0天堂超市边上\\xa0很好找\\n           <br/>\\n           <br/>\\n           【口味】\\n           <br/>\\n           牛筋丸还是不错的\\xa0q弹\\xa0但是不算多汁\\n           <br/>\\n           相比其他牛肉火锅\\xa0感觉这家店的丸子特别好夹\\n           <br/>\\n           <br/>\\n           平时吃炸腐皮\\xa0很大块的那种\\xa0这次没有了\\xa0只好点腐竹\\xa0一段一段的\\n           <br/>\\n           要煮好久\\xa0不过竟然还不错\\xa0更喜欢炸腐竹的口感\\n           <br/>\\n           <br/>\\n           西瓜汁在菜单上只有一杯装¥18\\xa0没有一扎的\\n           <br/>\\n           服务员说可点一扎\\xa0但未告知一扎多少杯\\xa0结果就是6杯量\\xa0¥108\\n           <br/>\\n           <br/>\\n           平时很喜欢吃玉米\\xa0但是感觉玉米粒很小\\xa0且有一点点不新鲜\\n           <br/>\\n           <br/>\\n           由于时间很尴尬\\xa0肉类都没了\\xa0没法点套餐\\xa0两个人花了390\\xa0价格还好\\n          </p>\\n          <a class=\"more unfold J-more\" href=\"javascript:void(0);\">\\n           收起\\n           <i class=\"icon\">\\n           </i>\\n          </a>\\n         </div>\\n         <div class=\"photos\">\\n          <div class=\"clearfix\">\\n           <a class=\"item J-photo\" href=\"/photos/781643613/member\" target=\"_blank\">\\n            <img alt=\"和牛家鲜切牛肉火锅的图片\" data-lazyload=\"http://qcloud.dpfile.com/pc/z6XeTtvgAbEuscSzkUwP77oQmjhb-KZ8zEOkafuiqrg36-xvDGHosSE8LMjFc96QF5u7J_jS4MuCaeLAHD0KTg.jpg\" src=\"//www.dpfile.com/s/i/blank.34cdf505e1d61164df34b5bc67584823.png\"/>\\n           </a>\\n           <a class=\"item J-photo\" href=\"/photos/781643614/member\" target=\"_blank\">\\n            <img alt=\"和牛家鲜切牛肉火锅的图片\" data-lazyload=\"http://qcloud.dpfile.com/pc/LAJE8zKpKURe7X9rx2ojHZu2FJNCjwdmRpf1J8Z0PTYUpA7Hhb1BXhWjGJZrhuJMF5u7J_jS4MuCaeLAHD0KTg.jpg\" src=\"//www.dpfile.com/s/i/blank.34cdf505e1d61164df34b5bc67584823.png\"/>\\n           </a>\\n           <a class=\"item J-photo\" href=\"/photos/781643615/member\" target=\"_blank\">\\n            <img alt=\"和牛家鲜切牛肉火锅的图片\" data-lazyload=\"http://qcloud.dpfile.com/pc/8d7LIqnfc830gtuo8ROXnZxwn4KrIAAOA_6gwsi-by8W2o0Pn5aTguX_PQEudt5rF5u7J_jS4MuCaeLAHD0KTg.jpg\" src=\"//www.dpfile.com/s/i/blank.34cdf505e1d61164df34b5bc67584823.png\"/>\\n           </a>\\n           <a class=\"item J-photo\" href=\"/photos/781643616/member\" target=\"_blank\">\\n            <img alt=\"和牛家鲜切牛肉火锅的图片\" data-lazyload=\"http://qcloud.dpfile.com/pc/sSqQiyRSwvNoYhIPgBltpx6nTmTqY9dF18S-_GFZgPFKTT7DfA2TTIP91vsaqA3xF5u7J_jS4MuCaeLAHD0KTg.jpg\" src=\"//www.dpfile.com/s/i/blank.34cdf505e1d61164df34b5bc67584823.png\"/>\\n           </a>\\n          </div>\\n         </div>\\n         <div class=\"misc-info\" id=\"review_350909084_action\">\\n          <div class=\"actions\">\\n           <a class=\"item J-praise\" data-id=\"350909084\" rel=\"nofollow\">\\n            <i class=\"icon i-praise\">\\n            </i>\\n            赞(2)\\n           </a>\\n           <a class=\"item\" href=\"/review/350909084#fn\" target=\"_blank\" title=\"\">\\n            回应(1)\\n           </a>\\n           <a class=\"item J-favorite\" data-id=\"350909084\" rel=\"nofollow\">\\n            收藏\\n           </a>\\n           <a class=\"item J-report\" data-id=\"350909084\" dr-referuserid=\"2\" rel=\"nofollow\">\\n            举报\\n           </a>\\n          </div>\\n          <span class=\"time\">\\n           06-01\\n          </span>\\n          <span class=\"shop\">\\n           和牛家鲜切牛肉火锅\\n          </span>\\n         </div>\\n        </div>\\n       </li>\\n       <li class=\"comment-item\" data-id=\"352986607\" id=\"rev_352986607\" xmlns=\"http://www.w3.org/1999/html\">\\n        <a class=\"avatar J-avatar\" data-user-id=\"5502716\" href=\"/member/5502716\" rel=\"nofollow\" target=\"_blank\">\\n         <img alt=\"别问我想吃什么\" data-lazyload=\"https://p1.meituan.net/userheadpicbackend/af05e786813bd0513cda3625954f073a31911.jpg%4048w_48h_1e_1c_1l%7Cwatermark%3D0\" src=\"//www.dpfile.com/s/i/blank.34cdf505e1d61164df34b5bc67584823.png\">\\n         </img>\\n        </a>\\n        <p class=\"user-info\">\\n         <a class=\"name\" href=\"/member/5502716\" rel=\"nofollow\" target=\"_blank\" title=\"\">\\n          别问我想吃什么\\n         </a>\\n         <span class=\"user-rank-rst urr-rank45\" title=\"贡献值1000-1999\">\\n         </span>\\n         <i class=\"icon-vdper\">\\n         </i>\\n        </p>\\n        <div class=\"content\">\\n         <p class=\"shop-info\">\\n          <span class=\"sml-rank-stars sml-str50\">\\n          </span>\\n          <span class=\"item\">\\n           口味：4\\n          </span>\\n          <span class=\"item\">\\n           环境：4\\n          </span>\\n          <span class=\"item\">\\n           服务：4\\n          </span>\\n          <span class=\"average\">\\n           人均：150\\n          </span>\\n         </p>\\n         <div class=\"info J-info-short\">\\n          <p class=\"desc\">\\n           和牛家的肉还真是不错，确实不错，而且套餐也很值，吃不饱可以无限续，这就让人很开心了，安格斯牛上脑\\n           <br/>\\n           <br/>\\n           牛上脑可是牛最好的部位之一了，在牛头部后方，肉质脂肪含量......\\n          </p>\\n          <a class=\"more fold J-more\" href=\"javascript:void(0);\">\\n           更多\\n           <i class=\"icon\">\\n           </i>\\n          </a>\\n         </div>\\n         <div class=\"info J-info-all Hide\">\\n          <p class=\"desc J-desc\">\\n           和牛家的肉还真是不错，确实不错，而且套餐也很值，吃不饱可以无限续，这就让人很开心了，安格斯牛上脑\\n           <br/>\\n           <br/>\\n           牛上脑可是牛最好的部位之一了，在牛头部后方，肉质脂肪含量不高但是分布均匀，肉质非常细嫩，瘦而不柴。\\n           <br/>\\n           <br/>\\n           这肉根本不用像那些潮牛似的，还涮多少秒吧，呸，他们那肉是因为太老太硬，这个肉稍稍一烫就能吃，即便是稍微涮久一点，也不影响口感的，依旧鲜嫩多汁\\n           <br/>\\n           <br/>\\n           最后肉吃不了也不用浪费\\xa0可以免费炒成河粉给带走\\n          </p>\\n          <a class=\"more unfold J-more\" href=\"javascript:void(0);\">\\n           收起\\n           <i class=\"icon\">\\n           </i>\\n          </a>\\n         </div>\\n         <div class=\"photos\">\\n          <div class=\"clearfix\">\\n           <a class=\"item J-photo\" href=\"/photos/792190893/member\" target=\"_blank\">\\n            <img alt=\"和牛家鲜切牛肉火锅的图片\" data-lazyload=\"http://qcloud.dpfile.com/pc/rjTFafyhQ1eNxuJaBXkf1lgG9gsw7gvovc4Rwph-R_kTjrStG4uO_FV9GT2BP8BLF5u7J_jS4MuCaeLAHD0KTg.jpg\" src=\"//www.dpfile.com/s/i/blank.34cdf505e1d61164df34b5bc67584823.png\"/>\\n           </a>\\n           <a class=\"item J-photo\" href=\"/photos/792190894/member\" target=\"_blank\">\\n            <img alt=\"和牛家鲜切牛肉火锅的图片\" data-lazyload=\"http://qcloud.dpfile.com/pc/91owaNXQA2nghHeBA7fUwZ5FlHScSiB8v-HMuTNIeadFTj1zLblk4OmXGeqiqp1nF5u7J_jS4MuCaeLAHD0KTg.jpg\" src=\"//www.dpfile.com/s/i/blank.34cdf505e1d61164df34b5bc67584823.png\"/>\\n           </a>\\n           <a class=\"item J-photo\" href=\"/photos/792190899/member\" target=\"_blank\">\\n            <img alt=\"和牛家鲜切牛肉火锅的图片\" data-lazyload=\"http://qcloud.dpfile.com/pc/qWRfMDDoTcDBRBgI4gBPqOu4KREMyW46PNgBhypePWhmqETFiV-Q6Thx0PNeIZ6JF5u7J_jS4MuCaeLAHD0KTg.jpg\" src=\"//www.dpfile.com/s/i/blank.34cdf505e1d61164df34b5bc67584823.png\"/>\\n           </a>\\n           <a class=\"item J-photo\" href=\"/photos/792190910/member\" target=\"_blank\">\\n            <img alt=\"和牛家鲜切牛肉火锅的图片\" data-lazyload=\"http://qcloud.dpfile.com/pc/mmsep-2vH5hB5YRlymxb0y1ymLwuYBFEP0Akt2cfQiFXdUmKOIsedTK6ju9gk4wiF5u7J_jS4MuCaeLAHD0KTg.jpg\" src=\"//www.dpfile.com/s/i/blank.34cdf505e1d61164df34b5bc67584823.png\"/>\\n           </a>\\n           <a class=\"item J-photo\" href=\"/photos/792190915/member\" target=\"_blank\">\\n            <img alt=\"和牛家鲜切牛肉火锅的图片\" data-lazyload=\"http://qcloud.dpfile.com/pc/b_CcSyXKCagR3FzFKPM1t0WH5MioyCiI6wNEGWEc3_eFff-3Vpg1uQyjg14tVv6eF5u7J_jS4MuCaeLAHD0KTg.jpg\" src=\"//www.dpfile.com/s/i/blank.34cdf505e1d61164df34b5bc67584823.png\"/>\\n           </a>\\n          </div>\\n          <a class=\"all-photo\" href=\"/shop/77298586/photos/album/5502716\" target=\"_blank\">\\n           查看全部6张\\n          </a>\\n         </div>\\n         <div class=\"misc-info\" id=\"review_352986607_action\">\\n          <div class=\"actions\">\\n           <a class=\"item J-praise\" data-id=\"352986607\" rel=\"nofollow\">\\n            <i class=\"icon i-praise\">\\n            </i>\\n            赞(3)\\n           </a>\\n           <a class=\"item\" href=\"/review/352986607#fn\" target=\"_blank\" title=\"\">\\n            回应\\n           </a>\\n           <a class=\"item J-favorite\" data-id=\"352986607\" rel=\"nofollow\">\\n            收藏\\n           </a>\\n           <a class=\"item J-report\" data-id=\"352986607\" dr-referuserid=\"2\" rel=\"nofollow\">\\n            举报\\n           </a>\\n          </div>\\n          <span class=\"time\">\\n           06-14\\n          </span>\\n          <span class=\"shop\">\\n           和牛家鲜切牛肉火锅\\n          </span>\\n         </div>\\n        </div>\\n       </li>\\n       <li class=\"comment-item\" data-id=\"355360567\" id=\"rev_355360567\" xmlns=\"http://www.w3.org/1999/html\">\\n        <a class=\"avatar J-avatar\" data-user-id=\"41593511\" href=\"/member/41593511\" rel=\"nofollow\" target=\"_blank\">\\n         <img alt=\"800_xilesuye\" data-lazyload=\"https://p0.meituan.net/userheadpicbackend/5c70a9c2ff5fafdbecd1c475fb9025bb107804.jpg%4048w_48h_1e_1c_1l%7Cwatermark%3D0\" src=\"//www.dpfile.com/s/i/blank.34cdf505e1d61164df34b5bc67584823.png\">\\n         </img>\\n        </a>\\n        <p class=\"user-info\">\\n         <a class=\"name\" href=\"/member/41593511\" rel=\"nofollow\" target=\"_blank\" title=\"\">\\n          800_xilesuye\\n         </a>\\n         <span class=\"user-rank-rst urr-rank40\" title=\"贡献值400-999\">\\n         </span>\\n        </p>\\n        <div class=\"content\">\\n         <p class=\"shop-info\">\\n          <span class=\"sml-rank-stars sml-str50\">\\n          </span>\\n          <span class=\"item\">\\n           口味：4\\n          </span>\\n          <span class=\"item\">\\n           环境：4\\n          </span>\\n          <span class=\"item\">\\n           服务：4\\n          </span>\\n         </p>\\n         <p class=\"desc\">\\n          首先位置吧\\xa0在地下一层\\xa0要是我自己一个人估计就不吃了\\xa0基本店周围都在装修\\xa0有点怕怕\\xa0但是进去之后环境不错\\xa0桌子干净\\xa0空气清新\\xa0小料台也很干净\\xa0看着很舒心\\xa0然后就是服务我们的服务员有点小帅\\xa0态度也很好\\xa0所以吃的很开心\\xa0水果品质不错\\xa0这些都能吃出来\\xa0肉也很好\\xa0牛肉丸确实很筋道\\xa0总体很满意\\xa0好评\\xa0有机会还会再去\\xa0点心也可爱\\n         </p>\\n         <div class=\"photos\">\\n          <div class=\"clearfix\">\\n           <a class=\"item J-photo\" href=\"/photos/803752560/member\" target=\"_blank\">\\n            <img alt=\"和牛家鲜切牛肉火锅的图片\" data-lazyload=\"http://qcloud.dpfile.com/pc/0UIVK2THG1jGies0JjKA3MzRM6kOFRrBrOQUKZcTrlCS0ObEd69xzr4GE8FwsjxoF5u7J_jS4MuCaeLAHD0KTg.jpg\" src=\"//www.dpfile.com/s/i/blank.34cdf505e1d61164df34b5bc67584823.png\"/>\\n           </a>\\n           <a class=\"item J-photo\" href=\"/photos/803752562/member\" target=\"_blank\">\\n            <img alt=\"和牛家鲜切牛肉火锅的图片\" data-lazyload=\"http://qcloud.dpfile.com/pc/DYf7Nra1zmW-Jk-tNISn8gVZvo2LPbMv0SzSMBvswI6qdsBYA9CFkeSm2ZlF0OVmF5u7J_jS4MuCaeLAHD0KTg.jpg\" src=\"//www.dpfile.com/s/i/blank.34cdf505e1d61164df34b5bc67584823.png\"/>\\n           </a>\\n           <a class=\"item J-photo\" href=\"/photos/803752563/member\" target=\"_blank\">\\n            <img alt=\"和牛家鲜切牛肉火锅的图片\" data-lazyload=\"http://qcloud.dpfile.com/pc/4QyFwKUJw-mzPYcXCR1pVN5i3iZ9SlAzUx-2OIKYYfIZmh6MoggIgxY5_gzB8o9RF5u7J_jS4MuCaeLAHD0KTg.jpg\" src=\"//www.dpfile.com/s/i/blank.34cdf505e1d61164df34b5bc67584823.png\"/>\\n           </a>\\n           <a class=\"item J-photo\" href=\"/photos/803752564/member\" target=\"_blank\">\\n            <img alt=\"和牛家鲜切牛肉火锅的图片\" data-lazyload=\"http://qcloud.dpfile.com/pc/4orXbwOTZDwX5aebcP08eikU79zhgXMWfyptvPm9gq3KztIIMbR82ksDpLlCCe3bF5u7J_jS4MuCaeLAHD0KTg.jpg\" src=\"//www.dpfile.com/s/i/blank.34cdf505e1d61164df34b5bc67584823.png\"/>\\n           </a>\\n           <a class=\"item J-photo\" href=\"/photos/803752566/member\" target=\"_blank\">\\n            <img alt=\"和牛家鲜切牛肉火锅的图片\" data-lazyload=\"http://qcloud.dpfile.com/pc/jZlQsLaZ0MXBWezpYS2gI8sjHZmRfabrbAdUcieU_NL_6ATiXK-VOW3bSoDeuH_PF5u7J_jS4MuCaeLAHD0KTg.jpg\" src=\"//www.dpfile.com/s/i/blank.34cdf505e1d61164df34b5bc67584823.png\"/>\\n           </a>\\n          </div>\\n          <a class=\"all-photo\" href=\"/shop/77298586/photos/album/41593511\" target=\"_blank\">\\n           查看全部7张\\n          </a>\\n         </div>\\n         <div class=\"misc-info\" id=\"review_355360567_action\">\\n          <div class=\"actions\">\\n           <a class=\"item J-praise\" data-id=\"355360567\" rel=\"nofollow\">\\n            <i class=\"icon i-praise\">\\n            </i>\\n            赞\\n           </a>\\n           <a class=\"item\" href=\"/review/355360567#fn\" target=\"_blank\" title=\"\">\\n            回应\\n           </a>\\n           <a class=\"item J-favorite\" data-id=\"355360567\" rel=\"nofollow\">\\n            收藏\\n           </a>\\n           <a class=\"item J-report\" data-id=\"355360567\" dr-referuserid=\"2\" rel=\"nofollow\">\\n            举报\\n           </a>\\n          </div>\\n          <span class=\"time\">\\n           06-28\\n          </span>\\n          <span class=\"shop\">\\n           和牛家鲜切牛肉火锅\\n          </span>\\n         </div>\\n        </div>\\n       </li>\\n      </ul>\\n      <div id=\"morelink-wrapper\">\\n       <!-- 更多点评 -->\\n       <p class=\"comment-all\">\\n        <a href=\"/shop/77298586/review_more#start=10\" rel=\"nofollow\" target=\"_blank\" title=\"\">\\n         更多点评(280)\\n        </a>\\n       </p>\\n      </div>\\n     </div>\\n     <div id=\"addreview-wrapper\">\\n     </div>\\n     <div id=\"relatedeal-wrapper\">\\n     </div>\\n     <div class=\"mod shop-owner\">\\n      <h2 class=\"mod-title\">\\n       <a class=\"item current\">\\n        App专享优惠\\n       </a>\\n      </h2>\\n     </div>\\n     <div class=\"nav-tabs\" id=\"J-shop-links\">\\n      <p class=\"description\">\\n       <span>\\n        大众点评\\n       </span>\\n       <span>\\n        北京\\n       </span>\\n       <span>\\n        火锅\\n       </span>\\n       <span>\\n        频道为您提供\\n       </span>\\n       <span>\\n        和牛家鲜切牛肉火锅(工体店)\\n       </span>\\n       <span>\\n        地址，电话，最新菜单等最新商户信息，找\\n       </span>\\n       <span>\\n        北京\\n       </span>\\n       <span>\\n        美食，就上大众点评。\\n       </span>\\n      </p>\\n     </div>\\n    </div>\\n    <div class=\"aside\" id=\"aside\">\\n     <div class=\"photos-container\">\\n      <div class=\"photo-thumb\">\\n       <div class=\"photo-header\">\\n        <a class=\"J_main-photo\" href=\"/photos/697060331\" target=\"_blank\">\\n         <img alt=\"和牛家鲜切牛肉火锅的图片\" src=\"http://p0.meituan.net/msmerchant/a05e941bd32dcc360b016d3f28dfba2287470.jpeg%40280w_212h_1e_1c_1l%7Cwatermark%3D0\" title=\"和牛家鲜切牛肉火锅的图片\"/>\\n        </a>\\n        <div class=\"photo-info\">\\n         <a class=\"add-photo J_addPhoto\" href=\"/upload/shop/77298586\" target=\"_blank\">\\n          添加照片\\n         </a>\\n         <a href=\"/shop/77298586/photos\" target=\"_blank\">\\n          <span class=\"photo-count\" id=\"pic-count\">\\n           1287\\n          </span>\\n         </a>\\n        </div>\\n       </div>\\n       <div class=\"photo-thumb-btns J_thumb-ctn\">\\n        <div class=\"photo-carousel J_photo-carousel\">\\n         <ul>\\n          <li>\\n           <a data-picsrc=\"http://p0.meituan.net/msmerchant/a05e941bd32dcc360b016d3f28dfba2287470.jpeg%40280w_212h_1e_1c_1l%7Cwatermark%3D0\" data-url=\"/photos/697060331\" href=\"javascript:void(0);\" target=\"_blank\">\\n            <img alt=\"和牛家鲜切牛肉火锅的图片\" src=\"http://p0.meituan.net/msmerchant/a05e941bd32dcc360b016d3f28dfba2287470.jpeg%40280w_212h_1e_1c_1l%7Cwatermark%3D0\" title=\"和牛家鲜切牛肉火锅的图片\"/>\\n           </a>\\n          </li>\\n          <li>\\n           <a data-picsrc=\"http://p0.meituan.net/msmerchant/db112a84f65e6c6722827cfa084d0f44120094.jpeg%40280w_212h_1e_1c_1l%7Cwatermark%3D0\" data-url=\"/photos/697060327\" href=\"javascript:void(0);\" target=\"_blank\">\\n            <img alt=\"和牛家鲜切牛肉火锅的图片\" src=\"http://p0.meituan.net/msmerchant/db112a84f65e6c6722827cfa084d0f44120094.jpeg%40280w_212h_1e_1c_1l%7Cwatermark%3D0\" title=\"和牛家鲜切牛肉火锅的图片\"/>\\n           </a>\\n          </li>\\n          <li>\\n           <a data-picsrc=\"http://p0.meituan.net/msmerchant/cedcb5c7fb9baae0eac4a7f99f95271a176664.jpeg%40280w_212h_1e_1c_1l%7Cwatermark%3D0\" data-url=\"/photos/697058301\" href=\"javascript:void(0);\" target=\"_blank\">\\n            <img alt=\"和牛家鲜切牛肉火锅的图片\" src=\"http://p0.meituan.net/msmerchant/cedcb5c7fb9baae0eac4a7f99f95271a176664.jpeg%40280w_212h_1e_1c_1l%7Cwatermark%3D0\" title=\"和牛家鲜切牛肉火锅的图片\"/>\\n           </a>\\n          </li>\\n          <li>\\n           <a data-picsrc=\"http://p1.meituan.net/msmerchant/552d788926e38c3ad445720766095be5168529.jpeg%40280w_212h_1e_1c_1l%7Cwatermark%3D0\" data-url=\"/photos/697058576\" href=\"javascript:void(0);\" target=\"_blank\">\\n            <img alt=\"和牛家鲜切牛肉火锅的图片\" src=\"http://p1.meituan.net/msmerchant/552d788926e38c3ad445720766095be5168529.jpeg%40280w_212h_1e_1c_1l%7Cwatermark%3D0\" title=\"和牛家鲜切牛肉火锅的图片\"/>\\n           </a>\\n          </li>\\n          <li>\\n           <a data-picsrc=\"http://p1.meituan.net/msmerchant/f7a5868f62734fb3634a76a8bd9c5605142572.jpeg%40280w_212h_1e_1c_1l%7Cwatermark%3D0\" data-url=\"/photos/697059134\" href=\"javascript:void(0);\" target=\"_blank\">\\n            <img alt=\"和牛家鲜切牛肉火锅的图片\" src=\"http://p1.meituan.net/msmerchant/f7a5868f62734fb3634a76a8bd9c5605142572.jpeg%40280w_212h_1e_1c_1l%7Cwatermark%3D0\" title=\"和牛家鲜切牛肉火锅的图片\"/>\\n           </a>\\n          </li>\\n         </ul>\\n        </div>\\n        <a class=\"photo-nav prev J_prev\" href=\"javascript:;\">\\n         <i>\\n         </i>\\n        </a>\\n        <a class=\"photo-nav next J_next\" href=\"javascript:;\">\\n         <i>\\n         </i>\\n        </a>\\n       </div>\\n      </div>\\n     </div>\\n     <div id=\"aside-bottom\">\\n     </div>\\n    </div>\\n   </div>\\n  </div>\\n  <style type=\"text/css\">\\n   .toast-wrapper_wya {\\n    width: 400px;\\n    height: 50px;\\n    z-index: 21501;\\n    top: 40%;\\n    left: 35%;\\n    position: fixed;\\n    display:none;\\n}\\n.toast-ie_wya {\\n   position: relative;\\n   background-color: #fff;\\n   border: 1px solid #ddd;\\n}\\n.tips_wya {\\n   height: 36px;\\n   line-height: 36px;\\n   font-size: 14px;\\n   padding: 0 10px;\\n   background-color: #eee;\\n}\\n\\n.close_wya {\\n    position: absolute;\\n    top: 0;\\n    right: 0;\\n    width: 14px;\\n    height: 14px;\\n    _overflow: hidden;\\n    background-position: -60px -90px;\\n    cursor: pointer;\\n    padding: 10px;\\n    text-align: center;\\n}\\n\\n\\n.content_wya {\\n    font-size: 12px;\\n    font-weight: 400;\\n    text-align: center;\\n    padding: 10px;\\n}\\n  </style>\\n  <div class=\"mbox_overlay_wya\" id=\"mbox_overlay_wya\" style=\"top: 0px; left: 0px; width: 100%; background-color: rgb(0, 0, 0); z-index:2150; zoom: 1;  filter:alpha(opacity=20);  \\n      -moz-opacity:0.2;  \\n      -khtml-opacity: 0.2;  \\n      opacity: 0.2; \\n position: fixed; visibility: visible; height: 100%; display:none;\">\\n  </div>\\n  <div class=\"toast-wrapper_wya\" id=\"toast-wrapper_wya\">\\n   <div class=\"toast-ie_wya\">\\n    <h3 class=\"tips_wya\">\\n     提示\\n    </h3>\\n    <a class=\"close_wya\" onclick=\"closeWindows()\">\\n     X\\n    </a>\\n    <p class=\"content_wya\">\\n     您当前浏览器版本过低，可能会影响某些功能，请升级IE9及以上版本浏览器，或者尝试用其他浏览器打开！\\n    </p>\\n   </div>\\n  </div>\\n  <script>\\n   if(navigator.userAgent.indexOf(\"MSIE 6.0\") >= 0 || navigator.userAgent.indexOf(\"MSIE 7.0\") >= 0 || navigator.userAgent.indexOf(\"MSIE 8.0\")>=0) {\\n           document.getElementById(\"toast-wrapper_wya\").style.display =\"block\";\\n           document.getElementById(\"mbox_overlay_wya\").style.display =\"block\";\\n}\\nfunction closeWindows() {\\n          document.getElementById(\"toast-wrapper_wya\").style.display =\"none\";\\n          document.getElementById(\"mbox_overlay_wya\").style.display =\"none\";\\n}\\nsetTimeout(\"closeWindows()\",10000);\\n  </script>\\n  <script>\\n   window.shop_config={\\n        userId: 0,\\n        shopId: 77298586,\\n        shopCityId: 2,\\n        shopName: \"和牛家鲜切牛肉火锅\",\\n        address: \"工体西路6号地下一层\",\\n        publicTransit: \"\",\\n        cityId: 2,\\n        cityCnName: \"北京\",\\n        cityName: \"北京\",\\n        cityEnName: \"beijing\",\\n        isOverseasCity: 0,\\n        fullName: \"和牛家鲜切牛肉火锅(工体店)\",\\n        shopGlat: \"39.929354\",\\n        shopGlng:\"116.44427\",\\n        cityGlat:\"39.904667\",\\n        cityGlng:\"116.408198\",\\n        power:5,\\n        shopPower:45,\\n        voteTotal:0,\\n        district:0,\\n        shopType:10,\\n        mainRegionId:2580,\\n        mainCategoryName:\"火锅\",\\n        categoryURLName:\"food\",\\n        shopGroupId: 77298586,\\n        categoryName: \"美食\",\\n        loadUserDomain:\"http://www.dianping.com\",\\n        map:{\\n            power:5,\\n        manaScore:0\\n        },    mainCategoryId:110,\\n     defaultPic:\"http://p0.meituan.net/msmerchant/a05e941bd32dcc360b016d3f28dfba2287470.jpeg%40120w_90h_1e_1c_1l_80q%7Cwatermark%3D1%26%26r%3D1%26p%3D9%26x%3D2%26y%3D2%26relative%3D1%26o%3D20\"\\n    }\\n  </script>\\n  <script src=\"//www.dpfile.com/app/app-pc-main-shop/static/common.min.c16068a794e7598766e1e4b24a017ed1.js\" type=\"text/javascript\">\\n  </script>\\n  <script src=\"//www.dpfile.com/app/app-pc-main-shop/static/main-shop.min.d22768f5bfd02c2d0253ef70679e3e04.js\" type=\"text/javascript\">\\n  </script>\\n  <!--[if (IE 8)|(IE 9)]><script src=\"//www.dpfile.com/app/app-pc-main-shop/static/jquery.transport.xdr.min.v01666984.js\" type=\"text/javascript\"></script>\\t<![endif]-->\\n  <div class=\"footer\" id=\"footer\">\\n   <p class=\"links\">\\n    <a href=\"//www.dianping.com/aboutus\" rel=\"nofollow\" target=\"_blank\">\\n     关于大众点评\\n    </a>\\n    |\\n    <a href=\"http://s.dianping.com/topic/2815561\" rel=\"nofollow\" target=\"_blank\">\\n     诚信公约\\n    </a>\\n    |\\n    <a href=\"//www.dianping.com/help\" rel=\"nofollow\" target=\"_blank\">\\n     网站帮助\\n    </a>\\n    |\\n    <a href=\"//www.dianping.com/sitemap/c2c10\" target=\"_blank\">\\n     网站地图\\n    </a>\\n    |\\n    <a href=\"//www.dianping.com/business/\" rel=\"nofollow\" target=\"_blank\">\\n     推广服务\\n    </a>\\n    |\\n    <a href=\"//www.dianping.com/aboutus/media\" rel=\"nofollow\" target=\"_blank\">\\n     媒体报道\\n    </a>\\n    |\\n    <a href=\"http://careers.dianping.com\" rel=\"nofollow\" target=\"_blank\">\\n     人才招聘\\n    </a>\\n    |\\n    <!--新增footer links-->\\n    <span class=\"links-container\">\\n     <a class=\"ext-links\" href=\"javascript:void(0);\" rel=\"nofollow\">\\n      最新咨询\\n     </a>\\n     |\\n     <a class=\"ext-links\" href=\"javascript:void(0);\" rel=\"nofollow\">\\n      点评图库\\n     </a>\\n     |\\n     <a class=\"ext-links\" href=\"javascript:void(0);\" rel=\"nofollow\">\\n      商户地图\\n     </a>\\n     |\\n    </span>\\n    <a href=\"//www.dianping.com/forum\" rel=\"nofollow\" target=\"_blank\">\\n     站务论坛\\n    </a>\\n    |\\n    <a href=\"//www.dianping.com/contactus\" rel=\"nofollow\" target=\"_blank\">\\n     联系我们\\n    </a>\\n    |\\n    <a href=\"http://developer.dianping.com\" rel=\"nofollow\" target=\"_blank\">\\n     开发者\\n    </a>\\n    |\\n    <a href=\"https://developer.meituan.com/?applyFrom=dianping_c_pc_busines\" rel=\"nofollow\" target=\"_blank\">\\n     聚宝盆餐饮开放平台\\n    </a>\\n   </p>\\n   <!--新增 footer links 面板-->\\n   <div class=\"ext-container Hide\">\\n    <div class=\"link-items Hide\">\\n     <a href=\"//www.dianping.com/homenews/news \" target=\"_blank\">\\n      <span>\\n       家装资讯\\n      </span>\\n     </a>\\n     <a href=\"http://m.dianping.com/homenews/news \" target=\"_blank\">\\n      <span>\\n       家装资讯手机版\\n      </span>\\n     </a>\\n     <a href=\"//www.dianping.com/wedding\" target=\"_blank\">\\n      <span>\\n       结婚资讯\\n      </span>\\n     </a>\\n    </div>\\n    <div class=\"link-items Hide\">\\n     <a href=\"//www.dianping.com/home-tuku\" target=\"_blank\">\\n      <span>\\n       家装图库\\n      </span>\\n     </a>\\n     <a href=\"http://m.dianping.com/home-tuku\" target=\"_blank\">\\n      <span>\\n       家装图库手机版\\n      </span>\\n     </a>\\n     <a href=\"//www.dianping.com/beauty-salvia/hairdressing\" target=\"_blank\">\\n      <span>\\n       美发图库\\n      </span>\\n     </a>\\n     <a href=\"//www.dianping.com/beauty-salvia/manicure\" target=\"_blank\">\\n      <span>\\n       美甲图库\\n      </span>\\n     </a>\\n     <a href=\"//www.dianping.com/beauty-salvia/tattoo\" target=\"_blank\">\\n      <span>\\n       纹身图库\\n      </span>\\n     </a>\\n    </div>\\n    <div class=\"link-items Hide\">\\n     <!--这里有cityName要拼上-->\\n     <a href=\"//www.dianping.com/beijing/homesitemap\" target=\"_blank\">\\n      <span>\\n       家装商户\\n      </span>\\n     </a>\\n     <a href=\"http://m.dianping.com/beijing/homesitemap\" target=\"_blank\">\\n      <span>\\n       家装商户手机版\\n      </span>\\n     </a>\\n    </div>\\n   </div>\\n   <p class=\"rights\">\\n    <span style=\"margin-right:10px;\">\\n     ©2003-2017 dianping.com, All Rights Reserved.\\n    </span>\\n    <span>\\n     本站发布的所有内容，未经许可，不得转载，详见\\n     <a class=\"G\" href=\"//www.dianping.com/aboutus/zhishichanquan\" rel=\"nofollow\">\\n      《知识产权声明》\\n     </a>\\n     。\\n    </span>\\n   </p>\\n  </div>\\n  <script id=\"neuron-js\" src=\"//www.dpfile.com/mod/neuron/7.1.4/neuron.js\">\\n  </script>\\n  <script>\\n   neuron.config({path: \"//www.dpfile.com/mod\", loaded:[\"app-main-shop-remove@0.0.8\",\"app-main-shop-basicinfo-change@1.1.23\",\"pic-monitor@0.1.3\",\"app-main-header-remove@1.4.8\",\"nugget-jquery@0.1.1\",\"dot@0.1.0\",\"hippo@1.2.28\",\"suggest@1.0.1\",\"storage@0.1.2\",\"switch@0.2.1\",\"storage@0.2.4\",\"huatuo@0.1.10\",\"main-authbox@1.0.4\",\"request@1.0.7\",\"shop-confirm@1.0.0\",\"shop-alert@1.0.0\",\"css-rating@1.0.2\",\"page-event-transfer@1.0.0\",\"main-authbox@1.0.5\",\"jquery-official@1.11.2\",\"mix@1.0.1\",\"fx@2.0.0\",\"attributes@1.4.1\",\"request@0.2.7\",\"easy-login@0.4.16\",\"tpl@0.2.1\",\"event-transfer@0.1.0\",\"placeholder@0.1.1\",\"cookie@0.1.2\",\"mbox@1.0.3\",\"request@1.0.8\",\"easy-login@0.4.20\",\"hexrgb@0.0.1\",\"jquery@1.9.2\",\"lang@1.0.1\",\"class@2.0.5\",\"asset@1.0.2\",\"underscore@1.5.3\",\"clone@0.1.13\",\"events@1.0.5\",\"util@1.0.5\",\"json@1.0.1\"], graph:{\"1\":[\"1.0.2\"],\"3\":[\"1.9.2\"],\"6\":[\"1.0.1\"],\"5\":[\"1.0.5\",{\"json@~1.0.0\":6}],\"4\":[\"1.0.5\",{\"util@~1.0.0\":5}],\"7\":[\"0.0.1\"],\"8\":[\"1.0.1\"],\"2\":[\"2.0.0\",{\"jquery@~1.9.2\":3,\"events@~1.0.5\":4,\"hexrgb@~0.0.1\":7,\"lang@~1.0.0\":8,\"util@~1.0.4\":5}],\"9\":[\"0.1.10\"],\"13\":[\"0.1.13\",{\"util@~1.0.2\":5}],\"14\":[\"1.5.3\"],\"12\":[\"2.0.5\",{\"events@~1.0.0\":4,\"util@~1.0.0\":5,\"clone@~0.1.11\":13,\"underscore@~1.5.2\":14}],\"11\":[\"1.0.3\",{\"jquery@~1.9.2\":3,\"lang@~1.0.0\":8,\"class@~2.0.5\":12}],\"16\":[\"1.0.2\"],\"15\":[\"0.2.7\",{\"json@~1.0.0\":6,\"lang@~1.0.0\":8,\"asset@~1.0.0\":16,\"class@~2.0.0\":12}],\"17\":[\"0.1.2\"],\"18\":[\"0.4.16\"],\"19\":[\"0.1.1\",{\"jquery@~1.9.2\":3}],\"10\":[\"1.0.4\",{\"jquery@~1.9.2\":3,\"mbox@~1.0.1\":11,\"request@~0.2.4\":15,\"cookie@~0.1.0\":17,\"easy-login@~0.4.0\":18,\"placeholder@~0.1.1\":19}],\"21\":[\"0.1.0\",{\"class@~2.0.5\":12}],\"20\":[\"1.0.0\",{\"event-transfer@~0.1.0\":21}],\"22\":[\"1.0.7\",{\"json@~1.0.0\":6,\"asset@~1.0.0\":16,\"lang@~1.0.0\":8,\"class@~2.0.0\":12}],\"24\":[\"0.2.1\"],\"23\":[\"1.0.0\",{\"mbox@~1.0.1\":11,\"jquery@~1.9.2\":3,\"tpl@~0.2.1\":24}],\"25\":[\"0.2.4\",{\"json@~1.0.0\":6,\"underscore@~1.5.3\":14}],\"27\":[\"1.4.1\",{\"util@~1.0.0\":5,\"clone@~0.1.11\":13}],\"28\":[\"1.0.1\"],\"26\":[\"0.2.1\",{\"fx@~2.0.0\":2,\"jquery@~1.9.2\":3,\"attributes@~1.4.0\":27,\"events@~1.0.5\":4,\"clone@~0.1.12\":13,\"mix@~1.0.1\":28,\"underscore@~1.5.3\":14,\"util@~1.0.4\":5}],\"0\":[\"0.0.8\",{\"css-rating@^1.0.0\":1,\"fx@^2.0.0\":2,\"huatuo@~0.1.6\":9,\"jquery@~1.9.2\":3,\"json@~1.0.1\":6,\"main-authbox@^1.0.0\":10,\"mbox@~1.0.0\":11,\"page-event-transfer@^1.0.0\":20,\"request@^1.0.7\":22,\"shop-alert@^1.0.0\":23,\"storage@~0.2.4\":25,\"switch@~0.2.1\":26,\"tpl@~0.2.1\":24}],\"30\":[\"1.11.2\"],\"32\":[\"1.0.8\",{\"json@~1.0.0\":6,\"asset@~1.0.0\":16,\"class@~2.0.0\":12,\"lang@~1.0.0\":8}],\"33\":[\"0.4.20\"],\"31\":[\"1.0.5\",{\"jquery@~1.9.2\":3,\"mbox@~1.0.1\":11,\"request@~1.0.7\":32,\"cookie@~0.1.0\":17,\"easy-login@~0.4.0\":33,\"placeholder@~0.1.1\":19}],\"34\":[\"1.0.0\",{\"jquery@~1.9.2\":3,\"mbox@^1.0.1\":11,\"tpl@~0.2.1\":24}],\"29\":[\"1.1.23\",{\"css-rating@^1.0.0\":1,\"fx@^2.0.0\":2,\"jquery@~1.9.2\":3,\"jquery-official@^1.11.2\":30,\"json@~1.0.1\":6,\"main-authbox@^1.0.0\":31,\"mbox@~1.0.0\":11,\"page-event-transfer@^1.0.0\":20,\"request@^1.0.7\":32,\"shop-alert@^1.0.0\":23,\"shop-confirm@^1.0.0\":34,\"tpl@~0.2.1\":24}],\"35\":[\"0.1.3\"],\"37\":[\"0.1.0\"],\"38\":[\"1.2.28\"],\"39\":[\"0.1.2\",{\"json@~1.0.0\":6,\"lang@~1.0.0\":8}],\"40\":[\"1.0.1\",{\"class@~2.0.0\":12,\"jquery@~1.9.2\":3}],\"36\":[\"1.4.8\",{\"class@^2.0.5\":12,\"dot@~0.1.0\":37,\"event-transfer@~0.1.0\":21,\"hippo@^1.2.13\":38,\"jquery@~1.9.2\":3,\"placeholder@~0.1.1\":19,\"request@^1.0.7\":32,\"storage@~0.1.0\":39,\"suggest@~1.0.0\":40,\"tpl@~0.2.1\":24}],\"41\":[\"0.1.1\",{\"hippo@~1.2.2\":38,\"jquery@~1.9.2\":3,\"request@~1.0.0\":32,\"json@~1.0.1\":6}],\"_\":{\"app-main-shop-remove@*\":0,\"app-main-shop-basicinfo-change@*\":29,\"pic-monitor@*\":35,\"app-main-header-remove@*\":36,\"nugget-jquery@*\":41}}})\\n  </script>\\n  <script async=\"\" src=\"//www.dpfile.com/mod/app-main-shop-remove/0.0.8/app-main-shop-remove.js\">\\n  </script>\\n  <script async=\"\" src=\"//www.dpfile.com/mod/app-main-shop-basicinfo-change/1.1.23/app-main-shop-basicinfo-change.js\">\\n  </script>\\n  <script async=\"\" src=\"//www.dpfile.com/mod/pic-monitor/0.1.3/pic-monitor.js\">\\n  </script>\\n  <script async=\"\" src=\"//www.dpfile.com/mod/app-main-header-remove/1.4.8/app-main-header-remove.js\">\\n  </script>\\n  <script async=\"\" src=\"//www.dpfile.com/mod/nugget-jquery/0.1.1/nugget-jquery.js\">\\n  </script>\\n  <script async=\"\" src=\"//www.dpfile.com/mod/dot/0.1.0/dot.js\">\\n  </script>\\n  <script async=\"\" src=\"//www.dpfile.com/mod/hippo/1.2.28/hippo.js\">\\n  </script>\\n  <script async=\"\" src=\"//www.dpfile.com/mod/suggest/1.0.1/suggest.js\">\\n  </script>\\n  <script async=\"\" src=\"//www.dpfile.com/mod/storage/0.1.2/storage.js\">\\n  </script>\\n  <script async=\"\" src=\"//www.dpfile.com/mod/switch/0.2.1/switch.js\">\\n  </script>\\n  <script async=\"\" src=\"//www.dpfile.com/mod/storage/0.2.4/storage.js\">\\n  </script>\\n  <script async=\"\" src=\"//www.dpfile.com/mod/huatuo/0.1.10/huatuo.js\">\\n  </script>\\n  <script async=\"\" src=\"//www.dpfile.com/mod/main-authbox/1.0.4/main-authbox.js\">\\n  </script>\\n  <script async=\"\" src=\"//www.dpfile.com/mod/request/1.0.7/request.js\">\\n  </script>\\n  <script async=\"\" src=\"//www.dpfile.com/mod/shop-confirm/1.0.0/shop-confirm.js\">\\n  </script>\\n  <script async=\"\" src=\"//www.dpfile.com/mod/shop-alert/1.0.0/shop-alert.js\">\\n  </script>\\n  <script async=\"\" src=\"//www.dpfile.com/mod/css-rating/1.0.2/css-rating.js\">\\n  </script>\\n  <script async=\"\" src=\"//www.dpfile.com/mod/page-event-transfer/1.0.0/page-event-transfer.js\">\\n  </script>\\n  <script async=\"\" src=\"//www.dpfile.com/mod/main-authbox/1.0.5/main-authbox.js\">\\n  </script>\\n  <script async=\"\" src=\"//www.dpfile.com/mod/jquery-official/1.11.2/jquery-official.js\">\\n  </script>\\n  <script async=\"\" src=\"//www.dpfile.com/mod/mix/1.0.1/mix.js\">\\n  </script>\\n  <script async=\"\" src=\"//www.dpfile.com/mod/fx/2.0.0/fx.js\">\\n  </script>\\n  <script async=\"\" src=\"//www.dpfile.com/mod/attributes/1.4.1/attributes.js\">\\n  </script>\\n  <script async=\"\" src=\"//www.dpfile.com/mod/request/0.2.7/request.js\">\\n  </script>\\n  <script async=\"\" src=\"//www.dpfile.com/mod/easy-login/0.4.16/easy-login.js\">\\n  </script>\\n  <script async=\"\" src=\"//www.dpfile.com/mod/tpl/0.2.1/tpl.js\">\\n  </script>\\n  <script async=\"\" src=\"//www.dpfile.com/mod/event-transfer/0.1.0/event-transfer.js\">\\n  </script>\\n  <script async=\"\" src=\"//www.dpfile.com/mod/placeholder/0.1.1/placeholder.js\">\\n  </script>\\n  <script async=\"\" src=\"//www.dpfile.com/mod/cookie/0.1.2/cookie.js\">\\n  </script>\\n  <script async=\"\" src=\"//www.dpfile.com/mod/mbox/1.0.3/mbox.js\">\\n  </script>\\n  <script async=\"\" src=\"//www.dpfile.com/mod/request/1.0.8/request.js\">\\n  </script>\\n  <script async=\"\" src=\"//www.dpfile.com/mod/easy-login/0.4.20/easy-login.js\">\\n  </script>\\n  <script async=\"\" src=\"//www.dpfile.com/mod/hexrgb/0.0.1/hexrgb.js\">\\n  </script>\\n  <script async=\"\" src=\"//www.dpfile.com/mod/jquery/1.9.2/jquery.js\">\\n  </script>\\n  <script async=\"\" src=\"//www.dpfile.com/mod/lang/1.0.1/lang.js\">\\n  </script>\\n  <script async=\"\" src=\"//www.dpfile.com/mod/class/2.0.5/class.js\">\\n  </script>\\n  <script async=\"\" src=\"//www.dpfile.com/mod/asset/1.0.2/asset.js\">\\n  </script>\\n  <script async=\"\" src=\"//www.dpfile.com/mod/underscore/1.5.3/underscore.js\">\\n  </script>\\n  <script async=\"\" src=\"//www.dpfile.com/mod/clone/0.1.13/clone.js\">\\n  </script>\\n  <script async=\"\" src=\"//www.dpfile.com/mod/events/1.0.5/events.js\">\\n  </script>\\n  <script async=\"\" src=\"//www.dpfile.com/mod/util/1.0.5/util.js\">\\n  </script>\\n  <script async=\"\" src=\"//www.dpfile.com/mod/json/1.0.1/json.js\">\\n  </script>\\n  <script>\\n   facade({entry:\"app-main-shop-remove\", data: {\\n    userId: 0,\\n    shopId: 77298586,\\n\\tshopName: \"和牛家鲜切牛肉火锅\",\\n    power: 5,\\n    manaScore:0,\\n    cityId:2\\n}});\\nfacade({entry:\"app-main-shop-basicinfo-change\", data: {\\nuserId: 0,\\nshopId: 77298586,\\nshopName: \"和牛家鲜切牛肉火锅\",\\ncityId: 2,\\nmap:{\\npower:5,\\nmanaScore:0\\n}}});\\nfacade({entry:\"pic-monitor\", data: {\\npageType:\\'shop-page\\',\\nselector: \\'#basic-info .photos img\\'\\n}});\\nfacade({entry:\"app-main-header-remove\", data: {\\r\\n    isLogin: false,\\r\\n    needAjaxOutput : false,\\r\\n    baseSearch: (function(){function k(){q();var b=encodeURIComponent,a=m().replace(n,\" \").replace(/^\\\\s+|\\\\s+$/g,r).replace(/\\\\//g,\"\"),c=p(s),f=p(t),b=-1!==c.indexOf(\"{q}\")?c.replace(\"{q}\",b(a)):c+b(a),c={55:{\"\\\\u5f69\\\\u5986\\\\u9020\\\\u578b\":166},70:{\"\\\\u4eb2\\\\u5b50\\\\u6444\\\\u5f71\":193,\"\\\\u5e7c\\\\u513f\\\\u6559\\\\u80b2\":188,\"\\\\u5b55\\\\u5987\\\\u5199\\\\u771f\":27814,\"\\\\u5b55\\\\u4ea7\\\\u62a4\\\\u7406\":258,\"\\\\u4eb2\\\\u5b50\\\\u8d2d\\\\u7269\":125,\"\\\\u4eb2\\\\u5b50\\\\u6e38\\\\u4e50\":161,\"\\\\u513f\\\\u7ae5\\\\u6444\\\\u5f71\":27813,\"\\\\u5168\\\\u5bb6\\\\u798f\":2782,\"\\\\u65e9\\\\u6559\\\\u4e2d\\\\u5fc3\":27761,\\r\\n\"\\\\u5e7c\\\\u513f\\\\u5916\\\\u8bed\":27762,\"\\\\u5e7c\\\\u513f\\\\u624d\\\\u827a\":27763,\"\\\\u4eb2\\\\u5b50\\\\u4e50\\\\u56ed\":27760,\"\\\\u5a74\\\\u513f\\\\u6e38\\\\u6cf3\":27767,\"\\\\u5987\\\\u5e7c\\\\u533b\\\\u9662\":257,\"\\\\u6708\\\\u5b50\\\\u670d\\\\u52a1\":27766,\"\\\\u4ea7\\\\u540e\\\\u6062\\\\u590d\":27768}};if(a||f){var g=d.getAttribute(\"data-s-cityid\"),k=[1,2,3,11,5,6,13,21,22,10,160,18,19,79,4,7,8,9,17,14,15,16,110,344,94,98,104,105,101,145,148,149,219,92,99,108,150,152,155,213,385,35,93,208,24,102,416,12,70,258,267,151,62,26,23,146,27,162,206,220,345,147,59,80,44,299,180,\\r\\n179,196,194,111,46,167,103,209,224,25,71,97,58,106,107,95,42,184,260,313,225,226,47,33,134,242,217,210,119,137,153,120,143,112,161,192,1009,292,197,218,113,321,211,116,133,96,325,129,207,127,29,166,163,84,241,115,109,277,130,200,114,157,132];if(\"\\\\u65c5\\\\u6e38\\\\u5a5a\\\\u7eb1\"==a){-1!=k.indexOf(parseInt(g))&&(e.location.href=\"/wedding/travel/\"+g);return}\"1\"===g?c={55:{\"\\\\u5a5a\\\\u5bb4\":2736,\"\\\\u5a5a\\\\u5bb4\\\\u9152\\\\u5e97\":2736,\"\\\\u5a5a\\\\u793c\\\\u4f1a\\\\u6240\":2738,\"\\\\u5a5a\\\\u7eb1\\\\u6444\\\\u5f71\":163,\"\\\\u5a5a\\\\u7eb1\\\\u793c\\\\u670d\":162,\\r\\n\"\\\\u5a5a\\\\u5e86\\\\u516c\\\\u53f8\":167,\"\\\\u5a5a\\\\u6212\\\\u9996\\\\u9970\":191,\"\\\\u5f69\\\\u5986\\\\u9020\\\\u578b\":166},70:{\"\\\\u6708\\\\u5b50\\\\u4f1a\\\\u6240\":2784,\"\\\\u6708\\\\u5ac2\":2786,\"\\\\u6708\\\\u5b50\\\\u9910\":2788,\"\\\\u4eb2\\\\u5b50\\\\u6444\\\\u5f71\":193,\"\\\\u5e7c\\\\u513f\\\\u6559\\\\u80b2\":188,\"\\\\u5b55\\\\u5987\\\\u5199\\\\u771f\":27814,\"\\\\u5b55\\\\u4ea7\\\\u62a4\\\\u7406\":258,\"\\\\u4eb2\\\\u5b50\\\\u8d2d\\\\u7269\":125,\"\\\\u4eb2\\\\u5b50\\\\u6e38\\\\u4e50\":161,\"\\\\u513f\\\\u7ae5\\\\u6444\\\\u5f71\":27813,\"\\\\u5168\\\\u5bb6\\\\u798f\":2782,\"\\\\u65e9\\\\u6559\\\\u4e2d\\\\u5fc3\":27761,\"\\\\u5e7c\\\\u513f\\\\u5916\\\\u8bed\":27762,\"\\\\u5e7c\\\\u513f\\\\u624d\\\\u827a\":27763,\\r\\n\"\\\\u4eb2\\\\u5b50\\\\u4e50\\\\u56ed\":27760,\"\\\\u5a74\\\\u513f\\\\u6e38\\\\u6cf3\":27767,\"\\\\u5987\\\\u5e7c\\\\u533b\\\\u9662\":257,\"\\\\u6708\\\\u5b50\\\\u670d\\\\u52a1\":27766,\"\\\\u4ea7\\\\u540e\\\\u6062\\\\u590d\":27768}}:\"2\"===g&&(c={55:{\"\\\\u5a5a\\\\u7eb1\\\\u6444\\\\u5f71\":163,\"\\\\u5a5a\\\\u7eb1\\\\u793c\\\\u670d\":162,\"\\\\u5a5a\\\\u5e86\\\\u516c\\\\u53f8\":167,\"\\\\u5a5a\\\\u6212\\\\u9996\\\\u9970\":191,\"\\\\u5f69\\\\u5986\\\\u9020\\\\u578b\":166},70:{\"\\\\u6708\\\\u5b50\\\\u4f1a\\\\u6240\":2784,\"\\\\u6708\\\\u5ac2\":2786,\"\\\\u6708\\\\u5b50\\\\u9910\":2788,\"\\\\u4eb2\\\\u5b50\\\\u6444\\\\u5f71\":193,\"\\\\u5e7c\\\\u513f\\\\u6559\\\\u80b2\":188,\"\\\\u5b55\\\\u5987\\\\u5199\\\\u771f\":27814,\\r\\n\"\\\\u5b55\\\\u4ea7\\\\u62a4\\\\u7406\":258,\"\\\\u4eb2\\\\u5b50\\\\u8d2d\\\\u7269\":125,\"\\\\u4eb2\\\\u5b50\\\\u6e38\\\\u4e50\":161,\"\\\\u513f\\\\u7ae5\\\\u6444\\\\u5f71\":27813,\"\\\\u5168\\\\u5bb6\\\\u798f\":2782,\"\\\\u65e9\\\\u6559\\\\u4e2d\\\\u5fc3\":27761,\"\\\\u5e7c\\\\u513f\\\\u5916\\\\u8bed\":27762,\"\\\\u5e7c\\\\u513f\\\\u624d\\\\u827a\":27763,\"\\\\u4eb2\\\\u5b50\\\\u4e50\\\\u56ed\":27760,\"\\\\u5a74\\\\u513f\\\\u6e38\\\\u6cf3\":27767,\"\\\\u5987\\\\u5e7c\\\\u533b\\\\u9662\":257,\"\\\\u6708\\\\u5b50\\\\u670d\\\\u52a1\":27766,\"\\\\u4ea7\\\\u540e\\\\u6062\\\\u590d\":27768}});for(var l in c)for(var h in c[l])if(-1!=h.indexOf(a)&&\"\"!=a){e.location.href=\"/search/category/\"+\\r\\ng+\"/\"+l+\"/g\"+c[l][h];return}-1!==[\"\\\\u53ef\\\\u9001\\\\u5916\\\\u5356\",\"\\\\u5916\\\\u5356\",\"\\\\u9644\\\\u8fd1\\\\u5916\\\\u5356\",\"\\\\u5916\\\\u9001\",\"\\\\u5916\\\\u5356\\\\u7f51\"].indexOf(a)&&\"1\"===d.getAttribute(\"data-s-cityid\")?e.location.href=\"http://waimai.dianping.com\":e.location.href=a?b:f}else \\r\\n\\r\\n d.focus();return!1}function m(){return d.value}function p(b){for(var a=h,c=a.length;c--;)b=b.replace(\"{\"+c+\"}\",a[c]);return b}var h=arguments,e=this,r=\"\",n=/[\\\\\\\\<]+/g,d=e.document.getElementById(\"page-header\").getElementsByTagName(\"input\")[0],\\r\\nf=d.parentNode.getElementsByTagName(\"a\")[0],s=d.getAttribute(\"data-s-pattern\"),t=d.getAttribute(\"data-s-epattern\"),q=f.onclick||function(){};d.onkeydown=function(b){b=b||e.event;if(13===b.keyCode){b=f;var a;document.createEvent?(a=document.createEvent(\"HTMLEvents\"),a.initEvent(\"click\",!0,!0)):(a=document.createEventObject(),a.eventType=\"click\");a.eventName=\"click\";document.createEvent?b.dispatchEvent(a):b.fireEvent(\"on\"+a.eventType,a);return!1}};f.onclick=k;return{s:n,data:function(){h=arguments},\\r\\nval:function(b){m=b},submit:k}})(2,0),\\r\\n    cityId:2\\r\\n    }});\\nfacade({entry:\"nugget-jquery\", data: {\\r\\n    city: \"beijing\"\\r\\n}});\\n  </script>\\n </body>\\n</html>\\n'"
      ]
     },
     "execution_count": 64,
     "metadata": {},
     "output_type": "execute_result"
    }
   ],
   "source": [
    "soup.prettify()"
   ]
  },
  {
   "cell_type": "code",
   "execution_count": 49,
   "metadata": {
    "collapsed": false
   },
   "outputs": [],
   "source": [
    "if __name__ == \"__main__\":\n",
    "    #以CSDN为例，CSDN不更改User Agent是无法访问的\n",
    "    url = 'http://www.dianping.com/shop/77298586'\n",
    "    headers = {}\n",
    "    #写入User Agent信息\n",
    "    headers['User-Agent'] = 'Mozilla/5.0 (Linux; Android 4.0.4; Galaxy Nexus Build/IMM76B) AppleWebKit/535.19 (KHTML, like Gecko) Chrome/18.0.1025.133 Mobile Safari/535.19'\n",
    "    #创建Request对象\n",
    "    req = request.Request(url, headers=headers)\n",
    "    #传入创建好的Request对象\n",
    "    response = request.urlopen(req)\n",
    "    #读取响应信息并解码\n",
    "    html = response\n"
   ]
  },
  {
   "cell_type": "code",
   "execution_count": null,
   "metadata": {
    "collapsed": false
   },
   "outputs": [],
   "source": []
  },
  {
   "cell_type": "code",
   "execution_count": 45,
   "metadata": {
    "collapsed": false
   },
   "outputs": [
    {
     "ename": "JSONDecodeError",
     "evalue": "Expecting value: line 1 column 1 (char 0)",
     "output_type": "error",
     "traceback": [
      "\u001b[0;31m---------------------------------------------------------------------------\u001b[0m",
      "\u001b[0;31mJSONDecodeError\u001b[0m                           Traceback (most recent call last)",
      "\u001b[0;32m<ipython-input-45-02641c1551b4>\u001b[0m in \u001b[0;36m<module>\u001b[0;34m()\u001b[0m\n\u001b[0;32m----> 1\u001b[0;31m \u001b[0mhjson\u001b[0m \u001b[0;34m=\u001b[0m \u001b[0mjson\u001b[0m\u001b[0;34m.\u001b[0m\u001b[0mloads\u001b[0m\u001b[0;34m(\u001b[0m\u001b[0mhtml\u001b[0m\u001b[0;34m.\u001b[0m\u001b[0mread\u001b[0m\u001b[0;34m(\u001b[0m\u001b[0;34m)\u001b[0m\u001b[0;34m.\u001b[0m\u001b[0mdecode\u001b[0m\u001b[0;34m(\u001b[0m\u001b[0;34m'utf-8'\u001b[0m\u001b[0;34m)\u001b[0m\u001b[0;34m)\u001b[0m\u001b[0;34m\u001b[0m\u001b[0m\n\u001b[0m",
      "\u001b[0;32m/home/jesse/anaconda3/lib/python3.5/json/__init__.py\u001b[0m in \u001b[0;36mloads\u001b[0;34m(s, encoding, cls, object_hook, parse_float, parse_int, parse_constant, object_pairs_hook, **kw)\u001b[0m\n\u001b[1;32m    317\u001b[0m             \u001b[0mparse_int\u001b[0m \u001b[0;32mis\u001b[0m \u001b[0;32mNone\u001b[0m \u001b[0;32mand\u001b[0m \u001b[0mparse_float\u001b[0m \u001b[0;32mis\u001b[0m \u001b[0;32mNone\u001b[0m \u001b[0;32mand\u001b[0m\u001b[0;34m\u001b[0m\u001b[0m\n\u001b[1;32m    318\u001b[0m             parse_constant is None and object_pairs_hook is None and not kw):\n\u001b[0;32m--> 319\u001b[0;31m         \u001b[0;32mreturn\u001b[0m \u001b[0m_default_decoder\u001b[0m\u001b[0;34m.\u001b[0m\u001b[0mdecode\u001b[0m\u001b[0;34m(\u001b[0m\u001b[0ms\u001b[0m\u001b[0;34m)\u001b[0m\u001b[0;34m\u001b[0m\u001b[0m\n\u001b[0m\u001b[1;32m    320\u001b[0m     \u001b[0;32mif\u001b[0m \u001b[0mcls\u001b[0m \u001b[0;32mis\u001b[0m \u001b[0;32mNone\u001b[0m\u001b[0;34m:\u001b[0m\u001b[0;34m\u001b[0m\u001b[0m\n\u001b[1;32m    321\u001b[0m         \u001b[0mcls\u001b[0m \u001b[0;34m=\u001b[0m \u001b[0mJSONDecoder\u001b[0m\u001b[0;34m\u001b[0m\u001b[0m\n",
      "\u001b[0;32m/home/jesse/anaconda3/lib/python3.5/json/decoder.py\u001b[0m in \u001b[0;36mdecode\u001b[0;34m(self, s, _w)\u001b[0m\n\u001b[1;32m    337\u001b[0m \u001b[0;34m\u001b[0m\u001b[0m\n\u001b[1;32m    338\u001b[0m         \"\"\"\n\u001b[0;32m--> 339\u001b[0;31m         \u001b[0mobj\u001b[0m\u001b[0;34m,\u001b[0m \u001b[0mend\u001b[0m \u001b[0;34m=\u001b[0m \u001b[0mself\u001b[0m\u001b[0;34m.\u001b[0m\u001b[0mraw_decode\u001b[0m\u001b[0;34m(\u001b[0m\u001b[0ms\u001b[0m\u001b[0;34m,\u001b[0m \u001b[0midx\u001b[0m\u001b[0;34m=\u001b[0m\u001b[0m_w\u001b[0m\u001b[0;34m(\u001b[0m\u001b[0ms\u001b[0m\u001b[0;34m,\u001b[0m \u001b[0;36m0\u001b[0m\u001b[0;34m)\u001b[0m\u001b[0;34m.\u001b[0m\u001b[0mend\u001b[0m\u001b[0;34m(\u001b[0m\u001b[0;34m)\u001b[0m\u001b[0;34m)\u001b[0m\u001b[0;34m\u001b[0m\u001b[0m\n\u001b[0m\u001b[1;32m    340\u001b[0m         \u001b[0mend\u001b[0m \u001b[0;34m=\u001b[0m \u001b[0m_w\u001b[0m\u001b[0;34m(\u001b[0m\u001b[0ms\u001b[0m\u001b[0;34m,\u001b[0m \u001b[0mend\u001b[0m\u001b[0;34m)\u001b[0m\u001b[0;34m.\u001b[0m\u001b[0mend\u001b[0m\u001b[0;34m(\u001b[0m\u001b[0;34m)\u001b[0m\u001b[0;34m\u001b[0m\u001b[0m\n\u001b[1;32m    341\u001b[0m         \u001b[0;32mif\u001b[0m \u001b[0mend\u001b[0m \u001b[0;34m!=\u001b[0m \u001b[0mlen\u001b[0m\u001b[0;34m(\u001b[0m\u001b[0ms\u001b[0m\u001b[0;34m)\u001b[0m\u001b[0;34m:\u001b[0m\u001b[0;34m\u001b[0m\u001b[0m\n",
      "\u001b[0;32m/home/jesse/anaconda3/lib/python3.5/json/decoder.py\u001b[0m in \u001b[0;36mraw_decode\u001b[0;34m(self, s, idx)\u001b[0m\n\u001b[1;32m    355\u001b[0m             \u001b[0mobj\u001b[0m\u001b[0;34m,\u001b[0m \u001b[0mend\u001b[0m \u001b[0;34m=\u001b[0m \u001b[0mself\u001b[0m\u001b[0;34m.\u001b[0m\u001b[0mscan_once\u001b[0m\u001b[0;34m(\u001b[0m\u001b[0ms\u001b[0m\u001b[0;34m,\u001b[0m \u001b[0midx\u001b[0m\u001b[0;34m)\u001b[0m\u001b[0;34m\u001b[0m\u001b[0m\n\u001b[1;32m    356\u001b[0m         \u001b[0;32mexcept\u001b[0m \u001b[0mStopIteration\u001b[0m \u001b[0;32mas\u001b[0m \u001b[0merr\u001b[0m\u001b[0;34m:\u001b[0m\u001b[0;34m\u001b[0m\u001b[0m\n\u001b[0;32m--> 357\u001b[0;31m             \u001b[0;32mraise\u001b[0m \u001b[0mJSONDecodeError\u001b[0m\u001b[0;34m(\u001b[0m\u001b[0;34m\"Expecting value\"\u001b[0m\u001b[0;34m,\u001b[0m \u001b[0ms\u001b[0m\u001b[0;34m,\u001b[0m \u001b[0merr\u001b[0m\u001b[0;34m.\u001b[0m\u001b[0mvalue\u001b[0m\u001b[0;34m)\u001b[0m \u001b[0;32mfrom\u001b[0m \u001b[0;32mNone\u001b[0m\u001b[0;34m\u001b[0m\u001b[0m\n\u001b[0m\u001b[1;32m    358\u001b[0m         \u001b[0;32mreturn\u001b[0m \u001b[0mobj\u001b[0m\u001b[0;34m,\u001b[0m \u001b[0mend\u001b[0m\u001b[0;34m\u001b[0m\u001b[0m\n",
      "\u001b[0;31mJSONDecodeError\u001b[0m: Expecting value: line 1 column 1 (char 0)"
     ]
    }
   ],
   "source": [
    "hjson = json.loads(html.read().decode('utf-8'))"
   ]
  },
  {
   "cell_type": "code",
   "execution_count": null,
   "metadata": {
    "collapsed": true
   },
   "outputs": [],
   "source": []
  },
  {
   "cell_type": "code",
   "execution_count": null,
   "metadata": {
    "collapsed": true
   },
   "outputs": [],
   "source": []
  },
  {
   "cell_type": "code",
   "execution_count": 3,
   "metadata": {
    "collapsed": false
   },
   "outputs": [],
   "source": [
    "from bs4 import BeautifulSoup"
   ]
  },
  {
   "cell_type": "code",
   "execution_count": 4,
   "metadata": {
    "collapsed": true
   },
   "outputs": [],
   "source": [
    "soup = BeautifulSoup(html, 'html.parser')"
   ]
  },
  {
   "cell_type": "code",
   "execution_count": 5,
   "metadata": {
    "collapsed": false
   },
   "outputs": [
    {
     "name": "stdout",
     "output_type": "stream",
     "text": [
      "div\n"
     ]
    }
   ],
   "source": [
    "a = soup.a\n",
    "print(a.parent.name)\n",
    "import re"
   ]
  },
  {
   "cell_type": "code",
   "execution_count": 6,
   "metadata": {
    "collapsed": false
   },
   "outputs": [],
   "source": [
    "info = soup.find_all(id='avgPriceTitle')"
   ]
  },
  {
   "cell_type": "code",
   "execution_count": 7,
   "metadata": {
    "collapsed": false
   },
   "outputs": [
    {
     "name": "stdout",
     "output_type": "stream",
     "text": [
      "194元\n"
     ]
    }
   ],
   "source": [
    "pattern = re.compile('[0-9]{1,}')\n",
    "result = pattern.findall(str(info))\n",
    "ave_money = result[0]+u'元'\n",
    "print(result[0]+u'元')"
   ]
  },
  {
   "cell_type": "code",
   "execution_count": 8,
   "metadata": {
    "collapsed": false
   },
   "outputs": [
    {
     "data": {
      "text/plain": [
       "[<div class=\"breadcrumb\">\n",
       " <a href=\"http://www.dianping.com/beijing/food\" itemprop=\"url\">\n",
       "             北京餐厅\n",
       "         </a>\n",
       "         &gt;\n",
       "         <a href=\"http://www.dianping.com/search/category/2/10/r2580\" itemprop=\"url\">\n",
       "             三里屯\n",
       "         </a>\n",
       "         &gt;\n",
       "         <a href=\"http://www.dianping.com/search/category/2/10/g110r2580\" itemprop=\"url\">\n",
       "             火锅\n",
       "         </a>\n",
       "         &gt;\n",
       "     <span>和牛家鲜切牛肉火锅(工体店)</span>\n",
       " </div>]"
      ]
     },
     "execution_count": 8,
     "metadata": {},
     "output_type": "execute_result"
    }
   ],
   "source": [
    "address = soup.find_all(class_='breadcrumb', attrs='href')\n",
    "address"
   ]
  },
  {
   "cell_type": "code",
   "execution_count": 9,
   "metadata": {
    "collapsed": false
   },
   "outputs": [],
   "source": [
    "str(address)\n",
    "results = re.findall('itemprop=\"url\">\\n            (.*?)\\n        </a>',str(address))\n",
    "shop_name = re.findall('<span>(.*?)</span>', str(address))"
   ]
  },
  {
   "cell_type": "code",
   "execution_count": 10,
   "metadata": {
    "collapsed": false
   },
   "outputs": [],
   "source": [
    "city = results[0][0:-2]"
   ]
  },
  {
   "cell_type": "code",
   "execution_count": 11,
   "metadata": {
    "collapsed": false
   },
   "outputs": [],
   "source": [
    "cbd = results[1]\n",
    "food_type = results[2]\n",
    "shop_id = re.findall('[0-9]{1,}', url)[0]"
   ]
  },
  {
   "cell_type": "code",
   "execution_count": null,
   "metadata": {
    "collapsed": false
   },
   "outputs": [],
   "source": []
  },
  {
   "cell_type": "code",
   "execution_count": 12,
   "metadata": {
    "collapsed": false
   },
   "outputs": [],
   "source": [
    "brief_info = soup.find_all(class_=\"brief-info\", attrs='id')\n",
    "# print(type(str(brief_info)))\n",
    "soup2 = BeautifulSoup(str(brief_info), 'html.parser')"
   ]
  },
  {
   "cell_type": "code",
   "execution_count": 13,
   "metadata": {
    "collapsed": false
   },
   "outputs": [
    {
     "data": {
      "text/plain": [
       "[<div class=\"brief-info\">\n",
       "<span class=\"mid-rank-stars mid-str45\" title=\"准五星商户\"></span>\n",
       "<span class=\"item\" id=\"reviewCount\">280条评论</span>\n",
       "<div class=\"star-from-desc J-star-from-desc Hide\">星级来自业内综合评估<i class=\"icon\"></i></div>\n",
       "<span class=\"item\" id=\"avgPriceTitle\">人均：194元</span>\n",
       "<span id=\"comment_score\">\n",
       "\t    |\n",
       "\t        <span class=\"item\">口味：8.5</span>\n",
       "|\n",
       "\t        <span class=\"item\">环境：8.9</span>\n",
       "|\n",
       "\t        <span class=\"item\">服务：8.5</span>\n",
       "</span>\n",
       "<a class=\"icon score-btn J-score\"></a>\n",
       "</div>]"
      ]
     },
     "execution_count": 13,
     "metadata": {},
     "output_type": "execute_result"
    }
   ],
   "source": [
    "soup2"
   ]
  },
  {
   "cell_type": "code",
   "execution_count": 14,
   "metadata": {
    "collapsed": false
   },
   "outputs": [],
   "source": [
    "content = soup2.find_all(id='reviewCount')\n",
    "plcount = re.findall('id=\"reviewCount\">(.*)</span>', str(content))\n",
    "plcount = plcount[0][0:-3]"
   ]
  },
  {
   "cell_type": "code",
   "execution_count": 15,
   "metadata": {
    "collapsed": false
   },
   "outputs": [],
   "source": [
    "rank = soup2.span\n",
    "rank = re.findall('title=\"(.*?)\"', str(rank))[0]"
   ]
  },
  {
   "cell_type": "code",
   "execution_count": 16,
   "metadata": {
    "collapsed": false
   },
   "outputs": [
    {
     "data": {
      "text/plain": [
       "'[<span class=\"item\" id=\"reviewCount\">280条评论</span>]'"
      ]
     },
     "execution_count": 16,
     "metadata": {},
     "output_type": "execute_result"
    }
   ],
   "source": [
    "str(content)"
   ]
  },
  {
   "cell_type": "code",
   "execution_count": 17,
   "metadata": {
    "collapsed": false
   },
   "outputs": [],
   "source": [
    "results = re.findall('<span class=\"item\">(.*?)</span>', str(soup2))"
   ]
  },
  {
   "cell_type": "code",
   "execution_count": 18,
   "metadata": {
    "collapsed": false
   },
   "outputs": [
    {
     "data": {
      "text/plain": [
       "['口味：8.5', '环境：8.9', '服务：8.5']"
      ]
     },
     "execution_count": 18,
     "metadata": {},
     "output_type": "execute_result"
    }
   ],
   "source": [
    "results"
   ]
  },
  {
   "cell_type": "code",
   "execution_count": 19,
   "metadata": {
    "collapsed": false
   },
   "outputs": [],
   "source": [
    "kw = results[0]\n",
    "kw = kw[3:]"
   ]
  },
  {
   "cell_type": "code",
   "execution_count": 20,
   "metadata": {
    "collapsed": true
   },
   "outputs": [],
   "source": [
    "hj = results[1]\n",
    "hj = hj[3:]"
   ]
  },
  {
   "cell_type": "code",
   "execution_count": 21,
   "metadata": {
    "collapsed": true
   },
   "outputs": [],
   "source": [
    "fw = results[2]\n",
    "fw = fw[3:]"
   ]
  },
  {
   "cell_type": "code",
   "execution_count": 22,
   "metadata": {
    "collapsed": false
   },
   "outputs": [],
   "source": [
    "s_shop_num = soup.find_all(class_=\"branch J-branch\")\n",
    "if s_shop_num:\n",
    "    s_shop_num = re.findall('>(.*?)<', str(s_shop_num))\n",
    "    s_shop_num = s_shop_num[0]\n",
    "    sub_shop_num = str(s_shop_num)[2:-3]\n",
    "else:\n",
    "    sub_shop_num = 0"
   ]
  },
  {
   "cell_type": "code",
   "execution_count": 23,
   "metadata": {
    "collapsed": false
   },
   "outputs": [],
   "source": [
    "tel = soup.find_all(itemprop='tel')\n",
    "tel = re.findall('>(.*?)<', str(tel))[0]"
   ]
  },
  {
   "cell_type": "code",
   "execution_count": 24,
   "metadata": {
    "collapsed": false
   },
   "outputs": [
    {
     "data": {
      "text/plain": [
       "'工体西路6号地下一层'"
      ]
     },
     "execution_count": 24,
     "metadata": {},
     "output_type": "execute_result"
    }
   ],
   "source": [
    "add = soup.find_all(itemprop=\"street-address\")[0]\n",
    "add = re.findall('title=\"(.*?)\">', str(add))[0]\n",
    "add"
   ]
  },
  {
   "cell_type": "code",
   "execution_count": 34,
   "metadata": {
    "collapsed": false
   },
   "outputs": [
    {
     "data": {
      "text/plain": [
       "[<meta charset=\"utf-8\"/>,\n",
       " <meta content=\"IE=edge\" http-equiv=\"X-UA-Compatible\"/>,\n",
       " <meta content=\"和牛家鲜切牛肉火锅(工体店)null,火锅,北京,三里屯,地址,电话,评论,网友点评,推荐菜,照片/图片,营业时间,公交信息\" name=\"Keywords\"/>,\n",
       " <meta content=\"北京和牛家鲜切牛肉火锅(工体店):人均价格194元。进入和牛家鲜切牛肉火锅(工体店)页面,查看更多关于和牛家鲜切牛肉火锅(工体店)的地址、电话、菜单、价格、营业时间介绍,了解和牛家鲜切牛肉火锅(工体店)最新的折扣优惠券、用户点评信息。\" name=\"Description\"/>,\n",
       " <meta content=\"province=北京;city=北京;\" name=\"location\">\n",
       " <meta content=\"和牛家鲜切牛肉火锅\" itemprop=\"name\">\n",
       " <meta content=\"和牛家鲜切牛肉火锅\" itemprop=\"description\">\n",
       " <meta content=\"http://p0.meituan.net/msmerchant/a05e941bd32dcc360b016d3f28dfba2287470.jpeg%40120w_90h_1e_1c_1l_80q%7Cwatermark%3D1%26%26r%3D1%26p%3D9%26x%3D2%26y%3D2%26relative%3D1%26o%3D20\" itemprop=\"image\">\n",
       " <meta content=\"format=html5; url=http://m.dianping.com/shop/77298586\" http-equiv=\"mobile-agent\">\n",
       " <div class=\"staticPage\" id=\"staticPage\" type=\"hide\"></div>\n",
       " <script>\n",
       " !function(e,t,n){function s(){var e=t.createElement(\"script\");e.async=!0,e.src=\"https://s0.meituan.net/bs/js/?f=mta-js:mta.min.js\";var n=t.getElementsByTagName(\"script\")[0];n.parentNode.insertBefore(e,n)}if(e.MeituanAnalyticsObject=n,e[n]=e[n]||function(){(e[n].q=e[n].q||[]).push(arguments)},\"complete\"===t.readyState)s();else{var r=\"addEventListener\",i=\"attachEvent\";if(e[r])e[r](\"load\",s,!1);else if(e[i])e[i](\"onload\",s);else{var a=e.onload;e.onload=function(){s(),a&&a()}}}}(window,document,\"mta\"),function(e,t,n){if(t&&!(\"_mta\"in t)){t._mta=!0;var s=e.location.protocol;if(\"file:\"!==s){var r=e.location.host,i=t.prototype.open;t.prototype.open=function(t,n,a,o,h){if(this._method=\"string\"==typeof t?t.toUpperCase():null,n){if(0===n.indexOf(\"http://\")||0===n.indexOf(\"https://\")||0===n.indexOf(\"//\"))this._url=n;else if(0===n.indexOf(\"/\"))this._url=s+\"//\"+r+n;else{var l=s+\"//\"+r+e.location.pathname;l=l.substring(0,l.lastIndexOf(\"/\")+1),this._url=l+n}var u=this._url.indexOf(\"?\");-1!==u?(this._searchLength=this._url.length-1-u,this._url=this._url.substring(0,u)):this._searchLength=0}else this._url=null,this._searchLength=0;return this._startTime=(new Date).getTime(),i.apply(this,arguments)};var a=\"onreadystatechange\",o=\"addEventListener\",h=t.prototype.send;t.prototype.send=function(t){function n(n,r){if(0!==n._url.indexOf(s+\"//frep.meituan.net/_.gif\")){for(var i=\"browser.ajax\",a=[98,114,111,119,115,101,114,46,97,106,97,120],o=0,h=i.length;h>o;o++)if(i.charCodeAt(o)!==a[o])return;var l;if(n.response)switch(n.responseType){case\"json\":l=JSON&&JSON.stringify(n.response).length;break;case\"blob\":case\"moz-blob\":l=n.response.size;break;case\"arraybuffer\":l=n.response.byteLength;case\"document\":l=n.response.documentElement&&n.response.documentElement.innerHTML&&n.response.documentElement.innerHTML.length+28;break;default:l=n.response.length}e.mta(\"send\",i,{url:n._url,method:n._method,error:!(0===n.status.toString().indexOf(\"2\")||304===n.status),responseTime:(new Date).getTime()-n._startTime,requestSize:n._searchLength+(t?t.length:0),responseSize:l||0})}}if(o in this){var r=function(e){n(this,e)};this[o](\"load\",r),this[o](\"error\",r),this[o](\"abort\",r)}else{var i=this[a];this[a]=function(t){i&&i.apply(this,arguments),4===this.readyState&&e.mta&&n(this,t)}}return h.apply(this,arguments)}}}}(window,window.XMLHttpRequest,\"mta\");\n",
       " \n",
       " // 初始化项目\n",
       " mta(\"create\",\"583ebe0e3628a77c40686d20\");\n",
       " // 推荐设置上报地址为 HTTPS 协议，以获得更高的数据准确性，默认会和页面协议一致\n",
       " mta(\"config\", \"beaconImage\", \"https://frep.meituan.net/_.gif\");\n",
       " \n",
       " // 发送页面性能指标，包括 ttfb（首字节）、domReady（可交互）、load（完全加载）等\n",
       " mta(\"send\",\"page\");\n",
       " </script>\n",
       " <link href=\"//www.dpfile.com/app/app-pc-main-shop/static/main-shop.min.dfa4372ca31215245c3a2ff57ff3f1b0.css\" rel=\"stylesheet\" type=\"text/css\"/>\n",
       " <meta content=\"dianping_nova\" name=\"lx:category\">\n",
       " <meta content=\"dp_pc\" name=\"lx:appnm\">\n",
       " <meta content=\"pc_shop_detail\" name=\"lx:cid\">\n",
       " <script type=\"text/javascript\">\n",
       "     (function (win, doc, ns) {\n",
       "         var cacheFunName = '_MeiTuanALogObject';\n",
       "         win[cacheFunName] = ns;\n",
       "         if (!win[ns]) {\n",
       "             var _LX = function () {\n",
       "                 _LX.q.push(arguments);\n",
       "                 return _LX;\n",
       "             };\n",
       "             _LX.q = _LX.q || [];\n",
       "             _LX.l = +new Date();\n",
       "             win[ns] = _LX;\n",
       "         }\n",
       "     })(window, document, 'LXAnalytics');\n",
       "     </script>\n",
       " <script async=\"\" charset=\"utf-8\" defer=\"\" src=\"//analytics.meituan.net/analytics.js\" type=\"text/javascript\"></script>\n",
       " <script>\n",
       "     var rohrdata = \"\";\n",
       "     var Rohr_Opt = new Object;\n",
       "     Rohr_Opt.Flag = 100015;\n",
       "     Rohr_Opt.LogVal = \"rohrdata\";\n",
       " </script>\n",
       " <script src=\"http://awp-assets.meituan.net/hfe/rohr/1.0.2/rohr.min.js\"></script>\n",
       " </meta></meta></meta></meta></meta></meta></meta></meta>,\n",
       " <meta content=\"和牛家鲜切牛肉火锅\" itemprop=\"name\">\n",
       " <meta content=\"和牛家鲜切牛肉火锅\" itemprop=\"description\">\n",
       " <meta content=\"http://p0.meituan.net/msmerchant/a05e941bd32dcc360b016d3f28dfba2287470.jpeg%40120w_90h_1e_1c_1l_80q%7Cwatermark%3D1%26%26r%3D1%26p%3D9%26x%3D2%26y%3D2%26relative%3D1%26o%3D20\" itemprop=\"image\">\n",
       " <meta content=\"format=html5; url=http://m.dianping.com/shop/77298586\" http-equiv=\"mobile-agent\">\n",
       " <div class=\"staticPage\" id=\"staticPage\" type=\"hide\"></div>\n",
       " <script>\n",
       " !function(e,t,n){function s(){var e=t.createElement(\"script\");e.async=!0,e.src=\"https://s0.meituan.net/bs/js/?f=mta-js:mta.min.js\";var n=t.getElementsByTagName(\"script\")[0];n.parentNode.insertBefore(e,n)}if(e.MeituanAnalyticsObject=n,e[n]=e[n]||function(){(e[n].q=e[n].q||[]).push(arguments)},\"complete\"===t.readyState)s();else{var r=\"addEventListener\",i=\"attachEvent\";if(e[r])e[r](\"load\",s,!1);else if(e[i])e[i](\"onload\",s);else{var a=e.onload;e.onload=function(){s(),a&&a()}}}}(window,document,\"mta\"),function(e,t,n){if(t&&!(\"_mta\"in t)){t._mta=!0;var s=e.location.protocol;if(\"file:\"!==s){var r=e.location.host,i=t.prototype.open;t.prototype.open=function(t,n,a,o,h){if(this._method=\"string\"==typeof t?t.toUpperCase():null,n){if(0===n.indexOf(\"http://\")||0===n.indexOf(\"https://\")||0===n.indexOf(\"//\"))this._url=n;else if(0===n.indexOf(\"/\"))this._url=s+\"//\"+r+n;else{var l=s+\"//\"+r+e.location.pathname;l=l.substring(0,l.lastIndexOf(\"/\")+1),this._url=l+n}var u=this._url.indexOf(\"?\");-1!==u?(this._searchLength=this._url.length-1-u,this._url=this._url.substring(0,u)):this._searchLength=0}else this._url=null,this._searchLength=0;return this._startTime=(new Date).getTime(),i.apply(this,arguments)};var a=\"onreadystatechange\",o=\"addEventListener\",h=t.prototype.send;t.prototype.send=function(t){function n(n,r){if(0!==n._url.indexOf(s+\"//frep.meituan.net/_.gif\")){for(var i=\"browser.ajax\",a=[98,114,111,119,115,101,114,46,97,106,97,120],o=0,h=i.length;h>o;o++)if(i.charCodeAt(o)!==a[o])return;var l;if(n.response)switch(n.responseType){case\"json\":l=JSON&&JSON.stringify(n.response).length;break;case\"blob\":case\"moz-blob\":l=n.response.size;break;case\"arraybuffer\":l=n.response.byteLength;case\"document\":l=n.response.documentElement&&n.response.documentElement.innerHTML&&n.response.documentElement.innerHTML.length+28;break;default:l=n.response.length}e.mta(\"send\",i,{url:n._url,method:n._method,error:!(0===n.status.toString().indexOf(\"2\")||304===n.status),responseTime:(new Date).getTime()-n._startTime,requestSize:n._searchLength+(t?t.length:0),responseSize:l||0})}}if(o in this){var r=function(e){n(this,e)};this[o](\"load\",r),this[o](\"error\",r),this[o](\"abort\",r)}else{var i=this[a];this[a]=function(t){i&&i.apply(this,arguments),4===this.readyState&&e.mta&&n(this,t)}}return h.apply(this,arguments)}}}}(window,window.XMLHttpRequest,\"mta\");\n",
       " \n",
       " // 初始化项目\n",
       " mta(\"create\",\"583ebe0e3628a77c40686d20\");\n",
       " // 推荐设置上报地址为 HTTPS 协议，以获得更高的数据准确性，默认会和页面协议一致\n",
       " mta(\"config\", \"beaconImage\", \"https://frep.meituan.net/_.gif\");\n",
       " \n",
       " // 发送页面性能指标，包括 ttfb（首字节）、domReady（可交互）、load（完全加载）等\n",
       " mta(\"send\",\"page\");\n",
       " </script>\n",
       " <link href=\"//www.dpfile.com/app/app-pc-main-shop/static/main-shop.min.dfa4372ca31215245c3a2ff57ff3f1b0.css\" rel=\"stylesheet\" type=\"text/css\"/>\n",
       " <meta content=\"dianping_nova\" name=\"lx:category\">\n",
       " <meta content=\"dp_pc\" name=\"lx:appnm\">\n",
       " <meta content=\"pc_shop_detail\" name=\"lx:cid\">\n",
       " <script type=\"text/javascript\">\n",
       "     (function (win, doc, ns) {\n",
       "         var cacheFunName = '_MeiTuanALogObject';\n",
       "         win[cacheFunName] = ns;\n",
       "         if (!win[ns]) {\n",
       "             var _LX = function () {\n",
       "                 _LX.q.push(arguments);\n",
       "                 return _LX;\n",
       "             };\n",
       "             _LX.q = _LX.q || [];\n",
       "             _LX.l = +new Date();\n",
       "             win[ns] = _LX;\n",
       "         }\n",
       "     })(window, document, 'LXAnalytics');\n",
       "     </script>\n",
       " <script async=\"\" charset=\"utf-8\" defer=\"\" src=\"//analytics.meituan.net/analytics.js\" type=\"text/javascript\"></script>\n",
       " <script>\n",
       "     var rohrdata = \"\";\n",
       "     var Rohr_Opt = new Object;\n",
       "     Rohr_Opt.Flag = 100015;\n",
       "     Rohr_Opt.LogVal = \"rohrdata\";\n",
       " </script>\n",
       " <script src=\"http://awp-assets.meituan.net/hfe/rohr/1.0.2/rohr.min.js\"></script>\n",
       " </meta></meta></meta></meta></meta></meta></meta>,\n",
       " <meta content=\"和牛家鲜切牛肉火锅\" itemprop=\"description\">\n",
       " <meta content=\"http://p0.meituan.net/msmerchant/a05e941bd32dcc360b016d3f28dfba2287470.jpeg%40120w_90h_1e_1c_1l_80q%7Cwatermark%3D1%26%26r%3D1%26p%3D9%26x%3D2%26y%3D2%26relative%3D1%26o%3D20\" itemprop=\"image\">\n",
       " <meta content=\"format=html5; url=http://m.dianping.com/shop/77298586\" http-equiv=\"mobile-agent\">\n",
       " <div class=\"staticPage\" id=\"staticPage\" type=\"hide\"></div>\n",
       " <script>\n",
       " !function(e,t,n){function s(){var e=t.createElement(\"script\");e.async=!0,e.src=\"https://s0.meituan.net/bs/js/?f=mta-js:mta.min.js\";var n=t.getElementsByTagName(\"script\")[0];n.parentNode.insertBefore(e,n)}if(e.MeituanAnalyticsObject=n,e[n]=e[n]||function(){(e[n].q=e[n].q||[]).push(arguments)},\"complete\"===t.readyState)s();else{var r=\"addEventListener\",i=\"attachEvent\";if(e[r])e[r](\"load\",s,!1);else if(e[i])e[i](\"onload\",s);else{var a=e.onload;e.onload=function(){s(),a&&a()}}}}(window,document,\"mta\"),function(e,t,n){if(t&&!(\"_mta\"in t)){t._mta=!0;var s=e.location.protocol;if(\"file:\"!==s){var r=e.location.host,i=t.prototype.open;t.prototype.open=function(t,n,a,o,h){if(this._method=\"string\"==typeof t?t.toUpperCase():null,n){if(0===n.indexOf(\"http://\")||0===n.indexOf(\"https://\")||0===n.indexOf(\"//\"))this._url=n;else if(0===n.indexOf(\"/\"))this._url=s+\"//\"+r+n;else{var l=s+\"//\"+r+e.location.pathname;l=l.substring(0,l.lastIndexOf(\"/\")+1),this._url=l+n}var u=this._url.indexOf(\"?\");-1!==u?(this._searchLength=this._url.length-1-u,this._url=this._url.substring(0,u)):this._searchLength=0}else this._url=null,this._searchLength=0;return this._startTime=(new Date).getTime(),i.apply(this,arguments)};var a=\"onreadystatechange\",o=\"addEventListener\",h=t.prototype.send;t.prototype.send=function(t){function n(n,r){if(0!==n._url.indexOf(s+\"//frep.meituan.net/_.gif\")){for(var i=\"browser.ajax\",a=[98,114,111,119,115,101,114,46,97,106,97,120],o=0,h=i.length;h>o;o++)if(i.charCodeAt(o)!==a[o])return;var l;if(n.response)switch(n.responseType){case\"json\":l=JSON&&JSON.stringify(n.response).length;break;case\"blob\":case\"moz-blob\":l=n.response.size;break;case\"arraybuffer\":l=n.response.byteLength;case\"document\":l=n.response.documentElement&&n.response.documentElement.innerHTML&&n.response.documentElement.innerHTML.length+28;break;default:l=n.response.length}e.mta(\"send\",i,{url:n._url,method:n._method,error:!(0===n.status.toString().indexOf(\"2\")||304===n.status),responseTime:(new Date).getTime()-n._startTime,requestSize:n._searchLength+(t?t.length:0),responseSize:l||0})}}if(o in this){var r=function(e){n(this,e)};this[o](\"load\",r),this[o](\"error\",r),this[o](\"abort\",r)}else{var i=this[a];this[a]=function(t){i&&i.apply(this,arguments),4===this.readyState&&e.mta&&n(this,t)}}return h.apply(this,arguments)}}}}(window,window.XMLHttpRequest,\"mta\");\n",
       " \n",
       " // 初始化项目\n",
       " mta(\"create\",\"583ebe0e3628a77c40686d20\");\n",
       " // 推荐设置上报地址为 HTTPS 协议，以获得更高的数据准确性，默认会和页面协议一致\n",
       " mta(\"config\", \"beaconImage\", \"https://frep.meituan.net/_.gif\");\n",
       " \n",
       " // 发送页面性能指标，包括 ttfb（首字节）、domReady（可交互）、load（完全加载）等\n",
       " mta(\"send\",\"page\");\n",
       " </script>\n",
       " <link href=\"//www.dpfile.com/app/app-pc-main-shop/static/main-shop.min.dfa4372ca31215245c3a2ff57ff3f1b0.css\" rel=\"stylesheet\" type=\"text/css\"/>\n",
       " <meta content=\"dianping_nova\" name=\"lx:category\">\n",
       " <meta content=\"dp_pc\" name=\"lx:appnm\">\n",
       " <meta content=\"pc_shop_detail\" name=\"lx:cid\">\n",
       " <script type=\"text/javascript\">\n",
       "     (function (win, doc, ns) {\n",
       "         var cacheFunName = '_MeiTuanALogObject';\n",
       "         win[cacheFunName] = ns;\n",
       "         if (!win[ns]) {\n",
       "             var _LX = function () {\n",
       "                 _LX.q.push(arguments);\n",
       "                 return _LX;\n",
       "             };\n",
       "             _LX.q = _LX.q || [];\n",
       "             _LX.l = +new Date();\n",
       "             win[ns] = _LX;\n",
       "         }\n",
       "     })(window, document, 'LXAnalytics');\n",
       "     </script>\n",
       " <script async=\"\" charset=\"utf-8\" defer=\"\" src=\"//analytics.meituan.net/analytics.js\" type=\"text/javascript\"></script>\n",
       " <script>\n",
       "     var rohrdata = \"\";\n",
       "     var Rohr_Opt = new Object;\n",
       "     Rohr_Opt.Flag = 100015;\n",
       "     Rohr_Opt.LogVal = \"rohrdata\";\n",
       " </script>\n",
       " <script src=\"http://awp-assets.meituan.net/hfe/rohr/1.0.2/rohr.min.js\"></script>\n",
       " </meta></meta></meta></meta></meta></meta>,\n",
       " <meta content=\"http://p0.meituan.net/msmerchant/a05e941bd32dcc360b016d3f28dfba2287470.jpeg%40120w_90h_1e_1c_1l_80q%7Cwatermark%3D1%26%26r%3D1%26p%3D9%26x%3D2%26y%3D2%26relative%3D1%26o%3D20\" itemprop=\"image\">\n",
       " <meta content=\"format=html5; url=http://m.dianping.com/shop/77298586\" http-equiv=\"mobile-agent\">\n",
       " <div class=\"staticPage\" id=\"staticPage\" type=\"hide\"></div>\n",
       " <script>\n",
       " !function(e,t,n){function s(){var e=t.createElement(\"script\");e.async=!0,e.src=\"https://s0.meituan.net/bs/js/?f=mta-js:mta.min.js\";var n=t.getElementsByTagName(\"script\")[0];n.parentNode.insertBefore(e,n)}if(e.MeituanAnalyticsObject=n,e[n]=e[n]||function(){(e[n].q=e[n].q||[]).push(arguments)},\"complete\"===t.readyState)s();else{var r=\"addEventListener\",i=\"attachEvent\";if(e[r])e[r](\"load\",s,!1);else if(e[i])e[i](\"onload\",s);else{var a=e.onload;e.onload=function(){s(),a&&a()}}}}(window,document,\"mta\"),function(e,t,n){if(t&&!(\"_mta\"in t)){t._mta=!0;var s=e.location.protocol;if(\"file:\"!==s){var r=e.location.host,i=t.prototype.open;t.prototype.open=function(t,n,a,o,h){if(this._method=\"string\"==typeof t?t.toUpperCase():null,n){if(0===n.indexOf(\"http://\")||0===n.indexOf(\"https://\")||0===n.indexOf(\"//\"))this._url=n;else if(0===n.indexOf(\"/\"))this._url=s+\"//\"+r+n;else{var l=s+\"//\"+r+e.location.pathname;l=l.substring(0,l.lastIndexOf(\"/\")+1),this._url=l+n}var u=this._url.indexOf(\"?\");-1!==u?(this._searchLength=this._url.length-1-u,this._url=this._url.substring(0,u)):this._searchLength=0}else this._url=null,this._searchLength=0;return this._startTime=(new Date).getTime(),i.apply(this,arguments)};var a=\"onreadystatechange\",o=\"addEventListener\",h=t.prototype.send;t.prototype.send=function(t){function n(n,r){if(0!==n._url.indexOf(s+\"//frep.meituan.net/_.gif\")){for(var i=\"browser.ajax\",a=[98,114,111,119,115,101,114,46,97,106,97,120],o=0,h=i.length;h>o;o++)if(i.charCodeAt(o)!==a[o])return;var l;if(n.response)switch(n.responseType){case\"json\":l=JSON&&JSON.stringify(n.response).length;break;case\"blob\":case\"moz-blob\":l=n.response.size;break;case\"arraybuffer\":l=n.response.byteLength;case\"document\":l=n.response.documentElement&&n.response.documentElement.innerHTML&&n.response.documentElement.innerHTML.length+28;break;default:l=n.response.length}e.mta(\"send\",i,{url:n._url,method:n._method,error:!(0===n.status.toString().indexOf(\"2\")||304===n.status),responseTime:(new Date).getTime()-n._startTime,requestSize:n._searchLength+(t?t.length:0),responseSize:l||0})}}if(o in this){var r=function(e){n(this,e)};this[o](\"load\",r),this[o](\"error\",r),this[o](\"abort\",r)}else{var i=this[a];this[a]=function(t){i&&i.apply(this,arguments),4===this.readyState&&e.mta&&n(this,t)}}return h.apply(this,arguments)}}}}(window,window.XMLHttpRequest,\"mta\");\n",
       " \n",
       " // 初始化项目\n",
       " mta(\"create\",\"583ebe0e3628a77c40686d20\");\n",
       " // 推荐设置上报地址为 HTTPS 协议，以获得更高的数据准确性，默认会和页面协议一致\n",
       " mta(\"config\", \"beaconImage\", \"https://frep.meituan.net/_.gif\");\n",
       " \n",
       " // 发送页面性能指标，包括 ttfb（首字节）、domReady（可交互）、load（完全加载）等\n",
       " mta(\"send\",\"page\");\n",
       " </script>\n",
       " <link href=\"//www.dpfile.com/app/app-pc-main-shop/static/main-shop.min.dfa4372ca31215245c3a2ff57ff3f1b0.css\" rel=\"stylesheet\" type=\"text/css\"/>\n",
       " <meta content=\"dianping_nova\" name=\"lx:category\">\n",
       " <meta content=\"dp_pc\" name=\"lx:appnm\">\n",
       " <meta content=\"pc_shop_detail\" name=\"lx:cid\">\n",
       " <script type=\"text/javascript\">\n",
       "     (function (win, doc, ns) {\n",
       "         var cacheFunName = '_MeiTuanALogObject';\n",
       "         win[cacheFunName] = ns;\n",
       "         if (!win[ns]) {\n",
       "             var _LX = function () {\n",
       "                 _LX.q.push(arguments);\n",
       "                 return _LX;\n",
       "             };\n",
       "             _LX.q = _LX.q || [];\n",
       "             _LX.l = +new Date();\n",
       "             win[ns] = _LX;\n",
       "         }\n",
       "     })(window, document, 'LXAnalytics');\n",
       "     </script>\n",
       " <script async=\"\" charset=\"utf-8\" defer=\"\" src=\"//analytics.meituan.net/analytics.js\" type=\"text/javascript\"></script>\n",
       " <script>\n",
       "     var rohrdata = \"\";\n",
       "     var Rohr_Opt = new Object;\n",
       "     Rohr_Opt.Flag = 100015;\n",
       "     Rohr_Opt.LogVal = \"rohrdata\";\n",
       " </script>\n",
       " <script src=\"http://awp-assets.meituan.net/hfe/rohr/1.0.2/rohr.min.js\"></script>\n",
       " </meta></meta></meta></meta></meta>,\n",
       " <meta content=\"format=html5; url=http://m.dianping.com/shop/77298586\" http-equiv=\"mobile-agent\">\n",
       " <div class=\"staticPage\" id=\"staticPage\" type=\"hide\"></div>\n",
       " <script>\n",
       " !function(e,t,n){function s(){var e=t.createElement(\"script\");e.async=!0,e.src=\"https://s0.meituan.net/bs/js/?f=mta-js:mta.min.js\";var n=t.getElementsByTagName(\"script\")[0];n.parentNode.insertBefore(e,n)}if(e.MeituanAnalyticsObject=n,e[n]=e[n]||function(){(e[n].q=e[n].q||[]).push(arguments)},\"complete\"===t.readyState)s();else{var r=\"addEventListener\",i=\"attachEvent\";if(e[r])e[r](\"load\",s,!1);else if(e[i])e[i](\"onload\",s);else{var a=e.onload;e.onload=function(){s(),a&&a()}}}}(window,document,\"mta\"),function(e,t,n){if(t&&!(\"_mta\"in t)){t._mta=!0;var s=e.location.protocol;if(\"file:\"!==s){var r=e.location.host,i=t.prototype.open;t.prototype.open=function(t,n,a,o,h){if(this._method=\"string\"==typeof t?t.toUpperCase():null,n){if(0===n.indexOf(\"http://\")||0===n.indexOf(\"https://\")||0===n.indexOf(\"//\"))this._url=n;else if(0===n.indexOf(\"/\"))this._url=s+\"//\"+r+n;else{var l=s+\"//\"+r+e.location.pathname;l=l.substring(0,l.lastIndexOf(\"/\")+1),this._url=l+n}var u=this._url.indexOf(\"?\");-1!==u?(this._searchLength=this._url.length-1-u,this._url=this._url.substring(0,u)):this._searchLength=0}else this._url=null,this._searchLength=0;return this._startTime=(new Date).getTime(),i.apply(this,arguments)};var a=\"onreadystatechange\",o=\"addEventListener\",h=t.prototype.send;t.prototype.send=function(t){function n(n,r){if(0!==n._url.indexOf(s+\"//frep.meituan.net/_.gif\")){for(var i=\"browser.ajax\",a=[98,114,111,119,115,101,114,46,97,106,97,120],o=0,h=i.length;h>o;o++)if(i.charCodeAt(o)!==a[o])return;var l;if(n.response)switch(n.responseType){case\"json\":l=JSON&&JSON.stringify(n.response).length;break;case\"blob\":case\"moz-blob\":l=n.response.size;break;case\"arraybuffer\":l=n.response.byteLength;case\"document\":l=n.response.documentElement&&n.response.documentElement.innerHTML&&n.response.documentElement.innerHTML.length+28;break;default:l=n.response.length}e.mta(\"send\",i,{url:n._url,method:n._method,error:!(0===n.status.toString().indexOf(\"2\")||304===n.status),responseTime:(new Date).getTime()-n._startTime,requestSize:n._searchLength+(t?t.length:0),responseSize:l||0})}}if(o in this){var r=function(e){n(this,e)};this[o](\"load\",r),this[o](\"error\",r),this[o](\"abort\",r)}else{var i=this[a];this[a]=function(t){i&&i.apply(this,arguments),4===this.readyState&&e.mta&&n(this,t)}}return h.apply(this,arguments)}}}}(window,window.XMLHttpRequest,\"mta\");\n",
       " \n",
       " // 初始化项目\n",
       " mta(\"create\",\"583ebe0e3628a77c40686d20\");\n",
       " // 推荐设置上报地址为 HTTPS 协议，以获得更高的数据准确性，默认会和页面协议一致\n",
       " mta(\"config\", \"beaconImage\", \"https://frep.meituan.net/_.gif\");\n",
       " \n",
       " // 发送页面性能指标，包括 ttfb（首字节）、domReady（可交互）、load（完全加载）等\n",
       " mta(\"send\",\"page\");\n",
       " </script>\n",
       " <link href=\"//www.dpfile.com/app/app-pc-main-shop/static/main-shop.min.dfa4372ca31215245c3a2ff57ff3f1b0.css\" rel=\"stylesheet\" type=\"text/css\"/>\n",
       " <meta content=\"dianping_nova\" name=\"lx:category\">\n",
       " <meta content=\"dp_pc\" name=\"lx:appnm\">\n",
       " <meta content=\"pc_shop_detail\" name=\"lx:cid\">\n",
       " <script type=\"text/javascript\">\n",
       "     (function (win, doc, ns) {\n",
       "         var cacheFunName = '_MeiTuanALogObject';\n",
       "         win[cacheFunName] = ns;\n",
       "         if (!win[ns]) {\n",
       "             var _LX = function () {\n",
       "                 _LX.q.push(arguments);\n",
       "                 return _LX;\n",
       "             };\n",
       "             _LX.q = _LX.q || [];\n",
       "             _LX.l = +new Date();\n",
       "             win[ns] = _LX;\n",
       "         }\n",
       "     })(window, document, 'LXAnalytics');\n",
       "     </script>\n",
       " <script async=\"\" charset=\"utf-8\" defer=\"\" src=\"//analytics.meituan.net/analytics.js\" type=\"text/javascript\"></script>\n",
       " <script>\n",
       "     var rohrdata = \"\";\n",
       "     var Rohr_Opt = new Object;\n",
       "     Rohr_Opt.Flag = 100015;\n",
       "     Rohr_Opt.LogVal = \"rohrdata\";\n",
       " </script>\n",
       " <script src=\"http://awp-assets.meituan.net/hfe/rohr/1.0.2/rohr.min.js\"></script>\n",
       " </meta></meta></meta></meta>,\n",
       " <meta content=\"dianping_nova\" name=\"lx:category\">\n",
       " <meta content=\"dp_pc\" name=\"lx:appnm\">\n",
       " <meta content=\"pc_shop_detail\" name=\"lx:cid\">\n",
       " <script type=\"text/javascript\">\n",
       "     (function (win, doc, ns) {\n",
       "         var cacheFunName = '_MeiTuanALogObject';\n",
       "         win[cacheFunName] = ns;\n",
       "         if (!win[ns]) {\n",
       "             var _LX = function () {\n",
       "                 _LX.q.push(arguments);\n",
       "                 return _LX;\n",
       "             };\n",
       "             _LX.q = _LX.q || [];\n",
       "             _LX.l = +new Date();\n",
       "             win[ns] = _LX;\n",
       "         }\n",
       "     })(window, document, 'LXAnalytics');\n",
       "     </script>\n",
       " <script async=\"\" charset=\"utf-8\" defer=\"\" src=\"//analytics.meituan.net/analytics.js\" type=\"text/javascript\"></script>\n",
       " <script>\n",
       "     var rohrdata = \"\";\n",
       "     var Rohr_Opt = new Object;\n",
       "     Rohr_Opt.Flag = 100015;\n",
       "     Rohr_Opt.LogVal = \"rohrdata\";\n",
       " </script>\n",
       " <script src=\"http://awp-assets.meituan.net/hfe/rohr/1.0.2/rohr.min.js\"></script>\n",
       " </meta></meta></meta>,\n",
       " <meta content=\"dp_pc\" name=\"lx:appnm\">\n",
       " <meta content=\"pc_shop_detail\" name=\"lx:cid\">\n",
       " <script type=\"text/javascript\">\n",
       "     (function (win, doc, ns) {\n",
       "         var cacheFunName = '_MeiTuanALogObject';\n",
       "         win[cacheFunName] = ns;\n",
       "         if (!win[ns]) {\n",
       "             var _LX = function () {\n",
       "                 _LX.q.push(arguments);\n",
       "                 return _LX;\n",
       "             };\n",
       "             _LX.q = _LX.q || [];\n",
       "             _LX.l = +new Date();\n",
       "             win[ns] = _LX;\n",
       "         }\n",
       "     })(window, document, 'LXAnalytics');\n",
       "     </script>\n",
       " <script async=\"\" charset=\"utf-8\" defer=\"\" src=\"//analytics.meituan.net/analytics.js\" type=\"text/javascript\"></script>\n",
       " <script>\n",
       "     var rohrdata = \"\";\n",
       "     var Rohr_Opt = new Object;\n",
       "     Rohr_Opt.Flag = 100015;\n",
       "     Rohr_Opt.LogVal = \"rohrdata\";\n",
       " </script>\n",
       " <script src=\"http://awp-assets.meituan.net/hfe/rohr/1.0.2/rohr.min.js\"></script>\n",
       " </meta></meta>,\n",
       " <meta content=\"pc_shop_detail\" name=\"lx:cid\">\n",
       " <script type=\"text/javascript\">\n",
       "     (function (win, doc, ns) {\n",
       "         var cacheFunName = '_MeiTuanALogObject';\n",
       "         win[cacheFunName] = ns;\n",
       "         if (!win[ns]) {\n",
       "             var _LX = function () {\n",
       "                 _LX.q.push(arguments);\n",
       "                 return _LX;\n",
       "             };\n",
       "             _LX.q = _LX.q || [];\n",
       "             _LX.l = +new Date();\n",
       "             win[ns] = _LX;\n",
       "         }\n",
       "     })(window, document, 'LXAnalytics');\n",
       "     </script>\n",
       " <script async=\"\" charset=\"utf-8\" defer=\"\" src=\"//analytics.meituan.net/analytics.js\" type=\"text/javascript\"></script>\n",
       " <script>\n",
       "     var rohrdata = \"\";\n",
       "     var Rohr_Opt = new Object;\n",
       "     Rohr_Opt.Flag = 100015;\n",
       "     Rohr_Opt.LogVal = \"rohrdata\";\n",
       " </script>\n",
       " <script src=\"http://awp-assets.meituan.net/hfe/rohr/1.0.2/rohr.min.js\"></script>\n",
       " </meta>]"
      ]
     },
     "execution_count": 34,
     "metadata": {},
     "output_type": "execute_result"
    }
   ],
   "source": [
    "soup.find_all('meta')"
   ]
  },
  {
   "cell_type": "code",
   "execution_count": null,
   "metadata": {
    "collapsed": false
   },
   "outputs": [],
   "source": []
  },
  {
   "cell_type": "code",
   "execution_count": null,
   "metadata": {
    "collapsed": true
   },
   "outputs": [],
   "source": []
  },
  {
   "cell_type": "code",
   "execution_count": null,
   "metadata": {
    "collapsed": true
   },
   "outputs": [],
   "source": []
  },
  {
   "cell_type": "code",
   "execution_count": 26,
   "metadata": {
    "collapsed": false
   },
   "outputs": [
    {
     "name": "stdout",
     "output_type": "stream",
     "text": [
      "http://www.dianping.com/shop/77298586\n",
      "北京\n",
      "三里屯\n",
      "火锅\n",
      "和牛家鲜切牛肉火锅(工体店)\n",
      "77298586\n",
      "280\n",
      "准五星商户\n",
      "8.5\n",
      "8.9\n",
      "8.5\n",
      "0\n",
      "4006602517\n",
      "工体西路6号地下一层\n"
     ]
    }
   ],
   "source": [
    "print(url)\n",
    "print(city)\n",
    "print(cbd)\n",
    "print(food_type)\n",
    "print(shop_name[0])\n",
    "print(shop_id)\n",
    "print(plcount)\n",
    "print(rank)\n",
    "print(kw)\n",
    "print(hj)\n",
    "print(fw)\n",
    "print(sub_shop_num)\n",
    "print(tel)\n",
    "print(add)"
   ]
  },
  {
   "cell_type": "code",
   "execution_count": 27,
   "metadata": {
    "collapsed": true
   },
   "outputs": [],
   "source": [
    "if __name__ == \"__main__\":\n",
    "    #以CSDN为例，CSDN不更改User Agent是无法访问的\n",
    "    url = 'http://www.dianping.com/shop/90559998'\n",
    "    headers = {}\n",
    "    #写入User Agent信息\n",
    "    headers['User-Agent'] = 'Mozilla/5.0 (Linux; Android 4.0.4; Galaxy Nexus Build/IMM76B) AppleWebKit/535.19 (KHTML, like Gecko) Chrome/18.0.1025.133 Mobile Safari/535.19'\n",
    "    #创建Request对象\n",
    "    req = request.Request(url, headers=headers)\n",
    "    #传入创建好的Request对象\n",
    "    response = request.urlopen(req)\n",
    "    #读取响应信息并解码\n",
    "    html = response.read().decode('utf-8')\n"
   ]
  },
  {
   "cell_type": "code",
   "execution_count": 28,
   "metadata": {
    "collapsed": true
   },
   "outputs": [],
   "source": [
    "soup = BeautifulSoup(html, 'html.parser')"
   ]
  },
  {
   "cell_type": "code",
   "execution_count": 29,
   "metadata": {
    "collapsed": false
   },
   "outputs": [],
   "source": [
    "ss = soup.find_all(class_=\"branch J-branch\")\n",
    "ss = re.findall('>(.*?)<', str(ss))"
   ]
  },
  {
   "cell_type": "code",
   "execution_count": 30,
   "metadata": {
    "collapsed": false
   },
   "outputs": [],
   "source": [
    "ss = ss[0]\n"
   ]
  },
  {
   "cell_type": "code",
   "execution_count": null,
   "metadata": {
    "collapsed": true
   },
   "outputs": [],
   "source": []
  },
  {
   "cell_type": "code",
   "execution_count": 31,
   "metadata": {
    "collapsed": false
   },
   "outputs": [],
   "source": [
    "sub_shop_num = str(ss)[2:-3]"
   ]
  },
  {
   "cell_type": "code",
   "execution_count": 32,
   "metadata": {
    "collapsed": false
   },
   "outputs": [
    {
     "data": {
      "text/plain": [
       "'2'"
      ]
     },
     "execution_count": 32,
     "metadata": {},
     "output_type": "execute_result"
    }
   ],
   "source": [
    "sub_shop_num"
   ]
  },
  {
   "cell_type": "code",
   "execution_count": null,
   "metadata": {
    "collapsed": true
   },
   "outputs": [],
   "source": []
  },
  {
   "cell_type": "code",
   "execution_count": null,
   "metadata": {
    "collapsed": true
   },
   "outputs": [],
   "source": []
  }
 ],
 "metadata": {
  "anaconda-cloud": {},
  "kernelspec": {
   "display_name": "Python [conda root]",
   "language": "python",
   "name": "conda-root-py"
  },
  "language_info": {
   "codemirror_mode": {
    "name": "ipython",
    "version": 3
   },
   "file_extension": ".py",
   "mimetype": "text/x-python",
   "name": "python",
   "nbconvert_exporter": "python",
   "pygments_lexer": "ipython3",
   "version": "3.5.2"
  }
 },
 "nbformat": 4,
 "nbformat_minor": 1
}
